{
 "cells": [
  {
   "cell_type": "markdown",
   "metadata": {},
   "source": [
    "This notebook extracts all spelling and puncutation features from the set of queries found in SQS."
   ]
  },
  {
   "cell_type": "markdown",
   "metadata": {},
   "source": [
    "# Load Libraries\n",
    "\n",
    "The following block of code loads all libraries needed for this notebook."
   ]
  },
  {
   "cell_type": "code",
   "execution_count": 1,
   "metadata": {},
   "outputs": [],
   "source": [
    "import csv\n",
    "import pickle\n",
    "import string\n",
    "import textstat\n",
    "\n",
    "import pandas as pd\n",
    "import numpy as np\n",
    "\n",
    "from langdetect import detect\n",
    "from spellchecker import SpellChecker\n",
    "from tqdm import tqdm"
   ]
  },
  {
   "cell_type": "markdown",
   "metadata": {},
   "source": [
    "# Load Data Sets\n",
    "\n",
    "This block of code loads the data sets and extracts all unique queries from both."
   ]
  },
  {
   "cell_type": "code",
   "execution_count": 2,
   "metadata": {},
   "outputs": [],
   "source": [
    "# allSessions = pickle.load( open( \"../Data/DataSets/SWC/SWC.p\", \"rb\" ) )\n",
    "# allSessionsSQS = pickle.load( open( \"../Data/DataSets/SQS/SQS.p\", \"rb\" ) )\n",
    "# allQueries = allSessions['query'].tolist() + allSessionsSQS['query'].tolist()\n",
    "# allQueries = set(allQueries)\n",
    "\n",
    "# allSessionsSQS = pickle.load( open( \"../Data/DataSets/SQS/SQS.p\", \"rb\" ) )\n",
    "# allQueries = allSessionsSQS['query'].tolist()\n",
    "# allQueries = np.array(allQueries)\n",
    "# allQueries\n",
    "\n",
    "allSessionsSQS = pickle.load( open( \"../Data/DataSets/SQS/SQS.p\", \"rb\" ) )\n",
    "allSessionsSQS = allSessionsSQS['query'].drop_duplicates()\n",
    "allQueries = allSessionsSQS.tolist()\n",
    "setQueries = allQueries\n"
   ]
  },
  {
   "cell_type": "code",
   "execution_count": 3,
   "metadata": {},
   "outputs": [
    {
     "data": {
      "text/plain": [
       "1505"
      ]
     },
     "execution_count": 3,
     "metadata": {},
     "output_type": "execute_result"
    }
   ],
   "source": [
    "len(allQueries)"
   ]
  },
  {
   "cell_type": "markdown",
   "metadata": {},
   "source": [
    "# Generate Misspelled List\n",
    "\n",
    "Generates a list of commonly misspelled words by children from the KidSpell data set which is later used."
   ]
  },
  {
   "cell_type": "code",
   "execution_count": 4,
   "metadata": {},
   "outputs": [],
   "source": [
    "# kidsMispelled = []\n",
    "\n",
    "# count = 0\n",
    "\n",
    "# with open('KidSpell/Web_Search_Lab_Errors.csv', newline='') as csvfile:\n",
    "#     spamreader = csv.reader(csvfile, delimiter=',', quotechar='|')\n",
    "#     for row in spamreader:\n",
    "#         if count == 0:\n",
    "#             count += 1\n",
    "#         else:\n",
    "#             kidsMispelled.append(row[0])\n",
    "\n",
    "# count = 0\n",
    "# with open('KidSpell/Web_Search_Informal_Errors.csv', newline='') as csvfile:\n",
    "#     spamreader = csv.reader(csvfile, delimiter=',', quotechar='|')\n",
    "#     for row in spamreader:\n",
    "#         if count == 0:\n",
    "#             count += 1\n",
    "#         else:\n",
    "#             kidsMispelled.append(row[0])\n",
    "    \n",
    "# count = 0\n",
    "# with open('KidSpell/Essay_Writing_Errors.csv', newline='') as csvfile:\n",
    "#     spamreader = csv.reader(csvfile, delimiter=',', quotechar='|')\n",
    "#     for row in spamreader:\n",
    "#         if count == 0:\n",
    "#             count += 1\n",
    "#         else:\n",
    "#             kidsMispelled.append(row[1])\n",
    "\n",
    "# kidsMispelled = set(kidsMispelled)"
   ]
  },
  {
   "cell_type": "code",
   "execution_count": null,
   "metadata": {},
   "outputs": [],
   "source": []
  },
  {
   "cell_type": "code",
   "execution_count": 5,
   "metadata": {},
   "outputs": [],
   "source": [
    "kidsMispelled = []\n",
    "\n",
    "count = 0\n",
    "\n",
    "with open('KidSpell/Web_Search_Lab_Errors.csv', newline='') as csvfile:\n",
    "    spamreader = csv.reader(csvfile, delimiter=',', quotechar='|')\n",
    "    for row in spamreader:\n",
    "        if count == 0:\n",
    "            count += 1\n",
    "        else:\n",
    "            kidsMispelled.append(row[0])\n",
    "\n",
    "count = 0\n",
    "with open('KidSpell/Web_Search_Informal_Errors.csv', newline='') as csvfile:\n",
    "    spamreader = csv.reader(csvfile, delimiter=',', quotechar='|')\n",
    "    for row in spamreader:\n",
    "        if count == 0:\n",
    "            count += 1\n",
    "        else:\n",
    "            kidsMispelled.append(row[0])\n",
    "    \n",
    "count = 0\n",
    "with open('KidSpell/Essay_Writing_Errors.csv', newline='') as csvfile:\n",
    "    spamreader = csv.reader(csvfile, delimiter=',', quotechar='|')\n",
    "    for row in spamreader:\n",
    "        if count == 0:\n",
    "            count += 1\n",
    "        else:\n",
    "            kidsMispelled.append(row[1])\n",
    "\n",
    "kidsMispelled = set(kidsMispelled)"
   ]
  },
  {
   "cell_type": "code",
   "execution_count": 6,
   "metadata": {},
   "outputs": [
    {
     "data": {
      "text/plain": [
       "1134"
      ]
     },
     "execution_count": 6,
     "metadata": {},
     "output_type": "execute_result"
    }
   ],
   "source": [
    "len(kidsMispelled)"
   ]
  },
  {
   "cell_type": "markdown",
   "metadata": {},
   "source": [
    "# Extract Spelling Features\n",
    "\n",
    "The following block of code extracts features related to spelling errors and stores them in a dataframe. "
   ]
  },
  {
   "cell_type": "code",
   "execution_count": 7,
   "metadata": {},
   "outputs": [
    {
     "name": "stderr",
     "output_type": "stream",
     "text": [
      "100%|██████████| 1505/1505 [01:29<00:00, 16.88it/s]\n"
     ]
    }
   ],
   "source": [
    "spell = SpellChecker()\n",
    "\n",
    "spellingError = []\n",
    "oneOffError = []\n",
    "kidsError = []\n",
    "misspelledCol = []\n",
    "\n",
    "netModifiers = ['www', 'http', '.com', '.net', '.edu', '.org', '.gov', '.co', '.mil', '.com']\n",
    "\n",
    "with tqdm(total = len(allQueries) ) as pbar:\n",
    "    for query in allQueries:\n",
    "        query =  query.translate(str.maketrans('', '', string.punctuation)) # -- remove all panctuations\n",
    "        website = [mod for mod in netModifiers if(mod in query)] # --- save the netModifiers in the queries\n",
    "        if not website:\n",
    "            misspelledWords = \"\";\n",
    "            try:\n",
    "                lang = detect(query) # -- detects a language \n",
    "                misspelled = spell.unknown(query.split(\" \")) # -- unknown gives the misspelled words\n",
    "                found = 0\n",
    "                oneOff = 0\n",
    "                kidsMis = 0\n",
    "                for word in misspelled:\n",
    "                    misspelledWords += \", \" + word # -- concatinating the misspelled words\n",
    "                    if word in kidsMispelled:\n",
    "                        kidsMis +=1\n",
    "                    candid = spell.candidates(word) # candidates() displays the set of words that are close to the word entered\n",
    "#                     print(candid)\n",
    "#                     print(\"-------start edits-----------------\")\n",
    "                    edits = spell.edit_distance_1(word)\n",
    "#                     print(edits)\n",
    "#                     print(\"-----------end edits-------------\")\n",
    "                    \n",
    "                    for can in candid:\n",
    "                        if can in edits:\n",
    "                            oneOff += 1\n",
    "                        break\n",
    "#                     print(word +' Out')\n",
    "                oneOffError.append(oneOff)\n",
    "                spellingError.append(len(misspelled))\n",
    "                kidsError.append(kidsMis)\n",
    "#                 misspelledCol.append(misspelledWords)\n",
    "                \n",
    "            except:\n",
    "#                 print(misspelled)\n",
    "                oneOffError.append(-1)\n",
    "                spellingError.append(-1)\n",
    "                kidsError.append(-1)\n",
    "#                 misspelledCol.append(misspelledWords)\n",
    "\n",
    "        else:\n",
    "            spellingError.append(0)\n",
    "            oneOffError.append(0)\n",
    "            kidsError.append(0)\n",
    "#             misspelledCol.append(\"none\")\n",
    "\n",
    "        pbar.update()\n",
    "    \n",
    "spelling = pd.DataFrame(data=spellingError, columns = ['numSpellingErrors'])\n",
    "spelling['query'] = allQueries\n",
    "spelling['offByOne'] = oneOffError\n",
    "spelling['kidsError'] = kidsError\n",
    "# spelling['ms'] = misspelledCol\n"
   ]
  },
  {
   "cell_type": "code",
   "execution_count": 8,
   "metadata": {},
   "outputs": [],
   "source": [
    "# # ---- CHECKING ----\n",
    "\n",
    "# spell = SpellChecker()\n",
    "\n",
    "# spellingError = []\n",
    "# oneOffError = []\n",
    "# kidsError = []\n",
    "# misspelledCol = []\n",
    "\n",
    "# netModifiers = ['www', 'http', '.com', '.net', '.edu', '.org', '.gov', '.co', '.mil', '.com']\n",
    "\n",
    "# with tqdm(total = len(allQueries) ) as pbar:\n",
    "#     for query in allQueries:\n",
    "#         query =  query.translate(str.maketrans('', '', string.punctuation)) # -- remove all panctuations\n",
    "#         website = [mod for mod in netModifiers if(mod in query)] # --- save the netModifiers in the queries\n",
    "#         if not website:\n",
    "#             misspelledWords = \"\";\n",
    "#             try:\n",
    "#                 lang = detect(query) # -- detects a language \n",
    "#                 misspelled = spell.unknown(query.split(\" \")) # -- unknown gives the misspelled words\n",
    "#                 found = 0\n",
    "#                 oneOff = 0\n",
    "#                 kidsMis = 0\n",
    "#                 for word in misspelled:\n",
    "#                     misspelledWords += \" \" + word # -- concatinating the misspelled words\n",
    "#                     if word in kidsMispelled:\n",
    "#                         kidsMis +=1\n",
    "#                     candid = spell.candidates(word) # --- candidates() displays the set of words that are close to the word entered e.g: 'country', 'count', 'counter' if country is entered\n",
    "#                     edits = spell.edit_distance_1(word) # -- Compute all strings that are one edit away from `word` \n",
    "                    \n",
    "#                     for can in candid:\n",
    "#                         if can in edits:\n",
    "#                             oneOff += 1 # -- one letter off \n",
    "#                         break\n",
    "\n",
    "#                 oneOffError.append(oneOff)\n",
    "#                 spellingError.append(len(misspelled))\n",
    "#                 kidsError.append(kidsMis)\n",
    "#                 misspelledCol.append(misspelledWords)\n",
    "                \n",
    "#             except:\n",
    "# #                 print(misspelled)\n",
    "#                 oneOffError.append(-1)\n",
    "#                 spellingError.append(-1)\n",
    "#                 kidsError.append(-1)\n",
    "#                 misspelledCol.append(misspelledWords)\n",
    "\n",
    "#         else:\n",
    "#             spellingError.append(0)\n",
    "#             oneOffError.append(0)\n",
    "#             kidsError.append(0)\n",
    "#             misspelledCol.append(\"none\")\n",
    "\n",
    "#         pbar.update()\n",
    "    \n",
    "# spelling = pd.DataFrame(data=spellingError, columns = ['numSpellingErrors'])\n",
    "# spelling['query'] = allQueries\n",
    "# spelling['offByOne'] = oneOffError\n",
    "# spelling['kidsError'] = kidsError\n",
    "# spelling['ms'] = misspelledCol\n"
   ]
  },
  {
   "cell_type": "code",
   "execution_count": 37,
   "metadata": {},
   "outputs": [
    {
     "name": "stdout",
     "output_type": "stream",
     "text": [
      "en\n"
     ]
    },
    {
     "data": {
      "text/plain": [
       "{'intentioal', 'ths'}"
      ]
     },
     "execution_count": 37,
     "metadata": {},
     "output_type": "execute_result"
    }
   ],
   "source": [
    "jj= 'ths is intentioal'\n",
    "\n",
    "print(detect(jj))\n",
    "\n",
    "kk=spell.unknown(jj.split(\" \"))\n",
    "kk"
   ]
  },
  {
   "cell_type": "code",
   "execution_count": 68,
   "metadata": {},
   "outputs": [
    {
     "data": {
      "text/plain": [
       "1"
      ]
     },
     "execution_count": 68,
     "metadata": {},
     "output_type": "execute_result"
    }
   ],
   "source": [
    "candid = spell.candidates('ths') # candidates() displays the set of words that are close to the word entered\n",
    "#                     print(candid)\n",
    "#                     print(\"-------start edits-----------------\")\n",
    "edits = spell.edit_distance_1('ths')\n",
    "#                     print(edits)\n",
    "#                     print(\"-----------end edits-------------\")\n",
    "oneOff=0              \n",
    "for can in candid:\n",
    "    if can in edits:\n",
    "        oneOff += 1\n",
    "    break\n",
    "oneOff"
   ]
  },
  {
   "cell_type": "code",
   "execution_count": null,
   "metadata": {},
   "outputs": [],
   "source": []
  },
  {
   "cell_type": "code",
   "execution_count": 67,
   "metadata": {},
   "outputs": [
    {
     "data": {
      "text/plain": [
       "{'tas',\n",
       " 'tes',\n",
       " 'tha',\n",
       " 'thas',\n",
       " 'the',\n",
       " 'thes',\n",
       " 'thi',\n",
       " 'this',\n",
       " 'tho',\n",
       " 'thos',\n",
       " 'thu',\n",
       " 'thus',\n",
       " 'thy',\n",
       " 'tis',\n",
       " 'tus'}"
      ]
     },
     "execution_count": 67,
     "metadata": {},
     "output_type": "execute_result"
    }
   ],
   "source": [
    "spell.candidates('ths')"
   ]
  },
  {
   "cell_type": "code",
   "execution_count": 76,
   "metadata": {},
   "outputs": [
    {
     "name": "stdout",
     "output_type": "stream",
     "text": [
      "0\n",
      "0\n"
     ]
    }
   ],
   "source": [
    "for j in range(5):\n",
    "    print(j)\n",
    "    if j ==0:\n",
    "        print(j)\n",
    "    break"
   ]
  },
  {
   "cell_type": "code",
   "execution_count": 72,
   "metadata": {},
   "outputs": [
    {
     "data": {
      "text/plain": [
       "{\"'hs\",\n",
       " \"'ths\",\n",
       " 'ahs',\n",
       " 'aths',\n",
       " 'bhs',\n",
       " 'bths',\n",
       " 'chs',\n",
       " 'cths',\n",
       " 'dhs',\n",
       " 'dths',\n",
       " 'ehs',\n",
       " 'eths',\n",
       " 'fhs',\n",
       " 'fths',\n",
       " 'ghs',\n",
       " 'gths',\n",
       " 'hhs',\n",
       " 'hs',\n",
       " 'hths',\n",
       " 'hts',\n",
       " 'ihs',\n",
       " 'iths',\n",
       " 'jhs',\n",
       " 'jths',\n",
       " 'khs',\n",
       " 'kths',\n",
       " 'lhs',\n",
       " 'lths',\n",
       " 'mhs',\n",
       " 'mths',\n",
       " 'nhs',\n",
       " 'nths',\n",
       " 'ohs',\n",
       " 'oths',\n",
       " 'phs',\n",
       " 'pths',\n",
       " 'qhs',\n",
       " 'qths',\n",
       " 'rhs',\n",
       " 'rths',\n",
       " 'shs',\n",
       " 'sths',\n",
       " \"t'hs\",\n",
       " \"t's\",\n",
       " 'tahs',\n",
       " 'tas',\n",
       " 'tbhs',\n",
       " 'tbs',\n",
       " 'tchs',\n",
       " 'tcs',\n",
       " 'tdhs',\n",
       " 'tds',\n",
       " 'tehs',\n",
       " 'tes',\n",
       " 'tfhs',\n",
       " 'tfs',\n",
       " 'tghs',\n",
       " 'tgs',\n",
       " 'th',\n",
       " \"th'\",\n",
       " \"th's\",\n",
       " 'tha',\n",
       " 'thas',\n",
       " 'thb',\n",
       " 'thbs',\n",
       " 'thc',\n",
       " 'thcs',\n",
       " 'thd',\n",
       " 'thds',\n",
       " 'the',\n",
       " 'thes',\n",
       " 'thf',\n",
       " 'thfs',\n",
       " 'thg',\n",
       " 'thgs',\n",
       " 'thh',\n",
       " 'thhs',\n",
       " 'thi',\n",
       " 'this',\n",
       " 'thj',\n",
       " 'thjs',\n",
       " 'thk',\n",
       " 'thks',\n",
       " 'thl',\n",
       " 'thls',\n",
       " 'thm',\n",
       " 'thms',\n",
       " 'thn',\n",
       " 'thns',\n",
       " 'tho',\n",
       " 'thos',\n",
       " 'thp',\n",
       " 'thps',\n",
       " 'thq',\n",
       " 'thqs',\n",
       " 'thr',\n",
       " 'thrs',\n",
       " 'ths',\n",
       " \"ths'\",\n",
       " 'thsa',\n",
       " 'thsb',\n",
       " 'thsc',\n",
       " 'thsd',\n",
       " 'thse',\n",
       " 'thsf',\n",
       " 'thsg',\n",
       " 'thsh',\n",
       " 'thsi',\n",
       " 'thsj',\n",
       " 'thsk',\n",
       " 'thsl',\n",
       " 'thsm',\n",
       " 'thsn',\n",
       " 'thso',\n",
       " 'thsp',\n",
       " 'thsq',\n",
       " 'thsr',\n",
       " 'thss',\n",
       " 'thst',\n",
       " 'thsu',\n",
       " 'thsv',\n",
       " 'thsw',\n",
       " 'thsx',\n",
       " 'thsy',\n",
       " 'thsz',\n",
       " 'tht',\n",
       " 'thts',\n",
       " 'thu',\n",
       " 'thus',\n",
       " 'thv',\n",
       " 'thvs',\n",
       " 'thw',\n",
       " 'thws',\n",
       " 'thx',\n",
       " 'thxs',\n",
       " 'thy',\n",
       " 'thys',\n",
       " 'thz',\n",
       " 'thzs',\n",
       " 'tihs',\n",
       " 'tis',\n",
       " 'tjhs',\n",
       " 'tjs',\n",
       " 'tkhs',\n",
       " 'tks',\n",
       " 'tlhs',\n",
       " 'tls',\n",
       " 'tmhs',\n",
       " 'tms',\n",
       " 'tnhs',\n",
       " 'tns',\n",
       " 'tohs',\n",
       " 'tos',\n",
       " 'tphs',\n",
       " 'tps',\n",
       " 'tqhs',\n",
       " 'tqs',\n",
       " 'trhs',\n",
       " 'trs',\n",
       " 'ts',\n",
       " 'tsh',\n",
       " 'tshs',\n",
       " 'tss',\n",
       " 'tths',\n",
       " 'tts',\n",
       " 'tuhs',\n",
       " 'tus',\n",
       " 'tvhs',\n",
       " 'tvs',\n",
       " 'twhs',\n",
       " 'tws',\n",
       " 'txhs',\n",
       " 'txs',\n",
       " 'tyhs',\n",
       " 'tys',\n",
       " 'tzhs',\n",
       " 'tzs',\n",
       " 'uhs',\n",
       " 'uths',\n",
       " 'vhs',\n",
       " 'vths',\n",
       " 'whs',\n",
       " 'wths',\n",
       " 'xhs',\n",
       " 'xths',\n",
       " 'yhs',\n",
       " 'yths',\n",
       " 'zhs',\n",
       " 'zths'}"
      ]
     },
     "execution_count": 72,
     "metadata": {},
     "output_type": "execute_result"
    }
   ],
   "source": [
    "spell.edit_distance_1('ths')"
   ]
  },
  {
   "cell_type": "code",
   "execution_count": 74,
   "metadata": {
    "scrolled": true
   },
   "outputs": [
    {
     "data": {
      "text/plain": [
       "True"
      ]
     },
     "execution_count": 74,
     "metadata": {},
     "output_type": "execute_result"
    }
   ],
   "source": [
    "'ths' in spell.edit_distance_1('ths')"
   ]
  },
  {
   "cell_type": "code",
   "execution_count": 10,
   "metadata": {},
   "outputs": [
    {
     "name": "stdout",
     "output_type": "stream",
     "text": [
      "{'thy', 'tus', 'thi', 'this', 'thas', 'tho', 'tes', 'tas', 'the', 'tha', 'thos', 'thes', 'tis', 'thus', 'thu'}\n"
     ]
    }
   ],
   "source": [
    "for j in kk:\n",
    "    print(spell.candidates(j))\n",
    "#     print(spell.edit_distance_1(j))\n",
    "    pass"
   ]
  },
  {
   "cell_type": "code",
   "execution_count": 49,
   "metadata": {},
   "outputs": [
    {
     "data": {
      "text/plain": [
       "True"
      ]
     },
     "execution_count": 49,
     "metadata": {},
     "output_type": "execute_result"
    }
   ],
   "source": [
    "'' in kidsMispelled"
   ]
  },
  {
   "cell_type": "code",
   "execution_count": 11,
   "metadata": {},
   "outputs": [
    {
     "data": {
      "text/plain": [
       "['it consulting',\n",
       " 'JP Morgan Chase data',\n",
       " 'fun violence control constitutional']"
      ]
     },
     "execution_count": 11,
     "metadata": {},
     "output_type": "execute_result"
    }
   ],
   "source": [
    "spell = SpellChecker()\n",
    "\n",
    "spellingError = []\n",
    "oneOffError = []\n",
    "kidsError = []\n",
    "misspelledCol = []\n",
    "\n",
    "netModifiers = ['www', 'http', '.com', '.net', '.edu', '.org', '.gov', '.co', '.mil', '.com']\n",
    "\n",
    "with tqdm(total = len(allQueries) ) as pbar:\n",
    "    for query in allQueries:\n",
    "        query =  query.translate(str.maketrans('', '', string.punctuation)) # -- remove all panctuations\n",
    "        website = [mod for mod in netModifiers if(mod in query)] # --- save the netModifiers in the queries\n",
    "        if not website:\n",
    "            misspelledWords = \"\";\n",
    "            try:\n",
    "                lang = detect(query) # -- detects a language \n",
    "                misspelled = spell.unknown(query.split(\" \")) # -- unknown gives the misspelled words\n",
    "                found = 0\n",
    "                oneOff = 0\n",
    "                kidsMis = 0\n",
    "                for word in misspelled:\n",
    "                    misspelledWords += \", \" + word # -- concatinating the misspelled words\n",
    "                    if word in kidsMispelled:\n",
    "                        kidsMis +=1\n",
    "                    candid = spell.candidates(word) # candidates() displays the set of words that are close to the word entered\n",
    "#                     print(candid)\n",
    "#                     print(\"-------start edits-----------------\")\n",
    "                    edits = spell.edit_distance_1(word)\n",
    "#                     print(edits)\n",
    "#                     print(\"-----------end edits-------------\")\n",
    "                    \n",
    "                    for can in candid:\n",
    "                        if can in edits:\n",
    "                            oneOff += 1\n",
    "                        break\n",
    "#                     print(word +' Out')\n",
    "                oneOffError.append(oneOff)\n",
    "                spellingError.append(len(misspelled))\n",
    "                kidsError.append(kidsMis)\n",
    "#                 misspelledCol.append(misspelledWords)\n",
    "                \n",
    "            except:\n",
    "#                 print(misspelled)\n",
    "                oneOffError.append(-1)\n",
    "                spellingError.append(-1)\n",
    "                kidsError.append(-1)\n",
    "#                 misspelledCol.append(misspelledWords)\n",
    "\n",
    "        else:\n",
    "            spellingError.append(0)\n",
    "            oneOffError.append(0)\n",
    "            kidsError.append(0)\n",
    "#             misspelledCol.append(\"none\")\n",
    "\n",
    "        pbar.update()\n",
    "    \n",
    "spelling = pd.DataFrame(data=spellingError, columns = ['numSpellingErrors'])\n",
    "spelling['query'] = allQueries\n",
    "spelling['offByOne'] = oneOffError\n",
    "spelling['kidsError'] = kidsError\n",
    "# spelling['ms'] = misspelledCol\n"
   ]
  },
  {
   "cell_type": "code",
   "execution_count": 41,
   "metadata": {},
   "outputs": [
    {
     "data": {
      "text/plain": [
       "'Leading Parhmacutical companyies and lobbying'"
      ]
     },
     "execution_count": 41,
     "metadata": {},
     "output_type": "execute_result"
    }
   ],
   "source": [
    "allQueries[7]"
   ]
  },
  {
   "cell_type": "code",
   "execution_count": 44,
   "metadata": {},
   "outputs": [
    {
     "data": {
      "text/plain": [
       "False"
      ]
     },
     "execution_count": 44,
     "metadata": {},
     "output_type": "execute_result"
    }
   ],
   "source": [
    "' ' in allQueries"
   ]
  },
  {
   "cell_type": "code",
   "execution_count": null,
   "metadata": {},
   "outputs": [],
   "source": [
    "for can in candid:\n",
    "                        if can in edits:\n",
    "                            oneOff += 1\n",
    "                        break"
   ]
  },
  {
   "cell_type": "code",
   "execution_count": 100,
   "metadata": {},
   "outputs": [
    {
     "name": "stderr",
     "output_type": "stream",
     "text": [
      "100%|██████████| 1505/1505 [01:06<00:00, 22.65it/s]\n"
     ]
    }
   ],
   "source": [
    "spell = SpellChecker()\n",
    "\n",
    "spellingError = [] # number of misspelled words in the query\n",
    "oneOffError = []\n",
    "kidsError = []  # number of erros found in kidsMispelled\n",
    "misspelledCol = []\n",
    "allErrors = [] # list of concatenated errors per query\n",
    "\n",
    "\n",
    "netModifiers = ['www', 'http', '.com', '.net', '.edu', '.org', '.gov', '.co', '.mil', '.com']\n",
    "with tqdm(total = len(allQueries) ) as pbar:\n",
    "    for query in allQueries:\n",
    "        query =  query.translate(str.maketrans('', '', string.punctuation)) # -- remove all panctuations\n",
    "        website = [mod for mod in netModifiers if(mod in query)] # --- save the netModifiers in the queries\n",
    "        if not website:\n",
    "            misspelledWords = \"\";\n",
    "            try:\n",
    "                lang = detect(query) # -- detects a language \n",
    "                misspelled = spell.unknown(query.split(\" \")) # -- unknown gives the misspelled words\n",
    "                spellingError.append(len(misspelled))\n",
    "                \n",
    "                all_error = ', '.join(misspelled)\n",
    "                allErrors.append(all_error)\n",
    "                \n",
    "                kidsMis = 0\n",
    "                oneoff =0\n",
    "                for word in misspelled:\n",
    "                    if word in kidsMispelled:\n",
    "                        kidsMis +=1\n",
    "                        \n",
    "                    candid = spell.candidates(word)\n",
    "                    edits = spell.edit_distance_1(word)\n",
    "                    \n",
    "                    if list(candid)[0] in edits:\n",
    "                        oneoff+=1\n",
    "#                     for can in candid:\n",
    "#                         if can in edits:\n",
    "#                             oneoff+=1\n",
    "#                         break\n",
    "                        \n",
    "                \n",
    "                kidsError.append(kidsMis)\n",
    "                oneOffError.append(oneoff)\n",
    "            \n",
    "            except:\n",
    "                spellingError.append(-1)\n",
    "                kidsError.append(-1)\n",
    "                allErrors.append(-1)\n",
    "                oneOffError.append(-1)\n",
    "            \n",
    "        else:\n",
    "            spellingError.append(0)\n",
    "            kidsError.append(0)\n",
    "            allErrors.append(0)\n",
    "            oneOffError.append(0)\n",
    "\n",
    "        pbar.update()"
   ]
  },
  {
   "cell_type": "code",
   "execution_count": 102,
   "metadata": {},
   "outputs": [
    {
     "data": {
      "text/plain": [
       "1505"
      ]
     },
     "execution_count": 102,
     "metadata": {},
     "output_type": "execute_result"
    }
   ],
   "source": [
    "len(oneOffError)"
   ]
  },
  {
   "cell_type": "code",
   "execution_count": 97,
   "metadata": {},
   "outputs": [
    {
     "data": {
      "text/plain": [
       "['superhrycz', -1, '', 'oppure, supporta', '']"
      ]
     },
     "execution_count": 97,
     "metadata": {},
     "output_type": "execute_result"
    }
   ],
   "source": [
    "allErrors[-5:]"
   ]
  },
  {
   "cell_type": "code",
   "execution_count": 84,
   "metadata": {},
   "outputs": [
    {
     "ename": "ValueError",
     "evalue": "All arrays must be of the same length",
     "output_type": "error",
     "traceback": [
      "\u001b[0;31m---------------------------------------------------------------------------\u001b[0m",
      "\u001b[0;31mValueError\u001b[0m                                Traceback (most recent call last)",
      "\u001b[0;32m<ipython-input-84-e8c6a7f83ced>\u001b[0m in \u001b[0;36m<module>\u001b[0;34m\u001b[0m\n\u001b[0;32m----> 1\u001b[0;31m df =pd.DataFrame({\n\u001b[0m\u001b[1;32m      2\u001b[0m     \u001b[0;34m'Query'\u001b[0m\u001b[0;34m:\u001b[0m \u001b[0mallQueries\u001b[0m\u001b[0;34m,\u001b[0m\u001b[0;34m\u001b[0m\u001b[0;34m\u001b[0m\u001b[0m\n\u001b[1;32m      3\u001b[0m     \u001b[0;34m'kidsError'\u001b[0m\u001b[0;34m:\u001b[0m \u001b[0mkidsError\u001b[0m\u001b[0;34m,\u001b[0m\u001b[0;34m\u001b[0m\u001b[0;34m\u001b[0m\u001b[0m\n\u001b[1;32m      4\u001b[0m     \u001b[0;34m'numSpellingErrors'\u001b[0m\u001b[0;34m:\u001b[0m \u001b[0mspellingError\u001b[0m\u001b[0;34m,\u001b[0m\u001b[0;34m\u001b[0m\u001b[0;34m\u001b[0m\u001b[0m\n\u001b[1;32m      5\u001b[0m     \u001b[0;34m'ms'\u001b[0m\u001b[0;34m:\u001b[0m \u001b[0mallErrors\u001b[0m\u001b[0;34m,\u001b[0m\u001b[0;34m\u001b[0m\u001b[0;34m\u001b[0m\u001b[0m\n",
      "\u001b[0;32m~/opt/anaconda3/lib/python3.8/site-packages/pandas/core/frame.py\u001b[0m in \u001b[0;36m__init__\u001b[0;34m(self, data, index, columns, dtype, copy)\u001b[0m\n\u001b[1;32m    612\u001b[0m         \u001b[0;32melif\u001b[0m \u001b[0misinstance\u001b[0m\u001b[0;34m(\u001b[0m\u001b[0mdata\u001b[0m\u001b[0;34m,\u001b[0m \u001b[0mdict\u001b[0m\u001b[0;34m)\u001b[0m\u001b[0;34m:\u001b[0m\u001b[0;34m\u001b[0m\u001b[0;34m\u001b[0m\u001b[0m\n\u001b[1;32m    613\u001b[0m             \u001b[0;31m# GH#38939 de facto copy defaults to False only in non-dict cases\u001b[0m\u001b[0;34m\u001b[0m\u001b[0;34m\u001b[0m\u001b[0;34m\u001b[0m\u001b[0m\n\u001b[0;32m--> 614\u001b[0;31m             \u001b[0mmgr\u001b[0m \u001b[0;34m=\u001b[0m \u001b[0mdict_to_mgr\u001b[0m\u001b[0;34m(\u001b[0m\u001b[0mdata\u001b[0m\u001b[0;34m,\u001b[0m \u001b[0mindex\u001b[0m\u001b[0;34m,\u001b[0m \u001b[0mcolumns\u001b[0m\u001b[0;34m,\u001b[0m \u001b[0mdtype\u001b[0m\u001b[0;34m=\u001b[0m\u001b[0mdtype\u001b[0m\u001b[0;34m,\u001b[0m \u001b[0mcopy\u001b[0m\u001b[0;34m=\u001b[0m\u001b[0mcopy\u001b[0m\u001b[0;34m,\u001b[0m \u001b[0mtyp\u001b[0m\u001b[0;34m=\u001b[0m\u001b[0mmanager\u001b[0m\u001b[0;34m)\u001b[0m\u001b[0;34m\u001b[0m\u001b[0;34m\u001b[0m\u001b[0m\n\u001b[0m\u001b[1;32m    615\u001b[0m         \u001b[0;32melif\u001b[0m \u001b[0misinstance\u001b[0m\u001b[0;34m(\u001b[0m\u001b[0mdata\u001b[0m\u001b[0;34m,\u001b[0m \u001b[0mma\u001b[0m\u001b[0;34m.\u001b[0m\u001b[0mMaskedArray\u001b[0m\u001b[0;34m)\u001b[0m\u001b[0;34m:\u001b[0m\u001b[0;34m\u001b[0m\u001b[0;34m\u001b[0m\u001b[0m\n\u001b[1;32m    616\u001b[0m             \u001b[0;32mimport\u001b[0m \u001b[0mnumpy\u001b[0m\u001b[0;34m.\u001b[0m\u001b[0mma\u001b[0m\u001b[0;34m.\u001b[0m\u001b[0mmrecords\u001b[0m \u001b[0;32mas\u001b[0m \u001b[0mmrecords\u001b[0m\u001b[0;34m\u001b[0m\u001b[0;34m\u001b[0m\u001b[0m\n",
      "\u001b[0;32m~/opt/anaconda3/lib/python3.8/site-packages/pandas/core/internals/construction.py\u001b[0m in \u001b[0;36mdict_to_mgr\u001b[0;34m(data, index, columns, dtype, typ, copy)\u001b[0m\n\u001b[1;32m    460\u001b[0m         \u001b[0;31m# TODO: can we get rid of the dt64tz special case above?\u001b[0m\u001b[0;34m\u001b[0m\u001b[0;34m\u001b[0m\u001b[0;34m\u001b[0m\u001b[0m\n\u001b[1;32m    461\u001b[0m \u001b[0;34m\u001b[0m\u001b[0m\n\u001b[0;32m--> 462\u001b[0;31m     return arrays_to_mgr(\n\u001b[0m\u001b[1;32m    463\u001b[0m         \u001b[0marrays\u001b[0m\u001b[0;34m,\u001b[0m \u001b[0mdata_names\u001b[0m\u001b[0;34m,\u001b[0m \u001b[0mindex\u001b[0m\u001b[0;34m,\u001b[0m \u001b[0mcolumns\u001b[0m\u001b[0;34m,\u001b[0m \u001b[0mdtype\u001b[0m\u001b[0;34m=\u001b[0m\u001b[0mdtype\u001b[0m\u001b[0;34m,\u001b[0m \u001b[0mtyp\u001b[0m\u001b[0;34m=\u001b[0m\u001b[0mtyp\u001b[0m\u001b[0;34m,\u001b[0m \u001b[0mconsolidate\u001b[0m\u001b[0;34m=\u001b[0m\u001b[0mcopy\u001b[0m\u001b[0;34m\u001b[0m\u001b[0;34m\u001b[0m\u001b[0m\n\u001b[1;32m    464\u001b[0m     )\n",
      "\u001b[0;32m~/opt/anaconda3/lib/python3.8/site-packages/pandas/core/internals/construction.py\u001b[0m in \u001b[0;36marrays_to_mgr\u001b[0;34m(arrays, arr_names, index, columns, dtype, verify_integrity, typ, consolidate)\u001b[0m\n\u001b[1;32m    115\u001b[0m         \u001b[0;31m# figure out the index, if necessary\u001b[0m\u001b[0;34m\u001b[0m\u001b[0;34m\u001b[0m\u001b[0;34m\u001b[0m\u001b[0m\n\u001b[1;32m    116\u001b[0m         \u001b[0;32mif\u001b[0m \u001b[0mindex\u001b[0m \u001b[0;32mis\u001b[0m \u001b[0;32mNone\u001b[0m\u001b[0;34m:\u001b[0m\u001b[0;34m\u001b[0m\u001b[0;34m\u001b[0m\u001b[0m\n\u001b[0;32m--> 117\u001b[0;31m             \u001b[0mindex\u001b[0m \u001b[0;34m=\u001b[0m \u001b[0m_extract_index\u001b[0m\u001b[0;34m(\u001b[0m\u001b[0marrays\u001b[0m\u001b[0;34m)\u001b[0m\u001b[0;34m\u001b[0m\u001b[0;34m\u001b[0m\u001b[0m\n\u001b[0m\u001b[1;32m    118\u001b[0m         \u001b[0;32melse\u001b[0m\u001b[0;34m:\u001b[0m\u001b[0;34m\u001b[0m\u001b[0;34m\u001b[0m\u001b[0m\n\u001b[1;32m    119\u001b[0m             \u001b[0mindex\u001b[0m \u001b[0;34m=\u001b[0m \u001b[0mensure_index\u001b[0m\u001b[0;34m(\u001b[0m\u001b[0mindex\u001b[0m\u001b[0;34m)\u001b[0m\u001b[0;34m\u001b[0m\u001b[0;34m\u001b[0m\u001b[0m\n",
      "\u001b[0;32m~/opt/anaconda3/lib/python3.8/site-packages/pandas/core/internals/construction.py\u001b[0m in \u001b[0;36m_extract_index\u001b[0;34m(data)\u001b[0m\n\u001b[1;32m    621\u001b[0m             \u001b[0mlengths\u001b[0m \u001b[0;34m=\u001b[0m \u001b[0mlist\u001b[0m\u001b[0;34m(\u001b[0m\u001b[0mset\u001b[0m\u001b[0;34m(\u001b[0m\u001b[0mraw_lengths\u001b[0m\u001b[0;34m)\u001b[0m\u001b[0;34m)\u001b[0m\u001b[0;34m\u001b[0m\u001b[0;34m\u001b[0m\u001b[0m\n\u001b[1;32m    622\u001b[0m             \u001b[0;32mif\u001b[0m \u001b[0mlen\u001b[0m\u001b[0;34m(\u001b[0m\u001b[0mlengths\u001b[0m\u001b[0;34m)\u001b[0m \u001b[0;34m>\u001b[0m \u001b[0;36m1\u001b[0m\u001b[0;34m:\u001b[0m\u001b[0;34m\u001b[0m\u001b[0;34m\u001b[0m\u001b[0m\n\u001b[0;32m--> 623\u001b[0;31m                 \u001b[0;32mraise\u001b[0m \u001b[0mValueError\u001b[0m\u001b[0;34m(\u001b[0m\u001b[0;34m\"All arrays must be of the same length\"\u001b[0m\u001b[0;34m)\u001b[0m\u001b[0;34m\u001b[0m\u001b[0;34m\u001b[0m\u001b[0m\n\u001b[0m\u001b[1;32m    624\u001b[0m \u001b[0;34m\u001b[0m\u001b[0m\n\u001b[1;32m    625\u001b[0m             \u001b[0;32mif\u001b[0m \u001b[0mhave_dicts\u001b[0m\u001b[0;34m:\u001b[0m\u001b[0;34m\u001b[0m\u001b[0;34m\u001b[0m\u001b[0m\n",
      "\u001b[0;31mValueError\u001b[0m: All arrays must be of the same length"
     ]
    }
   ],
   "source": [
    "df =pd.DataFrame({\n",
    "    'Query': allQueries,\n",
    "    'kidsError': kidsError,\n",
    "    'numSpellingErrors': spellingError,\n",
    "    'ms': allErrors,\n",
    "    'offByOne': oneOffError\n",
    "})\n",
    "df"
   ]
  },
  {
   "cell_type": "code",
   "execution_count": 82,
   "metadata": {},
   "outputs": [
    {
     "data": {
      "text/plain": [
       "True"
      ]
     },
     "execution_count": 82,
     "metadata": {},
     "output_type": "execute_result"
    }
   ],
   "source": [
    "'jp' in spell.edit_distance_1('jp')"
   ]
  },
  {
   "cell_type": "code",
   "execution_count": 80,
   "metadata": {},
   "outputs": [
    {
     "data": {
      "text/html": [
       "<div>\n",
       "<style scoped>\n",
       "    .dataframe tbody tr th:only-of-type {\n",
       "        vertical-align: middle;\n",
       "    }\n",
       "\n",
       "    .dataframe tbody tr th {\n",
       "        vertical-align: top;\n",
       "    }\n",
       "\n",
       "    .dataframe thead th {\n",
       "        text-align: right;\n",
       "    }\n",
       "</style>\n",
       "<table border=\"1\" class=\"dataframe\">\n",
       "  <thead>\n",
       "    <tr style=\"text-align: right;\">\n",
       "      <th></th>\n",
       "      <th>Query</th>\n",
       "      <th>kidsError</th>\n",
       "      <th>numSpellingErrors</th>\n",
       "      <th>ms</th>\n",
       "      <th>offByOne</th>\n",
       "    </tr>\n",
       "  </thead>\n",
       "  <tbody>\n",
       "    <tr>\n",
       "      <th>7</th>\n",
       "      <td>Leading Parhmacutical companyies and lobbying</td>\n",
       "      <td>0</td>\n",
       "      <td>2</td>\n",
       "      <td>parhmacutical, companyies</td>\n",
       "      <td>2</td>\n",
       "    </tr>\n",
       "    <tr>\n",
       "      <th>12</th>\n",
       "      <td>Merck lobbists</td>\n",
       "      <td>0</td>\n",
       "      <td>2</td>\n",
       "      <td>lobbists, merck</td>\n",
       "      <td>2</td>\n",
       "    </tr>\n",
       "    <tr>\n",
       "      <th>38</th>\n",
       "      <td>Merck lobby -hpv</td>\n",
       "      <td>0</td>\n",
       "      <td>2</td>\n",
       "      <td>merck, hpv</td>\n",
       "      <td>2</td>\n",
       "    </tr>\n",
       "    <tr>\n",
       "      <th>42</th>\n",
       "      <td>PhD in Business benifits</td>\n",
       "      <td>0</td>\n",
       "      <td>2</td>\n",
       "      <td>phd, benifits</td>\n",
       "      <td>2</td>\n",
       "    </tr>\n",
       "    <tr>\n",
       "      <th>86</th>\n",
       "      <td>jp morgan chase compulational scientist</td>\n",
       "      <td>0</td>\n",
       "      <td>2</td>\n",
       "      <td>jp, compulational</td>\n",
       "      <td>2</td>\n",
       "    </tr>\n",
       "    <tr>\n",
       "      <th>...</th>\n",
       "      <td>...</td>\n",
       "      <td>...</td>\n",
       "      <td>...</td>\n",
       "      <td>...</td>\n",
       "      <td>...</td>\n",
       "    </tr>\n",
       "    <tr>\n",
       "      <th>1430</th>\n",
       "      <td>lg 47lg50 review</td>\n",
       "      <td>0</td>\n",
       "      <td>2</td>\n",
       "      <td>lg, 47lg50</td>\n",
       "      <td>2</td>\n",
       "    </tr>\n",
       "    <tr>\n",
       "      <th>1445</th>\n",
       "      <td>maynard cooper &amp; gale p c</td>\n",
       "      <td>1</td>\n",
       "      <td>3</td>\n",
       "      <td>, p, c</td>\n",
       "      <td>2</td>\n",
       "    </tr>\n",
       "    <tr>\n",
       "      <th>1478</th>\n",
       "      <td>rave motion pictures ridgmar 13 fort worth tx</td>\n",
       "      <td>0</td>\n",
       "      <td>2</td>\n",
       "      <td>tx, ridgmar</td>\n",
       "      <td>2</td>\n",
       "    </tr>\n",
       "    <tr>\n",
       "      <th>1481</th>\n",
       "      <td>razboi intru cuvant</td>\n",
       "      <td>0</td>\n",
       "      <td>3</td>\n",
       "      <td>cuvant, razboi, intru</td>\n",
       "      <td>3</td>\n",
       "    </tr>\n",
       "    <tr>\n",
       "      <th>1503</th>\n",
       "      <td>supporta Java oppure</td>\n",
       "      <td>0</td>\n",
       "      <td>2</td>\n",
       "      <td>oppure, supporta</td>\n",
       "      <td>2</td>\n",
       "    </tr>\n",
       "  </tbody>\n",
       "</table>\n",
       "<p>65 rows × 5 columns</p>\n",
       "</div>"
      ],
      "text/plain": [
       "                                              Query  kidsError  \\\n",
       "7     Leading Parhmacutical companyies and lobbying          0   \n",
       "12                                   Merck lobbists          0   \n",
       "38                                 Merck lobby -hpv          0   \n",
       "42                         PhD in Business benifits          0   \n",
       "86          jp morgan chase compulational scientist          0   \n",
       "...                                             ...        ...   \n",
       "1430                               lg 47lg50 review          0   \n",
       "1445                      maynard cooper & gale p c          1   \n",
       "1478  rave motion pictures ridgmar 13 fort worth tx          0   \n",
       "1481                            razboi intru cuvant          0   \n",
       "1503                           supporta Java oppure          0   \n",
       "\n",
       "      numSpellingErrors                         ms  offByOne  \n",
       "7                     2  parhmacutical, companyies         2  \n",
       "12                    2            lobbists, merck         2  \n",
       "38                    2                 merck, hpv         2  \n",
       "42                    2              phd, benifits         2  \n",
       "86                    2          jp, compulational         2  \n",
       "...                 ...                        ...       ...  \n",
       "1430                  2                 lg, 47lg50         2  \n",
       "1445                  3                     , p, c         2  \n",
       "1478                  2                tx, ridgmar         2  \n",
       "1481                  3      cuvant, razboi, intru         3  \n",
       "1503                  2           oppure, supporta         2  \n",
       "\n",
       "[65 rows x 5 columns]"
      ]
     },
     "execution_count": 80,
     "metadata": {},
     "output_type": "execute_result"
    }
   ],
   "source": [
    "df.query('\tnumSpellingErrors > 1')"
   ]
  },
  {
   "cell_type": "code",
   "execution_count": null,
   "metadata": {},
   "outputs": [],
   "source": []
  },
  {
   "cell_type": "code",
   "execution_count": 51,
   "metadata": {},
   "outputs": [
    {
     "data": {
      "text/plain": [
       "1505"
      ]
     },
     "execution_count": 51,
     "metadata": {},
     "output_type": "execute_result"
    }
   ],
   "source": [
    "len(allQueries)"
   ]
  },
  {
   "cell_type": "code",
   "execution_count": null,
   "metadata": {},
   "outputs": [],
   "source": [
    "spell = SpellChecker()\n",
    "\n",
    "spellingError = []\n",
    "oneOffError = []\n",
    "kidsError = []\n",
    "misspelledCol = []\n",
    "\n",
    "\n",
    "netModifiers = ['www', 'http', '.com', '.net', '.edu', '.org', '.gov', '.co', '.mil', '.com']\n",
    "with tqdm(total = len(allQueries) ) as pbar:\n",
    "    for query in allQueries:\n",
    "        query =  query.translate(str.maketrans('', '', string.punctuation)) # -- remove all panctuations\n",
    "        website = [mod for mod in netModifiers if(mod in query)] # --- save the netModifiers in the queries\n",
    "        if not website:\n",
    "            misspelledWords = \"\";\n",
    "            \n",
    "            try:\n",
    "                lang = detect(query) # -- detects a language \n",
    "                misspelled = spell.unknown(query.split(\" \")) # -- unknown gives the misspelled words\n",
    "                "
   ]
  },
  {
   "cell_type": "code",
   "execution_count": null,
   "metadata": {},
   "outputs": [],
   "source": []
  },
  {
   "cell_type": "code",
   "execution_count": null,
   "metadata": {},
   "outputs": [],
   "source": [
    "edits = spell.edit_distance_1(word)"
   ]
  },
  {
   "cell_type": "code",
   "execution_count": 12,
   "metadata": {},
   "outputs": [
    {
     "name": "stdout",
     "output_type": "stream",
     "text": [
      "it consulting\n",
      "length of 0\n",
      "final set()\n",
      "['']\n",
      "JP Morgan Chase data\n",
      "length of 1\n",
      "word =  ['j', 'p']\n",
      "[' ', 'j', 'p']\n",
      "final {'jp'}\n",
      "['', ' jp']\n",
      "fun violence control jp constitutional\n",
      "length of 1\n",
      "word =  ['j', 'p']\n",
      "[' ', 'j', 'p']\n",
      "final {'jp'}\n",
      "['', ' jp', ' jp']\n"
     ]
    }
   ],
   "source": [
    "spell = SpellChecker()\n",
    "\n",
    "spellingError = []\n",
    "oneOffError = []\n",
    "kidsError = []\n",
    "misspelledCol = []\n",
    "\n",
    "test = ['it consulting',\n",
    " 'JP Morgan Chase data',\n",
    " 'fun violence control jp constitutional']\n",
    "test.append('we add www and http jp intentionally')\n",
    "netModifiers = ['www', 'http', '.com', '.net', '.edu', '.org', '.gov', '.co', '.mil', '.com']\n",
    "\n",
    "for query in test:\n",
    "    query =  query.translate(str.maketrans('', '', string.punctuation)) # -- remove all panctuations\n",
    "    website = [mod for mod in netModifiers if(mod in query)]\n",
    "    \n",
    "    if not website:\n",
    "        misspelledWords = \"\";\n",
    "        \n",
    "        lang = detect(query) # -- detects a language \n",
    "        print(query)\n",
    "        misspelled = spell.unknown(query.split(\" \")) # -- unknown gives the misspelled words\n",
    "        print('length of',len(misspelled))\n",
    "        found = 0\n",
    "        oneOff = 0\n",
    "        kidsMis = 0\n",
    "        for word in misspelled:\n",
    "            misspelledWords += \" \" + word  # -- concatinating the misspelled words\n",
    "            print('word = ', list(word))\n",
    "            print(list(misspelledWords))\n",
    "            if word in kidsMispelled:\n",
    "                kidsMis +=1\n",
    "            candid = spell.candidates(word) # --- candidates() displays the set of words that are close to the word entered e.g: 'country', 'count', 'counter' if country is entered\n",
    "            edits = spell.edit_distance_1(word) # -- Compute all strings that are one edit away from `word` \n",
    "                    \n",
    "            for can in candid:\n",
    "                if can in edits:\n",
    "                    oneOff += 1 # -- one letter off \n",
    "                break\n",
    "\n",
    "        oneOffError.append(oneOff)\n",
    "        #print(oneOffError)\n",
    "        print('final', misspelled)\n",
    "        spellingError.append(len(misspelled))\n",
    "        #print(spellingError)\n",
    "        kidsError.append(kidsMis)\n",
    "        #print(kidsError)\n",
    "        misspelledCol.append(misspelledWords)\n",
    "        print(misspelledCol)"
   ]
  },
  {
   "cell_type": "code",
   "execution_count": 13,
   "metadata": {},
   "outputs": [
    {
     "data": {
      "text/plain": [
       "' A'"
      ]
     },
     "execution_count": 13,
     "metadata": {},
     "output_type": "execute_result"
    }
   ],
   "source": [
    "'' + ' ' + 'A'"
   ]
  },
  {
   "cell_type": "code",
   "execution_count": 14,
   "metadata": {},
   "outputs": [
    {
     "data": {
      "text/plain": [
       "['www', 'http']"
      ]
     },
     "execution_count": 14,
     "metadata": {},
     "output_type": "execute_result"
    }
   ],
   "source": [
    "website"
   ]
  },
  {
   "cell_type": "code",
   "execution_count": 15,
   "metadata": {},
   "outputs": [
    {
     "name": "stderr",
     "output_type": "stream",
     "text": [
      "\r",
      "  0%|          | 0/1505 [00:00<?, ?it/s]"
     ]
    },
    {
     "name": "stdout",
     "output_type": "stream",
     "text": [
      "mispelled set()\n",
      "mispelled {'jp'}\n",
      "mispelled set()\n"
     ]
    },
    {
     "name": "stderr",
     "output_type": "stream",
     "text": [
      "\r",
      "  0%|          | 4/1505 [00:00<01:33, 16.03it/s]"
     ]
    },
    {
     "name": "stdout",
     "output_type": "stream",
     "text": [
      "mispelled {'swahili'}\n"
     ]
    },
    {
     "name": "stderr",
     "output_type": "stream",
     "text": [
      "\r",
      "  0%|          | 6/1505 [00:00<01:34, 15.89it/s]"
     ]
    },
    {
     "name": "stdout",
     "output_type": "stream",
     "text": [
      "mispelled {'kursk'}\n",
      "mispelled set()\n",
      "mispelled set()\n"
     ]
    },
    {
     "name": "stderr",
     "output_type": "stream",
     "text": [
      "\r",
      "  1%|          | 8/1505 [00:00<03:41,  6.76it/s]"
     ]
    },
    {
     "name": "stdout",
     "output_type": "stream",
     "text": [
      "mispelled set()\n",
      "mispelled set()\n",
      "mispelled set()\n",
      "mispelled {'suny'}\n",
      "mispelled {'lobbists', 'merck'}\n",
      "mispelled set()\n",
      "mispelled set()\n"
     ]
    },
    {
     "name": "stderr",
     "output_type": "stream",
     "text": [
      "\r",
      "  1%|          | 16/1505 [00:01<01:43, 14.39it/s]"
     ]
    },
    {
     "name": "stdout",
     "output_type": "stream",
     "text": [
      "mispelled {'swahili'}\n",
      "mispelled set()\n",
      "mispelled set()\n",
      "mispelled set()\n",
      "mispelled set()\n",
      "mispelled set()\n",
      "mispelled set()\n",
      "mispelled set()\n",
      "mispelled set()\n",
      "mispelled set()\n",
      "mispelled set()\n"
     ]
    },
    {
     "name": "stderr",
     "output_type": "stream",
     "text": [
      "  2%|▏         | 32/1505 [00:01<00:54, 26.87it/s]"
     ]
    },
    {
     "name": "stdout",
     "output_type": "stream",
     "text": [
      "mispelled {'swahili'}\n",
      "mispelled set()\n",
      "mispelled {''}\n",
      "mispelled {''}\n",
      "mispelled set()\n",
      "mispelled set()\n",
      "mispelled set()\n",
      "mispelled set()\n",
      "mispelled set()\n",
      "mispelled set()\n"
     ]
    },
    {
     "name": "stderr",
     "output_type": "stream",
     "text": [
      "  3%|▎         | 45/1505 [00:01<00:37, 39.25it/s]"
     ]
    },
    {
     "name": "stdout",
     "output_type": "stream",
     "text": [
      "mispelled set()\n",
      "mispelled set()\n",
      "mispelled {'merck', 'hpv'}\n",
      "mispelled set()\n",
      "mispelled {'dehumidifiers'}\n",
      "mispelled set()\n",
      "mispelled {'phd', 'benifits'}\n",
      "mispelled set()\n",
      "mispelled set()\n",
      "mispelled set()\n"
     ]
    },
    {
     "name": "stderr",
     "output_type": "stream",
     "text": [
      "\r",
      "  3%|▎         | 50/1505 [00:02<00:51, 28.17it/s]"
     ]
    },
    {
     "name": "stdout",
     "output_type": "stream",
     "text": [
      "mispelled {'swahili'}\n",
      "mispelled set()\n",
      "mispelled {'kursk'}\n",
      "mispelled {'airpor'}\n",
      "mispelled set()\n",
      "mispelled set()\n",
      "mispelled set()\n",
      "mispelled set()\n"
     ]
    },
    {
     "name": "stderr",
     "output_type": "stream",
     "text": [
      "\r",
      "  4%|▎         | 55/1505 [00:02<01:42, 14.15it/s]"
     ]
    },
    {
     "name": "stdout",
     "output_type": "stream",
     "text": [
      "mispelled set()\n",
      "mispelled set()\n",
      "mispelled set()\n",
      "mispelled set()\n",
      "mispelled set()\n",
      "mispelled {'phd'}\n",
      "mispelled set()\n"
     ]
    },
    {
     "name": "stderr",
     "output_type": "stream",
     "text": [
      "  4%|▍         | 67/1505 [00:03<01:14, 19.20it/s]"
     ]
    },
    {
     "name": "stdout",
     "output_type": "stream",
     "text": [
      "mispelled set()\n",
      "mispelled set()\n",
      "mispelled {'kenyan'}\n",
      "mispelled {'suny'}\n",
      "mispelled set()\n",
      "mispelled set()\n",
      "mispelled set()\n",
      "mispelled set()\n",
      "mispelled set()\n",
      "mispelled set()\n",
      "mispelled set()\n",
      "mispelled set()\n",
      "mispelled set()\n",
      "mispelled set()\n"
     ]
    },
    {
     "name": "stderr",
     "output_type": "stream",
     "text": [
      "  6%|▌         | 84/1505 [00:03<00:46, 30.60it/s]"
     ]
    },
    {
     "name": "stdout",
     "output_type": "stream",
     "text": [
      "mispelled {'kiursk'}\n",
      "mispelled set()\n",
      "mispelled set()\n",
      "mispelled set()\n",
      "mispelled set()\n",
      "mispelled set()\n",
      "mispelled set()\n",
      "mispelled set()\n",
      "mispelled set()\n",
      "mispelled {'jp', 'compulational'}\n",
      "mispelled set()\n",
      "mispelled set()\n",
      "mispelled set()\n",
      "mispelled set()\n"
     ]
    },
    {
     "name": "stderr",
     "output_type": "stream",
     "text": [
      "  7%|▋         | 100/1505 [00:03<00:31, 45.19it/s]"
     ]
    },
    {
     "name": "stdout",
     "output_type": "stream",
     "text": [
      "mispelled set()\n",
      "mispelled set()\n",
      "mispelled set()\n",
      "mispelled set()\n",
      "mispelled set()\n",
      "mispelled set()\n",
      "mispelled set()\n",
      "mispelled set()\n",
      "mispelled set()\n",
      "mispelled {'jp'}\n"
     ]
    },
    {
     "name": "stderr",
     "output_type": "stream",
     "text": [
      "\r",
      "  7%|▋         | 106/1505 [00:04<00:39, 35.18it/s]"
     ]
    },
    {
     "name": "stdout",
     "output_type": "stream",
     "text": [
      "mispelled {'voip'}\n",
      "mispelled set()\n",
      "mispelled {'keto'}\n",
      "mispelled set()\n"
     ]
    },
    {
     "name": "stderr",
     "output_type": "stream",
     "text": [
      "\r",
      "  7%|▋         | 111/1505 [00:04<00:47, 29.57it/s]"
     ]
    },
    {
     "name": "stdout",
     "output_type": "stream",
     "text": [
      "mispelled set()\n",
      "mispelled set()\n",
      "mispelled set()\n",
      "mispelled set()\n"
     ]
    },
    {
     "name": "stderr",
     "output_type": "stream",
     "text": [
      "\r",
      "  8%|▊         | 115/1505 [00:04<00:54, 25.35it/s]"
     ]
    },
    {
     "name": "stdout",
     "output_type": "stream",
     "text": [
      "mispelled set()\n",
      "mispelled set()\n",
      "mispelled set()\n",
      "mispelled set()\n",
      "mispelled set()\n",
      "mispelled set()\n"
     ]
    },
    {
     "name": "stderr",
     "output_type": "stream",
     "text": [
      "  8%|▊         | 127/1505 [00:05<00:55, 24.91it/s]"
     ]
    },
    {
     "name": "stdout",
     "output_type": "stream",
     "text": [
      "mispelled {'rheumatology'}\n",
      "mispelled set()\n",
      "mispelled set()\n",
      "mispelled set()\n",
      "mispelled set()\n",
      "mispelled set()\n",
      "mispelled set()\n",
      "mispelled {'voip'}\n",
      "mispelled {'sillicon'}\n",
      "mispelled set()\n",
      "mispelled set()\n",
      "mispelled set()\n",
      "mispelled set()\n",
      "mispelled set()\n"
     ]
    },
    {
     "name": "stderr",
     "output_type": "stream",
     "text": [
      "  9%|▉         | 141/1505 [00:05<00:40, 33.80it/s]"
     ]
    },
    {
     "name": "stdout",
     "output_type": "stream",
     "text": [
      "mispelled {'swahili'}\n",
      "mispelled set()\n",
      "mispelled set()\n",
      "mispelled set()\n",
      "mispelled set()\n",
      "mispelled set()\n",
      "mispelled {'dutta'}\n",
      "mispelled {''}\n",
      "mispelled set()\n",
      "mispelled set()\n",
      "mispelled set()\n",
      "mispelled set()\n",
      "mispelled set()\n",
      "mispelled {''}\n"
     ]
    },
    {
     "name": "stderr",
     "output_type": "stream",
     "text": [
      " 10%|█         | 154/1505 [00:05<00:33, 40.46it/s]"
     ]
    },
    {
     "name": "stdout",
     "output_type": "stream",
     "text": [
      "mispelled set()\n",
      "mispelled set()\n",
      "mispelled set()\n",
      "mispelled set()\n",
      "mispelled {''}\n",
      "mispelled set()\n",
      "mispelled {'kursk'}\n",
      "mispelled set()\n",
      "mispelled set()\n",
      "mispelled set()\n",
      "mispelled {'benifits'}\n",
      "mispelled set()\n"
     ]
    },
    {
     "name": "stderr",
     "output_type": "stream",
     "text": [
      " 11%|█         | 164/1505 [00:06<00:53, 24.95it/s]"
     ]
    },
    {
     "name": "stdout",
     "output_type": "stream",
     "text": [
      "mispelled set()\n",
      "mispelled set()\n",
      "mispelled set()\n",
      "mispelled set()\n",
      "mispelled set()\n",
      "mispelled {'citites'}\n"
     ]
    },
    {
     "name": "stderr",
     "output_type": "stream",
     "text": [
      " 11%|█▏        | 172/1505 [00:06<00:54, 24.61it/s]"
     ]
    },
    {
     "name": "stdout",
     "output_type": "stream",
     "text": [
      "mispelled {'swahili'}\n",
      "mispelled set()\n",
      "mispelled set()\n",
      "mispelled set()\n",
      "mispelled {'kursk'}\n",
      "mispelled {'voip'}\n"
     ]
    },
    {
     "name": "stderr",
     "output_type": "stream",
     "text": [
      " 12%|█▏        | 185/1505 [00:07<00:35, 37.10it/s]"
     ]
    },
    {
     "name": "stdout",
     "output_type": "stream",
     "text": [
      "mispelled {'kursk'}\n",
      "mispelled set()\n",
      "mispelled set()\n",
      "mispelled set()\n",
      "mispelled set()\n",
      "mispelled {'comparaison'}\n",
      "mispelled {'merck'}\n",
      "mispelled set()\n",
      "mispelled set()\n",
      "mispelled set()\n",
      "mispelled set()\n",
      "mispelled set()\n",
      "mispelled {''}\n",
      "mispelled set()\n",
      "mispelled set()\n",
      "mispelled set()\n",
      "mispelled set()\n",
      "mispelled set()\n",
      "mispelled set()\n"
     ]
    },
    {
     "name": "stderr",
     "output_type": "stream",
     "text": [
      "\r",
      " 13%|█▎        | 194/1505 [00:07<00:36, 35.62it/s]"
     ]
    },
    {
     "name": "stdout",
     "output_type": "stream",
     "text": [
      "mispelled {'dutta'}\n",
      "mispelled {'merck'}\n",
      "mispelled {'swahili'}\n",
      "mispelled set()\n",
      "mispelled"
     ]
    },
    {
     "name": "stderr",
     "output_type": "stream",
     "text": [
      "\r",
      " 13%|█▎        | 200/1505 [00:07<00:39, 33.17it/s]"
     ]
    },
    {
     "name": "stdout",
     "output_type": "stream",
     "text": [
      " set()\n",
      "mispelled set()\n",
      "mispelled set()\n",
      "mispelled {'voip'}\n",
      "mispelled {'swahili'}\n",
      "mispelled set()\n",
      "mispelled set()\n",
      "mispelled {'suny'}\n",
      "mispelled set()\n",
      "mispelled set()\n",
      "mispelled {'pagents'}\n",
      "mispelled set()\n",
      "mispelled set()\n",
      "mispelled set()\n"
     ]
    },
    {
     "name": "stderr",
     "output_type": "stream",
     "text": [
      "\r",
      " 14%|█▍        | 210/1505 [00:08<00:59, 21.84it/s]"
     ]
    },
    {
     "name": "stdout",
     "output_type": "stream",
     "text": [
      "mispelled {'', 'suny'}\n"
     ]
    },
    {
     "name": "stderr",
     "output_type": "stream",
     "text": [
      "\r",
      " 14%|█▍        | 214/1505 [00:08<01:16, 16.85it/s]"
     ]
    },
    {
     "name": "stdout",
     "output_type": "stream",
     "text": [
      "mispelled set()\n",
      "mispelled set()\n",
      "mispelled {''}\n"
     ]
    },
    {
     "name": "stderr",
     "output_type": "stream",
     "text": [
      "\r",
      " 14%|█▍        | 217/1505 [00:09<01:53, 11.30it/s]"
     ]
    },
    {
     "name": "stdout",
     "output_type": "stream",
     "text": [
      "mispelled set()\n",
      "mispelled {'arther'}\n"
     ]
    },
    {
     "name": "stderr",
     "output_type": "stream",
     "text": [
      "\r",
      " 15%|█▍        | 220/1505 [00:09<01:56, 11.02it/s]"
     ]
    },
    {
     "name": "stdout",
     "output_type": "stream",
     "text": [
      "mispelled {'voip'}\n",
      "mispelled set()\n"
     ]
    },
    {
     "name": "stderr",
     "output_type": "stream",
     "text": [
      " 15%|█▌        | 228/1505 [00:10<01:26, 14.83it/s]"
     ]
    },
    {
     "name": "stdout",
     "output_type": "stream",
     "text": [
      "mispelled set()\n",
      "mispelled set()\n",
      "mispelled set()\n",
      "mispelled set()\n",
      "mispelled set()\n",
      "mispelled set()\n",
      "mispelled set()\n",
      "mispelled {'phd'}\n",
      "mispelled set()\n"
     ]
    },
    {
     "name": "stderr",
     "output_type": "stream",
     "text": [
      " 16%|█▌        | 243/1505 [00:10<00:48, 25.82it/s]"
     ]
    },
    {
     "name": "stdout",
     "output_type": "stream",
     "text": [
      "mispelled {'jpmorgan'}\n",
      "mispelled set()\n",
      "mispelled set()\n",
      "mispelled {'phd'}\n",
      "mispelled set()\n",
      "mispelled set()\n",
      "mispelled set()\n",
      "mispelled set()\n",
      "mispelled set()\n",
      "mispelled {''}\n",
      "mispelled set()\n"
     ]
    },
    {
     "name": "stderr",
     "output_type": "stream",
     "text": [
      "\r",
      " 16%|█▋        | 248/1505 [00:10<00:52, 24.09it/s]"
     ]
    },
    {
     "name": "stdout",
     "output_type": "stream",
     "text": [
      "mispelled {'vanuatu'}\n",
      "mispelled set()\n",
      "mispelled {'phd'}\n",
      "mispelled set()\n",
      "mispelled {'suny'}\n",
      "mispelled set()\n",
      "mispelled set()\n",
      "mispelled {'pocono'}\n",
      "mispelled {''}\n",
      "mispelled set()\n"
     ]
    },
    {
     "name": "stderr",
     "output_type": "stream",
     "text": [
      " 17%|█▋        | 258/1505 [00:11<00:55, 22.43it/s]"
     ]
    },
    {
     "name": "stdout",
     "output_type": "stream",
     "text": [
      "mispelled {'swahili'}\n",
      "mispelled set()\n",
      "mispelled set()\n",
      "mispelled {'pocono'}\n",
      "mispelled set()\n"
     ]
    },
    {
     "name": "stderr",
     "output_type": "stream",
     "text": [
      " 18%|█▊        | 273/1505 [00:11<00:37, 32.89it/s]"
     ]
    },
    {
     "name": "stdout",
     "output_type": "stream",
     "text": [
      "mispelled set()\n",
      "mispelled set()\n",
      "mispelled set()\n",
      "mispelled {'pocono'}\n",
      "mispelled set()\n",
      "mispelled set()\n",
      "mispelled set()\n",
      "mispelled set()\n",
      "mispelled set()\n",
      "mispelled {'merck'}\n",
      "mispelled set()\n",
      "mispelled set()\n",
      "mispelled set()\n",
      "mispelled set()\n"
     ]
    },
    {
     "name": "stderr",
     "output_type": "stream",
     "text": [
      "\r",
      " 18%|█▊        | 278/1505 [00:11<00:42, 28.70it/s]"
     ]
    },
    {
     "name": "stdout",
     "output_type": "stream",
     "text": [
      "mispelled {'swahili'}\n",
      "mispelled set()\n",
      "mispelled set()\n",
      "mispelled set()\n",
      "mispelled {'microsoft', 'jp'}\n",
      "mispelled {'dehumidifiers'}\n"
     ]
    },
    {
     "name": "stderr",
     "output_type": "stream",
     "text": [
      "\r",
      " 19%|█▊        | 282/1505 [00:12<01:14, 16.37it/s]"
     ]
    },
    {
     "name": "stdout",
     "output_type": "stream",
     "text": [
      "mispelled {'swahili'}\n",
      "mispelled {'swahili'}\n"
     ]
    },
    {
     "name": "stderr",
     "output_type": "stream",
     "text": [
      "\r",
      " 19%|█▉        | 285/1505 [00:12<01:16, 15.89it/s]"
     ]
    },
    {
     "name": "stdout",
     "output_type": "stream",
     "text": [
      "mispelled set()\n",
      "mispelled set()\n"
     ]
    },
    {
     "name": "stderr",
     "output_type": "stream",
     "text": [
      "\r",
      " 19%|█▉        | 288/1505 [00:13<01:36, 12.64it/s]"
     ]
    },
    {
     "name": "stdout",
     "output_type": "stream",
     "text": [
      "mispelled {'jpmorgan'}\n",
      "mispelled {'kursk'}\n",
      "mispelled set()\n",
      "mispelled set()\n"
     ]
    },
    {
     "name": "stderr",
     "output_type": "stream",
     "text": [
      " 20%|█▉        | 294/1505 [00:13<01:44, 11.62it/s]"
     ]
    },
    {
     "name": "stdout",
     "output_type": "stream",
     "text": [
      "mispelled {'kursk'}\n",
      "mispelled set()\n",
      "mispelled set()\n",
      "mispelled {'kursk'}\n"
     ]
    },
    {
     "name": "stderr",
     "output_type": "stream",
     "text": [
      "\r",
      " 20%|█▉        | 296/1505 [00:14<01:47, 11.26it/s]"
     ]
    },
    {
     "name": "stdout",
     "output_type": "stream",
     "text": [
      "mispelled {'', 'swahili'}\n",
      "mispelled set()\n",
      "mispelled set()\n",
      "mispelled set()\n",
      "mispelled set()\n",
      "mispelled set()\n",
      "mispelled set()\n",
      "mispelled {''}\n",
      "mispelled set()\n",
      "mispelled set()\n",
      "mispelled set()\n"
     ]
    },
    {
     "name": "stderr",
     "output_type": "stream",
     "text": [
      "\r",
      " 20%|██        | 306/1505 [00:14<00:57, 20.87it/s]"
     ]
    },
    {
     "name": "stdout",
     "output_type": "stream",
     "text": [
      "mispelled {'swahili'}\n",
      "mispelled set()\n",
      "mispelled set()\n",
      "mispelled set()\n",
      "mispelled set()\n"
     ]
    },
    {
     "name": "stderr",
     "output_type": "stream",
     "text": [
      " 22%|██▏       | 325/1505 [00:15<00:41, 28.45it/s]"
     ]
    },
    {
     "name": "stdout",
     "output_type": "stream",
     "text": [
      "mispelled set()\n",
      "mispelled set()\n",
      "mispelled {'pocono'}\n",
      "mispelled set()\n",
      "mispelled set()\n",
      "mispelled set()\n",
      "mispelled set()\n",
      "mispelled set()\n",
      "mispelled {'pocono'}\n",
      "mispelled set()\n",
      "mispelled {'', 'suny'}\n",
      "mispelled set()\n",
      "mispelled set()\n",
      "mispelled set()\n",
      "mispelled set()\n",
      "mispelled set()\n",
      "mispelled set()\n",
      "mispelled set()\n"
     ]
    },
    {
     "name": "stderr",
     "output_type": "stream",
     "text": [
      "\r",
      " 22%|██▏       | 330/1505 [00:15<00:44, 26.19it/s]"
     ]
    },
    {
     "name": "stdout",
     "output_type": "stream",
     "text": [
      "mispelled {'swahili'}\n",
      "mispelled {'', 'kursk'}\n"
     ]
    },
    {
     "name": "stderr",
     "output_type": "stream",
     "text": [
      " 23%|██▎       | 340/1505 [00:15<00:42, 27.52it/s]"
     ]
    },
    {
     "name": "stdout",
     "output_type": "stream",
     "text": [
      "mispelled {'kursk'}\n",
      "mispelled set()\n",
      "mispelled set()\n",
      "mispelled {'merck'}\n",
      "mispelled set()\n",
      "mispelled set()\n",
      "mispelled set()\n",
      "mispelled set()\n",
      "mispelled set()\n",
      "mispelled set()\n",
      "mispelled set()\n",
      "mispelled {'suny'}\n"
     ]
    },
    {
     "name": "stderr",
     "output_type": "stream",
     "text": [
      "\r",
      " 23%|██▎       | 344/1505 [00:15<00:53, 21.89it/s]"
     ]
    },
    {
     "name": "stdout",
     "output_type": "stream",
     "text": [
      "mispelled {'microsoft', 'jp'}\n",
      "mispelled set()\n",
      "mispelled set()\n"
     ]
    },
    {
     "name": "stderr",
     "output_type": "stream",
     "text": [
      "\r",
      " 23%|██▎       | 348/1505 [00:16<01:13, 15.65it/s]"
     ]
    },
    {
     "name": "stdout",
     "output_type": "stream",
     "text": [
      "mispelled set()\n",
      "mispelled set()\n",
      "mispelled {'suny'}\n",
      "mispelled set()\n",
      "mispelled set()\n",
      "mispelled set()\n",
      "mispelled set()\n"
     ]
    },
    {
     "name": "stderr",
     "output_type": "stream",
     "text": [
      "\r",
      " 24%|██▎       | 355/1505 [00:16<01:21, 14.19it/s]"
     ]
    },
    {
     "name": "stdout",
     "output_type": "stream",
     "text": [
      "mispelled set()\n",
      "mispelled set()\n",
      "mispelled set()\n"
     ]
    },
    {
     "name": "stderr",
     "output_type": "stream",
     "text": [
      "\r",
      " 24%|██▍       | 359/1505 [00:17<01:21, 14.02it/s]"
     ]
    },
    {
     "name": "stdout",
     "output_type": "stream",
     "text": [
      "mispelled set()\n",
      "mispelled set()\n",
      "mispelled set()\n",
      "mispelled set()\n",
      "mispelled set()\n"
     ]
    },
    {
     "name": "stderr",
     "output_type": "stream",
     "text": [
      " 25%|██▍       | 376/1505 [00:18<01:11, 15.83it/s]"
     ]
    },
    {
     "name": "stdout",
     "output_type": "stream",
     "text": [
      "mispelled set()\n",
      "mispelled set()\n",
      "mispelled set()\n",
      "mispelled set()\n",
      "mispelled set()\n",
      "mispelled set()\n",
      "mispelled set()\n",
      "mispelled set()\n",
      "mispelled set()\n",
      "mispelled {'pocono'}\n",
      "mispelled set()\n",
      "mispelled set()\n",
      "mispelled {'suny'}\n",
      "mispelled set()\n"
     ]
    },
    {
     "name": "stderr",
     "output_type": "stream",
     "text": [
      "\r",
      " 25%|██▌       | 380/1505 [00:19<01:42, 11.02it/s]"
     ]
    },
    {
     "name": "stdout",
     "output_type": "stream",
     "text": [
      "mispelled set()\n",
      "mispelled set()\n",
      "mispelled set()\n",
      "mispelled set()\n",
      "mispelled set()\n"
     ]
    },
    {
     "name": "stderr",
     "output_type": "stream",
     "text": [
      " 27%|██▋       | 401/1505 [00:20<00:51, 21.50it/s]"
     ]
    },
    {
     "name": "stdout",
     "output_type": "stream",
     "text": [
      "mispelled {'geographicals'}\n",
      "mispelled set()\n",
      "mispelled set()\n",
      "mispelled set()\n",
      "mispelled {'dehumidifiers'}\n",
      "mispelled set()\n",
      "mispelled set()\n",
      "mispelled set()\n",
      "mispelled {'merck'}\n",
      "mispelled set()\n",
      "mispelled set()\n",
      "mispelled {'dutta'}\n",
      "mispelled set()\n",
      "mispelled set()\n"
     ]
    },
    {
     "name": "stderr",
     "output_type": "stream",
     "text": [
      "\r",
      " 27%|██▋       | 406/1505 [00:20<00:46, 23.43it/s]"
     ]
    },
    {
     "name": "stdout",
     "output_type": "stream",
     "text": [
      "mispelled set()\n",
      "mispelled set()\n",
      "mispelled {'kursk'}\n",
      "mispelled set()\n",
      "mispelled set()\n",
      "mispelled set()\n"
     ]
    },
    {
     "name": "stderr",
     "output_type": "stream",
     "text": [
      " 28%|██▊       | 420/1505 [00:20<00:31, 33.97it/s]"
     ]
    },
    {
     "name": "stdout",
     "output_type": "stream",
     "text": [
      "mispelled {'skytop'}\n",
      "mispelled set()\n",
      "mispelled set()\n",
      "mispelled {''}\n",
      "mispelled set()\n",
      "mispelled set()\n",
      "mispelled set()\n",
      "mispelled set()\n",
      "mispelled {'phd'}\n",
      "mispelled {'pocono'}\n",
      "mispelled set()\n",
      "mispelled set()\n",
      "mispelled {'jp'}\n",
      "mispelled set()\n",
      "mispelled {'merck'}\n",
      "mispelled set()\n",
      "mispelled set()\n",
      "mispelled set()\n",
      "mispelled {'voip'}\n",
      "mispelled set()\n"
     ]
    },
    {
     "name": "stderr",
     "output_type": "stream",
     "text": [
      "\r",
      " 28%|██▊       | 428/1505 [00:20<00:31, 34.05it/s]"
     ]
    },
    {
     "name": "stdout",
     "output_type": "stream",
     "text": [
      "mispelled {'kenyan', 'swahili'}\n",
      "mispelled set()\n",
      "mispelled {'turnbines'}\n",
      "mispelled {'swahili'}\n",
      "mispelled set()\n"
     ]
    },
    {
     "name": "stderr",
     "output_type": "stream",
     "text": [
      " 29%|██▉       | 441/1505 [00:21<00:46, 22.87it/s]"
     ]
    },
    {
     "name": "stdout",
     "output_type": "stream",
     "text": [
      "mispelled set()\n",
      "mispelled set()\n",
      "mispelled set()\n",
      "mispelled set()\n",
      "mispelled {'dutta'}\n",
      "mispelled set()\n",
      "mispelled {'ncaa'}\n",
      "mispelled {'kursk'}\n",
      "mispelled {'pocono'}\n"
     ]
    },
    {
     "name": "stderr",
     "output_type": "stream",
     "text": [
      "\r",
      " 30%|██▉       | 448/1505 [00:21<00:37, 28.18it/s]"
     ]
    },
    {
     "name": "stdout",
     "output_type": "stream",
     "text": [
      "mispelled set()\n",
      "mispelled set()\n",
      "mispelled set()\n",
      "mispelled set()\n",
      "mispelled {'benefti', 'phd'}\n",
      "mispelled set()\n",
      "mispelled set()\n",
      "mispelled set()\n",
      "mispelled set()\n",
      "mispelled set()\n",
      "mispelled"
     ]
    },
    {
     "name": "stderr",
     "output_type": "stream",
     "text": [
      "\r",
      " 30%|███       | 453/1505 [00:21<00:34, 30.07it/s]"
     ]
    },
    {
     "name": "stdout",
     "output_type": "stream",
     "text": [
      " {'kursk', 'toepedo'}\n",
      "mispelled {'suny'}\n",
      "mispelled set()\n",
      "mispelled set()\n",
      "mispelled set()\n",
      "mispelled {''}\n",
      "mispelled {'vs'}\n",
      "mispelled set()\n",
      "mispelled set()\n",
      "mispelled {''}\n",
      "mispelled {'pocono'}\n"
     ]
    },
    {
     "name": "stderr",
     "output_type": "stream",
     "text": [
      "\r",
      " 31%|███       | 464/1505 [00:22<00:46, 22.30it/s]"
     ]
    },
    {
     "name": "stdout",
     "output_type": "stream",
     "text": [
      "mispelled {'kenyan'}\n",
      "mispelled {''}\n",
      "mispelled set()\n",
      "mispelled set()\n",
      "mispelled set()\n",
      "mispelled {'cuo'}\n",
      "mispelled set()\n",
      "mispelled {'pocono'}\n",
      "mispelled set()\n",
      "mispelled set()\n",
      "mispelled set()\n",
      "mispelled set()\n"
     ]
    },
    {
     "name": "stderr",
     "output_type": "stream",
     "text": [
      "\r",
      " 32%|███▏      | 477/1505 [00:22<00:36, 27.80it/s]"
     ]
    },
    {
     "name": "stdout",
     "output_type": "stream",
     "text": [
      "mispelled set()\n",
      "mispelled {'dc'}\n"
     ]
    },
    {
     "name": "stderr",
     "output_type": "stream",
     "text": [
      " 32%|███▏      | 488/1505 [00:23<00:35, 28.87it/s]"
     ]
    },
    {
     "name": "stdout",
     "output_type": "stream",
     "text": [
      "mispelled set()\n",
      "mispelled set()\n",
      "mispelled set()\n",
      "mispelled set()\n",
      "mispelled set()\n",
      "mispelled set()\n",
      "mispelled set()\n",
      "mispelled set()\n",
      "mispelled {'swahili'}\n",
      "mispelled set()\n"
     ]
    },
    {
     "name": "stderr",
     "output_type": "stream",
     "text": [
      "\r",
      " 33%|███▎      | 492/1505 [00:23<00:57, 17.48it/s]"
     ]
    },
    {
     "name": "stdout",
     "output_type": "stream",
     "text": [
      "mispelled {'kursk', 'casualitys'}\n",
      "mispelled set()\n"
     ]
    },
    {
     "name": "stderr",
     "output_type": "stream",
     "text": [
      "\r",
      " 33%|███▎      | 495/1505 [00:24<01:12, 13.98it/s]"
     ]
    },
    {
     "name": "stdout",
     "output_type": "stream",
     "text": [
      "mispelled set()\n",
      "mispelled {'ingeredients'}\n"
     ]
    },
    {
     "name": "stderr",
     "output_type": "stream",
     "text": [
      " 33%|███▎      | 503/1505 [00:24<00:55, 18.07it/s]"
     ]
    },
    {
     "name": "stdout",
     "output_type": "stream",
     "text": [
      "mispelled set()\n",
      "mispelled {'merck'}\n",
      "mispelled set()\n",
      "mispelled set()\n",
      "mispelled set()\n",
      "mispelled set()\n",
      "mispelled {'vs'}\n",
      "mispelled set()\n",
      "mispelled set()\n",
      "mispelled set()\n"
     ]
    },
    {
     "name": "stderr",
     "output_type": "stream",
     "text": [
      " 34%|███▍      | 517/1505 [00:25<00:37, 26.27it/s]"
     ]
    },
    {
     "name": "stdout",
     "output_type": "stream",
     "text": [
      "mispelled set()\n",
      "mispelled set()\n",
      "mispelled set()\n",
      "mispelled set()\n",
      "mispelled set()\n",
      "mispelled set()\n",
      "mispelled set()\n",
      "mispelled set()\n",
      "mispelled set()\n",
      "mispelled set()\n",
      "mispelled set()\n"
     ]
    },
    {
     "name": "stderr",
     "output_type": "stream",
     "text": [
      "\r",
      " 35%|███▍      | 521/1505 [00:25<00:55, 17.62it/s]"
     ]
    },
    {
     "name": "stdout",
     "output_type": "stream",
     "text": [
      "mispelled set()\n",
      "mispelled {'pocono'}\n",
      "mispelled {''}\n",
      "mispelled set()\n"
     ]
    },
    {
     "name": "stderr",
     "output_type": "stream",
     "text": [
      "\r",
      " 35%|███▍      | 524/1505 [00:25<01:08, 14.29it/s]"
     ]
    },
    {
     "name": "stdout",
     "output_type": "stream",
     "text": [
      "mispelled set()\n",
      "mispelled set()\n",
      "mispelled {'merck'}\n",
      "mispelled {'pocono'}\n",
      "mispelled set()\n"
     ]
    },
    {
     "name": "stderr",
     "output_type": "stream",
     "text": [
      " 36%|███▌      | 539/1505 [00:26<00:40, 24.03it/s]"
     ]
    },
    {
     "name": "stdout",
     "output_type": "stream",
     "text": [
      "mispelled {'jp'}\n",
      "mispelled set()\n",
      "mispelled set()\n",
      "mispelled set()\n",
      "mispelled set()\n",
      "mispelled set()\n",
      "mispelled set()\n",
      "mispelled {'pocono'}\n",
      "mispelled set()\n",
      "mispelled set()\n",
      "mispelled set()\n",
      "mispelled {'exsists'}\n",
      "mispelled set()\n",
      "mispelled set()\n"
     ]
    },
    {
     "name": "stderr",
     "output_type": "stream",
     "text": [
      "\r",
      " 36%|███▌      | 545/1505 [00:26<00:41, 22.89it/s]"
     ]
    },
    {
     "name": "stdout",
     "output_type": "stream",
     "text": [
      "mispelled set()\n",
      "mispelled set()\n",
      "mispelled {'phd'}\n",
      "mispelled set()\n"
     ]
    },
    {
     "name": "stderr",
     "output_type": "stream",
     "text": [
      "\r",
      " 37%|███▋      | 550/1505 [00:26<00:44, 21.55it/s]"
     ]
    },
    {
     "name": "stdout",
     "output_type": "stream",
     "text": [
      "mispelled set()\n",
      "mispelled set()\n",
      "mispelled set()\n",
      "mispelled set()\n"
     ]
    },
    {
     "name": "stderr",
     "output_type": "stream",
     "text": [
      "\r",
      " 37%|███▋      | 555/1505 [00:27<00:45, 21.00it/s]"
     ]
    },
    {
     "name": "stdout",
     "output_type": "stream",
     "text": [
      "mispelled {'pocono'}\n",
      "mispelled set()\n"
     ]
    },
    {
     "name": "stderr",
     "output_type": "stream",
     "text": [
      "\r",
      " 37%|███▋      | 558/1505 [00:27<00:59, 15.99it/s]"
     ]
    },
    {
     "name": "stdout",
     "output_type": "stream",
     "text": [
      "mispelled {'diease'}\n"
     ]
    },
    {
     "name": "stderr",
     "output_type": "stream",
     "text": [
      "\r",
      " 37%|███▋      | 561/1505 [00:27<01:03, 14.77it/s]"
     ]
    },
    {
     "name": "stdout",
     "output_type": "stream",
     "text": [
      "mispelled set()\n",
      "mispelled {'pocono'}\n",
      "mispelled {'suny'}\n"
     ]
    },
    {
     "name": "stderr",
     "output_type": "stream",
     "text": [
      "\r",
      " 37%|███▋      | 564/1505 [00:28<01:19, 11.90it/s]"
     ]
    },
    {
     "name": "stdout",
     "output_type": "stream",
     "text": [
      "mispelled {'boolywood'}\n"
     ]
    },
    {
     "name": "stderr",
     "output_type": "stream",
     "text": [
      "\r",
      " 38%|███▊      | 566/1505 [00:28<01:47,  8.74it/s]"
     ]
    },
    {
     "name": "stdout",
     "output_type": "stream",
     "text": [
      "mispelled {'suny'}\n",
      "mispelled {'r'}\n",
      "mispelled set()\n"
     ]
    },
    {
     "name": "stderr",
     "output_type": "stream",
     "text": [
      " 38%|███▊      | 578/1505 [00:29<00:56, 16.55it/s]"
     ]
    },
    {
     "name": "stdout",
     "output_type": "stream",
     "text": [
      "mispelled {'telefonas'}\n",
      "mispelled {'governent'}\n",
      "mispelled set()\n",
      "mispelled set()\n",
      "mispelled set()\n",
      "mispelled set()\n",
      "mispelled {'vs'}\n",
      "mispelled set()\n",
      "mispelled set()\n",
      "mispelled {'merck'}\n",
      "mispelled set()\n"
     ]
    },
    {
     "name": "stderr",
     "output_type": "stream",
     "text": [
      " 39%|███▉      | 589/1505 [00:29<00:37, 24.68it/s]"
     ]
    },
    {
     "name": "stdout",
     "output_type": "stream",
     "text": [
      "mispelled {'swahili'}\n",
      "mispelled set()\n",
      "mispelled set()\n",
      "mispelled set()\n",
      "mispelled set()\n",
      "mispelled set()\n",
      "mispelled set()\n",
      "mispelled set()\n",
      "mispelled set()\n",
      "mispelled set()\n",
      "mispelled set()\n",
      "mispelled set()\n",
      "mispelled set()\n",
      "mispelled {'merck'}\n",
      "mispelled set()\n",
      "mispelled set()\n",
      "mispelled set()\n",
      "mispelled set()\n",
      "mispelled set()\n",
      "mispelled {'pocono'}\n"
     ]
    },
    {
     "name": "stderr",
     "output_type": "stream",
     "text": [
      "\r",
      " 40%|███▉      | 601/1505 [00:30<00:46, 19.48it/s]"
     ]
    },
    {
     "name": "stdout",
     "output_type": "stream",
     "text": [
      "mispelled {'jp'}\n",
      "mispelled set()\n",
      "mispelled set()\n",
      "mispelled {'suny'}\n",
      "mispelled {'placess', 'toursim'}\n"
     ]
    },
    {
     "name": "stderr",
     "output_type": "stream",
     "text": [
      " 41%|████      | 611/1505 [00:31<00:52, 16.92it/s]"
     ]
    },
    {
     "name": "stdout",
     "output_type": "stream",
     "text": [
      "mispelled set()\n",
      "mispelled {'kursk'}\n",
      "mispelled set()\n",
      "mispelled set()\n",
      "mispelled set()\n",
      "mispelled {'byrant'}\n",
      "mispelled set()\n",
      "mispelled set()\n",
      "mispelled set()\n",
      "mispelled {''}\n"
     ]
    },
    {
     "name": "stderr",
     "output_type": "stream",
     "text": [
      "\r",
      " 41%|████      | 619/1505 [00:31<00:46, 19.19it/s]"
     ]
    },
    {
     "name": "stdout",
     "output_type": "stream",
     "text": [
      "mispelled {'assement'}\n",
      "mispelled set()\n",
      "mispelled {'voip'}\n",
      "mispelled set()\n",
      "mispelled set()\n",
      "mispelled set()\n",
      "mispelled set()\n",
      "mispelled set()\n"
     ]
    },
    {
     "name": "stderr",
     "output_type": "stream",
     "text": [
      " 42%|████▏     | 631/1505 [00:31<00:38, 22.75it/s]"
     ]
    },
    {
     "name": "stdout",
     "output_type": "stream",
     "text": [
      "mispelled {'swahili'}\n",
      "mispelled {'phd'}\n",
      "mispelled set()\n",
      "mispelled set()\n",
      "mispelled {'kursk'}\n",
      "mispelled {'', 'jp'}\n",
      "mispelled {''}\n",
      "mispelled {'merck'}\n"
     ]
    },
    {
     "name": "stderr",
     "output_type": "stream",
     "text": [
      "\r",
      " 42%|████▏     | 639/1505 [00:31<00:32, 26.62it/s]"
     ]
    },
    {
     "name": "stdout",
     "output_type": "stream",
     "text": [
      "mispelled set()\n",
      "mispelled {'voip'}\n",
      "mispelled set()\n",
      "mispelled set()\n",
      "mispelled {'', 'kursk'}\n"
     ]
    },
    {
     "name": "stderr",
     "output_type": "stream",
     "text": [
      "\r",
      " 43%|████▎     | 643/1505 [00:32<00:43, 19.87it/s]"
     ]
    },
    {
     "name": "stdout",
     "output_type": "stream",
     "text": [
      "mispelled set()\n",
      "mispelled set()\n",
      "mispelled {'phd'}\n",
      "mispelled set()\n"
     ]
    },
    {
     "name": "stderr",
     "output_type": "stream",
     "text": [
      "\r",
      " 43%|████▎     | 646/1505 [00:32<00:58, 14.63it/s]"
     ]
    },
    {
     "name": "stdout",
     "output_type": "stream",
     "text": [
      "mispelled set()\n",
      "mispelled set()\n",
      "mispelled {'develpmental'}\n",
      "mispelled set()\n",
      "mispelled set()\n",
      "mispelled set()\n",
      "mispelled set()\n",
      "mispelled {'merck'}\n",
      "mispelled set()\n",
      "mispelled {'suny'}\n"
     ]
    },
    {
     "name": "stderr",
     "output_type": "stream",
     "text": [
      " 45%|████▍     | 671/1505 [00:33<00:34, 24.02it/s]"
     ]
    },
    {
     "name": "stdout",
     "output_type": "stream",
     "text": [
      "mispelled set()\n",
      "mispelled set()\n",
      "mispelled set()\n",
      "mispelled {'suny'}\n",
      "mispelled set()\n",
      "mispelled set()\n",
      "mispelled set()\n",
      "mispelled set()\n",
      "mispelled set()\n",
      "mispelled set()\n",
      "mispelled set()\n",
      "mispelled {'arther'}\n",
      "mispelled {'jp'}\n",
      "mispelled {'ingridients'}\n",
      "mispelled {'merck'}\n",
      "mispelled set()\n"
     ]
    },
    {
     "name": "stderr",
     "output_type": "stream",
     "text": [
      " 46%|████▌     | 688/1505 [00:34<00:23, 35.21it/s]"
     ]
    },
    {
     "name": "stdout",
     "output_type": "stream",
     "text": [
      "mispelled {'swahili'}\n",
      "mispelled set()\n",
      "mispelled set()\n",
      "mispelled {'ct'}\n",
      "mispelled set()\n",
      "mispelled {'jp'}\n",
      "mispelled set()\n",
      "mispelled {'countrys'}\n",
      "mispelled set()\n",
      "mispelled set()\n",
      "mispelled set()\n",
      "mispelled {'merck'}\n",
      "mispelled set()\n",
      "mispelled {'voip'}\n",
      "mispelled set()\n",
      "mispelled {'voip'}\n",
      "mispelled set()\n",
      "mispelled set()\n",
      "mispelled set()\n",
      "mispelled set()\n",
      "mispelled set()\n"
     ]
    },
    {
     "name": "stderr",
     "output_type": "stream",
     "text": [
      "\r",
      " 46%|████▌     | 694/1505 [00:34<00:35, 23.13it/s]"
     ]
    },
    {
     "name": "stdout",
     "output_type": "stream",
     "text": [
      "mispelled {'vs'}\n",
      "mispelled {'swahili'}\n",
      "mispelled {'merck'}\n",
      "mispelled"
     ]
    },
    {
     "name": "stderr",
     "output_type": "stream",
     "text": [
      "\r",
      " 46%|████▋     | 699/1505 [00:34<00:35, 22.70it/s]"
     ]
    },
    {
     "name": "stdout",
     "output_type": "stream",
     "text": [
      " set()\n",
      "mispelled {'nyc'}\n",
      "mispelled {'phd'}\n",
      "mispelled set()\n"
     ]
    },
    {
     "name": "stderr",
     "output_type": "stream",
     "text": [
      "\r",
      " 47%|████▋     | 703/1505 [00:35<00:36, 22.02it/s]"
     ]
    },
    {
     "name": "stdout",
     "output_type": "stream",
     "text": [
      "mispelled set()\n"
     ]
    },
    {
     "name": "stderr",
     "output_type": "stream",
     "text": [
      "\r",
      " 47%|████▋     | 707/1505 [00:35<00:38, 20.48it/s]"
     ]
    },
    {
     "name": "stdout",
     "output_type": "stream",
     "text": [
      "mispelled set()\n",
      "mispelled set()\n",
      "mispelled set()\n",
      "mispelled set()\n",
      "mispelled set()\n",
      "mispelled set()\n",
      "mispelled set()\n"
     ]
    },
    {
     "name": "stderr",
     "output_type": "stream",
     "text": [
      " 48%|████▊     | 722/1505 [00:35<00:24, 31.86it/s]"
     ]
    },
    {
     "name": "stdout",
     "output_type": "stream",
     "text": [
      "mispelled {'hivaid'}\n",
      "mispelled {'dehumidifiers'}\n",
      "mispelled set()\n",
      "mispelled {'', 'exsists'}\n",
      "mispelled {'dehumidifiers'}\n",
      "mispelled set()\n",
      "mispelled set()\n",
      "mispelled {'dutta'}\n",
      "mispelled set()\n",
      "mispelled {'somking'}\n"
     ]
    },
    {
     "name": "stderr",
     "output_type": "stream",
     "text": [
      "\r",
      " 48%|████▊     | 727/1505 [00:35<00:27, 28.64it/s]"
     ]
    },
    {
     "name": "stdout",
     "output_type": "stream",
     "text": [
      "mispelled {'swahili'}\n",
      "mispelled set()\n",
      "mispelled set()\n",
      "mispelled {'hydoelectric'}\n",
      "mispelled set()\n",
      "mispelled {'swahili'}\n",
      "mispelled set()\n",
      "mispelled set()\n"
     ]
    },
    {
     "name": "stderr",
     "output_type": "stream",
     "text": [
      "\r",
      " 49%|████▊     | 731/1505 [00:36<00:43, 17.96it/s]"
     ]
    },
    {
     "name": "stdout",
     "output_type": "stream",
     "text": [
      "mispelled {'pocono'}\n"
     ]
    },
    {
     "name": "stderr",
     "output_type": "stream",
     "text": [
      " 49%|████▉     | 743/1505 [00:37<00:38, 19.63it/s]"
     ]
    },
    {
     "name": "stdout",
     "output_type": "stream",
     "text": [
      "mispelled set()\n",
      "mispelled set()\n",
      "mispelled set()\n",
      "mispelled {''}\n",
      "mispelled set()\n",
      "mispelled set()\n",
      "mispelled set()\n",
      "mispelled set()\n",
      "mispelled {'jp'}\n",
      "mispelled {'pocono'}\n",
      "mispelled set()\n",
      "mispelled set()\n",
      "mispelled {'dehumidifiers'}\n",
      "mispelled set()\n"
     ]
    },
    {
     "name": "stderr",
     "output_type": "stream",
     "text": [
      "\r",
      " 50%|████▉     | 749/1505 [00:37<00:31, 23.93it/s]"
     ]
    },
    {
     "name": "stdout",
     "output_type": "stream",
     "text": [
      "mispelled set()\n",
      "mispelled {'jp'}\n",
      "mispelled set()\n",
      "mispelled {'hobart'}\n",
      "mispelled set()\n",
      "mispelled set()\n",
      "mispelled"
     ]
    },
    {
     "name": "stderr",
     "output_type": "stream",
     "text": [
      "\r",
      " 50%|█████     | 754/1505 [00:37<00:29, 25.42it/s]"
     ]
    },
    {
     "name": "stdout",
     "output_type": "stream",
     "text": [
      " set()\n",
      "mispelled {'pocono'}\n",
      "mispelled {'pocono'}\n",
      "mispelled set()\n",
      "mispelled set()\n"
     ]
    },
    {
     "name": "stderr",
     "output_type": "stream",
     "text": [
      "\r",
      " 50%|█████     | 759/1505 [00:37<00:31, 24.03it/s]"
     ]
    },
    {
     "name": "stdout",
     "output_type": "stream",
     "text": [
      "mispelled {'swahili'}\n",
      "mispelled set()\n",
      "mispelled set()\n"
     ]
    },
    {
     "name": "stderr",
     "output_type": "stream",
     "text": [
      " 51%|█████     | 771/1505 [00:38<00:26, 27.98it/s]"
     ]
    },
    {
     "name": "stdout",
     "output_type": "stream",
     "text": [
      "mispelled set()\n",
      "mispelled {'suny'}\n",
      "mispelled {'phd'}\n",
      "mispelled set()\n",
      "mispelled {''}\n",
      "mispelled set()\n",
      "mispelled set()\n",
      "mispelled set()\n",
      "mispelled set()\n",
      "mispelled set()\n",
      "mispelled set()\n",
      "mispelled set()\n",
      "mispelled set()\n"
     ]
    },
    {
     "name": "stderr",
     "output_type": "stream",
     "text": [
      "\r",
      " 52%|█████▏    | 778/1505 [00:38<00:20, 34.77it/s]"
     ]
    },
    {
     "name": "stdout",
     "output_type": "stream",
     "text": [
      "mispelled set()\n",
      "mispelled set()\n",
      "mispelled set()\n",
      "mispelled set()\n",
      "mispelled set()\n"
     ]
    },
    {
     "name": "stderr",
     "output_type": "stream",
     "text": [
      " 52%|█████▏    | 788/1505 [00:38<00:26, 26.87it/s]"
     ]
    },
    {
     "name": "stdout",
     "output_type": "stream",
     "text": [
      "mispelled set()\n",
      "mispelled set()\n",
      "mispelled set()\n",
      "mispelled set()\n",
      "mispelled set()\n",
      "mispelled set()\n",
      "mispelled {'kursk'}\n",
      "mispelled set()\n"
     ]
    },
    {
     "name": "stderr",
     "output_type": "stream",
     "text": [
      "\r",
      " 53%|█████▎    | 792/1505 [00:39<00:41, 17.25it/s]"
     ]
    },
    {
     "name": "stdout",
     "output_type": "stream",
     "text": [
      "mispelled set()\n",
      "mispelled set()\n"
     ]
    },
    {
     "name": "stderr",
     "output_type": "stream",
     "text": [
      " 53%|█████▎    | 797/1505 [00:40<01:13,  9.58it/s]"
     ]
    },
    {
     "name": "stdout",
     "output_type": "stream",
     "text": [
      "mispelled set()\n",
      "mispelled set()\n",
      "mispelled {'kursk'}\n",
      "mispelled set()\n",
      "mispelled set()\n",
      "mispelled set()\n",
      "mispelled set()\n",
      "mispelled"
     ]
    },
    {
     "name": "stderr",
     "output_type": "stream",
     "text": [
      "\r",
      " 53%|█████▎    | 803/1505 [00:40<00:48, 14.44it/s]"
     ]
    },
    {
     "name": "stdout",
     "output_type": "stream",
     "text": [
      " {'voip'}\n",
      "mispelled {'jp'}\n",
      "mispelled {'arther'}\n"
     ]
    },
    {
     "name": "stderr",
     "output_type": "stream",
     "text": [
      "\r",
      " 54%|█████▎    | 806/1505 [00:40<00:49, 14.22it/s]"
     ]
    },
    {
     "name": "stdout",
     "output_type": "stream",
     "text": [
      "mispelled {'minotiy'}\n",
      "mispelled set()\n",
      "mispelled set()\n",
      "mispelled {'traiditional', 'swahili'}\n",
      "mispelled set()\n"
     ]
    },
    {
     "name": "stderr",
     "output_type": "stream",
     "text": [
      " 54%|█████▍    | 812/1505 [00:41<00:48, 14.20it/s]"
     ]
    },
    {
     "name": "stdout",
     "output_type": "stream",
     "text": [
      "mispelled {'kursk'}\n",
      "mispelled {'kursk'}\n",
      "mispelled set()\n",
      "mispelled set()\n",
      "mispelled {'merck'}\n",
      "mispelled set()\n",
      "mispelled set()\n"
     ]
    },
    {
     "name": "stderr",
     "output_type": "stream",
     "text": [
      "\r",
      " 54%|█████▍    | 816/1505 [00:41<00:40, 16.99it/s]"
     ]
    },
    {
     "name": "stdout",
     "output_type": "stream",
     "text": [
      "mispelled {'kursk'}\n",
      "mispelled set()\n",
      "mispelled set()\n",
      "mispelled set()\n",
      "mispelled set()\n",
      "mispelled set()\n",
      "mispelled {'pocono'}\n",
      "mispelled set()\n",
      "mispelled {'dutta'}\n",
      "mispelled set()\n",
      "mispelled set()\n"
     ]
    },
    {
     "name": "stderr",
     "output_type": "stream",
     "text": [
      "\r",
      " 55%|█████▍    | 827/1505 [00:41<00:29, 22.66it/s]"
     ]
    },
    {
     "name": "stdout",
     "output_type": "stream",
     "text": [
      "mispelled set()\n"
     ]
    },
    {
     "name": "stderr",
     "output_type": "stream",
     "text": [
      "\r",
      " 55%|█████▌    | 830/1505 [00:42<00:51, 13.12it/s]"
     ]
    },
    {
     "name": "stdout",
     "output_type": "stream",
     "text": [
      "mispelled {'phd'}\n"
     ]
    },
    {
     "name": "stderr",
     "output_type": "stream",
     "text": [
      " 56%|█████▌    | 836/1505 [00:42<00:56, 11.83it/s]"
     ]
    },
    {
     "name": "stdout",
     "output_type": "stream",
     "text": [
      "mispelled set()\n",
      "mispelled set()\n",
      "mispelled set()\n",
      "mispelled {'voip'}\n",
      "mispelled {'kursk'}\n"
     ]
    },
    {
     "name": "stderr",
     "output_type": "stream",
     "text": [
      " 56%|█████▌    | 841/1505 [00:43<01:05, 10.17it/s]"
     ]
    },
    {
     "name": "stdout",
     "output_type": "stream",
     "text": [
      "mispelled set()\n",
      "mispelled set()\n",
      "mispelled {'pocono'}\n",
      "mispelled {'kursk'}\n",
      "mispelled set()\n",
      "mispelled set()\n"
     ]
    },
    {
     "name": "stderr",
     "output_type": "stream",
     "text": [
      " 57%|█████▋    | 851/1505 [00:44<00:46, 14.07it/s]"
     ]
    },
    {
     "name": "stdout",
     "output_type": "stream",
     "text": [
      "mispelled set()\n",
      "mispelled {''}\n",
      "mispelled set()\n",
      "mispelled {'pocono'}\n",
      "mispelled {'phds'}\n",
      "mispelled set()\n",
      "mispelled {'kursk'}\n",
      "mispelled set()\n",
      "mispelled set()\n",
      "mispelled set()\n",
      "mispelled set()\n"
     ]
    },
    {
     "name": "stderr",
     "output_type": "stream",
     "text": [
      "\r",
      " 57%|█████▋    | 856/1505 [00:44<00:42, 15.17it/s]"
     ]
    },
    {
     "name": "stdout",
     "output_type": "stream",
     "text": [
      "mispelled {'pagents'}\n"
     ]
    },
    {
     "name": "stderr",
     "output_type": "stream",
     "text": [
      " 58%|█████▊    | 868/1505 [00:45<00:28, 21.98it/s]"
     ]
    },
    {
     "name": "stdout",
     "output_type": "stream",
     "text": [
      "mispelled set()\n",
      "mispelled {'pocono'}\n",
      "mispelled set()\n",
      "mispelled set()\n",
      "mispelled {'pocono'}\n",
      "mispelled {'vs'}\n",
      "mispelled set()\n",
      "mispelled set()\n",
      "mispelled {'suny'}\n",
      "mispelled set()\n",
      "mispelled set()\n",
      "mispelled set()\n",
      "mispelled set()\n",
      "mispelled set()\n"
     ]
    },
    {
     "name": "stderr",
     "output_type": "stream",
     "text": [
      " 59%|█████▊    | 881/1505 [00:45<00:21, 29.20it/s]"
     ]
    },
    {
     "name": "stdout",
     "output_type": "stream",
     "text": [
      "mispelled {'swahili'}\n",
      "mispelled set()\n",
      "mispelled set()\n",
      "mispelled set()\n",
      "mispelled {'merck'}\n",
      "mispelled set()\n",
      "mispelled set()\n",
      "mispelled set()\n",
      "mispelled set()\n"
     ]
    },
    {
     "name": "stderr",
     "output_type": "stream",
     "text": [
      "\r",
      " 59%|█████▉    | 886/1505 [00:45<00:29, 20.69it/s]"
     ]
    },
    {
     "name": "stdout",
     "output_type": "stream",
     "text": [
      "mispelled {'roadtrip'}\n",
      "mispelled set()\n",
      "mispelled set()\n",
      "mispelled set()\n",
      "mispelled {'merck'}\n",
      "mispelled set()\n"
     ]
    },
    {
     "name": "stderr",
     "output_type": "stream",
     "text": [
      "\r",
      " 59%|█████▉    | 890/1505 [00:45<00:27, 22.17it/s]"
     ]
    },
    {
     "name": "stdout",
     "output_type": "stream",
     "text": [
      "mispelled set()\n",
      "mispelled {'kursk'}\n",
      "mispelled {'pocono'}\n",
      "mispelled set()\n"
     ]
    },
    {
     "name": "stderr",
     "output_type": "stream",
     "text": [
      " 60%|██████    | 903/1505 [00:46<00:24, 24.37it/s]"
     ]
    },
    {
     "name": "stdout",
     "output_type": "stream",
     "text": [
      "mispelled set()\n",
      "mispelled set()\n",
      "mispelled set()\n",
      "mispelled set()\n",
      "mispelled {'', 'pagents'}\n",
      "mispelled set()\n",
      "mispelled set()\n",
      "mispelled set()\n",
      "mispelled set()\n",
      "mispelled set()\n",
      "mispelled {'jp'}\n"
     ]
    },
    {
     "name": "stderr",
     "output_type": "stream",
     "text": [
      "\r",
      " 60%|██████    | 908/1505 [00:47<00:38, 15.42it/s]"
     ]
    },
    {
     "name": "stdout",
     "output_type": "stream",
     "text": [
      "mispelled set()\n",
      "mispelled {'swahili'}\n"
     ]
    },
    {
     "name": "stderr",
     "output_type": "stream",
     "text": [
      "\r",
      " 61%|██████    | 915/1505 [00:47<00:29, 20.26it/s]"
     ]
    },
    {
     "name": "stdout",
     "output_type": "stream",
     "text": [
      "mispelled {'', 'jp'}\n",
      "mispelled set()\n",
      "mispelled set()\n",
      "mispelled {'merck'}\n",
      "mispelled set()\n",
      "mispelled {'phd'}\n",
      "mispelled set()\n",
      "mispelled set()\n",
      "mispelled set()\n",
      "mispelled set()\n",
      "mispelled set()\n",
      "mispelled set()\n",
      "mispelled set()\n",
      "mispelled {'jp'}\n"
     ]
    },
    {
     "name": "stderr",
     "output_type": "stream",
     "text": [
      "\r",
      " 61%|██████▏   | 923/1505 [00:47<00:29, 19.44it/s]"
     ]
    },
    {
     "name": "stdout",
     "output_type": "stream",
     "text": [
      "mispelled {'pocono'}\n",
      "mispelled {'businesss', 'phd'}\n",
      "mispelled set()\n",
      "mispelled set()\n",
      "mispelled set()\n"
     ]
    },
    {
     "name": "stderr",
     "output_type": "stream",
     "text": [
      "\r",
      " 62%|██████▏   | 929/1505 [00:48<00:29, 19.37it/s]"
     ]
    },
    {
     "name": "stdout",
     "output_type": "stream",
     "text": [
      "mispelled set()\n",
      "mispelled {'phd'}\n"
     ]
    },
    {
     "name": "stderr",
     "output_type": "stream",
     "text": [
      "\r",
      " 62%|██████▏   | 932/1505 [00:48<00:32, 17.85it/s]"
     ]
    },
    {
     "name": "stdout",
     "output_type": "stream",
     "text": [
      "mispelled {'swahili'}\n",
      "mispelled set()\n",
      "mispelled set()\n"
     ]
    },
    {
     "name": "stderr",
     "output_type": "stream",
     "text": [
      " 63%|██████▎   | 942/1505 [00:48<00:30, 18.74it/s]"
     ]
    },
    {
     "name": "stdout",
     "output_type": "stream",
     "text": [
      "mispelled {'kenyan'}\n",
      "mispelled set()\n",
      "mispelled set()\n",
      "mispelled set()\n",
      "mispelled set()\n",
      "mispelled set()\n",
      "mispelled {'autralia'}\n",
      "mispelled set()\n",
      "mispelled {'suny'}\n",
      "mispelled {'swahili'}\n"
     ]
    },
    {
     "name": "stderr",
     "output_type": "stream",
     "text": [
      "\r",
      " 63%|██████▎   | 946/1505 [00:49<00:47, 11.89it/s]"
     ]
    },
    {
     "name": "stdout",
     "output_type": "stream",
     "text": [
      "mispelled set()\n",
      "mispelled {'pocono'}\n",
      "mispelled {'coatings'}\n",
      "mispelled {'phd'}\n",
      "mispelled set()\n"
     ]
    },
    {
     "name": "stderr",
     "output_type": "stream",
     "text": [
      " 64%|██████▍   | 960/1505 [00:50<00:26, 20.79it/s]"
     ]
    },
    {
     "name": "stdout",
     "output_type": "stream",
     "text": [
      "mispelled {'swahili'}\n",
      "mispelled set()\n",
      "mispelled {'voip'}\n",
      "mispelled {'dutta'}\n",
      "mispelled set()\n",
      "mispelled set()\n",
      "mispelled set()\n",
      "mispelled set()\n",
      "mispelled {'phd'}\n"
     ]
    },
    {
     "name": "stderr",
     "output_type": "stream",
     "text": [
      " 64%|██████▍   | 969/1505 [00:50<00:25, 21.40it/s]"
     ]
    },
    {
     "name": "stdout",
     "output_type": "stream",
     "text": [
      "mispelled {'dutta'}\n",
      "mispelled set()\n",
      "mispelled set()\n",
      "mispelled {'pocono'}\n",
      "mispelled {'jp'}\n",
      "mispelled set()\n",
      "mispelled set()\n",
      "mispelled set()\n",
      "mispelled set()\n",
      "mispelled set()\n"
     ]
    },
    {
     "name": "stderr",
     "output_type": "stream",
     "text": [
      "\r",
      " 65%|██████▍   | 973/1505 [00:51<00:35, 14.88it/s]"
     ]
    },
    {
     "name": "stdout",
     "output_type": "stream",
     "text": [
      "mispelled set()\n"
     ]
    },
    {
     "name": "stderr",
     "output_type": "stream",
     "text": [
      "\r",
      " 65%|██████▍   | 976/1505 [00:51<00:37, 14.19it/s]"
     ]
    },
    {
     "name": "stdout",
     "output_type": "stream",
     "text": [
      "mispelled set()\n",
      "mispelled set()\n",
      "mispelled set()\n",
      "mispelled set()\n",
      "mispelled {''}\n",
      "mispelled {'exsist'}\n"
     ]
    },
    {
     "name": "stderr",
     "output_type": "stream",
     "text": [
      "\r",
      " 65%|██████▌   | 981/1505 [00:51<00:32, 16.33it/s]"
     ]
    },
    {
     "name": "stdout",
     "output_type": "stream",
     "text": [
      "mispelled {'kiursk'}\n"
     ]
    },
    {
     "name": "stderr",
     "output_type": "stream",
     "text": [
      "\r",
      " 65%|██████▌   | 984/1505 [00:52<01:07,  7.74it/s]"
     ]
    },
    {
     "name": "stdout",
     "output_type": "stream",
     "text": [
      "mispelled {'swahili'}\n"
     ]
    },
    {
     "name": "stderr",
     "output_type": "stream",
     "text": [
      " 66%|██████▌   | 996/1505 [00:53<00:39, 12.97it/s]"
     ]
    },
    {
     "name": "stdout",
     "output_type": "stream",
     "text": [
      "mispelled {'voip'}\n",
      "mispelled set()\n",
      "mispelled set()\n",
      "mispelled set()\n",
      "mispelled set()\n",
      "mispelled set()\n",
      "mispelled set()\n",
      "mispelled set()\n",
      "mispelled set()\n",
      "mispelled set()\n",
      "mispelled set()\n",
      "mispelled set()\n",
      "mispelled {'pocono'}\n",
      "mispelled {'kenyan'}\n",
      "mispelled set()\n",
      "mispelled set()\n",
      "mispelled {'pocono'}\n",
      "mispelled set()\n",
      "mispelled set()\n",
      "mispelled set()\n"
     ]
    },
    {
     "name": "stderr",
     "output_type": "stream",
     "text": [
      " 67%|██████▋   | 1013/1505 [00:53<00:18, 26.30it/s]"
     ]
    },
    {
     "name": "stdout",
     "output_type": "stream",
     "text": [
      "mispelled {''}\n",
      "mispelled set()\n",
      "mispelled {'merck'}\n",
      "mispelled set()\n",
      "mispelled {'vs'}\n",
      "mispelled set()\n",
      "mispelled {'merck'}\n",
      "mispelled set()\n",
      "mispelled set()\n",
      "mispelled {'purebreds'}\n",
      "mispelled set()\n",
      "mispelled set()\n",
      "mispelled set()\n",
      "mispelled set()\n",
      "mispelled set()\n"
     ]
    },
    {
     "name": "stderr",
     "output_type": "stream",
     "text": [
      " 68%|██████▊   | 1026/1505 [00:54<00:18, 26.08it/s]"
     ]
    },
    {
     "name": "stdout",
     "output_type": "stream",
     "text": [
      "mispelled {'filmfare'}\n",
      "mispelled {'faq'}\n",
      "mispelled {'kursk'}\n",
      "mispelled set()\n",
      "mispelled {'kwh'}\n",
      "mispelled {'effieiency'}\n",
      "mispelled"
     ]
    },
    {
     "name": "stderr",
     "output_type": "stream",
     "text": [
      "\r",
      " 69%|██████▊   | 1032/1505 [00:54<00:15, 30.95it/s]"
     ]
    },
    {
     "name": "stdout",
     "output_type": "stream",
     "text": [
      " set()\n",
      "mispelled set()\n",
      "mispelled set()\n",
      "mispelled set()\n",
      "mispelled set()\n",
      "mispelled set()\n",
      "mispelled set()\n",
      "mispelled set()\n",
      "mispelled {'jp'}\n"
     ]
    },
    {
     "name": "stderr",
     "output_type": "stream",
     "text": [
      "\r",
      " 69%|██████▉   | 1037/1505 [00:54<00:28, 16.15it/s]"
     ]
    },
    {
     "name": "stdout",
     "output_type": "stream",
     "text": [
      "mispelled set()\n"
     ]
    },
    {
     "name": "stderr",
     "output_type": "stream",
     "text": [
      " 69%|██████▉   | 1045/1505 [00:55<00:29, 15.73it/s]"
     ]
    },
    {
     "name": "stdout",
     "output_type": "stream",
     "text": [
      "mispelled {'voip'}\n",
      "mispelled set()\n",
      "mispelled set()\n",
      "mispelled {'vs'}\n",
      "mispelled set()\n",
      "mispelled {''}\n",
      "mispelled set()\n"
     ]
    },
    {
     "name": "stderr",
     "output_type": "stream",
     "text": [
      "\r",
      " 70%|██████▉   | 1048/1505 [00:55<00:26, 17.22it/s]"
     ]
    },
    {
     "name": "stdout",
     "output_type": "stream",
     "text": [
      "mispelled set()\n",
      "mispelled {'voip'}\n",
      "mispelled set()\n",
      "mispelled set()\n",
      "mispelled set()\n",
      "mispelled {'vs', 'voip'}\n",
      "mispelled set()\n",
      "mispelled {'voip'}\n",
      "mispelled set()\n"
     ]
    },
    {
     "name": "stderr",
     "output_type": "stream",
     "text": [
      "\r",
      " 70%|███████   | 1056/1505 [00:55<00:22, 20.11it/s]"
     ]
    },
    {
     "name": "stdout",
     "output_type": "stream",
     "text": [
      "mispelled {'roadtrip', 'v'}\n",
      "mispelled {'merck'}\n",
      "mispelled {'merck'}\n",
      "mispelled set()\n",
      "mispelled {''}\n",
      "mispelled {'jp'}\n",
      "mispelled set()\n",
      "mispelled set()\n",
      "mispelled set()\n"
     ]
    },
    {
     "name": "stderr",
     "output_type": "stream",
     "text": [
      " 71%|███████   | 1068/1505 [00:56<00:25, 17.24it/s]"
     ]
    },
    {
     "name": "stdout",
     "output_type": "stream",
     "text": [
      "mispelled set()\n",
      "mispelled {'swahili'}\n",
      "mispelled set()\n",
      "mispelled set()\n",
      "mispelled set()\n",
      "mispelled set()\n"
     ]
    },
    {
     "name": "stderr",
     "output_type": "stream",
     "text": [
      "\r",
      " 71%|███████▏  | 1074/1505 [00:56<00:22, 18.84it/s]"
     ]
    },
    {
     "name": "stdout",
     "output_type": "stream",
     "text": [
      "mispelled set()\n",
      "mispelled set()\n",
      "mispelled {'swahili'}\n",
      "mispelled set()\n",
      "mispelled set()\n",
      "mispelled"
     ]
    },
    {
     "name": "stderr",
     "output_type": "stream",
     "text": [
      "\r",
      " 72%|███████▏  | 1083/1505 [00:57<00:15, 26.85it/s]"
     ]
    },
    {
     "name": "stdout",
     "output_type": "stream",
     "text": [
      " set()\n",
      "mispelled set()\n",
      "mispelled set()\n",
      "mispelled set()\n",
      "mispelled set()\n",
      "mispelled set()\n",
      "mispelled set()\n",
      "mispelled {'vs'}\n",
      "mispelled {''}\n",
      "mispelled {'policys', 'dutta'}\n",
      "mispelled {'programes'}\n"
     ]
    },
    {
     "name": "stderr",
     "output_type": "stream",
     "text": [
      " 73%|███████▎  | 1097/1505 [00:57<00:10, 38.10it/s]"
     ]
    },
    {
     "name": "stdout",
     "output_type": "stream",
     "text": [
      "mispelled {'kursk'}\n",
      "mispelled set()\n",
      "mispelled set()\n",
      "mispelled set()\n",
      "mispelled set()\n",
      "mispelled set()\n",
      "mispelled {'attractios'}\n",
      "mispelled set()\n",
      "mispelled set()\n",
      "mispelled set()\n",
      "mispelled set()\n",
      "mispelled set()\n",
      "mispelled set()\n",
      "mispelled {'kenyan'}\n",
      "mispelled set()\n"
     ]
    },
    {
     "name": "stderr",
     "output_type": "stream",
     "text": [
      "\r",
      " 73%|███████▎  | 1103/1505 [00:57<00:15, 26.54it/s]"
     ]
    },
    {
     "name": "stdout",
     "output_type": "stream",
     "text": [
      "mispelled set()\n",
      "mispelled set()\n",
      "mispelled {'voip'}\n",
      "mispelled set()\n"
     ]
    },
    {
     "name": "stderr",
     "output_type": "stream",
     "text": [
      "\r",
      " 74%|███████▎  | 1108/1505 [00:58<00:20, 18.96it/s]"
     ]
    },
    {
     "name": "stdout",
     "output_type": "stream",
     "text": [
      "mispelled set()\n",
      "mispelled set()\n",
      "mispelled set()\n"
     ]
    },
    {
     "name": "stderr",
     "output_type": "stream",
     "text": [
      " 74%|███████▍  | 1115/1505 [00:58<00:25, 15.26it/s]"
     ]
    },
    {
     "name": "stdout",
     "output_type": "stream",
     "text": [
      "mispelled {'i75'}\n",
      "mispelled set()\n",
      "mispelled {'swahili'}\n",
      "mispelled set()\n",
      "mispelled set()\n",
      "mispelled {'phd'}\n",
      "mispelled set()\n"
     ]
    },
    {
     "name": "stderr",
     "output_type": "stream",
     "text": [
      "\r",
      " 74%|███████▍  | 1120/1505 [00:59<00:34, 11.25it/s]"
     ]
    },
    {
     "name": "stdout",
     "output_type": "stream",
     "text": [
      "mispelled set()\n"
     ]
    },
    {
     "name": "stderr",
     "output_type": "stream",
     "text": [
      "\r",
      " 75%|███████▍  | 1122/1505 [00:59<00:36, 10.52it/s]"
     ]
    },
    {
     "name": "stdout",
     "output_type": "stream",
     "text": [
      "mispelled set()\n"
     ]
    },
    {
     "name": "stderr",
     "output_type": "stream",
     "text": [
      " 75%|███████▌  | 1130/1505 [01:00<00:25, 14.81it/s]"
     ]
    },
    {
     "name": "stdout",
     "output_type": "stream",
     "text": [
      "mispelled {'phd'}\n",
      "mispelled {''}\n",
      "mispelled set()\n",
      "mispelled set()\n",
      "mispelled set()\n",
      "mispelled {'kursk', 'wordwide'}\n",
      "mispelled set()\n",
      "mispelled set()\n",
      "mispelled set()\n",
      "mispelled set()\n",
      "mispelled set()\n",
      "mispelled set()\n"
     ]
    },
    {
     "name": "stderr",
     "output_type": "stream",
     "text": [
      "\r",
      " 76%|███████▌  | 1138/1505 [01:00<00:18, 19.51it/s]"
     ]
    },
    {
     "name": "stdout",
     "output_type": "stream",
     "text": [
      "mispelled set()\n",
      "mispelled {'swahili'}\n",
      "mispelled {''}\n"
     ]
    },
    {
     "name": "stderr",
     "output_type": "stream",
     "text": [
      "\r",
      " 76%|███████▌  | 1141/1505 [01:00<00:19, 18.47it/s]"
     ]
    },
    {
     "name": "stdout",
     "output_type": "stream",
     "text": [
      "mispelled {'swahili'}\n",
      "mispelled set()\n"
     ]
    },
    {
     "name": "stderr",
     "output_type": "stream",
     "text": [
      "\r",
      " 76%|███████▌  | 1144/1505 [01:00<00:21, 16.69it/s]"
     ]
    },
    {
     "name": "stdout",
     "output_type": "stream",
     "text": [
      "mispelled {'dehumidifiers', 'condiser'}\n",
      "mispelled set()\n",
      "mispelled {'phd'}\n",
      "mispelled set()\n"
     ]
    },
    {
     "name": "stderr",
     "output_type": "stream",
     "text": [
      "\r",
      " 76%|███████▌  | 1146/1505 [01:01<00:26, 13.58it/s]"
     ]
    },
    {
     "name": "stdout",
     "output_type": "stream",
     "text": [
      "mispelled set()\n",
      "mispelled set()\n"
     ]
    },
    {
     "name": "stderr",
     "output_type": "stream",
     "text": [
      " 77%|███████▋  | 1154/1505 [01:01<00:21, 16.27it/s]"
     ]
    },
    {
     "name": "stdout",
     "output_type": "stream",
     "text": [
      "mispelled set()\n",
      "mispelled set()\n",
      "mispelled set()\n",
      "mispelled set()\n",
      "mispelled {'kursk'}\n",
      "mispelled set()\n",
      "mispelled {''}\n"
     ]
    },
    {
     "name": "stderr",
     "output_type": "stream",
     "text": [
      "\r",
      " 77%|███████▋  | 1157/1505 [01:02<00:38,  9.13it/s]"
     ]
    },
    {
     "name": "stdout",
     "output_type": "stream",
     "text": [
      "mispelled {'adisadvangtages'}\n",
      "mispelled set()\n",
      "mispelled set()\n",
      "mispelled set()\n",
      "mispelled {'connecticu'}\n"
     ]
    },
    {
     "name": "stderr",
     "output_type": "stream",
     "text": [
      " 78%|███████▊  | 1167/1505 [01:03<00:26, 12.67it/s]"
     ]
    },
    {
     "name": "stdout",
     "output_type": "stream",
     "text": [
      "mispelled set()\n",
      "mispelled {'phd'}\n",
      "mispelled set()\n",
      "mispelled set()\n"
     ]
    },
    {
     "name": "stderr",
     "output_type": "stream",
     "text": [
      "\r",
      " 78%|███████▊  | 1170/1505 [01:03<00:25, 13.12it/s]"
     ]
    },
    {
     "name": "stdout",
     "output_type": "stream",
     "text": [
      "mispelled {'swahili'}\n",
      "mispelled {'pocono'}\n",
      "mispelled set()\n"
     ]
    },
    {
     "name": "stderr",
     "output_type": "stream",
     "text": [
      "\r",
      " 78%|███████▊  | 1172/1505 [01:03<00:36,  9.24it/s]"
     ]
    },
    {
     "name": "stdout",
     "output_type": "stream",
     "text": [
      "mispelled {'merck'}\n",
      "mispelled set()\n",
      "mispelled set()\n",
      "mispelled set()\n",
      "mispelled {'countrys'}\n"
     ]
    },
    {
     "name": "stderr",
     "output_type": "stream",
     "text": [
      " 79%|███████▉  | 1186/1505 [01:04<00:15, 20.12it/s]"
     ]
    },
    {
     "name": "stdout",
     "output_type": "stream",
     "text": [
      "mispelled set()\n",
      "mispelled set()\n",
      "mispelled {'pocono'}\n",
      "mispelled set()\n",
      "mispelled set()\n",
      "mispelled {'vs'}\n",
      "mispelled set()\n",
      "mispelled set()\n",
      "mispelled set()\n",
      "mispelled set()\n",
      "mispelled set()\n",
      "mispelled set()\n",
      "mispelled set()\n",
      "mispelled set()\n",
      "mispelled set()\n",
      "mispelled set()\n"
     ]
    },
    {
     "name": "stderr",
     "output_type": "stream",
     "text": [
      "\r",
      " 79%|███████▉  | 1194/1505 [01:04<00:11, 27.55it/s]"
     ]
    },
    {
     "name": "stdout",
     "output_type": "stream",
     "text": [
      "mispelled {''}\n",
      "mispelled set()\n",
      "mispelled set()\n",
      "mispelled {'phd'}\n"
     ]
    },
    {
     "name": "stderr",
     "output_type": "stream",
     "text": [
      "\r",
      " 80%|███████▉  | 1199/1505 [01:04<00:12, 24.62it/s]"
     ]
    },
    {
     "name": "stdout",
     "output_type": "stream",
     "text": [
      "mispelled set()\n",
      "mispelled set()\n",
      "mispelled {'pocono'}\n",
      "mispelled {'kursk'}\n"
     ]
    },
    {
     "name": "stderr",
     "output_type": "stream",
     "text": [
      "\r",
      " 80%|███████▉  | 1203/1505 [01:04<00:13, 21.87it/s]"
     ]
    },
    {
     "name": "stdout",
     "output_type": "stream",
     "text": [
      "mispelled {'kursk'}\n",
      "mispelled set()\n",
      "mispelled {'nokia', 'n71'}\n"
     ]
    },
    {
     "name": "stderr",
     "output_type": "stream",
     "text": [
      "\r",
      " 80%|████████  | 1207/1505 [01:05<00:23, 12.83it/s]"
     ]
    },
    {
     "name": "stdout",
     "output_type": "stream",
     "text": [
      "mispelled set()\n",
      "mispelled set()\n",
      "mispelled set()\n",
      "mispelled set()\n",
      "mispelled set()\n",
      "mispelled {'i9'}\n"
     ]
    },
    {
     "name": "stderr",
     "output_type": "stream",
     "text": [
      " 81%|████████  | 1216/1505 [01:06<00:21, 13.39it/s]"
     ]
    },
    {
     "name": "stdout",
     "output_type": "stream",
     "text": [
      "mispelled set()\n",
      "mispelled {'onetpl'}\n",
      "mispelled set()\n",
      "mispelled set()\n",
      "mispelled {'largo'}\n",
      "mispelled set()\n",
      "mispelled set()\n"
     ]
    },
    {
     "name": "stderr",
     "output_type": "stream",
     "text": [
      " 81%|████████▏ | 1224/1505 [01:06<00:26, 10.66it/s]"
     ]
    },
    {
     "name": "stdout",
     "output_type": "stream",
     "text": [
      "mispelled set()\n"
     ]
    },
    {
     "name": "stderr",
     "output_type": "stream",
     "text": [
      " 82%|████████▏ | 1230/1505 [01:07<00:25, 10.72it/s]"
     ]
    },
    {
     "name": "stdout",
     "output_type": "stream",
     "text": [
      "mispelled set()\n",
      "mispelled {'inovations'}\n",
      "mispelled {'ppmd'}\n",
      "mispelled set()\n"
     ]
    },
    {
     "name": "stderr",
     "output_type": "stream",
     "text": [
      " 82%|████████▏ | 1241/1505 [01:07<00:13, 20.02it/s]"
     ]
    },
    {
     "name": "stdout",
     "output_type": "stream",
     "text": [
      "mispelled set()\n",
      "mispelled set()\n",
      "mispelled set()\n",
      "mispelled set()\n",
      "mispelled set()\n",
      "mispelled {'penney'}\n",
      "mispelled set()\n",
      "mispelled set()\n",
      "mispelled set()\n",
      "mispelled set()\n",
      "mispelled set()\n"
     ]
    },
    {
     "name": "stderr",
     "output_type": "stream",
     "text": [
      " 83%|████████▎ | 1254/1505 [01:09<00:16, 15.24it/s]"
     ]
    },
    {
     "name": "stdout",
     "output_type": "stream",
     "text": [
      "mispelled {'suncellular'}\n",
      "mispelled set()\n",
      "mispelled {'tmax'}\n",
      "mispelled {'tube9'}\n",
      "mispelled set()\n",
      "mispelled set()\n",
      "mispelled {'tanay'}\n",
      "mispelled set()\n",
      "mispelled set()\n",
      "mispelled {'testosteron'}\n",
      "mispelled set()\n",
      "mispelled set()\n",
      "mispelled set()\n",
      "mispelled set()\n",
      "mispelled set()\n",
      "mispelled set()\n",
      "mispelled set()\n",
      "mispelled set()\n"
     ]
    },
    {
     "name": "stderr",
     "output_type": "stream",
     "text": [
      " 84%|████████▍ | 1269/1505 [01:09<00:10, 22.48it/s]"
     ]
    },
    {
     "name": "stdout",
     "output_type": "stream",
     "text": [
      "mispelled {'tougaloo'}\n",
      "mispelled set()\n",
      "mispelled set()\n",
      "mispelled set()\n",
      "mispelled set()\n",
      "mispelled set()\n",
      "mispelled {'usfsa'}\n",
      "mispelled set()\n",
      "mispelled set()\n",
      "mispelled set()\n"
     ]
    },
    {
     "name": "stderr",
     "output_type": "stream",
     "text": [
      "\r",
      " 85%|████████▍ | 1274/1505 [01:09<00:11, 20.91it/s]"
     ]
    },
    {
     "name": "stdout",
     "output_type": "stream",
     "text": [
      "mispelled {'valois'}\n",
      "mispelled set()\n"
     ]
    },
    {
     "name": "stderr",
     "output_type": "stream",
     "text": [
      "\r",
      " 85%|████████▍ | 1278/1505 [01:11<00:28,  7.99it/s]"
     ]
    },
    {
     "name": "stdout",
     "output_type": "stream",
     "text": [
      "mispelled set()\n",
      "mispelled set()\n",
      "mispelled set()\n"
     ]
    },
    {
     "name": "stderr",
     "output_type": "stream",
     "text": [
      "\r",
      " 85%|████████▌ | 1282/1505 [01:11<00:26,  8.40it/s]"
     ]
    },
    {
     "name": "stdout",
     "output_type": "stream",
     "text": [
      "mispelled set()\n"
     ]
    },
    {
     "name": "stderr",
     "output_type": "stream",
     "text": [
      "\r",
      " 85%|████████▌ | 1285/1505 [01:12<00:33,  6.61it/s]"
     ]
    },
    {
     "name": "stdout",
     "output_type": "stream",
     "text": [
      "mispelled {'amarillo'}\n",
      "mispelled set()\n"
     ]
    },
    {
     "name": "stderr",
     "output_type": "stream",
     "text": [
      " 86%|████████▌ | 1293/1505 [01:13<00:24,  8.80it/s]"
     ]
    },
    {
     "name": "stdout",
     "output_type": "stream",
     "text": [
      "mispelled set()\n",
      "mispelled {'amaz0n'}\n",
      "mispelled set()\n",
      "mispelled set()\n",
      "mispelled {'amc'}\n",
      "mispelled {'amccom'}\n",
      "mispelled set()\n"
     ]
    },
    {
     "name": "stderr",
     "output_type": "stream",
     "text": [
      "\r",
      " 86%|████████▌ | 1295/1505 [01:13<00:24,  8.45it/s]"
     ]
    },
    {
     "name": "stdout",
     "output_type": "stream",
     "text": [
      "mispelled set()\n"
     ]
    },
    {
     "name": "stderr",
     "output_type": "stream",
     "text": [
      "\r",
      " 86%|████████▌ | 1297/1505 [01:14<00:28,  7.28it/s]"
     ]
    },
    {
     "name": "stdout",
     "output_type": "stream",
     "text": [
      "mispelled {'outfitters', 'egael'}\n"
     ]
    },
    {
     "name": "stderr",
     "output_type": "stream",
     "text": [
      " 87%|████████▋ | 1305/1505 [01:14<00:15, 13.06it/s]"
     ]
    },
    {
     "name": "stdout",
     "output_type": "stream",
     "text": [
      "mispelled set()\n",
      "mispelled set()\n",
      "mispelled set()\n",
      "mispelled set()\n",
      "mispelled set()\n",
      "mispelled set()\n",
      "mispelled {'gps'}\n",
      "mispelled set()\n",
      "mispelled"
     ]
    },
    {
     "name": "stderr",
     "output_type": "stream",
     "text": [
      " 87%|████████▋ | 1311/1505 [01:14<00:11, 17.01it/s]"
     ]
    },
    {
     "name": "stdout",
     "output_type": "stream",
     "text": [
      " set()\n",
      "mispelled {'rc'}\n",
      "mispelled {'90s', '80s'}\n",
      "mispelled set()\n",
      "mispelled set()\n",
      "mispelled {'danville'}\n"
     ]
    },
    {
     "name": "stderr",
     "output_type": "stream",
     "text": [
      "\r",
      " 87%|████████▋ | 1314/1505 [01:16<00:32,  5.85it/s]"
     ]
    },
    {
     "name": "stdout",
     "output_type": "stream",
     "text": [
      "mispelled {'mennonite'}\n"
     ]
    },
    {
     "name": "stderr",
     "output_type": "stream",
     "text": [
      " 88%|████████▊ | 1322/1505 [01:16<00:17, 10.46it/s]"
     ]
    },
    {
     "name": "stdout",
     "output_type": "stream",
     "text": [
      "mispelled {'betley'}\n",
      "mispelled set()\n",
      "mispelled set()\n",
      "mispelled {'bg'}\n",
      "mispelled {'bgz', 'pl'}\n",
      "mispelled {'biancas'}\n"
     ]
    },
    {
     "name": "stderr",
     "output_type": "stream",
     "text": [
      "\r",
      " 88%|████████▊ | 1325/1505 [01:16<00:16, 11.14it/s]"
     ]
    },
    {
     "name": "stdout",
     "output_type": "stream",
     "text": [
      "mispelled {'bibbero'}\n",
      "mispelled set()\n",
      "mispelled set()\n",
      "mispelled set()\n",
      "mispelled set()\n"
     ]
    },
    {
     "name": "stderr",
     "output_type": "stream",
     "text": [
      "\r",
      " 88%|████████▊ | 1329/1505 [01:17<00:17, 10.20it/s]"
     ]
    },
    {
     "name": "stdout",
     "output_type": "stream",
     "text": [
      "mispelled {'bietet', 'anderem'}\n"
     ]
    },
    {
     "name": "stderr",
     "output_type": "stream",
     "text": [
      "\r",
      " 88%|████████▊ | 1331/1505 [01:19<00:45,  3.85it/s]"
     ]
    },
    {
     "name": "stdout",
     "output_type": "stream",
     "text": [
      "mispelled {'lemoyne'}\n"
     ]
    },
    {
     "name": "stderr",
     "output_type": "stream",
     "text": [
      "\r",
      " 89%|████████▊ | 1333/1505 [01:19<00:47,  3.61it/s]"
     ]
    },
    {
     "name": "stdout",
     "output_type": "stream",
     "text": [
      "mispelled set()\n",
      "mispelled {'tshirts'}\n",
      "mispelled set()\n",
      "mispelled set()\n"
     ]
    },
    {
     "name": "stderr",
     "output_type": "stream",
     "text": [
      "\r",
      " 89%|████████▉ | 1338/1505 [01:20<00:33,  5.04it/s]"
     ]
    },
    {
     "name": "stdout",
     "output_type": "stream",
     "text": [
      "mispelled {'gta'}\n",
      "mispelled {'ps2'}\n",
      "mispelled set()\n"
     ]
    },
    {
     "name": "stderr",
     "output_type": "stream",
     "text": [
      "\r",
      " 89%|████████▉ | 1342/1505 [01:21<00:35,  4.54it/s]"
     ]
    },
    {
     "name": "stdout",
     "output_type": "stream",
     "text": [
      "mispelled {'csc'}\n",
      "mispelled {'ct'}\n",
      "mispelled set()\n",
      "mispelled set()\n"
     ]
    },
    {
     "name": "stderr",
     "output_type": "stream",
     "text": [
      "\r",
      " 90%|████████▉ | 1347/1505 [01:21<00:24,  6.34it/s]"
     ]
    },
    {
     "name": "stdout",
     "output_type": "stream",
     "text": [
      "mispelled {'cupoons'}\n"
     ]
    },
    {
     "name": "stderr",
     "output_type": "stream",
     "text": [
      "\r",
      " 90%|████████▉ | 1349/1505 [01:21<00:25,  6.13it/s]"
     ]
    },
    {
     "name": "stdout",
     "output_type": "stream",
     "text": [
      "mispelled set()\n",
      "mispelled set()\n",
      "mispelled set()\n",
      "mispelled set()\n",
      "mispelled set()\n",
      "mispelled set()\n"
     ]
    },
    {
     "name": "stderr",
     "output_type": "stream",
     "text": [
      " 90%|█████████ | 1357/1505 [01:22<00:19,  7.53it/s]"
     ]
    },
    {
     "name": "stdout",
     "output_type": "stream",
     "text": [
      "mispelled {'cvs'}\n"
     ]
    },
    {
     "name": "stderr",
     "output_type": "stream",
     "text": [
      " 90%|█████████ | 1359/1505 [01:23<00:22,  6.37it/s]"
     ]
    },
    {
     "name": "stdout",
     "output_type": "stream",
     "text": [
      "mispelled {'lummis'}\n",
      "mispelled {'fanatico'}\n"
     ]
    },
    {
     "name": "stderr",
     "output_type": "stream",
     "text": [
      " 91%|█████████ | 1369/1505 [01:23<00:08, 15.74it/s]"
     ]
    },
    {
     "name": "stdout",
     "output_type": "stream",
     "text": [
      "mispelled {'fansnap'}\n",
      "mispelled set()\n",
      "mispelled set()\n",
      "mispelled set()\n",
      "mispelled set()\n",
      "mispelled set()\n",
      "mispelled {'fco'}\n",
      "mispelled set()\n",
      "mispelled set()\n",
      "mispelled set()\n",
      "mispelled set()\n"
     ]
    },
    {
     "name": "stderr",
     "output_type": "stream",
     "text": [
      "\r",
      " 91%|█████████ | 1372/1505 [01:23<00:09, 14.53it/s]"
     ]
    },
    {
     "name": "stdout",
     "output_type": "stream",
     "text": [
      "mispelled {'fedricks', 'hollwood'}\n",
      "mispelled set()\n"
     ]
    },
    {
     "name": "stderr",
     "output_type": "stream",
     "text": [
      "\r",
      " 91%|█████████▏| 1375/1505 [01:24<00:08, 14.45it/s]"
     ]
    },
    {
     "name": "stdout",
     "output_type": "stream",
     "text": [
      "mispelled set()\n",
      "mispelled set()\n"
     ]
    },
    {
     "name": "stderr",
     "output_type": "stream",
     "text": [
      " 92%|█████████▏| 1384/1505 [01:24<00:06, 19.99it/s]"
     ]
    },
    {
     "name": "stdout",
     "output_type": "stream",
     "text": [
      "mispelled set()\n",
      "mispelled set()\n",
      "mispelled set()\n",
      "mispelled set()\n",
      "mispelled set()\n",
      "mispelled set()\n",
      "mispelled set()\n",
      "mispelled {'eten', 'gezond', 'recepten'}\n",
      "mispelled {'ghi', 'hmo'}\n"
     ]
    },
    {
     "name": "stderr",
     "output_type": "stream",
     "text": [
      " 92%|█████████▏| 1390/1505 [01:25<00:09, 11.56it/s]"
     ]
    },
    {
     "name": "stdout",
     "output_type": "stream",
     "text": [
      "mispelled {'warfighter'}\n",
      "mispelled {'ghs'}\n",
      "mispelled set()\n",
      "mispelled {'giausd'}\n",
      "mispelled set()\n",
      "mispelled set()\n",
      "mispelled set()\n"
     ]
    },
    {
     "name": "stderr",
     "output_type": "stream",
     "text": [
      "\r",
      " 93%|█████████▎| 1394/1505 [01:25<00:09, 11.20it/s]"
     ]
    },
    {
     "name": "stdout",
     "output_type": "stream",
     "text": [
      "mispelled {'bunkbeds'}\n",
      "mispelled {'hershy'}\n",
      "mispelled set()\n"
     ]
    },
    {
     "name": "stderr",
     "output_type": "stream",
     "text": [
      " 93%|█████████▎| 1399/1505 [01:27<00:21,  4.90it/s]"
     ]
    },
    {
     "name": "stdout",
     "output_type": "stream",
     "text": [
      "mispelled set()\n"
     ]
    },
    {
     "name": "stderr",
     "output_type": "stream",
     "text": [
      "\r",
      " 93%|█████████▎| 1401/1505 [01:27<00:24,  4.30it/s]"
     ]
    },
    {
     "name": "stdout",
     "output_type": "stream",
     "text": [
      "mispelled set()\n",
      "mispelled set()\n"
     ]
    },
    {
     "name": "stderr",
     "output_type": "stream",
     "text": [
      "\r",
      " 93%|█████████▎| 1403/1505 [01:28<00:21,  4.80it/s]"
     ]
    },
    {
     "name": "stdout",
     "output_type": "stream",
     "text": [
      "mispelled set()\n",
      "mispelled set()\n",
      "mispelled {'insectors'}\n"
     ]
    },
    {
     "name": "stderr",
     "output_type": "stream",
     "text": [
      "\r",
      " 93%|█████████▎| 1407/1505 [01:29<00:20,  4.77it/s]"
     ]
    },
    {
     "name": "stdout",
     "output_type": "stream",
     "text": [
      "mispelled set()\n",
      "mispelled set()\n"
     ]
    },
    {
     "name": "stderr",
     "output_type": "stream",
     "text": [
      " 94%|█████████▍| 1414/1505 [01:30<00:14,  6.29it/s]"
     ]
    },
    {
     "name": "stdout",
     "output_type": "stream",
     "text": [
      "mispelled set()\n",
      "mispelled set()\n",
      "mispelled set()\n",
      "mispelled {'lalatx'}\n",
      "mispelled set()\n",
      "mispelled set()\n",
      "mispelled set()\n"
     ]
    },
    {
     "name": "stderr",
     "output_type": "stream",
     "text": [
      "\r",
      " 94%|█████████▍| 1418/1505 [01:30<00:11,  7.78it/s]"
     ]
    },
    {
     "name": "stdout",
     "output_type": "stream",
     "text": [
      "mispelled {'langham'}\n",
      "mispelled set()\n",
      "mispelled set()\n"
     ]
    },
    {
     "name": "stderr",
     "output_type": "stream",
     "text": [
      " 94%|█████████▍| 1422/1505 [01:31<00:16,  5.08it/s]"
     ]
    },
    {
     "name": "stdout",
     "output_type": "stream",
     "text": [
      "mispelled {'merritt', 'leshawn'}\n",
      "mispelled {'leupold'}\n",
      "mispelled set()\n",
      "mispelled set()\n"
     ]
    },
    {
     "name": "stderr",
     "output_type": "stream",
     "text": [
      " 95%|█████████▍| 1427/1505 [01:32<00:12,  6.34it/s]"
     ]
    },
    {
     "name": "stdout",
     "output_type": "stream",
     "text": [
      "mispelled {'lexibook'}\n"
     ]
    },
    {
     "name": "stderr",
     "output_type": "stream",
     "text": [
      "\r",
      " 95%|█████████▍| 1428/1505 [01:32<00:12,  6.04it/s]"
     ]
    },
    {
     "name": "stdout",
     "output_type": "stream",
     "text": [
      "mispelled {'lexmark'}\n"
     ]
    },
    {
     "name": "stderr",
     "output_type": "stream",
     "text": [
      " 95%|█████████▌| 1431/1505 [01:32<00:11,  6.49it/s]"
     ]
    },
    {
     "name": "stdout",
     "output_type": "stream",
     "text": [
      "mispelled set()\n"
     ]
    },
    {
     "name": "stderr",
     "output_type": "stream",
     "text": [
      " 96%|█████████▌| 1439/1505 [01:33<00:04, 13.98it/s]"
     ]
    },
    {
     "name": "stdout",
     "output_type": "stream",
     "text": [
      "mispelled {'vs'}\n",
      "mispelled set()\n",
      "mispelled set()\n",
      "mispelled set()\n",
      "mispelled set()\n",
      "mispelled set()\n",
      "mispelled {'mgmt'}\n",
      "mispelled set()\n"
     ]
    },
    {
     "name": "stderr",
     "output_type": "stream",
     "text": [
      "\r",
      " 96%|█████████▌| 1441/1505 [01:33<00:04, 13.10it/s]"
     ]
    },
    {
     "name": "stdout",
     "output_type": "stream",
     "text": [
      "mispelled {'mactan'}\n",
      "mispelled set()\n"
     ]
    },
    {
     "name": "stderr",
     "output_type": "stream",
     "text": [
      " 96%|█████████▌| 1445/1505 [01:34<00:07,  7.92it/s]"
     ]
    },
    {
     "name": "stdout",
     "output_type": "stream",
     "text": [
      "mispelled {'maggiore'}\n",
      "mispelled set()\n",
      "mispelled {'', 'p', 'c'}\n",
      "mispelled set()\n",
      "mispelled {'mbam'}\n",
      "mispelled {'mbt'}\n"
     ]
    },
    {
     "name": "stderr",
     "output_type": "stream",
     "text": [
      "\r",
      " 96%|█████████▋| 1450/1505 [01:34<00:04, 11.48it/s]"
     ]
    },
    {
     "name": "stdout",
     "output_type": "stream",
     "text": [
      "mispelled {'mcafee'}\n"
     ]
    },
    {
     "name": "stderr",
     "output_type": "stream",
     "text": [
      "\r",
      " 96%|█████████▋| 1452/1505 [01:35<00:07,  6.88it/s]"
     ]
    },
    {
     "name": "stdout",
     "output_type": "stream",
     "text": [
      "mispelled {'mcdonalds'}\n"
     ]
    },
    {
     "name": "stderr",
     "output_type": "stream",
     "text": [
      "\r",
      " 97%|█████████▋| 1454/1505 [01:35<00:07,  7.04it/s]"
     ]
    },
    {
     "name": "stdout",
     "output_type": "stream",
     "text": [
      "mispelled {'mcgregor'}\n",
      "mispelled {'mcs'}\n",
      "mispelled set()\n"
     ]
    },
    {
     "name": "stderr",
     "output_type": "stream",
     "text": [
      "\r",
      " 97%|█████████▋| 1456/1505 [01:35<00:07,  6.54it/s]"
     ]
    },
    {
     "name": "stdout",
     "output_type": "stream",
     "text": [
      "mispelled {'odonnell'}\n",
      "mispelled set()\n"
     ]
    },
    {
     "name": "stderr",
     "output_type": "stream",
     "text": [
      " 97%|█████████▋| 1460/1505 [01:36<00:08,  5.11it/s]"
     ]
    },
    {
     "name": "stdout",
     "output_type": "stream",
     "text": [
      "mispelled set()\n",
      "mispelled set()\n"
     ]
    },
    {
     "name": "stderr",
     "output_type": "stream",
     "text": [
      " 98%|█████████▊| 1471/1505 [01:37<00:03,  9.00it/s]"
     ]
    },
    {
     "name": "stdout",
     "output_type": "stream",
     "text": [
      "mispelled set()\n",
      "mispelled set()\n",
      "mispelled set()\n",
      "mispelled set()\n",
      "mispelled {'ananymous'}\n",
      "mispelled {'pregancy'}\n",
      "mispelled set()\n",
      "mispelled set()\n",
      "mispelled set()\n"
     ]
    },
    {
     "name": "stderr",
     "output_type": "stream",
     "text": [
      "\r",
      " 98%|█████████▊| 1474/1505 [01:39<00:05,  5.43it/s]"
     ]
    },
    {
     "name": "stdout",
     "output_type": "stream",
     "text": [
      "mispelled set()\n"
     ]
    },
    {
     "name": "stderr",
     "output_type": "stream",
     "text": [
      "\r",
      " 98%|█████████▊| 1476/1505 [01:39<00:06,  4.38it/s]"
     ]
    },
    {
     "name": "stdout",
     "output_type": "stream",
     "text": [
      "mispelled set()\n"
     ]
    },
    {
     "name": "stderr",
     "output_type": "stream",
     "text": [
      " 98%|█████████▊| 1479/1505 [01:41<00:07,  3.71it/s]"
     ]
    },
    {
     "name": "stdout",
     "output_type": "stream",
     "text": [
      "mispelled {'symone'}\n"
     ]
    },
    {
     "name": "stderr",
     "output_type": "stream",
     "text": [
      " 98%|█████████▊| 1482/1505 [01:42<00:07,  2.90it/s]"
     ]
    },
    {
     "name": "stdout",
     "output_type": "stream",
     "text": [
      "mispelled {'cuvant', 'razboi', 'intru'}\n",
      "mispelled {'rca'}\n"
     ]
    },
    {
     "name": "stderr",
     "output_type": "stream",
     "text": [
      "\r",
      " 99%|█████████▊| 1484/1505 [01:43<00:07,  2.96it/s]"
     ]
    },
    {
     "name": "stdout",
     "output_type": "stream",
     "text": [
      "mispelled set()\n",
      "mispelled {'nj'}\n",
      "mispelled set()\n"
     ]
    },
    {
     "name": "stderr",
     "output_type": "stream",
     "text": [
      "\r",
      " 99%|█████████▉| 1488/1505 [01:43<00:03,  4.60it/s]"
     ]
    },
    {
     "name": "stdout",
     "output_type": "stream",
     "text": [
      "mispelled {'saratoga'}\n"
     ]
    },
    {
     "name": "stderr",
     "output_type": "stream",
     "text": [
      " 99%|█████████▉| 1495/1505 [01:44<00:01,  8.07it/s]"
     ]
    },
    {
     "name": "stdout",
     "output_type": "stream",
     "text": [
      "mispelled {'satureday'}\n",
      "mispelled {'savannh'}\n",
      "mispelled set()\n",
      "mispelled {'sc'}\n",
      "mispelled set()\n",
      "mispelled set()\n",
      "mispelled set()\n",
      "mispelled set()\n",
      "mispelled set()\n",
      "mispelled set()\n",
      "mispelled set()\n"
     ]
    },
    {
     "name": "stderr",
     "output_type": "stream",
     "text": [
      "\r",
      "100%|█████████▉| 1501/1505 [01:44<00:00, 10.18it/s]"
     ]
    },
    {
     "name": "stdout",
     "output_type": "stream",
     "text": [
      "mispelled {'superbowl'}\n"
     ]
    },
    {
     "name": "stderr",
     "output_type": "stream",
     "text": [
      "100%|██████████| 1505/1505 [01:45<00:00, 14.33it/s]"
     ]
    },
    {
     "name": "stdout",
     "output_type": "stream",
     "text": [
      "mispelled set()\n",
      "mispelled {'oppure', 'supporta'}\n",
      "mispelled set()\n"
     ]
    },
    {
     "name": "stderr",
     "output_type": "stream",
     "text": [
      "\n"
     ]
    }
   ],
   "source": [
    "# ---- CHECKING ----\n",
    "\n",
    "spell = SpellChecker()\n",
    "\n",
    "spellingError = []\n",
    "oneOffError = []\n",
    "kidsError = []\n",
    "misspelledCol = []\n",
    "\n",
    "netModifiers = ['www', 'http', '.com', '.net', '.edu', '.org', '.gov', '.co', '.mil', '.com']\n",
    "\n",
    "with tqdm(total = len(allQueries) ) as pbar:\n",
    "    for query in allQueries:\n",
    "        query =  query.translate(str.maketrans('', '', string.punctuation)) # -- remove all panctuations\n",
    "        website = [mod for mod in netModifiers if(mod in query)] # --- save the netModifiers in the queries\n",
    "        if not website:\n",
    "            misspelledWords = \"\";\n",
    "            try:\n",
    "                lang = detect(query) # -- detects a language \n",
    "                misspelled = spell.unknown(query.split(\" \")) # -- unknown gives the misspelled words\n",
    "                found = 0\n",
    "                oneOff = 0\n",
    "                kidsMis = 0\n",
    "                for word in misspelled:\n",
    "                    misspelledWords += \" \" + word # -- concatinating the misspelled words\n",
    "                    \n",
    "                    misspelledWords = ' '.join(misspelledWords.split())\n",
    "                    \n",
    "                    if word in kidsMispelled:\n",
    "                        kidsMis +=1\n",
    "                    candid = spell.candidates(word) # --- candidates() displays the set of words that are close to the word entered e.g: 'country', 'count', 'counter' if country is entered\n",
    "                    edits = spell.edit_distance_1(word) # -- Compute all strings that are one edit away from `word` \n",
    "                    \n",
    "                    for can in candid:\n",
    "                        if can in edits:\n",
    "                            oneOff += 1 # -- one letter off \n",
    "                        break\n",
    "\n",
    "                oneOffError.append(oneOff)\n",
    "                print('mispelled', misspelled)\n",
    "                spellingError.append(len(misspelled))\n",
    "                kidsError.append(kidsMis)\n",
    "                misspelledCol.append(misspelledWords)\n",
    "                \n",
    "            except:\n",
    "#                 print(misspelled)\n",
    "                oneOffError.append(-1)\n",
    "                spellingError.append(-1)\n",
    "                kidsError.append(-1)\n",
    "                misspelledCol.append(misspelledWords)\n",
    "\n",
    "        else:\n",
    "            spellingError.append(0)\n",
    "            oneOffError.append(0)\n",
    "            kidsError.append(0)\n",
    "            misspelledCol.append(\"none\")\n",
    "\n",
    "        pbar.update()\n",
    "    \n",
    "spelling = pd.DataFrame(data=spellingError, columns = ['numSpellingErrors'])\n",
    "spelling['query'] = allQueries\n",
    "spelling['offByOne'] = oneOffError\n",
    "spelling['kidsError'] = kidsError\n",
    "spelling['ms'] = misspelledCol\n"
   ]
  },
  {
   "cell_type": "code",
   "execution_count": 16,
   "metadata": {},
   "outputs": [
    {
     "data": {
      "text/html": [
       "<div>\n",
       "<style scoped>\n",
       "    .dataframe tbody tr th:only-of-type {\n",
       "        vertical-align: middle;\n",
       "    }\n",
       "\n",
       "    .dataframe tbody tr th {\n",
       "        vertical-align: top;\n",
       "    }\n",
       "\n",
       "    .dataframe thead th {\n",
       "        text-align: right;\n",
       "    }\n",
       "</style>\n",
       "<table border=\"1\" class=\"dataframe\">\n",
       "  <thead>\n",
       "    <tr style=\"text-align: right;\">\n",
       "      <th></th>\n",
       "      <th>numSpellingErrors</th>\n",
       "      <th>query</th>\n",
       "      <th>offByOne</th>\n",
       "      <th>kidsError</th>\n",
       "      <th>ms</th>\n",
       "    </tr>\n",
       "  </thead>\n",
       "  <tbody>\n",
       "    <tr>\n",
       "      <th>0</th>\n",
       "      <td>0</td>\n",
       "      <td>it consulting</td>\n",
       "      <td>0</td>\n",
       "      <td>0</td>\n",
       "      <td></td>\n",
       "    </tr>\n",
       "    <tr>\n",
       "      <th>1</th>\n",
       "      <td>1</td>\n",
       "      <td>JP Morgan Chase data</td>\n",
       "      <td>1</td>\n",
       "      <td>0</td>\n",
       "      <td>jp</td>\n",
       "    </tr>\n",
       "    <tr>\n",
       "      <th>2</th>\n",
       "      <td>0</td>\n",
       "      <td>fun violence control constitutional</td>\n",
       "      <td>0</td>\n",
       "      <td>0</td>\n",
       "      <td></td>\n",
       "    </tr>\n",
       "    <tr>\n",
       "      <th>3</th>\n",
       "      <td>1</td>\n",
       "      <td>swahili food traditional</td>\n",
       "      <td>0</td>\n",
       "      <td>0</td>\n",
       "      <td>swahili</td>\n",
       "    </tr>\n",
       "    <tr>\n",
       "      <th>4</th>\n",
       "      <td>1</td>\n",
       "      <td>Russian nuclear submarine Kursk politics russia</td>\n",
       "      <td>0</td>\n",
       "      <td>0</td>\n",
       "      <td>kursk</td>\n",
       "    </tr>\n",
       "    <tr>\n",
       "      <th>5</th>\n",
       "      <td>0</td>\n",
       "      <td>growth in bollywood</td>\n",
       "      <td>0</td>\n",
       "      <td>0</td>\n",
       "      <td></td>\n",
       "    </tr>\n",
       "    <tr>\n",
       "      <th>6</th>\n",
       "      <td>0</td>\n",
       "      <td>junk food tax cons</td>\n",
       "      <td>0</td>\n",
       "      <td>0</td>\n",
       "      <td></td>\n",
       "    </tr>\n",
       "    <tr>\n",
       "      <th>7</th>\n",
       "      <td>-1</td>\n",
       "      <td>Leading Parhmacutical companyies and lobbying</td>\n",
       "      <td>-1</td>\n",
       "      <td>-1</td>\n",
       "      <td>parhmacutical</td>\n",
       "    </tr>\n",
       "    <tr>\n",
       "      <th>8</th>\n",
       "      <td>0</td>\n",
       "      <td>What were the names of the victims?</td>\n",
       "      <td>0</td>\n",
       "      <td>0</td>\n",
       "      <td></td>\n",
       "    </tr>\n",
       "    <tr>\n",
       "      <th>9</th>\n",
       "      <td>0</td>\n",
       "      <td>your own technology business</td>\n",
       "      <td>0</td>\n",
       "      <td>0</td>\n",
       "      <td></td>\n",
       "    </tr>\n",
       "    <tr>\n",
       "      <th>10</th>\n",
       "      <td>0</td>\n",
       "      <td>American Cities close to tourist attractions</td>\n",
       "      <td>0</td>\n",
       "      <td>0</td>\n",
       "      <td></td>\n",
       "    </tr>\n",
       "    <tr>\n",
       "      <th>11</th>\n",
       "      <td>1</td>\n",
       "      <td>new york SUNY colleges</td>\n",
       "      <td>1</td>\n",
       "      <td>0</td>\n",
       "      <td>suny</td>\n",
       "    </tr>\n",
       "    <tr>\n",
       "      <th>12</th>\n",
       "      <td>2</td>\n",
       "      <td>Merck lobbists</td>\n",
       "      <td>2</td>\n",
       "      <td>0</td>\n",
       "      <td>lobbists merck</td>\n",
       "    </tr>\n",
       "    <tr>\n",
       "      <th>13</th>\n",
       "      <td>0</td>\n",
       "      <td>Red Bull side effects</td>\n",
       "      <td>0</td>\n",
       "      <td>0</td>\n",
       "      <td></td>\n",
       "    </tr>\n",
       "    <tr>\n",
       "      <th>14</th>\n",
       "      <td>0</td>\n",
       "      <td>infant development western eastern cultures</td>\n",
       "      <td>0</td>\n",
       "      <td>0</td>\n",
       "      <td></td>\n",
       "    </tr>\n",
       "  </tbody>\n",
       "</table>\n",
       "</div>"
      ],
      "text/plain": [
       "    numSpellingErrors                                            query  \\\n",
       "0                   0                                    it consulting   \n",
       "1                   1                             JP Morgan Chase data   \n",
       "2                   0              fun violence control constitutional   \n",
       "3                   1                         swahili food traditional   \n",
       "4                   1  Russian nuclear submarine Kursk politics russia   \n",
       "5                   0                              growth in bollywood   \n",
       "6                   0                               junk food tax cons   \n",
       "7                  -1    Leading Parhmacutical companyies and lobbying   \n",
       "8                   0              What were the names of the victims?   \n",
       "9                   0                     your own technology business   \n",
       "10                  0     American Cities close to tourist attractions   \n",
       "11                  1                           new york SUNY colleges   \n",
       "12                  2                                   Merck lobbists   \n",
       "13                  0                            Red Bull side effects   \n",
       "14                  0      infant development western eastern cultures   \n",
       "\n",
       "    offByOne  kidsError              ms  \n",
       "0          0          0                  \n",
       "1          1          0              jp  \n",
       "2          0          0                  \n",
       "3          0          0         swahili  \n",
       "4          0          0           kursk  \n",
       "5          0          0                  \n",
       "6          0          0                  \n",
       "7         -1         -1   parhmacutical  \n",
       "8          0          0                  \n",
       "9          0          0                  \n",
       "10         0          0                  \n",
       "11         1          0            suny  \n",
       "12         2          0  lobbists merck  \n",
       "13         0          0                  \n",
       "14         0          0                  "
      ]
     },
     "execution_count": 16,
     "metadata": {},
     "output_type": "execute_result"
    }
   ],
   "source": [
    "spelling.head(15)"
   ]
  },
  {
   "cell_type": "code",
   "execution_count": 17,
   "metadata": {
    "scrolled": true
   },
   "outputs": [
    {
     "data": {
      "text/plain": [
       "{'ddog'}"
      ]
     },
     "execution_count": 17,
     "metadata": {},
     "output_type": "execute_result"
    }
   ],
   "source": [
    "cc = 'You hate a ddog'\n",
    "m = spell.unknown(cc.split(\" \"))\n",
    "m"
   ]
  },
  {
   "cell_type": "code",
   "execution_count": 18,
   "metadata": {},
   "outputs": [
    {
     "data": {
      "text/plain": [
       "{'exsists'}"
      ]
     },
     "execution_count": 18,
     "metadata": {},
     "output_type": "execute_result"
    }
   ],
   "source": [
    "dd = 'how god exsists'\n",
    "m = spell.unknown(dd.split(\" \"))\n",
    "m"
   ]
  },
  {
   "cell_type": "code",
   "execution_count": 19,
   "metadata": {},
   "outputs": [
    {
     "data": {
      "text/html": [
       "<div>\n",
       "<style scoped>\n",
       "    .dataframe tbody tr th:only-of-type {\n",
       "        vertical-align: middle;\n",
       "    }\n",
       "\n",
       "    .dataframe tbody tr th {\n",
       "        vertical-align: top;\n",
       "    }\n",
       "\n",
       "    .dataframe thead th {\n",
       "        text-align: right;\n",
       "    }\n",
       "</style>\n",
       "<table border=\"1\" class=\"dataframe\">\n",
       "  <thead>\n",
       "    <tr style=\"text-align: right;\">\n",
       "      <th></th>\n",
       "      <th>numSpellingErrors</th>\n",
       "      <th>query</th>\n",
       "      <th>offByOne</th>\n",
       "      <th>kidsError</th>\n",
       "      <th>ms</th>\n",
       "    </tr>\n",
       "  </thead>\n",
       "  <tbody>\n",
       "    <tr>\n",
       "      <th>0</th>\n",
       "      <td>0</td>\n",
       "      <td>it consulting</td>\n",
       "      <td>0</td>\n",
       "      <td>0</td>\n",
       "      <td></td>\n",
       "    </tr>\n",
       "    <tr>\n",
       "      <th>1</th>\n",
       "      <td>1</td>\n",
       "      <td>JP Morgan Chase data</td>\n",
       "      <td>1</td>\n",
       "      <td>0</td>\n",
       "      <td>jp</td>\n",
       "    </tr>\n",
       "    <tr>\n",
       "      <th>2</th>\n",
       "      <td>0</td>\n",
       "      <td>fun violence control constitutional</td>\n",
       "      <td>0</td>\n",
       "      <td>0</td>\n",
       "      <td></td>\n",
       "    </tr>\n",
       "    <tr>\n",
       "      <th>3</th>\n",
       "      <td>1</td>\n",
       "      <td>swahili food traditional</td>\n",
       "      <td>0</td>\n",
       "      <td>0</td>\n",
       "      <td>swahili</td>\n",
       "    </tr>\n",
       "    <tr>\n",
       "      <th>4</th>\n",
       "      <td>1</td>\n",
       "      <td>Russian nuclear submarine Kursk politics russia</td>\n",
       "      <td>0</td>\n",
       "      <td>0</td>\n",
       "      <td>kursk</td>\n",
       "    </tr>\n",
       "    <tr>\n",
       "      <th>...</th>\n",
       "      <td>...</td>\n",
       "      <td>...</td>\n",
       "      <td>...</td>\n",
       "      <td>...</td>\n",
       "      <td>...</td>\n",
       "    </tr>\n",
       "    <tr>\n",
       "      <th>1500</th>\n",
       "      <td>1</td>\n",
       "      <td>superbowl sunday?</td>\n",
       "      <td>0</td>\n",
       "      <td>0</td>\n",
       "      <td>superbowl</td>\n",
       "    </tr>\n",
       "    <tr>\n",
       "      <th>1501</th>\n",
       "      <td>-1</td>\n",
       "      <td>superhry,cz</td>\n",
       "      <td>-1</td>\n",
       "      <td>-1</td>\n",
       "      <td>superhrycz</td>\n",
       "    </tr>\n",
       "    <tr>\n",
       "      <th>1502</th>\n",
       "      <td>0</td>\n",
       "      <td>superior motors</td>\n",
       "      <td>0</td>\n",
       "      <td>0</td>\n",
       "      <td></td>\n",
       "    </tr>\n",
       "    <tr>\n",
       "      <th>1503</th>\n",
       "      <td>2</td>\n",
       "      <td>supporta Java oppure</td>\n",
       "      <td>1</td>\n",
       "      <td>0</td>\n",
       "      <td>oppure supporta</td>\n",
       "    </tr>\n",
       "    <tr>\n",
       "      <th>1504</th>\n",
       "      <td>0</td>\n",
       "      <td>supreme ventures jamaica lottery results</td>\n",
       "      <td>0</td>\n",
       "      <td>0</td>\n",
       "      <td></td>\n",
       "    </tr>\n",
       "  </tbody>\n",
       "</table>\n",
       "<p>1505 rows × 5 columns</p>\n",
       "</div>"
      ],
      "text/plain": [
       "      numSpellingErrors                                            query  \\\n",
       "0                     0                                    it consulting   \n",
       "1                     1                             JP Morgan Chase data   \n",
       "2                     0              fun violence control constitutional   \n",
       "3                     1                         swahili food traditional   \n",
       "4                     1  Russian nuclear submarine Kursk politics russia   \n",
       "...                 ...                                              ...   \n",
       "1500                  1                                superbowl sunday?   \n",
       "1501                 -1                                      superhry,cz   \n",
       "1502                  0                                  superior motors   \n",
       "1503                  2                             supporta Java oppure   \n",
       "1504                  0         supreme ventures jamaica lottery results   \n",
       "\n",
       "      offByOne  kidsError               ms  \n",
       "0            0          0                   \n",
       "1            1          0               jp  \n",
       "2            0          0                   \n",
       "3            0          0          swahili  \n",
       "4            0          0            kursk  \n",
       "...        ...        ...              ...  \n",
       "1500         0          0        superbowl  \n",
       "1501        -1         -1       superhrycz  \n",
       "1502         0          0                   \n",
       "1503         1          0  oppure supporta  \n",
       "1504         0          0                   \n",
       "\n",
       "[1505 rows x 5 columns]"
      ]
     },
     "execution_count": 19,
     "metadata": {},
     "output_type": "execute_result"
    }
   ],
   "source": [
    "spelling"
   ]
  },
  {
   "cell_type": "code",
   "execution_count": 20,
   "metadata": {},
   "outputs": [
    {
     "data": {
      "text/plain": [
       "array([ 0, -1,  1])"
      ]
     },
     "execution_count": 20,
     "metadata": {},
     "output_type": "execute_result"
    }
   ],
   "source": [
    "spelling['kidsError'].unique()"
   ]
  },
  {
   "cell_type": "code",
   "execution_count": 21,
   "metadata": {},
   "outputs": [
    {
     "data": {
      "text/plain": [
       "'jp'"
      ]
     },
     "execution_count": 21,
     "metadata": {},
     "output_type": "execute_result"
    }
   ],
   "source": [
    "spelling.ms[631]"
   ]
  },
  {
   "cell_type": "code",
   "execution_count": 22,
   "metadata": {},
   "outputs": [
    {
     "data": {
      "text/html": [
       "<div>\n",
       "<style scoped>\n",
       "    .dataframe tbody tr th:only-of-type {\n",
       "        vertical-align: middle;\n",
       "    }\n",
       "\n",
       "    .dataframe tbody tr th {\n",
       "        vertical-align: top;\n",
       "    }\n",
       "\n",
       "    .dataframe thead th {\n",
       "        text-align: right;\n",
       "    }\n",
       "</style>\n",
       "<table border=\"1\" class=\"dataframe\">\n",
       "  <thead>\n",
       "    <tr style=\"text-align: right;\">\n",
       "      <th></th>\n",
       "      <th>numSpellingErrors</th>\n",
       "      <th>query</th>\n",
       "      <th>offByOne</th>\n",
       "      <th>kidsError</th>\n",
       "      <th>ms</th>\n",
       "    </tr>\n",
       "  </thead>\n",
       "  <tbody>\n",
       "    <tr>\n",
       "      <th>28</th>\n",
       "      <td>1</td>\n",
       "      <td>mba  salaries</td>\n",
       "      <td>1</td>\n",
       "      <td>1</td>\n",
       "      <td></td>\n",
       "    </tr>\n",
       "    <tr>\n",
       "      <th>29</th>\n",
       "      <td>1</td>\n",
       "      <td>Connecticut Fire Academy  skills</td>\n",
       "      <td>1</td>\n",
       "      <td>1</td>\n",
       "      <td></td>\n",
       "    </tr>\n",
       "    <tr>\n",
       "      <th>139</th>\n",
       "      <td>1</td>\n",
       "      <td>what is  collagen vascular disease</td>\n",
       "      <td>1</td>\n",
       "      <td>1</td>\n",
       "      <td></td>\n",
       "    </tr>\n",
       "    <tr>\n",
       "      <th>145</th>\n",
       "      <td>1</td>\n",
       "      <td>Connecticut Fire Academy</td>\n",
       "      <td>1</td>\n",
       "      <td>1</td>\n",
       "      <td></td>\n",
       "    </tr>\n",
       "    <tr>\n",
       "      <th>150</th>\n",
       "      <td>1</td>\n",
       "      <td>Connecticut Fire Academy  training sessions</td>\n",
       "      <td>1</td>\n",
       "      <td>1</td>\n",
       "      <td></td>\n",
       "    </tr>\n",
       "    <tr>\n",
       "      <th>184</th>\n",
       "      <td>1</td>\n",
       "      <td>great road trip  ideas</td>\n",
       "      <td>1</td>\n",
       "      <td>1</td>\n",
       "      <td></td>\n",
       "    </tr>\n",
       "    <tr>\n",
       "      <th>210</th>\n",
       "      <td>2</td>\n",
       "      <td>scholarships  SUNY</td>\n",
       "      <td>2</td>\n",
       "      <td>1</td>\n",
       "      <td>suny</td>\n",
       "    </tr>\n",
       "    <tr>\n",
       "      <th>215</th>\n",
       "      <td>1</td>\n",
       "      <td>Indian Policies + Miss Universe</td>\n",
       "      <td>1</td>\n",
       "      <td>1</td>\n",
       "      <td></td>\n",
       "    </tr>\n",
       "    <tr>\n",
       "      <th>241</th>\n",
       "      <td>1</td>\n",
       "      <td>women  and minorities percentage setting</td>\n",
       "      <td>1</td>\n",
       "      <td>1</td>\n",
       "      <td></td>\n",
       "    </tr>\n",
       "    <tr>\n",
       "      <th>251</th>\n",
       "      <td>1</td>\n",
       "      <td>what is  collagen vascular</td>\n",
       "      <td>1</td>\n",
       "      <td>1</td>\n",
       "      <td></td>\n",
       "    </tr>\n",
       "    <tr>\n",
       "      <th>294</th>\n",
       "      <td>2</td>\n",
       "      <td>Kenya  Swahili dishes</td>\n",
       "      <td>1</td>\n",
       "      <td>1</td>\n",
       "      <td>swahili</td>\n",
       "    </tr>\n",
       "    <tr>\n",
       "      <th>301</th>\n",
       "      <td>1</td>\n",
       "      <td>growth of Bollywood and  Indian politics</td>\n",
       "      <td>1</td>\n",
       "      <td>1</td>\n",
       "      <td></td>\n",
       "    </tr>\n",
       "    <tr>\n",
       "      <th>321</th>\n",
       "      <td>2</td>\n",
       "      <td>international scholarships  SUNY</td>\n",
       "      <td>2</td>\n",
       "      <td>1</td>\n",
       "      <td>suny</td>\n",
       "    </tr>\n",
       "    <tr>\n",
       "      <th>330</th>\n",
       "      <td>2</td>\n",
       "      <td>Kursk   Barents see   Russian politics   causes</td>\n",
       "      <td>1</td>\n",
       "      <td>1</td>\n",
       "      <td>kursk</td>\n",
       "    </tr>\n",
       "    <tr>\n",
       "      <th>410</th>\n",
       "      <td>1</td>\n",
       "      <td>advantages and disadvantages of  teachers' eva...</td>\n",
       "      <td>1</td>\n",
       "      <td>1</td>\n",
       "      <td></td>\n",
       "    </tr>\n",
       "    <tr>\n",
       "      <th>457</th>\n",
       "      <td>1</td>\n",
       "      <td>health care   US</td>\n",
       "      <td>1</td>\n",
       "      <td>1</td>\n",
       "      <td></td>\n",
       "    </tr>\n",
       "    <tr>\n",
       "      <th>461</th>\n",
       "      <td>1</td>\n",
       "      <td>water turbine efficiency</td>\n",
       "      <td>1</td>\n",
       "      <td>1</td>\n",
       "      <td></td>\n",
       "    </tr>\n",
       "    <tr>\n",
       "      <th>465</th>\n",
       "      <td>1</td>\n",
       "      <td>US NASA  budget</td>\n",
       "      <td>1</td>\n",
       "      <td>1</td>\n",
       "      <td></td>\n",
       "    </tr>\n",
       "    <tr>\n",
       "      <th>521</th>\n",
       "      <td>1</td>\n",
       "      <td>\"march madness\"</td>\n",
       "      <td>1</td>\n",
       "      <td>1</td>\n",
       "      <td></td>\n",
       "    </tr>\n",
       "    <tr>\n",
       "      <th>617</th>\n",
       "      <td>1</td>\n",
       "      <td>what is the Connecticut Fire Academy?</td>\n",
       "      <td>1</td>\n",
       "      <td>1</td>\n",
       "      <td></td>\n",
       "    </tr>\n",
       "    <tr>\n",
       "      <th>631</th>\n",
       "      <td>2</td>\n",
       "      <td>largest JP Morgan Chase  data center location</td>\n",
       "      <td>2</td>\n",
       "      <td>1</td>\n",
       "      <td>jp</td>\n",
       "    </tr>\n",
       "    <tr>\n",
       "      <th>632</th>\n",
       "      <td>1</td>\n",
       "      <td>World Cup  1998 france</td>\n",
       "      <td>1</td>\n",
       "      <td>1</td>\n",
       "      <td></td>\n",
       "    </tr>\n",
       "    <tr>\n",
       "      <th>638</th>\n",
       "      <td>2</td>\n",
       "      <td>Russian nuclear submarine Kursk sank +  politi...</td>\n",
       "      <td>1</td>\n",
       "      <td>1</td>\n",
       "      <td>kursk</td>\n",
       "    </tr>\n",
       "    <tr>\n",
       "      <th>715</th>\n",
       "      <td>2</td>\n",
       "      <td>how  god exsists</td>\n",
       "      <td>2</td>\n",
       "      <td>1</td>\n",
       "      <td>exsists</td>\n",
       "    </tr>\n",
       "    <tr>\n",
       "      <th>736</th>\n",
       "      <td>1</td>\n",
       "      <td>how to quit smoking</td>\n",
       "      <td>1</td>\n",
       "      <td>1</td>\n",
       "      <td></td>\n",
       "    </tr>\n",
       "    <tr>\n",
       "      <th>766</th>\n",
       "      <td>1</td>\n",
       "      <td>Charities + HIV or AIDS in Africa</td>\n",
       "      <td>1</td>\n",
       "      <td>1</td>\n",
       "      <td></td>\n",
       "    </tr>\n",
       "    <tr>\n",
       "      <th>845</th>\n",
       "      <td>1</td>\n",
       "      <td>Connecticut Fire Academy  sign up</td>\n",
       "      <td>1</td>\n",
       "      <td>1</td>\n",
       "      <td></td>\n",
       "    </tr>\n",
       "    <tr>\n",
       "      <th>898</th>\n",
       "      <td>2</td>\n",
       "      <td>Indian + Beauty Pagents</td>\n",
       "      <td>2</td>\n",
       "      <td>1</td>\n",
       "      <td>pagents</td>\n",
       "    </tr>\n",
       "    <tr>\n",
       "      <th>908</th>\n",
       "      <td>2</td>\n",
       "      <td>largest JP Morgan Chase  data center</td>\n",
       "      <td>2</td>\n",
       "      <td>1</td>\n",
       "      <td>jp</td>\n",
       "    </tr>\n",
       "    <tr>\n",
       "      <th>978</th>\n",
       "      <td>1</td>\n",
       "      <td>Connecticut Fire Academy  how to</td>\n",
       "      <td>1</td>\n",
       "      <td>1</td>\n",
       "      <td></td>\n",
       "    </tr>\n",
       "    <tr>\n",
       "      <th>1005</th>\n",
       "      <td>1</td>\n",
       "      <td>silicone roof coating  benefits</td>\n",
       "      <td>1</td>\n",
       "      <td>1</td>\n",
       "      <td></td>\n",
       "    </tr>\n",
       "    <tr>\n",
       "      <th>1044</th>\n",
       "      <td>1</td>\n",
       "      <td>developmental  milestones children east asia</td>\n",
       "      <td>1</td>\n",
       "      <td>1</td>\n",
       "      <td></td>\n",
       "    </tr>\n",
       "    <tr>\n",
       "      <th>1059</th>\n",
       "      <td>1</td>\n",
       "      <td>Indian Government + Miss Universe</td>\n",
       "      <td>1</td>\n",
       "      <td>1</td>\n",
       "      <td></td>\n",
       "    </tr>\n",
       "    <tr>\n",
       "      <th>1084</th>\n",
       "      <td>1</td>\n",
       "      <td>How to keep Air conditioning  use down</td>\n",
       "      <td>1</td>\n",
       "      <td>1</td>\n",
       "      <td></td>\n",
       "    </tr>\n",
       "    <tr>\n",
       "      <th>1086</th>\n",
       "      <td>1</td>\n",
       "      <td>healthy nutrition, children, pregnant women, g...</td>\n",
       "      <td>1</td>\n",
       "      <td>1</td>\n",
       "      <td>programes</td>\n",
       "    </tr>\n",
       "    <tr>\n",
       "      <th>1125</th>\n",
       "      <td>1</td>\n",
       "      <td>philadelphia  locations</td>\n",
       "      <td>1</td>\n",
       "      <td>1</td>\n",
       "      <td></td>\n",
       "    </tr>\n",
       "    <tr>\n",
       "      <th>1138</th>\n",
       "      <td>1</td>\n",
       "      <td>water turbines  types</td>\n",
       "      <td>1</td>\n",
       "      <td>1</td>\n",
       "      <td></td>\n",
       "    </tr>\n",
       "    <tr>\n",
       "      <th>1155</th>\n",
       "      <td>1</td>\n",
       "      <td>Churchill  breeders cup</td>\n",
       "      <td>1</td>\n",
       "      <td>1</td>\n",
       "      <td></td>\n",
       "    </tr>\n",
       "    <tr>\n",
       "      <th>1193</th>\n",
       "      <td>1</td>\n",
       "      <td>homicide  \" martin bryant\"</td>\n",
       "      <td>1</td>\n",
       "      <td>1</td>\n",
       "      <td></td>\n",
       "    </tr>\n",
       "    <tr>\n",
       "      <th>1445</th>\n",
       "      <td>3</td>\n",
       "      <td>maynard cooper &amp; gale p c</td>\n",
       "      <td>3</td>\n",
       "      <td>1</td>\n",
       "      <td>p c</td>\n",
       "    </tr>\n",
       "  </tbody>\n",
       "</table>\n",
       "</div>"
      ],
      "text/plain": [
       "      numSpellingErrors                                              query  \\\n",
       "28                    1                                      mba  salaries   \n",
       "29                    1                   Connecticut Fire Academy  skills   \n",
       "139                   1                 what is  collagen vascular disease   \n",
       "145                   1                         Connecticut Fire Academy     \n",
       "150                   1        Connecticut Fire Academy  training sessions   \n",
       "184                   1                             great road trip  ideas   \n",
       "210                   2                                 scholarships  SUNY   \n",
       "215                   1                    Indian Policies + Miss Universe   \n",
       "241                   1          women  and minorities percentage setting    \n",
       "251                   1                         what is  collagen vascular   \n",
       "294                   2                              Kenya  Swahili dishes   \n",
       "301                   1           growth of Bollywood and  Indian politics   \n",
       "321                   2                   international scholarships  SUNY   \n",
       "330                   2    Kursk   Barents see   Russian politics   causes   \n",
       "410                   1  advantages and disadvantages of  teachers' eva...   \n",
       "457                   1                                   health care   US   \n",
       "461                   1                          water turbine efficiency    \n",
       "465                   1                                    US NASA  budget   \n",
       "521                   1                                   \"march madness\"    \n",
       "617                   1            what is the Connecticut Fire Academy?     \n",
       "631                   2      largest JP Morgan Chase  data center location   \n",
       "632                   1                             World Cup  1998 france   \n",
       "638                   2  Russian nuclear submarine Kursk sank +  politi...   \n",
       "715                   2                                   how  god exsists   \n",
       "736                   1                               how to quit smoking    \n",
       "766                   1                  Charities + HIV or AIDS in Africa   \n",
       "845                   1                  Connecticut Fire Academy  sign up   \n",
       "898                   2                            Indian + Beauty Pagents   \n",
       "908                   2               largest JP Morgan Chase  data center   \n",
       "978                   1                   Connecticut Fire Academy  how to   \n",
       "1005                  1                    silicone roof coating  benefits   \n",
       "1044                  1       developmental  milestones children east asia   \n",
       "1059                  1                  Indian Government + Miss Universe   \n",
       "1084                  1             How to keep Air conditioning  use down   \n",
       "1086                  1  healthy nutrition, children, pregnant women, g...   \n",
       "1125                  1                            philadelphia  locations   \n",
       "1138                  1                              water turbines  types   \n",
       "1155                  1                            Churchill  breeders cup   \n",
       "1193                  1                         homicide  \" martin bryant\"   \n",
       "1445                  3                          maynard cooper & gale p c   \n",
       "\n",
       "      offByOne  kidsError         ms  \n",
       "28           1          1             \n",
       "29           1          1             \n",
       "139          1          1             \n",
       "145          1          1             \n",
       "150          1          1             \n",
       "184          1          1             \n",
       "210          2          1       suny  \n",
       "215          1          1             \n",
       "241          1          1             \n",
       "251          1          1             \n",
       "294          1          1    swahili  \n",
       "301          1          1             \n",
       "321          2          1       suny  \n",
       "330          1          1      kursk  \n",
       "410          1          1             \n",
       "457          1          1             \n",
       "461          1          1             \n",
       "465          1          1             \n",
       "521          1          1             \n",
       "617          1          1             \n",
       "631          2          1         jp  \n",
       "632          1          1             \n",
       "638          1          1      kursk  \n",
       "715          2          1    exsists  \n",
       "736          1          1             \n",
       "766          1          1             \n",
       "845          1          1             \n",
       "898          2          1    pagents  \n",
       "908          2          1         jp  \n",
       "978          1          1             \n",
       "1005         1          1             \n",
       "1044         1          1             \n",
       "1059         1          1             \n",
       "1084         1          1             \n",
       "1086         1          1  programes  \n",
       "1125         1          1             \n",
       "1138         1          1             \n",
       "1155         1          1             \n",
       "1193         1          1             \n",
       "1445         3          1        p c  "
      ]
     },
     "execution_count": 22,
     "metadata": {},
     "output_type": "execute_result"
    }
   ],
   "source": [
    "spelling[spelling['kidsError']==1]"
   ]
  },
  {
   "cell_type": "code",
   "execution_count": 23,
   "metadata": {},
   "outputs": [],
   "source": [
    "# len(s.edit_distance_2('world'))"
   ]
  },
  {
   "cell_type": "code",
   "execution_count": 24,
   "metadata": {},
   "outputs": [
    {
     "data": {
      "text/plain": [
       "['www']"
      ]
     },
     "execution_count": 24,
     "metadata": {},
     "output_type": "execute_result"
    }
   ],
   "source": [
    "q = \"what is the nme of www\"\n",
    "netModifiers = ['www', 'http', '.com', '.net', '.edu', '.org', '.gov', '.co', '.mil', '.com']\n",
    "w = [mod for mod in netModifiers if(mod in q)]\n",
    "w"
   ]
  },
  {
   "cell_type": "code",
   "execution_count": 25,
   "metadata": {},
   "outputs": [
    {
     "data": {
      "text/plain": [
       "'no'"
      ]
     },
     "execution_count": 25,
     "metadata": {},
     "output_type": "execute_result"
    }
   ],
   "source": [
    "lan = 'oppure'\n",
    "detect(lan)"
   ]
  },
  {
   "cell_type": "code",
   "execution_count": null,
   "metadata": {},
   "outputs": [],
   "source": []
  },
  {
   "cell_type": "code",
   "execution_count": 26,
   "metadata": {},
   "outputs": [
    {
     "name": "stdout",
     "output_type": "stream",
     "text": [
      "hapen happen\n",
      "{'hagen', 'haben', 'hacen', 'haven', 'happen'}\n",
      "countr country\n",
      "{'county', 'country', 'counter', 'count', 'counts'}\n"
     ]
    }
   ],
   "source": [
    "s = SpellChecker()\n",
    "\n",
    "mis = s.unknown(['countr', 'hapen'])\n",
    "\n",
    "\n",
    "for w in mis:\n",
    "    print(w, s.correction(w))\n",
    "    \n",
    "    print(s.candidates(w))\n",
    " "
   ]
  },
  {
   "cell_type": "code",
   "execution_count": 27,
   "metadata": {},
   "outputs": [
    {
     "data": {
      "text/plain": [
       "['hapen', 'countr']"
      ]
     },
     "execution_count": 27,
     "metadata": {},
     "output_type": "execute_result"
    }
   ],
   "source": [
    "[w for w in mis]"
   ]
  },
  {
   "cell_type": "code",
   "execution_count": 28,
   "metadata": {},
   "outputs": [
    {
     "name": "stdout",
     "output_type": "stream",
     "text": [
      "supporta\n"
     ]
    }
   ],
   "source": [
    "print(word)"
   ]
  },
  {
   "cell_type": "code",
   "execution_count": 29,
   "metadata": {},
   "outputs": [
    {
     "name": "stdout",
     "output_type": "stream",
     "text": [
      "Ibra and Micheal\n"
     ]
    }
   ],
   "source": [
    "d = 'Ibra, and Micheal!' \n",
    "print(d.translate(str.maketrans('', '', string.punctuation)))"
   ]
  },
  {
   "cell_type": "markdown",
   "metadata": {},
   "source": [
    "# Extract Punctuation And Casing Features\n",
    "\n",
    "The following block of code extracts spelling and casing features before adding them to the dataframe. "
   ]
  },
  {
   "cell_type": "code",
   "execution_count": null,
   "metadata": {},
   "outputs": [],
   "source": []
  },
  {
   "cell_type": "code",
   "execution_count": 30,
   "metadata": {},
   "outputs": [
    {
     "name": "stderr",
     "output_type": "stream",
     "text": [
      "100%|██████████| 1505/1505 [00:00<00:00, 247323.10it/s]\n"
     ]
    }
   ],
   "source": [
    "invalidcharacters= set(['!', ',', '.', '?'])\n",
    "punct = []\n",
    "casing = []\n",
    "with tqdm(total = len(allQueries) ) as pbar:\n",
    "    for query in allQueries:\n",
    "\n",
    "        if any(char in invalidcharacters for char in query):\n",
    "            if any(substring in query for substring in netModifiers):\n",
    "                punct.append(0)\n",
    "            else:\n",
    "                punct.append(1)\n",
    "        else:\n",
    "            punct.append(0)\n",
    "\n",
    "        if query.islower():\n",
    "            casing.append(0)\n",
    "        else:\n",
    "            casing.append(1)\n",
    "        pbar.update()\n",
    "        \n",
    "spelling['punct'] = punct\n",
    "spelling['casing'] = casing\n",
    "\n"
   ]
  },
  {
   "cell_type": "markdown",
   "metadata": {},
   "source": [
    "# Return Feature Set\n",
    "\n",
    "Returns dataframe with spelling and punctuation features."
   ]
  },
  {
   "cell_type": "code",
   "execution_count": 31,
   "metadata": {},
   "outputs": [],
   "source": [
    "pickle.dump(spelling, open( \"Pickles/SPFeat.p\", \"wb\" ) )\n",
    "\n"
   ]
  },
  {
   "cell_type": "code",
   "execution_count": 32,
   "metadata": {},
   "outputs": [
    {
     "data": {
      "text/html": [
       "<div>\n",
       "<style scoped>\n",
       "    .dataframe tbody tr th:only-of-type {\n",
       "        vertical-align: middle;\n",
       "    }\n",
       "\n",
       "    .dataframe tbody tr th {\n",
       "        vertical-align: top;\n",
       "    }\n",
       "\n",
       "    .dataframe thead th {\n",
       "        text-align: right;\n",
       "    }\n",
       "</style>\n",
       "<table border=\"1\" class=\"dataframe\">\n",
       "  <thead>\n",
       "    <tr style=\"text-align: right;\">\n",
       "      <th></th>\n",
       "      <th>numSpellingErrors</th>\n",
       "      <th>query</th>\n",
       "      <th>offByOne</th>\n",
       "      <th>kidsError</th>\n",
       "      <th>ms</th>\n",
       "      <th>punct</th>\n",
       "      <th>casing</th>\n",
       "    </tr>\n",
       "  </thead>\n",
       "  <tbody>\n",
       "    <tr>\n",
       "      <th>0</th>\n",
       "      <td>0</td>\n",
       "      <td>it consulting</td>\n",
       "      <td>0</td>\n",
       "      <td>0</td>\n",
       "      <td></td>\n",
       "      <td>0</td>\n",
       "      <td>0</td>\n",
       "    </tr>\n",
       "    <tr>\n",
       "      <th>1</th>\n",
       "      <td>1</td>\n",
       "      <td>JP Morgan Chase data</td>\n",
       "      <td>1</td>\n",
       "      <td>0</td>\n",
       "      <td>jp</td>\n",
       "      <td>0</td>\n",
       "      <td>1</td>\n",
       "    </tr>\n",
       "    <tr>\n",
       "      <th>2</th>\n",
       "      <td>0</td>\n",
       "      <td>fun violence control constitutional</td>\n",
       "      <td>0</td>\n",
       "      <td>0</td>\n",
       "      <td></td>\n",
       "      <td>0</td>\n",
       "      <td>0</td>\n",
       "    </tr>\n",
       "    <tr>\n",
       "      <th>3</th>\n",
       "      <td>1</td>\n",
       "      <td>swahili food traditional</td>\n",
       "      <td>0</td>\n",
       "      <td>0</td>\n",
       "      <td>swahili</td>\n",
       "      <td>0</td>\n",
       "      <td>0</td>\n",
       "    </tr>\n",
       "    <tr>\n",
       "      <th>4</th>\n",
       "      <td>1</td>\n",
       "      <td>Russian nuclear submarine Kursk politics russia</td>\n",
       "      <td>0</td>\n",
       "      <td>0</td>\n",
       "      <td>kursk</td>\n",
       "      <td>0</td>\n",
       "      <td>1</td>\n",
       "    </tr>\n",
       "    <tr>\n",
       "      <th>5</th>\n",
       "      <td>0</td>\n",
       "      <td>growth in bollywood</td>\n",
       "      <td>0</td>\n",
       "      <td>0</td>\n",
       "      <td></td>\n",
       "      <td>0</td>\n",
       "      <td>0</td>\n",
       "    </tr>\n",
       "    <tr>\n",
       "      <th>6</th>\n",
       "      <td>0</td>\n",
       "      <td>junk food tax cons</td>\n",
       "      <td>0</td>\n",
       "      <td>0</td>\n",
       "      <td></td>\n",
       "      <td>0</td>\n",
       "      <td>0</td>\n",
       "    </tr>\n",
       "    <tr>\n",
       "      <th>7</th>\n",
       "      <td>-1</td>\n",
       "      <td>Leading Parhmacutical companyies and lobbying</td>\n",
       "      <td>-1</td>\n",
       "      <td>-1</td>\n",
       "      <td>parhmacutical</td>\n",
       "      <td>0</td>\n",
       "      <td>1</td>\n",
       "    </tr>\n",
       "    <tr>\n",
       "      <th>8</th>\n",
       "      <td>0</td>\n",
       "      <td>What were the names of the victims?</td>\n",
       "      <td>0</td>\n",
       "      <td>0</td>\n",
       "      <td></td>\n",
       "      <td>1</td>\n",
       "      <td>1</td>\n",
       "    </tr>\n",
       "    <tr>\n",
       "      <th>9</th>\n",
       "      <td>0</td>\n",
       "      <td>your own technology business</td>\n",
       "      <td>0</td>\n",
       "      <td>0</td>\n",
       "      <td></td>\n",
       "      <td>0</td>\n",
       "      <td>0</td>\n",
       "    </tr>\n",
       "    <tr>\n",
       "      <th>10</th>\n",
       "      <td>0</td>\n",
       "      <td>American Cities close to tourist attractions</td>\n",
       "      <td>0</td>\n",
       "      <td>0</td>\n",
       "      <td></td>\n",
       "      <td>0</td>\n",
       "      <td>1</td>\n",
       "    </tr>\n",
       "    <tr>\n",
       "      <th>11</th>\n",
       "      <td>1</td>\n",
       "      <td>new york SUNY colleges</td>\n",
       "      <td>1</td>\n",
       "      <td>0</td>\n",
       "      <td>suny</td>\n",
       "      <td>0</td>\n",
       "      <td>1</td>\n",
       "    </tr>\n",
       "    <tr>\n",
       "      <th>12</th>\n",
       "      <td>2</td>\n",
       "      <td>Merck lobbists</td>\n",
       "      <td>2</td>\n",
       "      <td>0</td>\n",
       "      <td>lobbists merck</td>\n",
       "      <td>0</td>\n",
       "      <td>1</td>\n",
       "    </tr>\n",
       "    <tr>\n",
       "      <th>13</th>\n",
       "      <td>0</td>\n",
       "      <td>Red Bull side effects</td>\n",
       "      <td>0</td>\n",
       "      <td>0</td>\n",
       "      <td></td>\n",
       "      <td>0</td>\n",
       "      <td>1</td>\n",
       "    </tr>\n",
       "    <tr>\n",
       "      <th>14</th>\n",
       "      <td>0</td>\n",
       "      <td>infant development western eastern cultures</td>\n",
       "      <td>0</td>\n",
       "      <td>0</td>\n",
       "      <td></td>\n",
       "      <td>0</td>\n",
       "      <td>0</td>\n",
       "    </tr>\n",
       "  </tbody>\n",
       "</table>\n",
       "</div>"
      ],
      "text/plain": [
       "    numSpellingErrors                                            query  \\\n",
       "0                   0                                    it consulting   \n",
       "1                   1                             JP Morgan Chase data   \n",
       "2                   0              fun violence control constitutional   \n",
       "3                   1                         swahili food traditional   \n",
       "4                   1  Russian nuclear submarine Kursk politics russia   \n",
       "5                   0                              growth in bollywood   \n",
       "6                   0                               junk food tax cons   \n",
       "7                  -1    Leading Parhmacutical companyies and lobbying   \n",
       "8                   0              What were the names of the victims?   \n",
       "9                   0                     your own technology business   \n",
       "10                  0     American Cities close to tourist attractions   \n",
       "11                  1                           new york SUNY colleges   \n",
       "12                  2                                   Merck lobbists   \n",
       "13                  0                            Red Bull side effects   \n",
       "14                  0      infant development western eastern cultures   \n",
       "\n",
       "    offByOne  kidsError              ms  punct  casing  \n",
       "0          0          0                      0       0  \n",
       "1          1          0              jp      0       1  \n",
       "2          0          0                      0       0  \n",
       "3          0          0         swahili      0       0  \n",
       "4          0          0           kursk      0       1  \n",
       "5          0          0                      0       0  \n",
       "6          0          0                      0       0  \n",
       "7         -1         -1   parhmacutical      0       1  \n",
       "8          0          0                      1       1  \n",
       "9          0          0                      0       0  \n",
       "10         0          0                      0       1  \n",
       "11         1          0            suny      0       1  \n",
       "12         2          0  lobbists merck      0       1  \n",
       "13         0          0                      0       1  \n",
       "14         0          0                      0       0  "
      ]
     },
     "execution_count": 32,
     "metadata": {},
     "output_type": "execute_result"
    }
   ],
   "source": [
    "spelling.head(15)"
   ]
  },
  {
   "cell_type": "code",
   "execution_count": 33,
   "metadata": {},
   "outputs": [
    {
     "data": {
      "text/plain": [
       "'/Users/assoumerredempta/Documents/Fall_2022/Artifact_UI/FeatureExtraction'"
      ]
     },
     "execution_count": 33,
     "metadata": {},
     "output_type": "execute_result"
    }
   ],
   "source": [
    "pwd"
   ]
  },
  {
   "cell_type": "code",
   "execution_count": 34,
   "metadata": {},
   "outputs": [],
   "source": [
    "\n",
    "# pip install python-Levenshtein\n",
    "# from Levenshtein import distance as lev\n",
    "# lev('companies', 'companyies')"
   ]
  },
  {
   "cell_type": "code",
   "execution_count": 35,
   "metadata": {},
   "outputs": [
    {
     "name": "stdout",
     "output_type": "stream",
     "text": [
      "done\n"
     ]
    }
   ],
   "source": [
    "print('done')"
   ]
  },
  {
   "cell_type": "code",
   "execution_count": null,
   "metadata": {},
   "outputs": [],
   "source": []
  }
 ],
 "metadata": {
  "kernelspec": {
   "display_name": "Python 3",
   "language": "python",
   "name": "python3"
  },
  "language_info": {
   "codemirror_mode": {
    "name": "ipython",
    "version": 3
   },
   "file_extension": ".py",
   "mimetype": "text/x-python",
   "name": "python",
   "nbconvert_exporter": "python",
   "pygments_lexer": "ipython3",
   "version": "3.8.8"
  }
 },
 "nbformat": 4,
 "nbformat_minor": 4
}
