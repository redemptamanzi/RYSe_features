{
 "cells": [
  {
   "cell_type": "markdown",
   "metadata": {},
   "source": [
    "The code in this notebook combines all the extracted feature sets to allow for experimentation."
   ]
  },
  {
   "cell_type": "markdown",
   "metadata": {},
   "source": [
    "# Load Libraries\n",
    "\n",
    "Import libraries used in this notebook."
   ]
  },
  {
   "cell_type": "code",
   "execution_count": 1,
   "metadata": {},
   "outputs": [],
   "source": [
    "import pickle\n",
    "\n",
    "import pandas as pd"
   ]
  },
  {
   "cell_type": "markdown",
   "metadata": {},
   "source": [
    "# Load Data Sets And Preprocess\n",
    "\n",
    "The following block of code loads up the two data sets and starts steps towards preprocessing them for our experiments."
   ]
  },
  {
   "cell_type": "code",
   "execution_count": 2,
   "metadata": {},
   "outputs": [],
   "source": [
    "SWC = pickle.load( open( \"../Data/DataSets/SWC/SWC.p\", \"rb\" ) )\n",
    "SQS = pickle.load( open( \"../Data/DataSets/SQS/SQS.p\", \"rb\" ) )\n",
    "\n",
    "SWC = SWC[['sID', 'query', 'type', 'class']]\n",
    "SQS = SQS[['sID', 'query', 'class']]"
   ]
  },
  {
   "cell_type": "code",
   "execution_count": 3,
   "metadata": {},
   "outputs": [
    {
     "data": {
      "text/html": [
       "<div>\n",
       "<style scoped>\n",
       "    .dataframe tbody tr th:only-of-type {\n",
       "        vertical-align: middle;\n",
       "    }\n",
       "\n",
       "    .dataframe tbody tr th {\n",
       "        vertical-align: top;\n",
       "    }\n",
       "\n",
       "    .dataframe thead th {\n",
       "        text-align: right;\n",
       "    }\n",
       "</style>\n",
       "<table border=\"1\" class=\"dataframe\">\n",
       "  <thead>\n",
       "    <tr style=\"text-align: right;\">\n",
       "      <th></th>\n",
       "      <th>sID</th>\n",
       "      <th>query</th>\n",
       "      <th>class</th>\n",
       "    </tr>\n",
       "  </thead>\n",
       "  <tbody>\n",
       "    <tr>\n",
       "      <th>0</th>\n",
       "      <td>39899</td>\n",
       "      <td>collagen vascular disease lifestyle</td>\n",
       "      <td>0</td>\n",
       "    </tr>\n",
       "    <tr>\n",
       "      <th>1</th>\n",
       "      <td>39900</td>\n",
       "      <td>france world cup 1998 reactions</td>\n",
       "      <td>0</td>\n",
       "    </tr>\n",
       "    <tr>\n",
       "      <th>2</th>\n",
       "      <td>39901</td>\n",
       "      <td>dooney bourke look alike purses</td>\n",
       "      <td>0</td>\n",
       "    </tr>\n",
       "    <tr>\n",
       "      <th>3</th>\n",
       "      <td>39902</td>\n",
       "      <td>VOIP phones</td>\n",
       "      <td>0</td>\n",
       "    </tr>\n",
       "    <tr>\n",
       "      <th>4</th>\n",
       "      <td>39903</td>\n",
       "      <td>Travel to the poconos</td>\n",
       "      <td>0</td>\n",
       "    </tr>\n",
       "    <tr>\n",
       "      <th>...</th>\n",
       "      <td>...</td>\n",
       "      <td>...</td>\n",
       "      <td>...</td>\n",
       "    </tr>\n",
       "    <tr>\n",
       "      <th>296</th>\n",
       "      <td>41399</td>\n",
       "      <td>Who plays the bad guy in Star Wars the Horde a...</td>\n",
       "      <td>1</td>\n",
       "    </tr>\n",
       "    <tr>\n",
       "      <th>297</th>\n",
       "      <td>41400</td>\n",
       "      <td>What is a fox's favorite kind of food?</td>\n",
       "      <td>1</td>\n",
       "    </tr>\n",
       "    <tr>\n",
       "      <th>298</th>\n",
       "      <td>41401</td>\n",
       "      <td>Show me the movie called \"The Martian\"</td>\n",
       "      <td>1</td>\n",
       "    </tr>\n",
       "    <tr>\n",
       "      <th>299</th>\n",
       "      <td>41402</td>\n",
       "      <td>What is the biggest rock found on Mars?</td>\n",
       "      <td>1</td>\n",
       "    </tr>\n",
       "    <tr>\n",
       "      <th>300</th>\n",
       "      <td>41403</td>\n",
       "      <td>What is the top game this week?</td>\n",
       "      <td>1</td>\n",
       "    </tr>\n",
       "  </tbody>\n",
       "</table>\n",
       "<p>1505 rows × 3 columns</p>\n",
       "</div>"
      ],
      "text/plain": [
       "       sID                                              query  class\n",
       "0    39899                collagen vascular disease lifestyle      0\n",
       "1    39900                    france world cup 1998 reactions      0\n",
       "2    39901                    dooney bourke look alike purses      0\n",
       "3    39902                                        VOIP phones      0\n",
       "4    39903                              Travel to the poconos      0\n",
       "..     ...                                                ...    ...\n",
       "296  41399  Who plays the bad guy in Star Wars the Horde a...      1\n",
       "297  41400             What is a fox's favorite kind of food?      1\n",
       "298  41401             Show me the movie called \"The Martian\"      1\n",
       "299  41402            What is the biggest rock found on Mars?      1\n",
       "300  41403                    What is the top game this week?      1\n",
       "\n",
       "[1505 rows x 3 columns]"
      ]
     },
     "execution_count": 3,
     "metadata": {},
     "output_type": "execute_result"
    }
   ],
   "source": [
    "SQS"
   ]
  },
  {
   "cell_type": "markdown",
   "metadata": {},
   "source": [
    "# Load Extracted Features \n",
    "\n",
    "In the following block of code we load all feature sets before merging all the text based features into one dataframe before joining all feature sets together."
   ]
  },
  {
   "cell_type": "code",
   "execution_count": 4,
   "metadata": {},
   "outputs": [],
   "source": [
    "searchFeatSWC = pickle.load( open( \"Pickles/SearchFeatSWC.p\", \"rb\" ) )\n",
    "searchFeatSQS = pickle.load( open( \"Pickles/SearchFeatSQS.p\", \"rb\" ) )\n",
    "\n",
    "vocabFeat = pickle.load( open( \"Pickles/VocabFeat.p\", \"rb\" ) )\n",
    "lexFeat = pickle.load( open( \"Pickles/LexFeat.p\", \"rb\" ) )\n",
    "synFeat = pickle.load( open( \"Pickles/SynFeat.p\", \"rb\" ) )\n",
    "sPFeat = pickle.load( open( \"Pickles/SPFeat.p\", \"rb\" ) )\n",
    "\n",
    "textBasedFeat = sPFeat.merge(vocabFeat)\n",
    "textBasedFeat = textBasedFeat.merge(lexFeat)\n",
    "textBasedFeat = textBasedFeat.merge(synFeat)\n",
    "\n",
    "SWCAll = SWC.merge(textBasedFeat, how='inner', on='query')\n",
    "SWCAll = SWCAll[SWCAll['type'] == 'Q'].groupby('sID').mean()\n",
    "SWCAll = SWCAll.join(searchFeatSWC)\n",
    "\n",
    "SQSAll = SQS.merge(textBasedFeat, how='inner', on='query')\n",
    "SQSAll = SQSAll.set_index('sID')\n",
    "searchFeatSQS = searchFeatSQS.drop(columns = ['query','class'])\n",
    "SQSAll = pd.merge(SQSAll, searchFeatSQS, left_index=True, right_index=True)\n",
    "SQSAll = SQSAll.drop(columns = ['query'])"
   ]
  },
  {
   "cell_type": "markdown",
   "metadata": {},
   "source": [
    "# Return Aggregated Extracted Features\n",
    "\n",
    "The following block of code returns the extracted features aggregated with their respective data sets."
   ]
  },
  {
   "cell_type": "code",
   "execution_count": 5,
   "metadata": {},
   "outputs": [],
   "source": [
    "pickle.dump(SWCAll, open( \"DataSets/SWCFeatures/SWCFeat.p\", \"wb\" ) )\n",
    "pickle.dump(SQSAll, open( \"DataSets/SQSFeatures/SQSFeat.p\", \"wb\" ) )"
   ]
  }
 ],
 "metadata": {
  "kernelspec": {
   "display_name": "Python 3",
   "language": "python",
   "name": "python3"
  },
  "language_info": {
   "codemirror_mode": {
    "name": "ipython",
    "version": 3
   },
   "file_extension": ".py",
   "mimetype": "text/x-python",
   "name": "python",
   "nbconvert_exporter": "python",
   "pygments_lexer": "ipython3",
   "version": "3.7.9"
  }
 },
 "nbformat": 4,
 "nbformat_minor": 4
}
