{
 "cells": [
  {
   "cell_type": "markdown",
   "metadata": {},
   "source": [
    "This notebook is intended to extract all search related features from sessions. The method of aggregating features is similar to other feature extraction notebooks, mapping aggregated feature values to session IDs/"
   ]
  },
  {
   "cell_type": "markdown",
   "metadata": {},
   "source": [
    "# Load Libraries"
   ]
  },
  {
   "cell_type": "code",
   "execution_count": 1,
   "metadata": {},
   "outputs": [],
   "source": [
    "import pickle\n",
    "\n",
    "import pandas as pd\n",
    "import numpy as np\n",
    "\n",
    "from Levenshtein import distance as levenshtein_distance"
   ]
  },
  {
   "cell_type": "markdown",
   "metadata": {},
   "source": [
    "# Load Data Sets\n",
    "\n",
    "Load both data sets, process the SWC so it can be handled on a session by session basis. The same is done for SQS."
   ]
  },
  {
   "cell_type": "code",
   "execution_count": 2,
   "metadata": {},
   "outputs": [],
   "source": [
    "allSessions = pickle.load( open( \"../Data/DataSets/SWC/SWC.p\", \"rb\" ) )\n",
    "sessions = allSessions.groupby('sID').apply(pd.Series.tolist).tolist()\n",
    "allSessionsSQS = pickle.load( open( \"../Data/DataSets/SQS/SQS.p\", \"rb\" ) )\n"
   ]
  },
  {
   "cell_type": "markdown",
   "metadata": {},
   "source": [
    "# Number of Queries\n",
    "\n",
    "The following block of code counts number of queries per session."
   ]
  },
  {
   "cell_type": "code",
   "execution_count": 3,
   "metadata": {},
   "outputs": [],
   "source": [
    "searchFeat = pd.DataFrame(data = allSessions[allSessions['type']=='Q'].groupby('sID')['type'].count())\n",
    "searchFeat = searchFeat.rename(columns = {'type': 'numQueries'})"
   ]
  },
  {
   "cell_type": "markdown",
   "metadata": {},
   "source": [
    "# Number of Clicks\n",
    "\n",
    "The following block of code counts number of clicks per session."
   ]
  },
  {
   "cell_type": "code",
   "execution_count": 4,
   "metadata": {},
   "outputs": [],
   "source": [
    "numC = pd.DataFrame(data = allSessions[allSessions['type']=='C'].groupby('sID')['type'].count())\n",
    "numC = numC.rename(columns = {'type': 'numClicks'})\n",
    "\n",
    "searchFeat = searchFeat.join(numC)"
   ]
  },
  {
   "cell_type": "markdown",
   "metadata": {},
   "source": [
    "# Number of Clicks Per Query\n",
    "\n",
    "The following block of code determines average number of clicks per query per session."
   ]
  },
  {
   "cell_type": "code",
   "execution_count": 5,
   "metadata": {},
   "outputs": [],
   "source": [
    "searchFeat['numClicksPerQuery'] = searchFeat['numQueries']/searchFeat['numClicks']"
   ]
  },
  {
   "cell_type": "markdown",
   "metadata": {},
   "source": [
    "# Average Click Position"
   ]
  },
  {
   "cell_type": "code",
   "execution_count": 6,
   "metadata": {},
   "outputs": [],
   "source": [
    "allSessionsC = allSessions[allSessions['type']=='C']\n",
    "allSessionsC = allSessionsC.astype({'click': 'int32'})\n",
    "avgC = pd.DataFrame(data = allSessionsC.groupby('sID').mean()['click'])\n",
    "avgC = avgC.rename(columns = {'click': 'meanClickPosition'})\n",
    "\n",
    "searchFeat = searchFeat.join(avgC)"
   ]
  },
  {
   "cell_type": "markdown",
   "metadata": {},
   "source": [
    "# Distance Between Queries\n",
    "\n",
    "In the following block of code we measure the levenhsten distances between queries in a session.\n",
    "\n",
    "\n"
   ]
  },
  {
   "cell_type": "code",
   "execution_count": 7,
   "metadata": {},
   "outputs": [],
   "source": [
    "distances = []\n",
    "for session in sessions:\n",
    "    distance = []\n",
    "    currentQuery = \"\"\n",
    "    for query in session:\n",
    "        if query[5] == 'Q':\n",
    "            if currentQuery ==\"\":\n",
    "                currentQuery = query[1]\n",
    "                distance.append(0)\n",
    "            else:\n",
    "                distance.append(levenshtein_distance(currentQuery,query[1]))\n",
    "                currentQuery = query[1]\n",
    "        else:\n",
    "            distance.append(-1)\n",
    "    distances.append(distance)\n",
    "    distance = []\n",
    "    \n",
    "distancesFlat = [item for sublist in distances for item in sublist]\n",
    "allSessions['queryDistance'] = distancesFlat\n",
    "\n",
    "queryDistance = pd.DataFrame(data = allSessions[allSessions['type']=='Q'].groupby('sID')['queryDistance'].mean())\n",
    "searchFeat = searchFeat.join(queryDistance)"
   ]
  },
  {
   "cell_type": "markdown",
   "metadata": {},
   "source": [
    "# Time Between Queries\n",
    "\n",
    "In the following block of code we measure the time between each query."
   ]
  },
  {
   "cell_type": "code",
   "execution_count": 8,
   "metadata": {},
   "outputs": [],
   "source": [
    "timeQueries = []\n",
    "for session in sessions:\n",
    "    distance = []\n",
    "    currentTime = -1\n",
    "    for query in session:\n",
    "        if query[5] == 'Q':\n",
    "            if currentTime ==- 1:\n",
    "                currentTime = query[2]\n",
    "                distance.append(0.0)\n",
    "            else:\n",
    "                distance.append(float(query[2])-float(currentTime))\n",
    "                currentTime = query[2]\n",
    "        else:\n",
    "            distance.append(-1)\n",
    "    timeQueries.append(distance)\n",
    "    distance = []\n",
    "    \n",
    "timeQueriesFlat = [item for sublist in timeQueries for item in sublist]\n",
    "allSessions['timeQueries'] = timeQueriesFlat\n",
    "\n",
    "timeQueries = pd.DataFrame(data = allSessions[allSessions['type']=='C'].groupby('sID')['timeQueries'].mean())\n",
    "searchFeat = searchFeat.join(timeQueries)"
   ]
  },
  {
   "cell_type": "markdown",
   "metadata": {},
   "source": [
    "# Number of Unique Queries and If All Queries Are The Same\n",
    "\n",
    "In the following block of code marks whether counts the number of unique queries and determines if all queries are the same query by comparing the length of the set of queries with total number of queries. If a session contains more than one query but only has a set of one unique query, we know that session contains all the same query and is marked as such."
   ]
  },
  {
   "cell_type": "code",
   "execution_count": 9,
   "metadata": {},
   "outputs": [],
   "source": [
    "uniqueQueries = []\n",
    "allSameQueries = []\n",
    "\n",
    "for session in sessions:\n",
    "    \n",
    "    queries = []\n",
    "    \n",
    "    for query in session:\n",
    "        if query[5] == 'Q':\n",
    "            queries.append(query[1])\n",
    "    numUniqQueries = len(set(queries))\n",
    "    \n",
    "\n",
    "    if (numUniqQueries == 1): \n",
    "        if len(queries) >1:\n",
    "            allSameQueries.append(1)\n",
    "        else:\n",
    "            allSameQueries.append(-1)\n",
    "    else:\n",
    "        allSameQueries.append(0)\n",
    "            \n",
    "    uniqueQueries.append(numUniqQueries)\n",
    "\n",
    "searchFeat['uniqueQueries'] = uniqueQueries\n",
    "searchFeat['allSameQueries'] = allSameQueries"
   ]
  },
  {
   "cell_type": "markdown",
   "metadata": {},
   "source": [
    "# Number of Repeat Queries\n",
    "\n",
    "In the following block of code we count the number of repeated queries, not including the first instance of the query."
   ]
  },
  {
   "cell_type": "code",
   "execution_count": 10,
   "metadata": {},
   "outputs": [],
   "source": [
    "repeatQueries = []\n",
    "\n",
    "for session in sessions:\n",
    "    \n",
    "    repeat = []\n",
    "    \n",
    "    for query in session:\n",
    "        \n",
    "        if query[5] == 'Q':\n",
    "            for query2 in session:\n",
    "                if query2[5] == 'Q':\n",
    "                    if query == query2:\n",
    "                        repeat.append(0)\n",
    "                        break\n",
    "                    if query[1] == query2[1]:\n",
    "                        repeat.append(1)\n",
    "                        break\n",
    "\n",
    "        else:\n",
    "            repeat.append(0)\n",
    "            \n",
    "    repeatQueries.append(repeat)\n",
    "\n",
    "repeatQueriesFlat = [item for sublist in repeatQueries for item in sublist]\n",
    "allSessions['repeatQueries'] = repeatQueriesFlat\n",
    "\n",
    "repeatQueries = pd.DataFrame(data = allSessions[allSessions['type']=='Q'].groupby('sID')['repeatQueries'].sum())\n",
    "searchFeat = searchFeat.join(repeatQueries)"
   ]
  },
  {
   "cell_type": "markdown",
   "metadata": {},
   "source": [
    "# Number of Unique Clicks and If All Clicks Are The Same\n",
    "\n",
    "In the following block of code counts the number of unique clicks and determines if all queries are the same clicks by comparing the length of the set of clicks with total number of clicks. If a session contains more than one click but only has a set of one unique click, we know that session contains all the same clicks and is marked as such."
   ]
  },
  {
   "cell_type": "code",
   "execution_count": 11,
   "metadata": {},
   "outputs": [],
   "source": [
    "uniqueClicks = []\n",
    "allSameClicks = []\n",
    "\n",
    "for session in sessions:\n",
    "    \n",
    "    clicks = []\n",
    "  \n",
    "    for query in session:\n",
    "        if query[5] == 'C':\n",
    "            clicks.append(query[4])\n",
    "\n",
    "    numUniqClicks = len(set(clicks))\n",
    "    \n",
    "\n",
    "    uniqueClicks.append(numUniqClicks)\n",
    "    if (numUniqClicks == 1): \n",
    "        if len(clicks) >1:\n",
    "            allSameClicks.append(1)\n",
    "        else:\n",
    "            allSameClicks.append(-1)\n",
    "    else:\n",
    "        allSameClicks.append(0)\n",
    "            \n",
    "\n",
    "searchFeat['uniqueClicks'] = uniqueClicks\n",
    "searchFeat['allSameClicks'] = allSameClicks"
   ]
  },
  {
   "cell_type": "markdown",
   "metadata": {},
   "source": [
    "# Number of Repeat Clicks\n",
    "\n",
    "In the following block of code we count the number of repeated clicks, not including the first instance of the click."
   ]
  },
  {
   "cell_type": "code",
   "execution_count": 12,
   "metadata": {},
   "outputs": [],
   "source": [
    "repeatClicks = []\n",
    "\n",
    "for session in sessions:\n",
    "    \n",
    "    repeat = []\n",
    "\n",
    "    for entry in session:\n",
    "        if entry[5] == 'C':\n",
    "            for entryLoop in session:\n",
    "                if entryLoop[5] == 'C':\n",
    "                    if entry == entryLoop:\n",
    "                        repeat.append(0)\n",
    "                        break\n",
    "                    if entry[4] == entryLoop[4]:\n",
    "                        repeat.append(1)\n",
    "                        break\n",
    "\n",
    "        else:\n",
    "            repeat.append(0)\n",
    "    \n",
    "    repeatClicks.append(repeat)\n",
    "\n",
    "repeatClicks = [item for sublist in repeatClicks for item in sublist]\n",
    "allSessions['repeatClicks'] = repeatClicks\n",
    "\n",
    "repeatClicks = pd.DataFrame(data = allSessions[allSessions['type']=='C'].groupby('sID')['repeatClicks'].sum())\n",
    "searchFeat = searchFeat.join(repeatClicks)"
   ]
  },
  {
   "cell_type": "markdown",
   "metadata": {},
   "source": [
    "# Time Between Clicks\n",
    "\n",
    "The following block of code is intended to calculate the time between clicks, however due to the nature of the AOL query logs (which gave the same timestamp to the clicks following a query as the query itself), the following code calculates the time between groups of clicks seperated by queries."
   ]
  },
  {
   "cell_type": "code",
   "execution_count": 13,
   "metadata": {},
   "outputs": [],
   "source": [
    "timeClicks = []\n",
    "for session in sessions:\n",
    "    distance = []\n",
    "    currentTime = -1\n",
    "    check = False\n",
    "    for query in session:\n",
    "        if query[5] == 'C':\n",
    "            if currentTime ==- 1:\n",
    "                currentTime = query[2]\n",
    "                distance.append(0.0)\n",
    "            elif check == True:\n",
    "                distance.append(-1)\n",
    "            else:\n",
    "                distance.append(float(query[2])-float(currentTime))\n",
    "                currentTime = query[2]\n",
    "                check = True\n",
    "        else:\n",
    "            distance.append(-1)\n",
    "            check = False\n",
    "    distance = np.array(distance)\n",
    "    distance = distance[distance != -1]\n",
    "    \n",
    "    timeClicks.append(distance.mean())\n",
    "\n",
    "searchFeat['timeClicks'] = timeClicks"
   ]
  },
  {
   "cell_type": "markdown",
   "metadata": {},
   "source": [
    "# Distance Between Query and Click URL\n",
    "\n",
    "The following block of code measures the Levenhstein distance (based on character) between search queries and each url click."
   ]
  },
  {
   "cell_type": "code",
   "execution_count": 14,
   "metadata": {},
   "outputs": [],
   "source": [
    "clickDistance = []\n",
    "for session in sessions:\n",
    "    distance = []\n",
    "    for query in session:\n",
    "        if query[5] == 'C':\n",
    "            distance.append(levenshtein_distance(query[4], query[1]))\n",
    "        else:\n",
    "            distance.append(-1)\n",
    "    clickDistance.append(distance)\n",
    "\n",
    "clickDistanceFlat = [item for sublist in clickDistance for item in sublist]\n",
    "allSessions['clickDistance'] = clickDistanceFlat\n",
    "\n",
    "clickDistance = pd.DataFrame(data = allSessions[allSessions['type']=='C'].groupby('sID')['clickDistance'].count())\n",
    "searchFeat = searchFeat.join(clickDistance)"
   ]
  },
  {
   "cell_type": "markdown",
   "metadata": {},
   "source": [
    "# Extract Features for SQS\n",
    "\n",
    "Extract all of the previous described features from the SQS data set."
   ]
  },
  {
   "cell_type": "code",
   "execution_count": 15,
   "metadata": {},
   "outputs": [],
   "source": [
    "allSessionsSQS['numQueries'] = 1\n",
    "allSessionsSQS['numClicks'] = -1\n",
    "allSessionsSQS['numClicksPerQuery'] = -1\n",
    "allSessionsSQS['meanClickPosition'] = -1\n",
    "allSessionsSQS['queryDistance'] = -1\n",
    "allSessionsSQS['timeQueries'] = -1\n",
    "allSessionsSQS['uniqueQueries'] = 1\n",
    "allSessionsSQS['allSameQueries'] = 0\n",
    "allSessionsSQS['repeatQueries'] = -1\n",
    "allSessionsSQS['uniqueClicks'] = -1\n",
    "allSessionsSQS['allSameClicks'] = -1\n",
    "allSessionsSQS['repeatClicks'] = -1\n",
    "allSessionsSQS['timeClicks'] = -1\n",
    "allSessionsSQS['clickDistance'] = -1\n",
    "allSessionsSQS = allSessionsSQS.set_index('sID')"
   ]
  },
  {
   "cell_type": "markdown",
   "metadata": {},
   "source": [
    "# Return Feature Set\n",
    "\n",
    "Returns dataframes of search features extracted from both SWC and SQS."
   ]
  },
  {
   "cell_type": "code",
   "execution_count": 16,
   "metadata": {},
   "outputs": [],
   "source": [
    "pickle.dump( allSessionsSQS, open( \"Pickles/SearchFeatSQS.p\", \"wb\" ) )\n",
    "pickle.dump( searchFeat, open( \"Pickles/SearchFeatSWC.p\", \"wb\" ) )"
   ]
  }
 ],
 "metadata": {
  "kernelspec": {
   "display_name": "Python 3",
   "language": "python",
   "name": "python3"
  },
  "language_info": {
   "codemirror_mode": {
    "name": "ipython",
    "version": 3
   },
   "file_extension": ".py",
   "mimetype": "text/x-python",
   "name": "python",
   "nbconvert_exporter": "python",
   "pygments_lexer": "ipython3",
   "version": "3.7.9"
  }
 },
 "nbformat": 4,
 "nbformat_minor": 4
}
