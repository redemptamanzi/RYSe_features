{
 "cells": [
  {
   "cell_type": "markdown",
   "metadata": {},
   "source": [
    "The code in this notebook combines all the extracted feature sets to allow for experimentation."
   ]
  },
  {
   "cell_type": "markdown",
   "metadata": {},
   "source": [
    "# Load Libraries\n",
    "\n",
    "Import libraries used in this notebook."
   ]
  },
  {
   "cell_type": "code",
   "execution_count": 9,
   "metadata": {},
   "outputs": [],
   "source": [
    "import pickle\n",
    "import pandas as pd\n",
    "import seaborn as sns\n",
    "\n",
    "from sklearn.feature_selection import mutual_info_classif\n",
    "from matplotlib import pyplot as plt"
   ]
  },
  {
   "cell_type": "markdown",
   "metadata": {},
   "source": [
    "# Load Data Sets And Preprocess\n",
    "\n",
    "The following block of code loads up the two data sets and starts steps towards preprocessing them for our experiments."
   ]
  },
  {
   "cell_type": "code",
   "execution_count": 10,
   "metadata": {},
   "outputs": [
    {
     "data": {
      "text/plain": [
       "(1505, 3)"
      ]
     },
     "execution_count": 10,
     "metadata": {},
     "output_type": "execute_result"
    }
   ],
   "source": [
    "# shall be importing different datasets\n",
    "SQS = pickle.load( open( \"../Data/DataSets/SQS/SQS.p\", \"rb\" ) )\n",
    "# SQS = SQS.drop_duplicates(subset=['query'])\n",
    "SQS.shape"
   ]
  },
  {
   "cell_type": "code",
   "execution_count": 11,
   "metadata": {},
   "outputs": [
    {
     "data": {
      "text/html": [
       "<div>\n",
       "<style scoped>\n",
       "    .dataframe tbody tr th:only-of-type {\n",
       "        vertical-align: middle;\n",
       "    }\n",
       "\n",
       "    .dataframe tbody tr th {\n",
       "        vertical-align: top;\n",
       "    }\n",
       "\n",
       "    .dataframe thead th {\n",
       "        text-align: right;\n",
       "    }\n",
       "</style>\n",
       "<table border=\"1\" class=\"dataframe\">\n",
       "  <thead>\n",
       "    <tr style=\"text-align: right;\">\n",
       "      <th></th>\n",
       "      <th>query</th>\n",
       "      <th>class</th>\n",
       "      <th>sID</th>\n",
       "    </tr>\n",
       "  </thead>\n",
       "  <tbody>\n",
       "    <tr>\n",
       "      <th>0</th>\n",
       "      <td>becoming a fireman</td>\n",
       "      <td>0</td>\n",
       "      <td>3199</td>\n",
       "    </tr>\n",
       "    <tr>\n",
       "      <th>1</th>\n",
       "      <td>hotel in Pocono Mountains</td>\n",
       "      <td>0</td>\n",
       "      <td>2515</td>\n",
       "    </tr>\n",
       "    <tr>\n",
       "      <th>2</th>\n",
       "      <td>wedding traditions buddhism</td>\n",
       "      <td>0</td>\n",
       "      <td>2823</td>\n",
       "    </tr>\n",
       "    <tr>\n",
       "      <th>3</th>\n",
       "      <td>diversification in hiring</td>\n",
       "      <td>0</td>\n",
       "      <td>3033</td>\n",
       "    </tr>\n",
       "    <tr>\n",
       "      <th>4</th>\n",
       "      <td>traiditional swahili recipes</td>\n",
       "      <td>0</td>\n",
       "      <td>3145</td>\n",
       "    </tr>\n",
       "    <tr>\n",
       "      <th>...</th>\n",
       "      <td>...</td>\n",
       "      <td>...</td>\n",
       "      <td>...</td>\n",
       "    </tr>\n",
       "    <tr>\n",
       "      <th>1500</th>\n",
       "      <td>Who plays the bad guy in Star Wars the Horde a...</td>\n",
       "      <td>1</td>\n",
       "      <td>3256</td>\n",
       "    </tr>\n",
       "    <tr>\n",
       "      <th>1501</th>\n",
       "      <td>What is a fox's favorite kind of food?</td>\n",
       "      <td>1</td>\n",
       "      <td>2859</td>\n",
       "    </tr>\n",
       "    <tr>\n",
       "      <th>1502</th>\n",
       "      <td>Show me the movie called \"The Martian\"</td>\n",
       "      <td>1</td>\n",
       "      <td>3208</td>\n",
       "    </tr>\n",
       "    <tr>\n",
       "      <th>1503</th>\n",
       "      <td>What is the biggest rock found on Mars?</td>\n",
       "      <td>1</td>\n",
       "      <td>2676</td>\n",
       "    </tr>\n",
       "    <tr>\n",
       "      <th>1504</th>\n",
       "      <td>What is the top game this week?</td>\n",
       "      <td>1</td>\n",
       "      <td>2703</td>\n",
       "    </tr>\n",
       "  </tbody>\n",
       "</table>\n",
       "<p>1505 rows × 3 columns</p>\n",
       "</div>"
      ],
      "text/plain": [
       "                                                  query  class   sID\n",
       "0                                    becoming a fireman      0  3199\n",
       "1                             hotel in Pocono Mountains      0  2515\n",
       "2                           wedding traditions buddhism      0  2823\n",
       "3                             diversification in hiring      0  3033\n",
       "4                          traiditional swahili recipes      0  3145\n",
       "...                                                 ...    ...   ...\n",
       "1500  Who plays the bad guy in Star Wars the Horde a...      1  3256\n",
       "1501             What is a fox's favorite kind of food?      1  2859\n",
       "1502             Show me the movie called \"The Martian\"      1  3208\n",
       "1503            What is the biggest rock found on Mars?      1  2676\n",
       "1504                    What is the top game this week?      1  2703\n",
       "\n",
       "[1505 rows x 3 columns]"
      ]
     },
     "execution_count": 11,
     "metadata": {},
     "output_type": "execute_result"
    }
   ],
   "source": [
    "SQS"
   ]
  },
  {
   "cell_type": "markdown",
   "metadata": {},
   "source": [
    "# Load Extracted Features \n",
    "\n",
    "In the following block of code we load all feature sets before merging all the text based features into one dataframe before joining all feature sets together."
   ]
  },
  {
   "cell_type": "code",
   "execution_count": 43,
   "metadata": {},
   "outputs": [],
   "source": [
    "vocabFeat = pickle.load( open( \"Pickles/VocabFeat.p\", \"rb\" ) )\n",
    "lexFeat = pickle.load( open( \"Pickles/LexFeat.p\", \"rb\" ) )\n",
    "synFeat = pickle.load( open( \"Pickles/SynFeat.p\", \"rb\" ) )\n",
    "sPFeat = pickle.load( open( \"Pickles/SPFeat.p\", \"rb\" ) )"
   ]
  },
  {
   "cell_type": "code",
   "execution_count": 44,
   "metadata": {},
   "outputs": [
    {
     "data": {
      "text/html": [
       "<div>\n",
       "<style scoped>\n",
       "    .dataframe tbody tr th:only-of-type {\n",
       "        vertical-align: middle;\n",
       "    }\n",
       "\n",
       "    .dataframe tbody tr th {\n",
       "        vertical-align: top;\n",
       "    }\n",
       "\n",
       "    .dataframe thead th {\n",
       "        text-align: right;\n",
       "    }\n",
       "</style>\n",
       "<table border=\"1\" class=\"dataframe\">\n",
       "  <thead>\n",
       "    <tr style=\"text-align: right;\">\n",
       "      <th></th>\n",
       "      <th>query</th>\n",
       "      <th>cc</th>\n",
       "      <th>cd</th>\n",
       "      <th>dt</th>\n",
       "      <th>ex</th>\n",
       "      <th>fw</th>\n",
       "      <th>in</th>\n",
       "      <th>jj</th>\n",
       "      <th>jjr</th>\n",
       "      <th>jjs</th>\n",
       "      <th>...</th>\n",
       "      <th>jj nns</th>\n",
       "      <th>jj to</th>\n",
       "      <th>nn in</th>\n",
       "      <th>nns in</th>\n",
       "      <th>in nn</th>\n",
       "      <th>dt nn</th>\n",
       "      <th>jj nn nn</th>\n",
       "      <th>nn nn nn</th>\n",
       "      <th>nn nn nns</th>\n",
       "      <th>to vb nn</th>\n",
       "    </tr>\n",
       "  </thead>\n",
       "  <tbody>\n",
       "    <tr>\n",
       "      <th>0</th>\n",
       "      <td>becoming a fireman</td>\n",
       "      <td>0.0</td>\n",
       "      <td>0.0</td>\n",
       "      <td>0.333333</td>\n",
       "      <td>0.0</td>\n",
       "      <td>0.0</td>\n",
       "      <td>0.000000</td>\n",
       "      <td>0.000000</td>\n",
       "      <td>0.0</td>\n",
       "      <td>0.000</td>\n",
       "      <td>...</td>\n",
       "      <td>0.0</td>\n",
       "      <td>0.0</td>\n",
       "      <td>0.000000</td>\n",
       "      <td>0.0</td>\n",
       "      <td>0.000</td>\n",
       "      <td>0.333333</td>\n",
       "      <td>0.0</td>\n",
       "      <td>0.0</td>\n",
       "      <td>0.0</td>\n",
       "      <td>0.0</td>\n",
       "    </tr>\n",
       "    <tr>\n",
       "      <th>1</th>\n",
       "      <td>hotel in Pocono Mountains</td>\n",
       "      <td>0.0</td>\n",
       "      <td>0.0</td>\n",
       "      <td>0.000000</td>\n",
       "      <td>0.0</td>\n",
       "      <td>0.0</td>\n",
       "      <td>0.250000</td>\n",
       "      <td>0.000000</td>\n",
       "      <td>0.0</td>\n",
       "      <td>0.000</td>\n",
       "      <td>...</td>\n",
       "      <td>0.0</td>\n",
       "      <td>0.0</td>\n",
       "      <td>0.250000</td>\n",
       "      <td>0.0</td>\n",
       "      <td>0.000</td>\n",
       "      <td>0.000000</td>\n",
       "      <td>0.0</td>\n",
       "      <td>0.0</td>\n",
       "      <td>0.0</td>\n",
       "      <td>0.0</td>\n",
       "    </tr>\n",
       "    <tr>\n",
       "      <th>2</th>\n",
       "      <td>wedding traditions buddhism</td>\n",
       "      <td>0.0</td>\n",
       "      <td>0.0</td>\n",
       "      <td>0.000000</td>\n",
       "      <td>0.0</td>\n",
       "      <td>0.0</td>\n",
       "      <td>0.000000</td>\n",
       "      <td>0.000000</td>\n",
       "      <td>0.0</td>\n",
       "      <td>0.000</td>\n",
       "      <td>...</td>\n",
       "      <td>0.0</td>\n",
       "      <td>0.0</td>\n",
       "      <td>0.000000</td>\n",
       "      <td>0.0</td>\n",
       "      <td>0.000</td>\n",
       "      <td>0.000000</td>\n",
       "      <td>0.0</td>\n",
       "      <td>0.0</td>\n",
       "      <td>0.0</td>\n",
       "      <td>0.0</td>\n",
       "    </tr>\n",
       "    <tr>\n",
       "      <th>3</th>\n",
       "      <td>diversification in hiring</td>\n",
       "      <td>0.0</td>\n",
       "      <td>0.0</td>\n",
       "      <td>0.000000</td>\n",
       "      <td>0.0</td>\n",
       "      <td>0.0</td>\n",
       "      <td>0.333333</td>\n",
       "      <td>0.000000</td>\n",
       "      <td>0.0</td>\n",
       "      <td>0.000</td>\n",
       "      <td>...</td>\n",
       "      <td>0.0</td>\n",
       "      <td>0.0</td>\n",
       "      <td>0.333333</td>\n",
       "      <td>0.0</td>\n",
       "      <td>0.000</td>\n",
       "      <td>0.000000</td>\n",
       "      <td>0.0</td>\n",
       "      <td>0.0</td>\n",
       "      <td>0.0</td>\n",
       "      <td>0.0</td>\n",
       "    </tr>\n",
       "    <tr>\n",
       "      <th>4</th>\n",
       "      <td>traiditional swahili recipes</td>\n",
       "      <td>0.0</td>\n",
       "      <td>0.0</td>\n",
       "      <td>0.000000</td>\n",
       "      <td>0.0</td>\n",
       "      <td>0.0</td>\n",
       "      <td>0.000000</td>\n",
       "      <td>0.333333</td>\n",
       "      <td>0.0</td>\n",
       "      <td>0.000</td>\n",
       "      <td>...</td>\n",
       "      <td>0.0</td>\n",
       "      <td>0.0</td>\n",
       "      <td>0.000000</td>\n",
       "      <td>0.0</td>\n",
       "      <td>0.000</td>\n",
       "      <td>0.000000</td>\n",
       "      <td>0.0</td>\n",
       "      <td>0.0</td>\n",
       "      <td>0.0</td>\n",
       "      <td>0.0</td>\n",
       "    </tr>\n",
       "    <tr>\n",
       "      <th>...</th>\n",
       "      <td>...</td>\n",
       "      <td>...</td>\n",
       "      <td>...</td>\n",
       "      <td>...</td>\n",
       "      <td>...</td>\n",
       "      <td>...</td>\n",
       "      <td>...</td>\n",
       "      <td>...</td>\n",
       "      <td>...</td>\n",
       "      <td>...</td>\n",
       "      <td>...</td>\n",
       "      <td>...</td>\n",
       "      <td>...</td>\n",
       "      <td>...</td>\n",
       "      <td>...</td>\n",
       "      <td>...</td>\n",
       "      <td>...</td>\n",
       "      <td>...</td>\n",
       "      <td>...</td>\n",
       "      <td>...</td>\n",
       "      <td>...</td>\n",
       "    </tr>\n",
       "    <tr>\n",
       "      <th>1500</th>\n",
       "      <td>Who plays the bad guy in Star Wars the Horde a...</td>\n",
       "      <td>0.0</td>\n",
       "      <td>0.0</td>\n",
       "      <td>0.181818</td>\n",
       "      <td>0.0</td>\n",
       "      <td>0.0</td>\n",
       "      <td>0.090909</td>\n",
       "      <td>0.090909</td>\n",
       "      <td>0.0</td>\n",
       "      <td>0.000</td>\n",
       "      <td>...</td>\n",
       "      <td>0.0</td>\n",
       "      <td>0.0</td>\n",
       "      <td>0.090909</td>\n",
       "      <td>0.0</td>\n",
       "      <td>0.000</td>\n",
       "      <td>0.000000</td>\n",
       "      <td>0.0</td>\n",
       "      <td>0.0</td>\n",
       "      <td>0.0</td>\n",
       "      <td>0.0</td>\n",
       "    </tr>\n",
       "    <tr>\n",
       "      <th>1501</th>\n",
       "      <td>What is a fox's favorite kind of food?</td>\n",
       "      <td>0.0</td>\n",
       "      <td>0.0</td>\n",
       "      <td>0.125000</td>\n",
       "      <td>0.0</td>\n",
       "      <td>0.0</td>\n",
       "      <td>0.125000</td>\n",
       "      <td>0.125000</td>\n",
       "      <td>0.0</td>\n",
       "      <td>0.000</td>\n",
       "      <td>...</td>\n",
       "      <td>0.0</td>\n",
       "      <td>0.0</td>\n",
       "      <td>0.125000</td>\n",
       "      <td>0.0</td>\n",
       "      <td>0.125</td>\n",
       "      <td>0.125000</td>\n",
       "      <td>0.0</td>\n",
       "      <td>0.0</td>\n",
       "      <td>0.0</td>\n",
       "      <td>0.0</td>\n",
       "    </tr>\n",
       "    <tr>\n",
       "      <th>1502</th>\n",
       "      <td>Show me the movie called \"The Martian\"</td>\n",
       "      <td>0.0</td>\n",
       "      <td>0.0</td>\n",
       "      <td>0.285714</td>\n",
       "      <td>0.0</td>\n",
       "      <td>0.0</td>\n",
       "      <td>0.000000</td>\n",
       "      <td>0.142857</td>\n",
       "      <td>0.0</td>\n",
       "      <td>0.000</td>\n",
       "      <td>...</td>\n",
       "      <td>0.0</td>\n",
       "      <td>0.0</td>\n",
       "      <td>0.000000</td>\n",
       "      <td>0.0</td>\n",
       "      <td>0.000</td>\n",
       "      <td>0.142857</td>\n",
       "      <td>0.0</td>\n",
       "      <td>0.0</td>\n",
       "      <td>0.0</td>\n",
       "      <td>0.0</td>\n",
       "    </tr>\n",
       "    <tr>\n",
       "      <th>1503</th>\n",
       "      <td>What is the biggest rock found on Mars?</td>\n",
       "      <td>0.0</td>\n",
       "      <td>0.0</td>\n",
       "      <td>0.125000</td>\n",
       "      <td>0.0</td>\n",
       "      <td>0.0</td>\n",
       "      <td>0.125000</td>\n",
       "      <td>0.000000</td>\n",
       "      <td>0.0</td>\n",
       "      <td>0.125</td>\n",
       "      <td>...</td>\n",
       "      <td>0.0</td>\n",
       "      <td>0.0</td>\n",
       "      <td>0.000000</td>\n",
       "      <td>0.0</td>\n",
       "      <td>0.000</td>\n",
       "      <td>0.000000</td>\n",
       "      <td>0.0</td>\n",
       "      <td>0.0</td>\n",
       "      <td>0.0</td>\n",
       "      <td>0.0</td>\n",
       "    </tr>\n",
       "    <tr>\n",
       "      <th>1504</th>\n",
       "      <td>What is the top game this week?</td>\n",
       "      <td>0.0</td>\n",
       "      <td>0.0</td>\n",
       "      <td>0.285714</td>\n",
       "      <td>0.0</td>\n",
       "      <td>0.0</td>\n",
       "      <td>0.000000</td>\n",
       "      <td>0.142857</td>\n",
       "      <td>0.0</td>\n",
       "      <td>0.000</td>\n",
       "      <td>...</td>\n",
       "      <td>0.0</td>\n",
       "      <td>0.0</td>\n",
       "      <td>0.000000</td>\n",
       "      <td>0.0</td>\n",
       "      <td>0.000</td>\n",
       "      <td>0.142857</td>\n",
       "      <td>0.0</td>\n",
       "      <td>0.0</td>\n",
       "      <td>0.0</td>\n",
       "      <td>0.0</td>\n",
       "    </tr>\n",
       "  </tbody>\n",
       "</table>\n",
       "<p>1505 rows × 46 columns</p>\n",
       "</div>"
      ],
      "text/plain": [
       "                                                  query   cc   cd        dt  \\\n",
       "0                                    becoming a fireman  0.0  0.0  0.333333   \n",
       "1                             hotel in Pocono Mountains  0.0  0.0  0.000000   \n",
       "2                           wedding traditions buddhism  0.0  0.0  0.000000   \n",
       "3                             diversification in hiring  0.0  0.0  0.000000   \n",
       "4                          traiditional swahili recipes  0.0  0.0  0.000000   \n",
       "...                                                 ...  ...  ...       ...   \n",
       "1500  Who plays the bad guy in Star Wars the Horde a...  0.0  0.0  0.181818   \n",
       "1501             What is a fox's favorite kind of food?  0.0  0.0  0.125000   \n",
       "1502             Show me the movie called \"The Martian\"  0.0  0.0  0.285714   \n",
       "1503            What is the biggest rock found on Mars?  0.0  0.0  0.125000   \n",
       "1504                    What is the top game this week?  0.0  0.0  0.285714   \n",
       "\n",
       "       ex   fw        in        jj  jjr    jjs  ...  jj nns  jj to     nn in  \\\n",
       "0     0.0  0.0  0.000000  0.000000  0.0  0.000  ...     0.0    0.0  0.000000   \n",
       "1     0.0  0.0  0.250000  0.000000  0.0  0.000  ...     0.0    0.0  0.250000   \n",
       "2     0.0  0.0  0.000000  0.000000  0.0  0.000  ...     0.0    0.0  0.000000   \n",
       "3     0.0  0.0  0.333333  0.000000  0.0  0.000  ...     0.0    0.0  0.333333   \n",
       "4     0.0  0.0  0.000000  0.333333  0.0  0.000  ...     0.0    0.0  0.000000   \n",
       "...   ...  ...       ...       ...  ...    ...  ...     ...    ...       ...   \n",
       "1500  0.0  0.0  0.090909  0.090909  0.0  0.000  ...     0.0    0.0  0.090909   \n",
       "1501  0.0  0.0  0.125000  0.125000  0.0  0.000  ...     0.0    0.0  0.125000   \n",
       "1502  0.0  0.0  0.000000  0.142857  0.0  0.000  ...     0.0    0.0  0.000000   \n",
       "1503  0.0  0.0  0.125000  0.000000  0.0  0.125  ...     0.0    0.0  0.000000   \n",
       "1504  0.0  0.0  0.000000  0.142857  0.0  0.000  ...     0.0    0.0  0.000000   \n",
       "\n",
       "      nns in  in nn     dt nn  jj nn nn  nn nn nn  nn nn nns  to vb nn  \n",
       "0        0.0  0.000  0.333333       0.0       0.0        0.0       0.0  \n",
       "1        0.0  0.000  0.000000       0.0       0.0        0.0       0.0  \n",
       "2        0.0  0.000  0.000000       0.0       0.0        0.0       0.0  \n",
       "3        0.0  0.000  0.000000       0.0       0.0        0.0       0.0  \n",
       "4        0.0  0.000  0.000000       0.0       0.0        0.0       0.0  \n",
       "...      ...    ...       ...       ...       ...        ...       ...  \n",
       "1500     0.0  0.000  0.000000       0.0       0.0        0.0       0.0  \n",
       "1501     0.0  0.125  0.125000       0.0       0.0        0.0       0.0  \n",
       "1502     0.0  0.000  0.142857       0.0       0.0        0.0       0.0  \n",
       "1503     0.0  0.000  0.000000       0.0       0.0        0.0       0.0  \n",
       "1504     0.0  0.000  0.142857       0.0       0.0        0.0       0.0  \n",
       "\n",
       "[1505 rows x 46 columns]"
      ]
     },
     "execution_count": 44,
     "metadata": {},
     "output_type": "execute_result"
    }
   ],
   "source": [
    "synFeat"
   ]
  },
  {
   "cell_type": "code",
   "execution_count": null,
   "metadata": {},
   "outputs": [],
   "source": []
  },
  {
   "cell_type": "markdown",
   "metadata": {},
   "source": [
    "Vocab"
   ]
  },
  {
   "cell_type": "code",
   "execution_count": 14,
   "metadata": {},
   "outputs": [
    {
     "data": {
      "text/plain": [
       "(1505, 34)"
      ]
     },
     "execution_count": 14,
     "metadata": {},
     "output_type": "execute_result"
    }
   ],
   "source": [
    "vocabFeat.shape"
   ]
  },
  {
   "cell_type": "code",
   "execution_count": 15,
   "metadata": {},
   "outputs": [
    {
     "data": {
      "text/html": [
       "<div>\n",
       "<style scoped>\n",
       "    .dataframe tbody tr th:only-of-type {\n",
       "        vertical-align: middle;\n",
       "    }\n",
       "\n",
       "    .dataframe tbody tr th {\n",
       "        vertical-align: top;\n",
       "    }\n",
       "\n",
       "    .dataframe thead th {\n",
       "        text-align: right;\n",
       "    }\n",
       "</style>\n",
       "<table border=\"1\" class=\"dataframe\">\n",
       "  <thead>\n",
       "    <tr style=\"text-align: right;\">\n",
       "      <th></th>\n",
       "      <th>coreVocab</th>\n",
       "      <th>query</th>\n",
       "      <th>nonCoreVocab</th>\n",
       "      <th>minAoA</th>\n",
       "      <th>maxAoA</th>\n",
       "      <th>ratioAoA</th>\n",
       "      <th>queryComplexity</th>\n",
       "      <th>SVEN</th>\n",
       "      <th>top250SterCount</th>\n",
       "      <th>top250SterRatAnt</th>\n",
       "      <th>...</th>\n",
       "      <th>com</th>\n",
       "      <th>net</th>\n",
       "      <th>org</th>\n",
       "      <th>edu</th>\n",
       "      <th>gov</th>\n",
       "      <th>http</th>\n",
       "      <th>AND</th>\n",
       "      <th>OR</th>\n",
       "      <th>quotes</th>\n",
       "      <th>inter</th>\n",
       "    </tr>\n",
       "  </thead>\n",
       "  <tbody>\n",
       "    <tr>\n",
       "      <th>0</th>\n",
       "      <td>0.333333</td>\n",
       "      <td>becoming a fireman</td>\n",
       "      <td>0.666667</td>\n",
       "      <td>0.0</td>\n",
       "      <td>5.05</td>\n",
       "      <td>0.666667</td>\n",
       "      <td>2.646667</td>\n",
       "      <td>0.333333</td>\n",
       "      <td>0</td>\n",
       "      <td>0.0</td>\n",
       "      <td>...</td>\n",
       "      <td>0</td>\n",
       "      <td>0</td>\n",
       "      <td>0</td>\n",
       "      <td>0</td>\n",
       "      <td>0</td>\n",
       "      <td>0</td>\n",
       "      <td>0</td>\n",
       "      <td>0</td>\n",
       "      <td>0</td>\n",
       "      <td>0</td>\n",
       "    </tr>\n",
       "    <tr>\n",
       "      <th>1</th>\n",
       "      <td>0.500000</td>\n",
       "      <td>hotel in Pocono Mountains</td>\n",
       "      <td>0.500000</td>\n",
       "      <td>0.0</td>\n",
       "      <td>6.15</td>\n",
       "      <td>0.750000</td>\n",
       "      <td>3.972500</td>\n",
       "      <td>0.750000</td>\n",
       "      <td>0</td>\n",
       "      <td>0.0</td>\n",
       "      <td>...</td>\n",
       "      <td>0</td>\n",
       "      <td>0</td>\n",
       "      <td>0</td>\n",
       "      <td>0</td>\n",
       "      <td>0</td>\n",
       "      <td>0</td>\n",
       "      <td>0</td>\n",
       "      <td>0</td>\n",
       "      <td>0</td>\n",
       "      <td>0</td>\n",
       "    </tr>\n",
       "    <tr>\n",
       "      <th>2</th>\n",
       "      <td>0.000000</td>\n",
       "      <td>wedding traditions buddhism</td>\n",
       "      <td>1.000000</td>\n",
       "      <td>0.0</td>\n",
       "      <td>8.05</td>\n",
       "      <td>0.666667</td>\n",
       "      <td>4.683333</td>\n",
       "      <td>0.333333</td>\n",
       "      <td>0</td>\n",
       "      <td>0.0</td>\n",
       "      <td>...</td>\n",
       "      <td>0</td>\n",
       "      <td>0</td>\n",
       "      <td>0</td>\n",
       "      <td>0</td>\n",
       "      <td>0</td>\n",
       "      <td>0</td>\n",
       "      <td>0</td>\n",
       "      <td>0</td>\n",
       "      <td>0</td>\n",
       "      <td>0</td>\n",
       "    </tr>\n",
       "  </tbody>\n",
       "</table>\n",
       "<p>3 rows × 34 columns</p>\n",
       "</div>"
      ],
      "text/plain": [
       "   coreVocab                        query  nonCoreVocab  minAoA  maxAoA  \\\n",
       "0   0.333333           becoming a fireman      0.666667     0.0    5.05   \n",
       "1   0.500000    hotel in Pocono Mountains      0.500000     0.0    6.15   \n",
       "2   0.000000  wedding traditions buddhism      1.000000     0.0    8.05   \n",
       "\n",
       "   ratioAoA  queryComplexity      SVEN  top250SterCount  top250SterRatAnt  \\\n",
       "0  0.666667         2.646667  0.333333                0               0.0   \n",
       "1  0.750000         3.972500  0.750000                0               0.0   \n",
       "2  0.666667         4.683333  0.333333                0               0.0   \n",
       "\n",
       "   ...  com  net  org  edu  gov  http  AND  OR  quotes  inter  \n",
       "0  ...    0    0    0    0    0     0    0   0       0      0  \n",
       "1  ...    0    0    0    0    0     0    0   0       0      0  \n",
       "2  ...    0    0    0    0    0     0    0   0       0      0  \n",
       "\n",
       "[3 rows x 34 columns]"
      ]
     },
     "execution_count": 15,
     "metadata": {},
     "output_type": "execute_result"
    }
   ],
   "source": [
    "vocabFeat.head(3)"
   ]
  },
  {
   "cell_type": "markdown",
   "metadata": {},
   "source": [
    "lexFeat"
   ]
  },
  {
   "cell_type": "code",
   "execution_count": 16,
   "metadata": {},
   "outputs": [
    {
     "data": {
      "text/plain": [
       "(1505, 27)"
      ]
     },
     "execution_count": 16,
     "metadata": {},
     "output_type": "execute_result"
    }
   ],
   "source": [
    "lexFeat.shape"
   ]
  },
  {
   "cell_type": "code",
   "execution_count": 17,
   "metadata": {},
   "outputs": [
    {
     "data": {
      "text/html": [
       "<div>\n",
       "<style scoped>\n",
       "    .dataframe tbody tr th:only-of-type {\n",
       "        vertical-align: middle;\n",
       "    }\n",
       "\n",
       "    .dataframe tbody tr th {\n",
       "        vertical-align: top;\n",
       "    }\n",
       "\n",
       "    .dataframe thead th {\n",
       "        text-align: right;\n",
       "    }\n",
       "</style>\n",
       "<table border=\"1\" class=\"dataframe\">\n",
       "  <thead>\n",
       "    <tr style=\"text-align: right;\">\n",
       "      <th></th>\n",
       "      <th>query</th>\n",
       "      <th>ld</th>\n",
       "      <th>ls1</th>\n",
       "      <th>ls2</th>\n",
       "      <th>vs1</th>\n",
       "      <th>vs2</th>\n",
       "      <th>cvs1</th>\n",
       "      <th>ndw</th>\n",
       "      <th>ttr</th>\n",
       "      <th>cttr</th>\n",
       "      <th>...</th>\n",
       "      <th>adjv</th>\n",
       "      <th>totalSyl</th>\n",
       "      <th>avgSyl</th>\n",
       "      <th>simWords</th>\n",
       "      <th>comWords</th>\n",
       "      <th>greatestSyl</th>\n",
       "      <th>leastSyl</th>\n",
       "      <th>numChars</th>\n",
       "      <th>numWords</th>\n",
       "      <th>avgLenWord</th>\n",
       "    </tr>\n",
       "  </thead>\n",
       "  <tbody>\n",
       "    <tr>\n",
       "      <th>0</th>\n",
       "      <td>becoming a fireman</td>\n",
       "      <td>0.666667</td>\n",
       "      <td>0.500000</td>\n",
       "      <td>0.333333</td>\n",
       "      <td>0.0</td>\n",
       "      <td>0.0</td>\n",
       "      <td>0.0</td>\n",
       "      <td>3</td>\n",
       "      <td>1.0</td>\n",
       "      <td>1.224745</td>\n",
       "      <td>...</td>\n",
       "      <td>0.0</td>\n",
       "      <td>7</td>\n",
       "      <td>2.333333</td>\n",
       "      <td>1</td>\n",
       "      <td>2</td>\n",
       "      <td>3</td>\n",
       "      <td>1</td>\n",
       "      <td>18</td>\n",
       "      <td>3</td>\n",
       "      <td>6.00</td>\n",
       "    </tr>\n",
       "    <tr>\n",
       "      <th>1</th>\n",
       "      <td>hotel in Pocono Mountains</td>\n",
       "      <td>0.750000</td>\n",
       "      <td>0.666667</td>\n",
       "      <td>0.500000</td>\n",
       "      <td>0.0</td>\n",
       "      <td>0.0</td>\n",
       "      <td>0.0</td>\n",
       "      <td>4</td>\n",
       "      <td>1.0</td>\n",
       "      <td>1.414214</td>\n",
       "      <td>...</td>\n",
       "      <td>0.0</td>\n",
       "      <td>8</td>\n",
       "      <td>2.000000</td>\n",
       "      <td>3</td>\n",
       "      <td>1</td>\n",
       "      <td>3</td>\n",
       "      <td>1</td>\n",
       "      <td>25</td>\n",
       "      <td>4</td>\n",
       "      <td>6.25</td>\n",
       "    </tr>\n",
       "    <tr>\n",
       "      <th>2</th>\n",
       "      <td>wedding traditions buddhism</td>\n",
       "      <td>1.000000</td>\n",
       "      <td>0.666667</td>\n",
       "      <td>0.666667</td>\n",
       "      <td>0.0</td>\n",
       "      <td>0.0</td>\n",
       "      <td>0.0</td>\n",
       "      <td>3</td>\n",
       "      <td>1.0</td>\n",
       "      <td>1.224745</td>\n",
       "      <td>...</td>\n",
       "      <td>0.0</td>\n",
       "      <td>7</td>\n",
       "      <td>2.333333</td>\n",
       "      <td>2</td>\n",
       "      <td>1</td>\n",
       "      <td>3</td>\n",
       "      <td>2</td>\n",
       "      <td>27</td>\n",
       "      <td>3</td>\n",
       "      <td>9.00</td>\n",
       "    </tr>\n",
       "  </tbody>\n",
       "</table>\n",
       "<p>3 rows × 27 columns</p>\n",
       "</div>"
      ],
      "text/plain": [
       "                         query        ld       ls1       ls2  vs1  vs2  cvs1  \\\n",
       "0           becoming a fireman  0.666667  0.500000  0.333333  0.0  0.0   0.0   \n",
       "1    hotel in Pocono Mountains  0.750000  0.666667  0.500000  0.0  0.0   0.0   \n",
       "2  wedding traditions buddhism  1.000000  0.666667  0.666667  0.0  0.0   0.0   \n",
       "\n",
       "   ndw  ttr      cttr  ...  adjv  totalSyl    avgSyl  simWords  comWords  \\\n",
       "0    3  1.0  1.224745  ...   0.0         7  2.333333         1         2   \n",
       "1    4  1.0  1.414214  ...   0.0         8  2.000000         3         1   \n",
       "2    3  1.0  1.224745  ...   0.0         7  2.333333         2         1   \n",
       "\n",
       "   greatestSyl  leastSyl  numChars  numWords  avgLenWord  \n",
       "0            3         1        18         3        6.00  \n",
       "1            3         1        25         4        6.25  \n",
       "2            3         2        27         3        9.00  \n",
       "\n",
       "[3 rows x 27 columns]"
      ]
     },
     "execution_count": 17,
     "metadata": {},
     "output_type": "execute_result"
    }
   ],
   "source": [
    "lexFeat.head(3)"
   ]
  },
  {
   "cell_type": "markdown",
   "metadata": {},
   "source": [
    "synFeat"
   ]
  },
  {
   "cell_type": "code",
   "execution_count": 18,
   "metadata": {},
   "outputs": [
    {
     "data": {
      "text/plain": [
       "(1505, 42)"
      ]
     },
     "execution_count": 18,
     "metadata": {},
     "output_type": "execute_result"
    }
   ],
   "source": [
    "synFeat.shape"
   ]
  },
  {
   "cell_type": "code",
   "execution_count": 19,
   "metadata": {},
   "outputs": [
    {
     "data": {
      "text/html": [
       "<div>\n",
       "<style scoped>\n",
       "    .dataframe tbody tr th:only-of-type {\n",
       "        vertical-align: middle;\n",
       "    }\n",
       "\n",
       "    .dataframe tbody tr th {\n",
       "        vertical-align: top;\n",
       "    }\n",
       "\n",
       "    .dataframe thead th {\n",
       "        text-align: right;\n",
       "    }\n",
       "</style>\n",
       "<table border=\"1\" class=\"dataframe\">\n",
       "  <thead>\n",
       "    <tr style=\"text-align: right;\">\n",
       "      <th></th>\n",
       "      <th>query</th>\n",
       "      <th>cc</th>\n",
       "      <th>cd</th>\n",
       "      <th>dt</th>\n",
       "      <th>ex</th>\n",
       "      <th>fw</th>\n",
       "      <th>in</th>\n",
       "      <th>jj</th>\n",
       "      <th>jjr</th>\n",
       "      <th>jjs</th>\n",
       "      <th>...</th>\n",
       "      <th>nn nn</th>\n",
       "      <th>jj nn</th>\n",
       "      <th>nn nns</th>\n",
       "      <th>to vb</th>\n",
       "      <th>jj nns</th>\n",
       "      <th>jj to</th>\n",
       "      <th>nn in</th>\n",
       "      <th>nns in</th>\n",
       "      <th>in nn</th>\n",
       "      <th>dt nn</th>\n",
       "    </tr>\n",
       "  </thead>\n",
       "  <tbody>\n",
       "    <tr>\n",
       "      <th>0</th>\n",
       "      <td>becoming a fireman</td>\n",
       "      <td>0.0</td>\n",
       "      <td>0.0</td>\n",
       "      <td>0.333333</td>\n",
       "      <td>0.0</td>\n",
       "      <td>0.0</td>\n",
       "      <td>0.00</td>\n",
       "      <td>0.0</td>\n",
       "      <td>0.0</td>\n",
       "      <td>0.0</td>\n",
       "      <td>...</td>\n",
       "      <td>0.0</td>\n",
       "      <td>0.0</td>\n",
       "      <td>0.0</td>\n",
       "      <td>0.0</td>\n",
       "      <td>0.0</td>\n",
       "      <td>0.0</td>\n",
       "      <td>0.00</td>\n",
       "      <td>0.0</td>\n",
       "      <td>0.0</td>\n",
       "      <td>0.333333</td>\n",
       "    </tr>\n",
       "    <tr>\n",
       "      <th>1</th>\n",
       "      <td>hotel in Pocono Mountains</td>\n",
       "      <td>0.0</td>\n",
       "      <td>0.0</td>\n",
       "      <td>0.000000</td>\n",
       "      <td>0.0</td>\n",
       "      <td>0.0</td>\n",
       "      <td>0.25</td>\n",
       "      <td>0.0</td>\n",
       "      <td>0.0</td>\n",
       "      <td>0.0</td>\n",
       "      <td>...</td>\n",
       "      <td>0.0</td>\n",
       "      <td>0.0</td>\n",
       "      <td>0.0</td>\n",
       "      <td>0.0</td>\n",
       "      <td>0.0</td>\n",
       "      <td>0.0</td>\n",
       "      <td>0.25</td>\n",
       "      <td>0.0</td>\n",
       "      <td>0.0</td>\n",
       "      <td>0.000000</td>\n",
       "    </tr>\n",
       "    <tr>\n",
       "      <th>2</th>\n",
       "      <td>wedding traditions buddhism</td>\n",
       "      <td>0.0</td>\n",
       "      <td>0.0</td>\n",
       "      <td>0.000000</td>\n",
       "      <td>0.0</td>\n",
       "      <td>0.0</td>\n",
       "      <td>0.00</td>\n",
       "      <td>0.0</td>\n",
       "      <td>0.0</td>\n",
       "      <td>0.0</td>\n",
       "      <td>...</td>\n",
       "      <td>0.0</td>\n",
       "      <td>0.0</td>\n",
       "      <td>0.0</td>\n",
       "      <td>0.0</td>\n",
       "      <td>0.0</td>\n",
       "      <td>0.0</td>\n",
       "      <td>0.00</td>\n",
       "      <td>0.0</td>\n",
       "      <td>0.0</td>\n",
       "      <td>0.000000</td>\n",
       "    </tr>\n",
       "  </tbody>\n",
       "</table>\n",
       "<p>3 rows × 42 columns</p>\n",
       "</div>"
      ],
      "text/plain": [
       "                         query   cc   cd        dt   ex   fw    in   jj  jjr  \\\n",
       "0           becoming a fireman  0.0  0.0  0.333333  0.0  0.0  0.00  0.0  0.0   \n",
       "1    hotel in Pocono Mountains  0.0  0.0  0.000000  0.0  0.0  0.25  0.0  0.0   \n",
       "2  wedding traditions buddhism  0.0  0.0  0.000000  0.0  0.0  0.00  0.0  0.0   \n",
       "\n",
       "   jjs  ...  nn nn  jj nn  nn nns  to vb  jj nns  jj to  nn in  nns in  in nn  \\\n",
       "0  0.0  ...    0.0    0.0     0.0    0.0     0.0    0.0   0.00     0.0    0.0   \n",
       "1  0.0  ...    0.0    0.0     0.0    0.0     0.0    0.0   0.25     0.0    0.0   \n",
       "2  0.0  ...    0.0    0.0     0.0    0.0     0.0    0.0   0.00     0.0    0.0   \n",
       "\n",
       "      dt nn  \n",
       "0  0.333333  \n",
       "1  0.000000  \n",
       "2  0.000000  \n",
       "\n",
       "[3 rows x 42 columns]"
      ]
     },
     "execution_count": 19,
     "metadata": {},
     "output_type": "execute_result"
    }
   ],
   "source": [
    "synFeat.head(3)"
   ]
  },
  {
   "cell_type": "code",
   "execution_count": 20,
   "metadata": {},
   "outputs": [
    {
     "data": {
      "text/html": [
       "<div>\n",
       "<style scoped>\n",
       "    .dataframe tbody tr th:only-of-type {\n",
       "        vertical-align: middle;\n",
       "    }\n",
       "\n",
       "    .dataframe tbody tr th {\n",
       "        vertical-align: top;\n",
       "    }\n",
       "\n",
       "    .dataframe thead th {\n",
       "        text-align: right;\n",
       "    }\n",
       "</style>\n",
       "<table border=\"1\" class=\"dataframe\">\n",
       "  <thead>\n",
       "    <tr style=\"text-align: right;\">\n",
       "      <th></th>\n",
       "      <th>query</th>\n",
       "      <th>cc</th>\n",
       "      <th>cd</th>\n",
       "      <th>dt</th>\n",
       "      <th>ex</th>\n",
       "      <th>fw</th>\n",
       "      <th>in</th>\n",
       "      <th>jj</th>\n",
       "      <th>jjr</th>\n",
       "      <th>jjs</th>\n",
       "      <th>...</th>\n",
       "      <th>nn nn</th>\n",
       "      <th>jj nn</th>\n",
       "      <th>nn nns</th>\n",
       "      <th>to vb</th>\n",
       "      <th>jj nns</th>\n",
       "      <th>jj to</th>\n",
       "      <th>nn in</th>\n",
       "      <th>nns in</th>\n",
       "      <th>in nn</th>\n",
       "      <th>dt nn</th>\n",
       "    </tr>\n",
       "  </thead>\n",
       "  <tbody>\n",
       "    <tr>\n",
       "      <th>0</th>\n",
       "      <td>becoming a fireman</td>\n",
       "      <td>0.0</td>\n",
       "      <td>0.0</td>\n",
       "      <td>0.333333</td>\n",
       "      <td>0.0</td>\n",
       "      <td>0.0</td>\n",
       "      <td>0.000000</td>\n",
       "      <td>0.000000</td>\n",
       "      <td>0.0</td>\n",
       "      <td>0.000</td>\n",
       "      <td>...</td>\n",
       "      <td>0.0</td>\n",
       "      <td>0.000000</td>\n",
       "      <td>0.000000</td>\n",
       "      <td>0.0</td>\n",
       "      <td>0.0</td>\n",
       "      <td>0.0</td>\n",
       "      <td>0.000000</td>\n",
       "      <td>0.0</td>\n",
       "      <td>0.000</td>\n",
       "      <td>0.333333</td>\n",
       "    </tr>\n",
       "    <tr>\n",
       "      <th>1</th>\n",
       "      <td>hotel in Pocono Mountains</td>\n",
       "      <td>0.0</td>\n",
       "      <td>0.0</td>\n",
       "      <td>0.000000</td>\n",
       "      <td>0.0</td>\n",
       "      <td>0.0</td>\n",
       "      <td>0.250000</td>\n",
       "      <td>0.000000</td>\n",
       "      <td>0.0</td>\n",
       "      <td>0.000</td>\n",
       "      <td>...</td>\n",
       "      <td>0.0</td>\n",
       "      <td>0.000000</td>\n",
       "      <td>0.000000</td>\n",
       "      <td>0.0</td>\n",
       "      <td>0.0</td>\n",
       "      <td>0.0</td>\n",
       "      <td>0.250000</td>\n",
       "      <td>0.0</td>\n",
       "      <td>0.000</td>\n",
       "      <td>0.000000</td>\n",
       "    </tr>\n",
       "    <tr>\n",
       "      <th>2</th>\n",
       "      <td>wedding traditions buddhism</td>\n",
       "      <td>0.0</td>\n",
       "      <td>0.0</td>\n",
       "      <td>0.000000</td>\n",
       "      <td>0.0</td>\n",
       "      <td>0.0</td>\n",
       "      <td>0.000000</td>\n",
       "      <td>0.000000</td>\n",
       "      <td>0.0</td>\n",
       "      <td>0.000</td>\n",
       "      <td>...</td>\n",
       "      <td>0.0</td>\n",
       "      <td>0.000000</td>\n",
       "      <td>0.000000</td>\n",
       "      <td>0.0</td>\n",
       "      <td>0.0</td>\n",
       "      <td>0.0</td>\n",
       "      <td>0.000000</td>\n",
       "      <td>0.0</td>\n",
       "      <td>0.000</td>\n",
       "      <td>0.000000</td>\n",
       "    </tr>\n",
       "    <tr>\n",
       "      <th>3</th>\n",
       "      <td>diversification in hiring</td>\n",
       "      <td>0.0</td>\n",
       "      <td>0.0</td>\n",
       "      <td>0.000000</td>\n",
       "      <td>0.0</td>\n",
       "      <td>0.0</td>\n",
       "      <td>0.333333</td>\n",
       "      <td>0.000000</td>\n",
       "      <td>0.0</td>\n",
       "      <td>0.000</td>\n",
       "      <td>...</td>\n",
       "      <td>0.0</td>\n",
       "      <td>0.000000</td>\n",
       "      <td>0.000000</td>\n",
       "      <td>0.0</td>\n",
       "      <td>0.0</td>\n",
       "      <td>0.0</td>\n",
       "      <td>0.333333</td>\n",
       "      <td>0.0</td>\n",
       "      <td>0.000</td>\n",
       "      <td>0.000000</td>\n",
       "    </tr>\n",
       "    <tr>\n",
       "      <th>4</th>\n",
       "      <td>traiditional swahili recipes</td>\n",
       "      <td>0.0</td>\n",
       "      <td>0.0</td>\n",
       "      <td>0.000000</td>\n",
       "      <td>0.0</td>\n",
       "      <td>0.0</td>\n",
       "      <td>0.000000</td>\n",
       "      <td>0.333333</td>\n",
       "      <td>0.0</td>\n",
       "      <td>0.000</td>\n",
       "      <td>...</td>\n",
       "      <td>0.0</td>\n",
       "      <td>0.333333</td>\n",
       "      <td>0.333333</td>\n",
       "      <td>0.0</td>\n",
       "      <td>0.0</td>\n",
       "      <td>0.0</td>\n",
       "      <td>0.000000</td>\n",
       "      <td>0.0</td>\n",
       "      <td>0.000</td>\n",
       "      <td>0.000000</td>\n",
       "    </tr>\n",
       "    <tr>\n",
       "      <th>...</th>\n",
       "      <td>...</td>\n",
       "      <td>...</td>\n",
       "      <td>...</td>\n",
       "      <td>...</td>\n",
       "      <td>...</td>\n",
       "      <td>...</td>\n",
       "      <td>...</td>\n",
       "      <td>...</td>\n",
       "      <td>...</td>\n",
       "      <td>...</td>\n",
       "      <td>...</td>\n",
       "      <td>...</td>\n",
       "      <td>...</td>\n",
       "      <td>...</td>\n",
       "      <td>...</td>\n",
       "      <td>...</td>\n",
       "      <td>...</td>\n",
       "      <td>...</td>\n",
       "      <td>...</td>\n",
       "      <td>...</td>\n",
       "      <td>...</td>\n",
       "    </tr>\n",
       "    <tr>\n",
       "      <th>1500</th>\n",
       "      <td>Who plays the bad guy in Star Wars the Horde a...</td>\n",
       "      <td>0.0</td>\n",
       "      <td>0.0</td>\n",
       "      <td>0.181818</td>\n",
       "      <td>0.0</td>\n",
       "      <td>0.0</td>\n",
       "      <td>0.090909</td>\n",
       "      <td>0.090909</td>\n",
       "      <td>0.0</td>\n",
       "      <td>0.000</td>\n",
       "      <td>...</td>\n",
       "      <td>0.0</td>\n",
       "      <td>0.090909</td>\n",
       "      <td>0.000000</td>\n",
       "      <td>0.0</td>\n",
       "      <td>0.0</td>\n",
       "      <td>0.0</td>\n",
       "      <td>0.090909</td>\n",
       "      <td>0.0</td>\n",
       "      <td>0.000</td>\n",
       "      <td>0.000000</td>\n",
       "    </tr>\n",
       "    <tr>\n",
       "      <th>1501</th>\n",
       "      <td>What is a fox's favorite kind of food?</td>\n",
       "      <td>0.0</td>\n",
       "      <td>0.0</td>\n",
       "      <td>0.125000</td>\n",
       "      <td>0.0</td>\n",
       "      <td>0.0</td>\n",
       "      <td>0.125000</td>\n",
       "      <td>0.125000</td>\n",
       "      <td>0.0</td>\n",
       "      <td>0.000</td>\n",
       "      <td>...</td>\n",
       "      <td>0.0</td>\n",
       "      <td>0.125000</td>\n",
       "      <td>0.000000</td>\n",
       "      <td>0.0</td>\n",
       "      <td>0.0</td>\n",
       "      <td>0.0</td>\n",
       "      <td>0.125000</td>\n",
       "      <td>0.0</td>\n",
       "      <td>0.125</td>\n",
       "      <td>0.125000</td>\n",
       "    </tr>\n",
       "    <tr>\n",
       "      <th>1502</th>\n",
       "      <td>Show me the movie called \"The Martian\"</td>\n",
       "      <td>0.0</td>\n",
       "      <td>0.0</td>\n",
       "      <td>0.285714</td>\n",
       "      <td>0.0</td>\n",
       "      <td>0.0</td>\n",
       "      <td>0.000000</td>\n",
       "      <td>0.142857</td>\n",
       "      <td>0.0</td>\n",
       "      <td>0.000</td>\n",
       "      <td>...</td>\n",
       "      <td>0.0</td>\n",
       "      <td>0.000000</td>\n",
       "      <td>0.000000</td>\n",
       "      <td>0.0</td>\n",
       "      <td>0.0</td>\n",
       "      <td>0.0</td>\n",
       "      <td>0.000000</td>\n",
       "      <td>0.0</td>\n",
       "      <td>0.000</td>\n",
       "      <td>0.142857</td>\n",
       "    </tr>\n",
       "    <tr>\n",
       "      <th>1503</th>\n",
       "      <td>What is the biggest rock found on Mars?</td>\n",
       "      <td>0.0</td>\n",
       "      <td>0.0</td>\n",
       "      <td>0.125000</td>\n",
       "      <td>0.0</td>\n",
       "      <td>0.0</td>\n",
       "      <td>0.125000</td>\n",
       "      <td>0.000000</td>\n",
       "      <td>0.0</td>\n",
       "      <td>0.125</td>\n",
       "      <td>...</td>\n",
       "      <td>0.0</td>\n",
       "      <td>0.000000</td>\n",
       "      <td>0.000000</td>\n",
       "      <td>0.0</td>\n",
       "      <td>0.0</td>\n",
       "      <td>0.0</td>\n",
       "      <td>0.000000</td>\n",
       "      <td>0.0</td>\n",
       "      <td>0.000</td>\n",
       "      <td>0.000000</td>\n",
       "    </tr>\n",
       "    <tr>\n",
       "      <th>1504</th>\n",
       "      <td>What is the top game this week?</td>\n",
       "      <td>0.0</td>\n",
       "      <td>0.0</td>\n",
       "      <td>0.285714</td>\n",
       "      <td>0.0</td>\n",
       "      <td>0.0</td>\n",
       "      <td>0.000000</td>\n",
       "      <td>0.142857</td>\n",
       "      <td>0.0</td>\n",
       "      <td>0.000</td>\n",
       "      <td>...</td>\n",
       "      <td>0.0</td>\n",
       "      <td>0.142857</td>\n",
       "      <td>0.000000</td>\n",
       "      <td>0.0</td>\n",
       "      <td>0.0</td>\n",
       "      <td>0.0</td>\n",
       "      <td>0.000000</td>\n",
       "      <td>0.0</td>\n",
       "      <td>0.000</td>\n",
       "      <td>0.142857</td>\n",
       "    </tr>\n",
       "  </tbody>\n",
       "</table>\n",
       "<p>1505 rows × 42 columns</p>\n",
       "</div>"
      ],
      "text/plain": [
       "                                                  query   cc   cd        dt  \\\n",
       "0                                    becoming a fireman  0.0  0.0  0.333333   \n",
       "1                             hotel in Pocono Mountains  0.0  0.0  0.000000   \n",
       "2                           wedding traditions buddhism  0.0  0.0  0.000000   \n",
       "3                             diversification in hiring  0.0  0.0  0.000000   \n",
       "4                          traiditional swahili recipes  0.0  0.0  0.000000   \n",
       "...                                                 ...  ...  ...       ...   \n",
       "1500  Who plays the bad guy in Star Wars the Horde a...  0.0  0.0  0.181818   \n",
       "1501             What is a fox's favorite kind of food?  0.0  0.0  0.125000   \n",
       "1502             Show me the movie called \"The Martian\"  0.0  0.0  0.285714   \n",
       "1503            What is the biggest rock found on Mars?  0.0  0.0  0.125000   \n",
       "1504                    What is the top game this week?  0.0  0.0  0.285714   \n",
       "\n",
       "       ex   fw        in        jj  jjr    jjs  ...  nn nn     jj nn  \\\n",
       "0     0.0  0.0  0.000000  0.000000  0.0  0.000  ...    0.0  0.000000   \n",
       "1     0.0  0.0  0.250000  0.000000  0.0  0.000  ...    0.0  0.000000   \n",
       "2     0.0  0.0  0.000000  0.000000  0.0  0.000  ...    0.0  0.000000   \n",
       "3     0.0  0.0  0.333333  0.000000  0.0  0.000  ...    0.0  0.000000   \n",
       "4     0.0  0.0  0.000000  0.333333  0.0  0.000  ...    0.0  0.333333   \n",
       "...   ...  ...       ...       ...  ...    ...  ...    ...       ...   \n",
       "1500  0.0  0.0  0.090909  0.090909  0.0  0.000  ...    0.0  0.090909   \n",
       "1501  0.0  0.0  0.125000  0.125000  0.0  0.000  ...    0.0  0.125000   \n",
       "1502  0.0  0.0  0.000000  0.142857  0.0  0.000  ...    0.0  0.000000   \n",
       "1503  0.0  0.0  0.125000  0.000000  0.0  0.125  ...    0.0  0.000000   \n",
       "1504  0.0  0.0  0.000000  0.142857  0.0  0.000  ...    0.0  0.142857   \n",
       "\n",
       "        nn nns  to vb  jj nns  jj to     nn in  nns in  in nn     dt nn  \n",
       "0     0.000000    0.0     0.0    0.0  0.000000     0.0  0.000  0.333333  \n",
       "1     0.000000    0.0     0.0    0.0  0.250000     0.0  0.000  0.000000  \n",
       "2     0.000000    0.0     0.0    0.0  0.000000     0.0  0.000  0.000000  \n",
       "3     0.000000    0.0     0.0    0.0  0.333333     0.0  0.000  0.000000  \n",
       "4     0.333333    0.0     0.0    0.0  0.000000     0.0  0.000  0.000000  \n",
       "...        ...    ...     ...    ...       ...     ...    ...       ...  \n",
       "1500  0.000000    0.0     0.0    0.0  0.090909     0.0  0.000  0.000000  \n",
       "1501  0.000000    0.0     0.0    0.0  0.125000     0.0  0.125  0.125000  \n",
       "1502  0.000000    0.0     0.0    0.0  0.000000     0.0  0.000  0.142857  \n",
       "1503  0.000000    0.0     0.0    0.0  0.000000     0.0  0.000  0.000000  \n",
       "1504  0.000000    0.0     0.0    0.0  0.000000     0.0  0.000  0.142857  \n",
       "\n",
       "[1505 rows x 42 columns]"
      ]
     },
     "execution_count": 20,
     "metadata": {},
     "output_type": "execute_result"
    }
   ],
   "source": [
    "synFeat"
   ]
  },
  {
   "cell_type": "markdown",
   "metadata": {},
   "source": [
    "sPFeat"
   ]
  },
  {
   "cell_type": "code",
   "execution_count": 21,
   "metadata": {},
   "outputs": [
    {
     "data": {
      "text/plain": [
       "(1505, 6)"
      ]
     },
     "execution_count": 21,
     "metadata": {},
     "output_type": "execute_result"
    }
   ],
   "source": [
    "sPFeat.shape"
   ]
  },
  {
   "cell_type": "code",
   "execution_count": 22,
   "metadata": {},
   "outputs": [
    {
     "data": {
      "text/html": [
       "<div>\n",
       "<style scoped>\n",
       "    .dataframe tbody tr th:only-of-type {\n",
       "        vertical-align: middle;\n",
       "    }\n",
       "\n",
       "    .dataframe tbody tr th {\n",
       "        vertical-align: top;\n",
       "    }\n",
       "\n",
       "    .dataframe thead th {\n",
       "        text-align: right;\n",
       "    }\n",
       "</style>\n",
       "<table border=\"1\" class=\"dataframe\">\n",
       "  <thead>\n",
       "    <tr style=\"text-align: right;\">\n",
       "      <th></th>\n",
       "      <th>numSpellingErrors</th>\n",
       "      <th>query</th>\n",
       "      <th>offByOne</th>\n",
       "      <th>kidsError</th>\n",
       "      <th>punct</th>\n",
       "      <th>casing</th>\n",
       "    </tr>\n",
       "  </thead>\n",
       "  <tbody>\n",
       "    <tr>\n",
       "      <th>0</th>\n",
       "      <td>0</td>\n",
       "      <td>becoming a fireman</td>\n",
       "      <td>0</td>\n",
       "      <td>0</td>\n",
       "      <td>0</td>\n",
       "      <td>0</td>\n",
       "    </tr>\n",
       "    <tr>\n",
       "      <th>1</th>\n",
       "      <td>1</td>\n",
       "      <td>hotel in Pocono Mountains</td>\n",
       "      <td>1</td>\n",
       "      <td>0</td>\n",
       "      <td>0</td>\n",
       "      <td>1</td>\n",
       "    </tr>\n",
       "    <tr>\n",
       "      <th>2</th>\n",
       "      <td>0</td>\n",
       "      <td>wedding traditions buddhism</td>\n",
       "      <td>0</td>\n",
       "      <td>0</td>\n",
       "      <td>0</td>\n",
       "      <td>0</td>\n",
       "    </tr>\n",
       "    <tr>\n",
       "      <th>3</th>\n",
       "      <td>0</td>\n",
       "      <td>diversification in hiring</td>\n",
       "      <td>0</td>\n",
       "      <td>0</td>\n",
       "      <td>0</td>\n",
       "      <td>0</td>\n",
       "    </tr>\n",
       "    <tr>\n",
       "      <th>4</th>\n",
       "      <td>2</td>\n",
       "      <td>traiditional swahili recipes</td>\n",
       "      <td>1</td>\n",
       "      <td>0</td>\n",
       "      <td>0</td>\n",
       "      <td>0</td>\n",
       "    </tr>\n",
       "  </tbody>\n",
       "</table>\n",
       "</div>"
      ],
      "text/plain": [
       "   numSpellingErrors                         query  offByOne  kidsError  \\\n",
       "0                  0            becoming a fireman         0          0   \n",
       "1                  1     hotel in Pocono Mountains         1          0   \n",
       "2                  0   wedding traditions buddhism         0          0   \n",
       "3                  0     diversification in hiring         0          0   \n",
       "4                  2  traiditional swahili recipes         1          0   \n",
       "\n",
       "   punct  casing  \n",
       "0      0       0  \n",
       "1      0       1  \n",
       "2      0       0  \n",
       "3      0       0  \n",
       "4      0       0  "
      ]
     },
     "execution_count": 22,
     "metadata": {},
     "output_type": "execute_result"
    }
   ],
   "source": [
    "sPFeat.head()"
   ]
  },
  {
   "cell_type": "code",
   "execution_count": 45,
   "metadata": {},
   "outputs": [],
   "source": [
    "#-- merge vocabFeat & lexFeat\n",
    "\n",
    "SQS_Feat = pd.merge(vocabFeat, lexFeat, left_index=True, right_index=True)\n",
    "SQS_Feat.drop(columns = ['query_y'], inplace = True)\n",
    "SQS_Feat.rename(columns = {'query_x':'query'}, inplace = True)"
   ]
  },
  {
   "cell_type": "code",
   "execution_count": 46,
   "metadata": {},
   "outputs": [
    {
     "data": {
      "text/plain": [
       "(1505, 60)"
      ]
     },
     "execution_count": 46,
     "metadata": {},
     "output_type": "execute_result"
    }
   ],
   "source": [
    "SQS_Feat.shape"
   ]
  },
  {
   "cell_type": "code",
   "execution_count": 47,
   "metadata": {},
   "outputs": [],
   "source": [
    "# -- add sPFeat (spelling features)\n",
    "\n",
    "SQS_Feat = pd.merge(SQS_Feat, sPFeat, left_index=True, right_index=True)\n",
    "SQS_Feat.drop(columns = ['query_y'], inplace = True)\n",
    "SQS_Feat.rename(columns = {'query_x':'query'}, inplace = True)"
   ]
  },
  {
   "cell_type": "code",
   "execution_count": 48,
   "metadata": {},
   "outputs": [
    {
     "data": {
      "text/plain": [
       "(1505, 65)"
      ]
     },
     "execution_count": 48,
     "metadata": {},
     "output_type": "execute_result"
    }
   ],
   "source": [
    "SQS_Feat.shape"
   ]
  },
  {
   "cell_type": "code",
   "execution_count": 49,
   "metadata": {},
   "outputs": [],
   "source": [
    "# -- add synFeat\n",
    "\n",
    "SQS_Feat = pd.merge(SQS_Feat, synFeat, left_index=True, right_index=True)\n",
    "SQS_Feat.drop(columns = ['query_y'], inplace = True)\n",
    "SQS_Feat.rename(columns = {'query_x':'query'}, inplace = True)"
   ]
  },
  {
   "cell_type": "code",
   "execution_count": 50,
   "metadata": {},
   "outputs": [
    {
     "data": {
      "text/plain": [
       "(1505, 110)"
      ]
     },
     "execution_count": 50,
     "metadata": {},
     "output_type": "execute_result"
    }
   ],
   "source": [
    "SQS_Feat.shape"
   ]
  },
  {
   "cell_type": "code",
   "execution_count": 51,
   "metadata": {},
   "outputs": [
    {
     "data": {
      "text/html": [
       "<div>\n",
       "<style scoped>\n",
       "    .dataframe tbody tr th:only-of-type {\n",
       "        vertical-align: middle;\n",
       "    }\n",
       "\n",
       "    .dataframe tbody tr th {\n",
       "        vertical-align: top;\n",
       "    }\n",
       "\n",
       "    .dataframe thead th {\n",
       "        text-align: right;\n",
       "    }\n",
       "</style>\n",
       "<table border=\"1\" class=\"dataframe\">\n",
       "  <thead>\n",
       "    <tr style=\"text-align: right;\">\n",
       "      <th></th>\n",
       "      <th>coreVocab</th>\n",
       "      <th>query</th>\n",
       "      <th>nonCoreVocab</th>\n",
       "      <th>minAoA</th>\n",
       "      <th>maxAoA</th>\n",
       "      <th>ratioAoA</th>\n",
       "      <th>queryComplexity</th>\n",
       "      <th>SVEN</th>\n",
       "      <th>top250SterCount</th>\n",
       "      <th>top250SterRatAnt</th>\n",
       "      <th>...</th>\n",
       "      <th>jj nns</th>\n",
       "      <th>jj to</th>\n",
       "      <th>nn in</th>\n",
       "      <th>nns in</th>\n",
       "      <th>in nn</th>\n",
       "      <th>dt nn</th>\n",
       "      <th>jj nn nn</th>\n",
       "      <th>nn nn nn</th>\n",
       "      <th>nn nn nns</th>\n",
       "      <th>to vb nn</th>\n",
       "    </tr>\n",
       "  </thead>\n",
       "  <tbody>\n",
       "    <tr>\n",
       "      <th>0</th>\n",
       "      <td>0.333333</td>\n",
       "      <td>becoming a fireman</td>\n",
       "      <td>0.666667</td>\n",
       "      <td>0.0</td>\n",
       "      <td>5.05</td>\n",
       "      <td>0.666667</td>\n",
       "      <td>2.646667</td>\n",
       "      <td>0.333333</td>\n",
       "      <td>0</td>\n",
       "      <td>0.0</td>\n",
       "      <td>...</td>\n",
       "      <td>0.0</td>\n",
       "      <td>0.0</td>\n",
       "      <td>0.000000</td>\n",
       "      <td>0.0</td>\n",
       "      <td>0.0</td>\n",
       "      <td>0.333333</td>\n",
       "      <td>0.0</td>\n",
       "      <td>0.0</td>\n",
       "      <td>0.0</td>\n",
       "      <td>0.0</td>\n",
       "    </tr>\n",
       "    <tr>\n",
       "      <th>1</th>\n",
       "      <td>0.500000</td>\n",
       "      <td>hotel in Pocono Mountains</td>\n",
       "      <td>0.500000</td>\n",
       "      <td>0.0</td>\n",
       "      <td>6.15</td>\n",
       "      <td>0.750000</td>\n",
       "      <td>3.972500</td>\n",
       "      <td>0.750000</td>\n",
       "      <td>0</td>\n",
       "      <td>0.0</td>\n",
       "      <td>...</td>\n",
       "      <td>0.0</td>\n",
       "      <td>0.0</td>\n",
       "      <td>0.250000</td>\n",
       "      <td>0.0</td>\n",
       "      <td>0.0</td>\n",
       "      <td>0.000000</td>\n",
       "      <td>0.0</td>\n",
       "      <td>0.0</td>\n",
       "      <td>0.0</td>\n",
       "      <td>0.0</td>\n",
       "    </tr>\n",
       "    <tr>\n",
       "      <th>2</th>\n",
       "      <td>0.000000</td>\n",
       "      <td>wedding traditions buddhism</td>\n",
       "      <td>1.000000</td>\n",
       "      <td>0.0</td>\n",
       "      <td>8.05</td>\n",
       "      <td>0.666667</td>\n",
       "      <td>4.683333</td>\n",
       "      <td>0.333333</td>\n",
       "      <td>0</td>\n",
       "      <td>0.0</td>\n",
       "      <td>...</td>\n",
       "      <td>0.0</td>\n",
       "      <td>0.0</td>\n",
       "      <td>0.000000</td>\n",
       "      <td>0.0</td>\n",
       "      <td>0.0</td>\n",
       "      <td>0.000000</td>\n",
       "      <td>0.0</td>\n",
       "      <td>0.0</td>\n",
       "      <td>0.0</td>\n",
       "      <td>0.0</td>\n",
       "    </tr>\n",
       "    <tr>\n",
       "      <th>3</th>\n",
       "      <td>0.333333</td>\n",
       "      <td>diversification in hiring</td>\n",
       "      <td>0.666667</td>\n",
       "      <td>0.0</td>\n",
       "      <td>13.11</td>\n",
       "      <td>0.333333</td>\n",
       "      <td>5.600000</td>\n",
       "      <td>0.333333</td>\n",
       "      <td>0</td>\n",
       "      <td>0.0</td>\n",
       "      <td>...</td>\n",
       "      <td>0.0</td>\n",
       "      <td>0.0</td>\n",
       "      <td>0.333333</td>\n",
       "      <td>0.0</td>\n",
       "      <td>0.0</td>\n",
       "      <td>0.000000</td>\n",
       "      <td>0.0</td>\n",
       "      <td>0.0</td>\n",
       "      <td>0.0</td>\n",
       "      <td>0.0</td>\n",
       "    </tr>\n",
       "    <tr>\n",
       "      <th>4</th>\n",
       "      <td>0.000000</td>\n",
       "      <td>traiditional swahili recipes</td>\n",
       "      <td>1.000000</td>\n",
       "      <td>0.0</td>\n",
       "      <td>6.95</td>\n",
       "      <td>0.333333</td>\n",
       "      <td>2.316667</td>\n",
       "      <td>0.000000</td>\n",
       "      <td>0</td>\n",
       "      <td>0.0</td>\n",
       "      <td>...</td>\n",
       "      <td>0.0</td>\n",
       "      <td>0.0</td>\n",
       "      <td>0.000000</td>\n",
       "      <td>0.0</td>\n",
       "      <td>0.0</td>\n",
       "      <td>0.000000</td>\n",
       "      <td>0.0</td>\n",
       "      <td>0.0</td>\n",
       "      <td>0.0</td>\n",
       "      <td>0.0</td>\n",
       "    </tr>\n",
       "  </tbody>\n",
       "</table>\n",
       "<p>5 rows × 110 columns</p>\n",
       "</div>"
      ],
      "text/plain": [
       "   coreVocab                         query  nonCoreVocab  minAoA  maxAoA  \\\n",
       "0   0.333333            becoming a fireman      0.666667     0.0    5.05   \n",
       "1   0.500000     hotel in Pocono Mountains      0.500000     0.0    6.15   \n",
       "2   0.000000   wedding traditions buddhism      1.000000     0.0    8.05   \n",
       "3   0.333333     diversification in hiring      0.666667     0.0   13.11   \n",
       "4   0.000000  traiditional swahili recipes      1.000000     0.0    6.95   \n",
       "\n",
       "   ratioAoA  queryComplexity      SVEN  top250SterCount  top250SterRatAnt  \\\n",
       "0  0.666667         2.646667  0.333333                0               0.0   \n",
       "1  0.750000         3.972500  0.750000                0               0.0   \n",
       "2  0.666667         4.683333  0.333333                0               0.0   \n",
       "3  0.333333         5.600000  0.333333                0               0.0   \n",
       "4  0.333333         2.316667  0.000000                0               0.0   \n",
       "\n",
       "   ...  jj nns  jj to     nn in  nns in  in nn     dt nn  jj nn nn  nn nn nn  \\\n",
       "0  ...     0.0    0.0  0.000000     0.0    0.0  0.333333       0.0       0.0   \n",
       "1  ...     0.0    0.0  0.250000     0.0    0.0  0.000000       0.0       0.0   \n",
       "2  ...     0.0    0.0  0.000000     0.0    0.0  0.000000       0.0       0.0   \n",
       "3  ...     0.0    0.0  0.333333     0.0    0.0  0.000000       0.0       0.0   \n",
       "4  ...     0.0    0.0  0.000000     0.0    0.0  0.000000       0.0       0.0   \n",
       "\n",
       "   nn nn nns  to vb nn  \n",
       "0        0.0       0.0  \n",
       "1        0.0       0.0  \n",
       "2        0.0       0.0  \n",
       "3        0.0       0.0  \n",
       "4        0.0       0.0  \n",
       "\n",
       "[5 rows x 110 columns]"
      ]
     },
     "execution_count": 51,
     "metadata": {},
     "output_type": "execute_result"
    }
   ],
   "source": [
    "SQS_Feat.head()"
   ]
  },
  {
   "cell_type": "code",
   "execution_count": 52,
   "metadata": {},
   "outputs": [],
   "source": [
    "# Add class\n",
    "\n",
    "SQS_Feat = pd.merge(SQS_Feat, SQS, left_index=True, right_index=True)\n",
    "SQS_Feat.drop(columns = ['query_y', 'sID'], inplace = True)\n",
    "SQS_Feat.rename(columns = {'query_x':'query'}, inplace = True)"
   ]
  },
  {
   "cell_type": "code",
   "execution_count": 53,
   "metadata": {},
   "outputs": [
    {
     "data": {
      "text/plain": [
       "(1505, 111)"
      ]
     },
     "execution_count": 53,
     "metadata": {},
     "output_type": "execute_result"
    }
   ],
   "source": [
    "SQS_Feat.shape"
   ]
  },
  {
   "cell_type": "code",
   "execution_count": 54,
   "metadata": {},
   "outputs": [
    {
     "data": {
      "text/plain": [
       "0    1204\n",
       "1     301\n",
       "Name: class, dtype: int64"
      ]
     },
     "execution_count": 54,
     "metadata": {},
     "output_type": "execute_result"
    }
   ],
   "source": [
    "(SQS_Feat['class']).value_counts()"
   ]
  },
  {
   "cell_type": "code",
   "execution_count": 55,
   "metadata": {
    "scrolled": true
   },
   "outputs": [
    {
     "data": {
      "text/html": [
       "<div>\n",
       "<style scoped>\n",
       "    .dataframe tbody tr th:only-of-type {\n",
       "        vertical-align: middle;\n",
       "    }\n",
       "\n",
       "    .dataframe tbody tr th {\n",
       "        vertical-align: top;\n",
       "    }\n",
       "\n",
       "    .dataframe thead th {\n",
       "        text-align: right;\n",
       "    }\n",
       "</style>\n",
       "<table border=\"1\" class=\"dataframe\">\n",
       "  <thead>\n",
       "    <tr style=\"text-align: right;\">\n",
       "      <th></th>\n",
       "      <th>coreVocab</th>\n",
       "      <th>query</th>\n",
       "      <th>nonCoreVocab</th>\n",
       "      <th>minAoA</th>\n",
       "      <th>maxAoA</th>\n",
       "      <th>ratioAoA</th>\n",
       "      <th>queryComplexity</th>\n",
       "      <th>SVEN</th>\n",
       "      <th>top250SterCount</th>\n",
       "      <th>top250SterRatAnt</th>\n",
       "      <th>...</th>\n",
       "      <th>jj to</th>\n",
       "      <th>nn in</th>\n",
       "      <th>nns in</th>\n",
       "      <th>in nn</th>\n",
       "      <th>dt nn</th>\n",
       "      <th>jj nn nn</th>\n",
       "      <th>nn nn nn</th>\n",
       "      <th>nn nn nns</th>\n",
       "      <th>to vb nn</th>\n",
       "      <th>class</th>\n",
       "    </tr>\n",
       "  </thead>\n",
       "  <tbody>\n",
       "    <tr>\n",
       "      <th>0</th>\n",
       "      <td>0.333333</td>\n",
       "      <td>becoming a fireman</td>\n",
       "      <td>0.666667</td>\n",
       "      <td>0.0</td>\n",
       "      <td>5.05</td>\n",
       "      <td>0.666667</td>\n",
       "      <td>2.646667</td>\n",
       "      <td>0.333333</td>\n",
       "      <td>0</td>\n",
       "      <td>0.0</td>\n",
       "      <td>...</td>\n",
       "      <td>0.0</td>\n",
       "      <td>0.00</td>\n",
       "      <td>0.0</td>\n",
       "      <td>0.0</td>\n",
       "      <td>0.333333</td>\n",
       "      <td>0.0</td>\n",
       "      <td>0.0</td>\n",
       "      <td>0.0</td>\n",
       "      <td>0.0</td>\n",
       "      <td>0</td>\n",
       "    </tr>\n",
       "    <tr>\n",
       "      <th>1</th>\n",
       "      <td>0.500000</td>\n",
       "      <td>hotel in Pocono Mountains</td>\n",
       "      <td>0.500000</td>\n",
       "      <td>0.0</td>\n",
       "      <td>6.15</td>\n",
       "      <td>0.750000</td>\n",
       "      <td>3.972500</td>\n",
       "      <td>0.750000</td>\n",
       "      <td>0</td>\n",
       "      <td>0.0</td>\n",
       "      <td>...</td>\n",
       "      <td>0.0</td>\n",
       "      <td>0.25</td>\n",
       "      <td>0.0</td>\n",
       "      <td>0.0</td>\n",
       "      <td>0.000000</td>\n",
       "      <td>0.0</td>\n",
       "      <td>0.0</td>\n",
       "      <td>0.0</td>\n",
       "      <td>0.0</td>\n",
       "      <td>0</td>\n",
       "    </tr>\n",
       "    <tr>\n",
       "      <th>2</th>\n",
       "      <td>0.000000</td>\n",
       "      <td>wedding traditions buddhism</td>\n",
       "      <td>1.000000</td>\n",
       "      <td>0.0</td>\n",
       "      <td>8.05</td>\n",
       "      <td>0.666667</td>\n",
       "      <td>4.683333</td>\n",
       "      <td>0.333333</td>\n",
       "      <td>0</td>\n",
       "      <td>0.0</td>\n",
       "      <td>...</td>\n",
       "      <td>0.0</td>\n",
       "      <td>0.00</td>\n",
       "      <td>0.0</td>\n",
       "      <td>0.0</td>\n",
       "      <td>0.000000</td>\n",
       "      <td>0.0</td>\n",
       "      <td>0.0</td>\n",
       "      <td>0.0</td>\n",
       "      <td>0.0</td>\n",
       "      <td>0</td>\n",
       "    </tr>\n",
       "  </tbody>\n",
       "</table>\n",
       "<p>3 rows × 111 columns</p>\n",
       "</div>"
      ],
      "text/plain": [
       "   coreVocab                        query  nonCoreVocab  minAoA  maxAoA  \\\n",
       "0   0.333333           becoming a fireman      0.666667     0.0    5.05   \n",
       "1   0.500000    hotel in Pocono Mountains      0.500000     0.0    6.15   \n",
       "2   0.000000  wedding traditions buddhism      1.000000     0.0    8.05   \n",
       "\n",
       "   ratioAoA  queryComplexity      SVEN  top250SterCount  top250SterRatAnt  \\\n",
       "0  0.666667         2.646667  0.333333                0               0.0   \n",
       "1  0.750000         3.972500  0.750000                0               0.0   \n",
       "2  0.666667         4.683333  0.333333                0               0.0   \n",
       "\n",
       "   ...  jj to  nn in  nns in  in nn     dt nn  jj nn nn  nn nn nn  nn nn nns  \\\n",
       "0  ...    0.0   0.00     0.0    0.0  0.333333       0.0       0.0        0.0   \n",
       "1  ...    0.0   0.25     0.0    0.0  0.000000       0.0       0.0        0.0   \n",
       "2  ...    0.0   0.00     0.0    0.0  0.000000       0.0       0.0        0.0   \n",
       "\n",
       "   to vb nn  class  \n",
       "0       0.0      0  \n",
       "1       0.0      0  \n",
       "2       0.0      0  \n",
       "\n",
       "[3 rows x 111 columns]"
      ]
     },
     "execution_count": 55,
     "metadata": {},
     "output_type": "execute_result"
    }
   ],
   "source": [
    "SQS_Feat.head(3)"
   ]
  },
  {
   "cell_type": "code",
   "execution_count": 56,
   "metadata": {},
   "outputs": [
    {
     "data": {
      "text/html": [
       "<div>\n",
       "<style scoped>\n",
       "    .dataframe tbody tr th:only-of-type {\n",
       "        vertical-align: middle;\n",
       "    }\n",
       "\n",
       "    .dataframe tbody tr th {\n",
       "        vertical-align: top;\n",
       "    }\n",
       "\n",
       "    .dataframe thead th {\n",
       "        text-align: right;\n",
       "    }\n",
       "</style>\n",
       "<table border=\"1\" class=\"dataframe\">\n",
       "  <thead>\n",
       "    <tr style=\"text-align: right;\">\n",
       "      <th></th>\n",
       "      <th>coreVocab</th>\n",
       "      <th>query</th>\n",
       "      <th>nonCoreVocab</th>\n",
       "      <th>minAoA</th>\n",
       "      <th>maxAoA</th>\n",
       "      <th>ratioAoA</th>\n",
       "      <th>queryComplexity</th>\n",
       "      <th>SVEN</th>\n",
       "      <th>top250SterCount</th>\n",
       "      <th>top250SterRatAnt</th>\n",
       "      <th>...</th>\n",
       "      <th>jj to</th>\n",
       "      <th>nn in</th>\n",
       "      <th>nns in</th>\n",
       "      <th>in nn</th>\n",
       "      <th>dt nn</th>\n",
       "      <th>jj nn nn</th>\n",
       "      <th>nn nn nn</th>\n",
       "      <th>nn nn nns</th>\n",
       "      <th>to vb nn</th>\n",
       "      <th>class</th>\n",
       "    </tr>\n",
       "  </thead>\n",
       "  <tbody>\n",
       "    <tr>\n",
       "      <th>1502</th>\n",
       "      <td>0.428571</td>\n",
       "      <td>Show me the movie called \"The Martian\"</td>\n",
       "      <td>0.571429</td>\n",
       "      <td>0.0</td>\n",
       "      <td>6.21</td>\n",
       "      <td>0.714286</td>\n",
       "      <td>3.001429</td>\n",
       "      <td>0.142857</td>\n",
       "      <td>1</td>\n",
       "      <td>0.142857</td>\n",
       "      <td>...</td>\n",
       "      <td>0.0</td>\n",
       "      <td>0.0</td>\n",
       "      <td>0.0</td>\n",
       "      <td>0.0</td>\n",
       "      <td>0.142857</td>\n",
       "      <td>0.0</td>\n",
       "      <td>0.0</td>\n",
       "      <td>0.0</td>\n",
       "      <td>0.0</td>\n",
       "      <td>1</td>\n",
       "    </tr>\n",
       "    <tr>\n",
       "      <th>1503</th>\n",
       "      <td>0.750000</td>\n",
       "      <td>What is the biggest rock found on Mars?</td>\n",
       "      <td>0.250000</td>\n",
       "      <td>0.0</td>\n",
       "      <td>10.95</td>\n",
       "      <td>0.750000</td>\n",
       "      <td>3.896250</td>\n",
       "      <td>0.375000</td>\n",
       "      <td>0</td>\n",
       "      <td>0.000000</td>\n",
       "      <td>...</td>\n",
       "      <td>0.0</td>\n",
       "      <td>0.0</td>\n",
       "      <td>0.0</td>\n",
       "      <td>0.0</td>\n",
       "      <td>0.000000</td>\n",
       "      <td>0.0</td>\n",
       "      <td>0.0</td>\n",
       "      <td>0.0</td>\n",
       "      <td>0.0</td>\n",
       "      <td>1</td>\n",
       "    </tr>\n",
       "    <tr>\n",
       "      <th>1504</th>\n",
       "      <td>0.857143</td>\n",
       "      <td>What is the top game this week?</td>\n",
       "      <td>0.142857</td>\n",
       "      <td>0.0</td>\n",
       "      <td>5.11</td>\n",
       "      <td>0.857143</td>\n",
       "      <td>3.718571</td>\n",
       "      <td>0.285714</td>\n",
       "      <td>1</td>\n",
       "      <td>0.142857</td>\n",
       "      <td>...</td>\n",
       "      <td>0.0</td>\n",
       "      <td>0.0</td>\n",
       "      <td>0.0</td>\n",
       "      <td>0.0</td>\n",
       "      <td>0.142857</td>\n",
       "      <td>0.0</td>\n",
       "      <td>0.0</td>\n",
       "      <td>0.0</td>\n",
       "      <td>0.0</td>\n",
       "      <td>1</td>\n",
       "    </tr>\n",
       "  </tbody>\n",
       "</table>\n",
       "<p>3 rows × 111 columns</p>\n",
       "</div>"
      ],
      "text/plain": [
       "      coreVocab                                    query  nonCoreVocab  \\\n",
       "1502   0.428571   Show me the movie called \"The Martian\"      0.571429   \n",
       "1503   0.750000  What is the biggest rock found on Mars?      0.250000   \n",
       "1504   0.857143          What is the top game this week?      0.142857   \n",
       "\n",
       "      minAoA  maxAoA  ratioAoA  queryComplexity      SVEN  top250SterCount  \\\n",
       "1502     0.0    6.21  0.714286         3.001429  0.142857                1   \n",
       "1503     0.0   10.95  0.750000         3.896250  0.375000                0   \n",
       "1504     0.0    5.11  0.857143         3.718571  0.285714                1   \n",
       "\n",
       "      top250SterRatAnt  ...  jj to  nn in  nns in  in nn     dt nn  jj nn nn  \\\n",
       "1502          0.142857  ...    0.0    0.0     0.0    0.0  0.142857       0.0   \n",
       "1503          0.000000  ...    0.0    0.0     0.0    0.0  0.000000       0.0   \n",
       "1504          0.142857  ...    0.0    0.0     0.0    0.0  0.142857       0.0   \n",
       "\n",
       "      nn nn nn  nn nn nns  to vb nn  class  \n",
       "1502       0.0        0.0       0.0      1  \n",
       "1503       0.0        0.0       0.0      1  \n",
       "1504       0.0        0.0       0.0      1  \n",
       "\n",
       "[3 rows x 111 columns]"
      ]
     },
     "execution_count": 56,
     "metadata": {},
     "output_type": "execute_result"
    }
   ],
   "source": [
    "SQS_Feat.tail(3)"
   ]
  },
  {
   "cell_type": "code",
   "execution_count": 57,
   "metadata": {},
   "outputs": [
    {
     "data": {
      "text/plain": [
       "Index(['coreVocab', 'query', 'nonCoreVocab', 'minAoA', 'maxAoA', 'ratioAoA',\n",
       "       'queryComplexity', 'SVEN', 'top250SterCount', 'top250SterRatAnt',\n",
       "       ...\n",
       "       'jj to', 'nn in', 'nns in', 'in nn', 'dt nn', 'jj nn nn', 'nn nn nn',\n",
       "       'nn nn nns', 'to vb nn', 'class'],\n",
       "      dtype='object', length=111)"
      ]
     },
     "execution_count": 57,
     "metadata": {},
     "output_type": "execute_result"
    }
   ],
   "source": [
    "SQS_Feat.columns"
   ]
  },
  {
   "cell_type": "code",
   "execution_count": 58,
   "metadata": {},
   "outputs": [
    {
     "data": {
      "text/plain": [
       "(1505, 111)"
      ]
     },
     "execution_count": 58,
     "metadata": {},
     "output_type": "execute_result"
    }
   ],
   "source": [
    "SQS_Feat.shape"
   ]
  },
  {
   "cell_type": "code",
   "execution_count": 59,
   "metadata": {},
   "outputs": [],
   "source": [
    "pickle.dump(SQS_Feat, open( \"DataSets/SQSFeatures/SQSFeat.p\", \"wb\" ))"
   ]
  },
  {
   "cell_type": "code",
   "execution_count": 60,
   "metadata": {},
   "outputs": [
    {
     "data": {
      "text/plain": [
       "'/Users/assoumerredempta/Documents/aSpring_2023/RYSe_Final/FeatureExtraction'"
      ]
     },
     "execution_count": 60,
     "metadata": {},
     "output_type": "execute_result"
    }
   ],
   "source": [
    "pwd"
   ]
  },
  {
   "cell_type": "code",
   "execution_count": null,
   "metadata": {},
   "outputs": [],
   "source": []
  },
  {
   "cell_type": "code",
   "execution_count": null,
   "metadata": {},
   "outputs": [],
   "source": []
  },
  {
   "cell_type": "code",
   "execution_count": null,
   "metadata": {},
   "outputs": [],
   "source": []
  },
  {
   "cell_type": "code",
   "execution_count": null,
   "metadata": {},
   "outputs": [],
   "source": []
  },
  {
   "cell_type": "code",
   "execution_count": null,
   "metadata": {},
   "outputs": [],
   "source": []
  },
  {
   "cell_type": "code",
   "execution_count": null,
   "metadata": {},
   "outputs": [],
   "source": []
  },
  {
   "cell_type": "code",
   "execution_count": null,
   "metadata": {},
   "outputs": [],
   "source": []
  },
  {
   "cell_type": "code",
   "execution_count": null,
   "metadata": {},
   "outputs": [],
   "source": []
  },
  {
   "cell_type": "code",
   "execution_count": null,
   "metadata": {},
   "outputs": [],
   "source": []
  },
  {
   "cell_type": "code",
   "execution_count": null,
   "metadata": {},
   "outputs": [],
   "source": []
  },
  {
   "cell_type": "code",
   "execution_count": null,
   "metadata": {},
   "outputs": [],
   "source": []
  },
  {
   "cell_type": "code",
   "execution_count": null,
   "metadata": {},
   "outputs": [],
   "source": []
  },
  {
   "cell_type": "code",
   "execution_count": null,
   "metadata": {},
   "outputs": [],
   "source": []
  },
  {
   "cell_type": "code",
   "execution_count": null,
   "metadata": {},
   "outputs": [],
   "source": []
  },
  {
   "cell_type": "code",
   "execution_count": null,
   "metadata": {},
   "outputs": [],
   "source": []
  },
  {
   "cell_type": "code",
   "execution_count": null,
   "metadata": {},
   "outputs": [],
   "source": []
  },
  {
   "cell_type": "code",
   "execution_count": null,
   "metadata": {},
   "outputs": [],
   "source": []
  },
  {
   "cell_type": "code",
   "execution_count": null,
   "metadata": {},
   "outputs": [],
   "source": []
  },
  {
   "cell_type": "code",
   "execution_count": null,
   "metadata": {},
   "outputs": [],
   "source": []
  },
  {
   "cell_type": "code",
   "execution_count": null,
   "metadata": {},
   "outputs": [],
   "source": []
  },
  {
   "cell_type": "code",
   "execution_count": null,
   "metadata": {},
   "outputs": [],
   "source": []
  },
  {
   "cell_type": "code",
   "execution_count": null,
   "metadata": {},
   "outputs": [],
   "source": []
  },
  {
   "cell_type": "code",
   "execution_count": null,
   "metadata": {},
   "outputs": [],
   "source": []
  },
  {
   "cell_type": "markdown",
   "metadata": {},
   "source": [
    "# Return Aggregated Extracted Features\n",
    "\n",
    "The following block of code returns the extracted features aggregated with their respective data sets."
   ]
  },
  {
   "cell_type": "code",
   "execution_count": 30,
   "metadata": {},
   "outputs": [],
   "source": [
    "# pickle.dump(SWCAll, open( \"DataSets/SWCFeatures/SWCFeat.p\", \"wb\" ) )\n",
    "# pickle.dump(SQSAll, open( \"DataSets/SQSFeatures/SQSFeat.p\", \"wb\" ) )"
   ]
  },
  {
   "cell_type": "code",
   "execution_count": 31,
   "metadata": {},
   "outputs": [
    {
     "ename": "NameError",
     "evalue": "name 'SQSAll' is not defined",
     "output_type": "error",
     "traceback": [
      "\u001b[0;31m---------------------------------------------------------------------------\u001b[0m",
      "\u001b[0;31mNameError\u001b[0m                                 Traceback (most recent call last)",
      "\u001b[0;32m<ipython-input-31-561efe30268a>\u001b[0m in \u001b[0;36m<module>\u001b[0;34m\u001b[0m\n\u001b[0;32m----> 1\u001b[0;31m \u001b[0mSQSAll\u001b[0m\u001b[0;34m.\u001b[0m\u001b[0mshape\u001b[0m\u001b[0;34m\u001b[0m\u001b[0;34m\u001b[0m\u001b[0m\n\u001b[0m",
      "\u001b[0;31mNameError\u001b[0m: name 'SQSAll' is not defined"
     ]
    }
   ],
   "source": [
    "# SQSAll.shape"
   ]
  },
  {
   "cell_type": "code",
   "execution_count": null,
   "metadata": {},
   "outputs": [],
   "source": [
    "# SQSAll.isnull().sum().sum()"
   ]
  },
  {
   "cell_type": "code",
   "execution_count": null,
   "metadata": {},
   "outputs": [],
   "source": [
    "# SQSAll[' Level4'].value_counts()"
   ]
  },
  {
   "cell_type": "code",
   "execution_count": null,
   "metadata": {},
   "outputs": [],
   "source": [
    "# SQSAll['vs1'].unique()"
   ]
  },
  {
   "cell_type": "code",
   "execution_count": null,
   "metadata": {},
   "outputs": [],
   "source": [
    "# dt=SQSAll.copy()"
   ]
  },
  {
   "cell_type": "code",
   "execution_count": null,
   "metadata": {},
   "outputs": [],
   "source": [
    "# pd.Series.nunique(SQSAll[' Level0'])"
   ]
  },
  {
   "cell_type": "code",
   "execution_count": null,
   "metadata": {},
   "outputs": [],
   "source": [
    "cormat=dt.loc[:, dt.apply(pd.Series.nunique) != 1].corr()\n",
    "# cormat.head()"
   ]
  },
  {
   "cell_type": "code",
   "execution_count": null,
   "metadata": {},
   "outputs": [],
   "source": [
    "# cormat.iloc[:5, ]"
   ]
  },
  {
   "cell_type": "code",
   "execution_count": null,
   "metadata": {},
   "outputs": [],
   "source": [
    "# varHigh=cormat['class'].abs().sort_values(ascending=False)[:20].index.tolist()\n",
    "# varHigh"
   ]
  },
  {
   "cell_type": "code",
   "execution_count": null,
   "metadata": {},
   "outputs": [],
   "source": []
  },
  {
   "cell_type": "markdown",
   "metadata": {},
   "source": [
    "The following is the correlation matrix of features with highest correlation "
   ]
  },
  {
   "cell_type": "code",
   "execution_count": null,
   "metadata": {},
   "outputs": [],
   "source": [
    "plt.figure(figsize=(20,8))\n",
    "sns.heatmap(cormat.loc[varHigh, varHigh], annot=True)\n",
    "plt.title('Correlation matrix of top 20 most correlated features ')\n",
    "plt.show()"
   ]
  },
  {
   "cell_type": "code",
   "execution_count": null,
   "metadata": {},
   "outputs": [],
   "source": [
    "varLeast=cormat['class'].abs().sort_values(ascending=False)[-20:].index.tolist() # least correlated variables\n",
    "varLeast = ['class','rbs',\n",
    " 'dt nn',\n",
    " 'prp',\n",
    " 'pos',\n",
    " 'ex',\n",
    " 'nnps',\n",
    " 'wdt',\n",
    " 'jjr',\n",
    " 'dt',\n",
    " 'http',\n",
    " 'rbr',\n",
    " 'jj to vb',\n",
    " 'jj to',\n",
    " 'nnp',\n",
    " 'vbd',\n",
    " 'md',\n",
    " 'OR',\n",
    " 'vbn',\n",
    " 'jj nn nn',\n",
    " 'rp']"
   ]
  },
  {
   "cell_type": "code",
   "execution_count": null,
   "metadata": {},
   "outputs": [],
   "source": [
    "plt.figure(figsize=(20,8))\n",
    "sns.heatmap(cormat.loc[varLeast, varLeast], annot=True, cmap = 'PuRd')\n",
    "plt.title('Correlation matrix of top 20 least correlated features ')\n",
    "plt.show()"
   ]
  },
  {
   "cell_type": "code",
   "execution_count": null,
   "metadata": {},
   "outputs": [],
   "source": [
    "cormat['class'].iloc[1:].abs().sort_values(ascending=False)[:20].plot(kind='barh')"
   ]
  },
  {
   "cell_type": "code",
   "execution_count": null,
   "metadata": {},
   "outputs": [],
   "source": [
    "cormat['class'].iloc[1:].abs().sort_values(ascending=False)[:10]"
   ]
  },
  {
   "cell_type": "code",
   "execution_count": null,
   "metadata": {},
   "outputs": [],
   "source": [
    "(cormat['class'].iloc[1:].abs().sort_values(ascending=False)[-10:])\n"
   ]
  },
  {
   "cell_type": "code",
   "execution_count": null,
   "metadata": {},
   "outputs": [],
   "source": []
  },
  {
   "cell_type": "code",
   "execution_count": null,
   "metadata": {},
   "outputs": [],
   "source": [
    "cormat['class'].iloc[1:][cormat['class'].iloc[1:].abs() > 0.3]"
   ]
  },
  {
   "cell_type": "code",
   "execution_count": null,
   "metadata": {},
   "outputs": [],
   "source": []
  },
  {
   "cell_type": "code",
   "execution_count": null,
   "metadata": {},
   "outputs": [],
   "source": [
    "SQSAll['class'].value_counts()"
   ]
  },
  {
   "cell_type": "code",
   "execution_count": null,
   "metadata": {},
   "outputs": [],
   "source": [
    "SQSAll.shape"
   ]
  },
  {
   "cell_type": "code",
   "execution_count": null,
   "metadata": {},
   "outputs": [],
   "source": [
    "print('done')"
   ]
  },
  {
   "cell_type": "markdown",
   "metadata": {},
   "source": [
    "Let's look at the how features that are classified as abstraction process, language developme, and that are not yet classified (stored in unClassFeat) in either abstraction process or language developmet"
   ]
  },
  {
   "cell_type": "code",
   "execution_count": null,
   "metadata": {},
   "outputs": [],
   "source": [
    "# unClassFeat plus 'class'\n",
    "unClassFeat = ['class',    \n",
    "'coreVocab',\n",
    "'nonCoreVocab',\n",
    "'queryComplexity',\n",
    "'stopCount',\n",
    "'com',\n",
    "# 'net',\n",
    "'org',\n",
    "# 'edu',\n",
    "# 'gov',\n",
    "'http',\n",
    "# 'AND',\n",
    "'OR',\n",
    "'quotes',\n",
    "'inter']"
   ]
  },
  {
   "cell_type": "code",
   "execution_count": null,
   "metadata": {},
   "outputs": [],
   "source": [
    "plt.figure(figsize=(10,6))\n",
    "sns.heatmap(cormat.loc[unClassFeat, unClassFeat], annot=True, cmap='Purples')\n",
    "plt.title('Correlation matrix of unclassified features')\n",
    "plt.show()"
   ]
  },
  {
   "cell_type": "code",
   "execution_count": null,
   "metadata": {},
   "outputs": [],
   "source": []
  },
  {
   "cell_type": "code",
   "execution_count": null,
   "metadata": {},
   "outputs": [],
   "source": [
    "AbstrProcFeat = ['class',\n",
    "'casing',\n",
    "'punct',\n",
    "'cc',\n",
    "'cd',\n",
    "'dt',\n",
    "'ex',\n",
    "'fw',\n",
    "'in',\n",
    "'jj',\n",
    "'jjr',\n",
    "'jjs',\n",
    "'md', \n",
    "'nn',\n",
    "'nnp',\n",
    "'nnps',\n",
    "'nns',\n",
    "'pos',\n",
    "'prp',\n",
    "'rb',\n",
    "'rbr',\n",
    "'rbs',\n",
    "'rp',\n",
    "'to',\n",
    "'vb',\n",
    "'vbd',\n",
    "'vbg',\n",
    "'vbn',\n",
    "'vbp',\n",
    "'vbz',\n",
    "'wdt',\n",
    "'wp',\n",
    "'wrb',\n",
    "'nn nn',\n",
    "'jj nn',\n",
    "'nn nns',\n",
    "'to vb',\n",
    "'jj nns',\n",
    "'jj to',\n",
    "'nn in',\n",
    "'nns in',\n",
    "'in nn',\n",
    "'dt nn',\n",
    "'jj nn nn',\n",
    "'nn nn nn',\n",
    "'jj to vb',\n",
    "'nn nn nns',\n",
    "'to vb nn'\n",
    "# 'level1',\n",
    "# 'level2',\n",
    "# 'level3',\n",
    "# 'level4',\n",
    "# 'level5',\n",
    "# 'level6',\n",
    "# 'level7',\n",
    "# 'MeanLevel'\n",
    "]"
   ]
  },
  {
   "cell_type": "code",
   "execution_count": null,
   "metadata": {},
   "outputs": [],
   "source": [
    "plt.figure(figsize=(40,20))\n",
    "sns.heatmap(cormat.loc[AbstrProcFeat, AbstrProcFeat], annot=True, cmap='Greens')\n",
    "plt.title('Correlation matrix of abstract process features')\n",
    "plt.show()"
   ]
  },
  {
   "cell_type": "code",
   "execution_count": null,
   "metadata": {},
   "outputs": [],
   "source": [
    "# LangDevFeat plus 'class'\n",
    "LangDevFeat = ['class',\n",
    "'ld',\n",
    "'ls1',\n",
    "'ls2',\n",
    "# 'vs1',\n",
    "# 'cvs1',\n",
    "# 'vs2',\n",
    "'ndw',\n",
    "'ttr',\n",
    "'cttr',\n",
    "'rttr',\n",
    "# 'logttr',\n",
    "'vv1',\n",
    "'svv1',\n",
    "'cvv1',\n",
    "'vv2',\n",
    "'nv',\n",
    "'adjv',\n",
    "'numWords',\n",
    "'numChars',\n",
    "'avgLenWord',\n",
    "'totalSyl',\n",
    "'avgSyl',\n",
    "'simWords',\n",
    "# 'comWords', #------ this is giving an error that 'comWordsgreatestSyl' is not index yet it is not found anywhere ??\n",
    "'greatestSyl', \n",
    "'leastSyl',             \n",
    "'minAoA',\n",
    "'maxAoA',\n",
    "'ratioAoA',\n",
    "'SVEN',\n",
    "'top250SterCount',\n",
    "'top250SterRatAnt',\n",
    "'top250SterRatCon',\n",
    "'top250NonSterCount',\n",
    "'top250NonSterRatAnt',\n",
    "'top250NonSterRatCon',\n",
    "'top50SterCount',\n",
    "'top50SterRatAnt',\n",
    "'top50SterAntCon',\n",
    "'top50NonSterCount',\n",
    "'top50NonSterRatAnt',\n",
    "'top50NonSterAntCon',\n",
    "'tfidfAll',\n",
    "'tfidfS',\n",
    "'tfidfNS',              \n",
    "'inter',\n",
    "'numSpellingErrors',\n",
    "'kidsError',\n",
    "'offByOne']"
   ]
  },
  {
   "cell_type": "code",
   "execution_count": null,
   "metadata": {},
   "outputs": [],
   "source": [
    "SQSAll['vs1'].unique()"
   ]
  },
  {
   "cell_type": "code",
   "execution_count": null,
   "metadata": {},
   "outputs": [],
   "source": [
    "SQSAll['vs2'].unique()"
   ]
  },
  {
   "cell_type": "code",
   "execution_count": null,
   "metadata": {},
   "outputs": [],
   "source": [
    "SQSAll['cvs1'].unique()"
   ]
  },
  {
   "cell_type": "code",
   "execution_count": null,
   "metadata": {},
   "outputs": [],
   "source": [
    "# plt.figure(figsize=(35,15))\n",
    "# sns.heatmap(cormat.loc[LangDevFeat, LangDevFeat], annot=True, cmap='Blues')\n",
    "# plt.title('Correlation matrix of language development features')\n",
    "# plt.show()"
   ]
  },
  {
   "cell_type": "markdown",
   "metadata": {},
   "source": [
    "### Correlation of features on str and nstr separately"
   ]
  },
  {
   "cell_type": "code",
   "execution_count": null,
   "metadata": {},
   "outputs": [],
   "source": [
    "SQSAllstr = SQSAll[SQSAll['class'] == 1]\n",
    "SQSAllnonstr = SQSAll[SQSAll['class'] == 0]"
   ]
  },
  {
   "cell_type": "code",
   "execution_count": null,
   "metadata": {},
   "outputs": [],
   "source": [
    "SQSAllstr.shape"
   ]
  },
  {
   "cell_type": "code",
   "execution_count": null,
   "metadata": {},
   "outputs": [],
   "source": [
    "SQSAllnonstr.shape "
   ]
  },
  {
   "cell_type": "code",
   "execution_count": null,
   "metadata": {},
   "outputs": [],
   "source": [
    "unClassFeatNew = unClassFeat.copy() \n"
   ]
  },
  {
   "cell_type": "code",
   "execution_count": null,
   "metadata": {},
   "outputs": [],
   "source": [
    "len(unClassFeatNew)"
   ]
  },
  {
   "cell_type": "code",
   "execution_count": null,
   "metadata": {},
   "outputs": [],
   "source": [
    "unwanted1 = {'class', 'inter', 'http', 'quotes'} # ---- the removed features have constant values\n",
    "unClassFeatNew1 = [ele for ele in unClassFeatNew if ele not in unwanted1]\n"
   ]
  },
  {
   "cell_type": "code",
   "execution_count": null,
   "metadata": {},
   "outputs": [],
   "source": [
    "unClassFeatNew1"
   ]
  },
  {
   "cell_type": "code",
   "execution_count": null,
   "metadata": {},
   "outputs": [],
   "source": [
    "# plt.figure(figsize=(10,6))\n",
    "# sns.heatmap(cormat.loc[unClassFeatNew, unClassFeatNew], annot=True, cmap='Purples')\n",
    "# plt.title('Correlation matrix of unclassified features on str')\n",
    "# plt.show()"
   ]
  },
  {
   "cell_type": "code",
   "execution_count": null,
   "metadata": {},
   "outputs": [],
   "source": [
    "cormatStr=SQSAllstr.loc[:, SQSAllstr.apply(pd.Series.nunique) != 1].corr() \n",
    "cormatNonStr=SQSAllnonstr.loc[:, SQSAllnonstr.apply(pd.Series.nunique) != 1].corr()\n"
   ]
  },
  {
   "cell_type": "code",
   "execution_count": null,
   "metadata": {},
   "outputs": [],
   "source": [
    "SQSAllstr['inter'].unique()"
   ]
  },
  {
   "cell_type": "code",
   "execution_count": null,
   "metadata": {},
   "outputs": [],
   "source": [
    "SQSAllstr['quotes'].unique()"
   ]
  },
  {
   "cell_type": "code",
   "execution_count": null,
   "metadata": {},
   "outputs": [],
   "source": [
    "SQSAllstr['http'].unique()"
   ]
  },
  {
   "cell_type": "code",
   "execution_count": null,
   "metadata": {},
   "outputs": [],
   "source": [
    "SQSAll['http'].unique()"
   ]
  },
  {
   "cell_type": "code",
   "execution_count": null,
   "metadata": {},
   "outputs": [],
   "source": [
    "plt.figure(figsize=(10,6))\n",
    "sns.heatmap(cormatStr.loc[unClassFeatNew1, unClassFeatNew1], annot=True, cmap='Purples')\n",
    "plt.title('Correlation matrix of unclassified features on str')\n",
    "plt.show()\n"
   ]
  },
  {
   "cell_type": "code",
   "execution_count": null,
   "metadata": {},
   "outputs": [],
   "source": [
    "# remove the .com from nonSrt \n",
    "\n",
    "unwanted2 = {'class', 'com'} # ---- the removed features have constant values\n",
    "unClassFeatNew2 = [ele for ele in unClassFeatNew if ele not in unwanted2]\n"
   ]
  },
  {
   "cell_type": "code",
   "execution_count": null,
   "metadata": {},
   "outputs": [],
   "source": [
    "len(unClassFeatNew2)"
   ]
  },
  {
   "cell_type": "code",
   "execution_count": null,
   "metadata": {},
   "outputs": [],
   "source": [
    "plt.figure(figsize=(10,6))\n",
    "sns.heatmap(cormatNonStr.loc[unClassFeatNew2, unClassFeatNew2], annot=True, cmap='Purples')\n",
    "plt.title('Correlation matrix of unclassified features on nonStr')\n",
    "plt.show()"
   ]
  },
  {
   "cell_type": "markdown",
   "metadata": {},
   "source": [
    "### Compute selection"
   ]
  },
  {
   "cell_type": "code",
   "execution_count": null,
   "metadata": {},
   "outputs": [],
   "source": [
    "unFeat=unClassFeat.copy()\n",
    "unFeat.remove('class')"
   ]
  },
  {
   "cell_type": "code",
   "execution_count": null,
   "metadata": {},
   "outputs": [],
   "source": [
    "# Feature selection \n",
    "\n",
    "mi=mutual_info_classif(SQSAll[unFeat], SQSAll['class'])"
   ]
  },
  {
   "cell_type": "code",
   "execution_count": null,
   "metadata": {},
   "outputs": [],
   "source": [
    "pd.Series(mi, index=unFeat).sort_values(ascending=False)"
   ]
  },
  {
   "cell_type": "markdown",
   "metadata": {},
   "source": [
    "### Compute feature importance \n",
    "We looked at the feature importance from the different classification of the "
   ]
  },
  {
   "cell_type": "code",
   "execution_count": null,
   "metadata": {},
   "outputs": [],
   "source": [
    "from sklearn.ensemble import RandomForestClassifier\n",
    "from sklearn.preprocessing import StandardScaler"
   ]
  },
  {
   "cell_type": "markdown",
   "metadata": {},
   "source": [
    "#### - Unclassified features \n"
   ]
  },
  {
   "cell_type": "code",
   "execution_count": null,
   "metadata": {},
   "outputs": [],
   "source": [
    "X_scaled=StandardScaler().fit_transform(SQSAll[unFeat])"
   ]
  },
  {
   "cell_type": "code",
   "execution_count": null,
   "metadata": {},
   "outputs": [],
   "source": [
    "model=RandomForestClassifier(n_estimators=200, bootstrap=False,\n",
    "                             criterion='entropy', class_weight='balanced', random_state=42, n_jobs=-1)\n",
    "model.fit(X_scaled, SQSAll['class'])"
   ]
  },
  {
   "cell_type": "code",
   "execution_count": null,
   "metadata": {},
   "outputs": [],
   "source": [
    "model.feature_importances_"
   ]
  },
  {
   "cell_type": "code",
   "execution_count": null,
   "metadata": {},
   "outputs": [],
   "source": [
    "pd.Series(model.feature_importances_, index=unFeat).sort_values(ascending=False)"
   ]
  },
  {
   "cell_type": "code",
   "execution_count": null,
   "metadata": {},
   "outputs": [],
   "source": [
    "model.score(X_scaled, SQSAll['class']) # ... this not write since the data need to be split into train and test "
   ]
  },
  {
   "cell_type": "markdown",
   "metadata": {},
   "source": [
    "#### - LangDevFeat"
   ]
  },
  {
   "cell_type": "code",
   "execution_count": null,
   "metadata": {},
   "outputs": [],
   "source": [
    "LangDevFeat.remove('class')"
   ]
  },
  {
   "cell_type": "code",
   "execution_count": null,
   "metadata": {},
   "outputs": [],
   "source": [
    "X_scaled=StandardScaler().fit_transform(SQSAll[LangDevFeat])"
   ]
  },
  {
   "cell_type": "code",
   "execution_count": null,
   "metadata": {},
   "outputs": [],
   "source": [
    "model=RandomForestClassifier(n_estimators=200, bootstrap=False,\n",
    "                             criterion='entropy', class_weight='balanced', random_state=42, n_jobs=-1)\n",
    "model.fit(X_scaled, SQSAll['class'])"
   ]
  },
  {
   "cell_type": "code",
   "execution_count": null,
   "metadata": {},
   "outputs": [],
   "source": [
    "pd.Series(model.feature_importances_, index=LangDevFeat).sort_values(ascending=False)\n"
   ]
  },
  {
   "cell_type": "markdown",
   "metadata": {},
   "source": [
    "#### - AbstrProcFeat"
   ]
  },
  {
   "cell_type": "code",
   "execution_count": null,
   "metadata": {},
   "outputs": [],
   "source": [
    "AbstrProcFeat.remove('class')"
   ]
  },
  {
   "cell_type": "code",
   "execution_count": null,
   "metadata": {},
   "outputs": [],
   "source": [
    "X_scaled=StandardScaler().fit_transform(SQSAll[AbstrProcFeat])"
   ]
  },
  {
   "cell_type": "code",
   "execution_count": null,
   "metadata": {},
   "outputs": [],
   "source": [
    "model=RandomForestClassifier(n_estimators=200, bootstrap=False,\n",
    "                             criterion='entropy', class_weight='balanced', random_state=42, n_jobs=-1)\n",
    "model.fit(X_scaled, SQSAll['class'])"
   ]
  },
  {
   "cell_type": "code",
   "execution_count": null,
   "metadata": {},
   "outputs": [],
   "source": [
    "pd.Series(model.feature_importances_, index=AbstrProcFeat).sort_values(ascending=False)"
   ]
  },
  {
   "cell_type": "markdown",
   "metadata": {},
   "source": [
    "#### All features"
   ]
  },
  {
   "cell_type": "code",
   "execution_count": null,
   "metadata": {},
   "outputs": [],
   "source": [
    "allFeat = unFeat + LangDevFeat + AbstrProcFeat\n",
    "# len(allFeat)"
   ]
  },
  {
   "cell_type": "code",
   "execution_count": null,
   "metadata": {},
   "outputs": [],
   "source": [
    "X_scaled=StandardScaler().fit_transform(SQSAll[allFeat])"
   ]
  },
  {
   "cell_type": "code",
   "execution_count": null,
   "metadata": {},
   "outputs": [],
   "source": [
    "# The model parameter values are from the best hyperparameters from 'ModelTry_TYSe.ipyn' file\n",
    "model=RandomForestClassifier(n_estimators=50, criterion='entropy',\n",
    "                                        max_depth=None, max_features=0.75, min_samples_split=3)\n",
    "model.fit(X_scaled, SQSAll['class'])"
   ]
  },
  {
   "cell_type": "code",
   "execution_count": null,
   "metadata": {},
   "outputs": [],
   "source": [
    "featImp_allFeat = pd.Series(model.feature_importances_, index=allFeat).sort_values(ascending=False)\n",
    "featImp_allFeat[:80]"
   ]
  },
  {
   "cell_type": "code",
   "execution_count": null,
   "metadata": {},
   "outputs": [],
   "source": [
    "df_featImp=pd.DataFrame({'features':featImp_allFeat.index, 'values':featImp_allFeat.values})\n",
    "df_featImp"
   ]
  },
  {
   "cell_type": "code",
   "execution_count": null,
   "metadata": {},
   "outputs": [],
   "source": []
  },
  {
   "cell_type": "code",
   "execution_count": null,
   "metadata": {},
   "outputs": [],
   "source": []
  },
  {
   "cell_type": "markdown",
   "metadata": {},
   "source": [
    "There are 101 feat only yet, they are supposed to be 118. Where are the other, what happened to them? What is the explanation? "
   ]
  },
  {
   "cell_type": "code",
   "execution_count": null,
   "metadata": {},
   "outputs": [],
   "source": []
  },
  {
   "cell_type": "code",
   "execution_count": null,
   "metadata": {},
   "outputs": [],
   "source": [
    "print('done')"
   ]
  },
  {
   "cell_type": "code",
   "execution_count": null,
   "metadata": {},
   "outputs": [],
   "source": [
    "pwd"
   ]
  },
  {
   "cell_type": "markdown",
   "metadata": {},
   "source": [
    "## Data simple exploration\n",
    "\n",
    "In this sec"
   ]
  },
  {
   "cell_type": "code",
   "execution_count": null,
   "metadata": {},
   "outputs": [],
   "source": [
    "SQSAll.shape # all queries \n"
   ]
  },
  {
   "cell_type": "code",
   "execution_count": null,
   "metadata": {},
   "outputs": [],
   "source": [
    "(SQSAll['class']==1).value_counts()"
   ]
  },
  {
   "cell_type": "code",
   "execution_count": null,
   "metadata": {},
   "outputs": [],
   "source": [
    "SQSAllstr = SQSAll[SQSAll['class'] == 1]\n",
    "SQSAllnonstr = SQSAll[SQSAll['class'] == 0]"
   ]
  },
  {
   "cell_type": "code",
   "execution_count": null,
   "metadata": {},
   "outputs": [],
   "source": [
    "from matplotlib import pyplot as plt\n",
    "import numpy as np\n",
    "\n",
    "plt.subplot(1, 2, 1) \n",
    "SQSAllstr['numWords'].hist()\n",
    "plt.rcParams['figure.figsize'] = [13, 6]\n",
    "plt.title(\"Distribution of number of words per query - str\")\n",
    "plt.xlabel(' ')\n",
    "plt.ylabel(' ')\n",
    "\n",
    "plt.subplot(1, 2, 2) \n",
    "SQSAllnonstr['numWords'].hist()\n",
    "plt.rcParams['figure.figsize'] = [13, 6]\n",
    "plt.title(\"Distribution of number of words per query - nStr\")\n",
    "plt.xlabel(' ')\n",
    "plt.ylabel(' ')\n",
    "\n",
    "plt.show()"
   ]
  },
  {
   "cell_type": "code",
   "execution_count": null,
   "metadata": {},
   "outputs": [],
   "source": [
    "from matplotlib import pyplot as plt\n",
    "import numpy as np\n",
    "\n",
    "plt.subplot(1, 2, 1) \n",
    "SQSAllstr['numChars'].hist()\n",
    "plt.rcParams['figure.figsize'] = [13, 6]\n",
    "plt.title(\"Distribution of number of char per query - str\")\n",
    "plt.xlabel(' ')\n",
    "plt.ylabel(' ')\n",
    "\n",
    "plt.subplot(1, 2, 2) \n",
    "SQSAllnonstr['numChars'].hist()\n",
    "plt.rcParams['figure.figsize'] = [13, 6]\n",
    "plt.title(\"Distribution of number of char per query - nStr\")\n",
    "plt.xlabel(' ')\n",
    "plt.ylabel(' ')\n",
    "\n",
    "plt.show()"
   ]
  },
  {
   "cell_type": "markdown",
   "metadata": {},
   "source": [
    "##### -- str"
   ]
  },
  {
   "cell_type": "code",
   "execution_count": null,
   "metadata": {},
   "outputs": [],
   "source": [
    "SQSAllstr['numWords'].describe()"
   ]
  },
  {
   "cell_type": "code",
   "execution_count": null,
   "metadata": {},
   "outputs": [],
   "source": [
    "SQSAllstr['numChars'].describe()"
   ]
  },
  {
   "cell_type": "code",
   "execution_count": null,
   "metadata": {},
   "outputs": [],
   "source": [
    "SQSAllstr['avgLenWord'].describe()"
   ]
  },
  {
   "cell_type": "markdown",
   "metadata": {},
   "source": [
    "##### -- nonstr"
   ]
  },
  {
   "cell_type": "code",
   "execution_count": null,
   "metadata": {},
   "outputs": [],
   "source": [
    "SQSAllnonstr['numWords'].describe()"
   ]
  },
  {
   "cell_type": "code",
   "execution_count": null,
   "metadata": {},
   "outputs": [],
   "source": [
    "SQSAllnonstr['numChars'].describe()"
   ]
  },
  {
   "cell_type": "code",
   "execution_count": null,
   "metadata": {},
   "outputs": [],
   "source": [
    "SQSAllnonstr['avgLenWord'].describe()"
   ]
  },
  {
   "cell_type": "code",
   "execution_count": null,
   "metadata": {},
   "outputs": [],
   "source": [
    "pd.DataFrame({\n",
    "    'casing': SQSAll['casing'].value_counts(),\n",
    "    'class': SQSAll['class'].value_counts()\n",
    "})"
   ]
  },
  {
   "cell_type": "code",
   "execution_count": null,
   "metadata": {},
   "outputs": [],
   "source": [
    "pd.crosstab(SQSAll['class'], SQSAll['casing'])"
   ]
  },
  {
   "cell_type": "code",
   "execution_count": null,
   "metadata": {},
   "outputs": [],
   "source": [
    "SQSAll['class'] == 0"
   ]
  },
  {
   "cell_type": "code",
   "execution_count": null,
   "metadata": {},
   "outputs": [],
   "source": [
    "SQS.shape"
   ]
  },
  {
   "cell_type": "code",
   "execution_count": null,
   "metadata": {},
   "outputs": [],
   "source": [
    "SQS"
   ]
  },
  {
   "cell_type": "code",
   "execution_count": null,
   "metadata": {},
   "outputs": [],
   "source": [
    "adult = SQS[SQS['class'] == 0]\n",
    "adult"
   ]
  },
  {
   "cell_type": "code",
   "execution_count": null,
   "metadata": {},
   "outputs": [],
   "source": [
    "kids = SQS[SQS['class'] == 1]\n",
    "kids"
   ]
  },
  {
   "cell_type": "code",
   "execution_count": null,
   "metadata": {},
   "outputs": [],
   "source": [
    "from sklearn.feature_extraction.text import CountVectorizer"
   ]
  },
  {
   "cell_type": "code",
   "execution_count": null,
   "metadata": {},
   "outputs": [],
   "source": [
    "vec_adults=CountVectorizer()\n",
    "vec_kids=CountVectorizer()\n",
    "\n",
    "X_adults=vec_adults.fit_transform(adult['query'])\n",
    "adults_feats=vec_adults.get_feature_names()\n",
    "X_kids=vec_kids.fit_transform(kids['query'])\n",
    "kids_feats=vec_kids.get_feature_names()\n",
    "\n",
    "adults_counts_df = pd.DataFrame(X_adults.toarray(), columns=adults_feats)\n",
    "kids_counts_df = pd.DataFrame(X_kids.toarray(), columns=kids_feats)"
   ]
  },
  {
   "cell_type": "code",
   "execution_count": null,
   "metadata": {},
   "outputs": [],
   "source": [
    "ac_df = adults_counts_df.sum().sort_values(ascending=False) # ac_df = adults counts \n",
    "ac_df.head(30) # for adults"
   ]
  },
  {
   "cell_type": "code",
   "execution_count": null,
   "metadata": {},
   "outputs": [],
   "source": [
    "sns.histplot(ac_df, kde=True)\n",
    "plt.show()"
   ]
  },
  {
   "cell_type": "code",
   "execution_count": null,
   "metadata": {},
   "outputs": [],
   "source": [
    "kc_df = kids_counts_df.sum().sort_values(ascending=False)\n",
    "kc_df.head(30) # For kids"
   ]
  },
  {
   "cell_type": "code",
   "execution_count": null,
   "metadata": {},
   "outputs": [],
   "source": [
    "sns.histplot(kc_df, kde=True)\n",
    "plt.show()"
   ]
  },
  {
   "cell_type": "code",
   "execution_count": null,
   "metadata": {},
   "outputs": [],
   "source": [
    "kids.shape"
   ]
  },
  {
   "cell_type": "markdown",
   "metadata": {},
   "source": [
    "### Without stopwords"
   ]
  },
  {
   "cell_type": "code",
   "execution_count": null,
   "metadata": {},
   "outputs": [],
   "source": [
    "vec_adults=CountVectorizer(stop_words='english')\n",
    "vec_kids=CountVectorizer(stop_words='english')\n",
    "\n",
    "\n",
    "X_adults=vec_adults.fit_transform(adult['query'])\n",
    "adults_feats=vec_adults.get_feature_names()\n",
    "X_kids=vec_kids.fit_transform(kids['query'])\n",
    "kids_feats=vec_kids.get_feature_names()\n",
    "\n",
    "adults_counts_df = pd.DataFrame(X_adults.toarray(), columns=adults_feats)\n",
    "kids_counts_df = pd.DataFrame(X_kids.toarray(), columns=kids_feats)"
   ]
  },
  {
   "cell_type": "code",
   "execution_count": null,
   "metadata": {},
   "outputs": [],
   "source": [
    "adults_counts_df.sum().sort_values(ascending=False)"
   ]
  },
  {
   "cell_type": "code",
   "execution_count": null,
   "metadata": {},
   "outputs": [],
   "source": [
    "kids_c_df_ns = kids_counts_df.sum().sort_values(ascending=False) # not stopwords\n",
    "kids_c_df_ns"
   ]
  },
  {
   "cell_type": "code",
   "execution_count": null,
   "metadata": {},
   "outputs": [],
   "source": []
  },
  {
   "cell_type": "code",
   "execution_count": null,
   "metadata": {},
   "outputs": [],
   "source": [
    "All"
   ]
  }
 ],
 "metadata": {
  "kernelspec": {
   "display_name": "Python 3",
   "language": "python",
   "name": "python3"
  },
  "language_info": {
   "codemirror_mode": {
    "name": "ipython",
    "version": 3
   },
   "file_extension": ".py",
   "mimetype": "text/x-python",
   "name": "python",
   "nbconvert_exporter": "python",
   "pygments_lexer": "ipython3",
   "version": "3.8.8"
  }
 },
 "nbformat": 4,
 "nbformat_minor": 4
}
