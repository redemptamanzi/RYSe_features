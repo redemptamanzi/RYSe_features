{
 "cells": [
  {
   "cell_type": "markdown",
   "metadata": {},
   "source": [
    "This notebook extracts all spelling and puncutation features from the set of queries found in SQS."
   ]
  },
  {
   "cell_type": "markdown",
   "metadata": {},
   "source": [
    "# Load Libraries\n",
    "\n",
    "The following block of code loads all libraries needed for this notebook."
   ]
  },
  {
   "cell_type": "code",
   "execution_count": 1,
   "metadata": {},
   "outputs": [],
   "source": [
    "import csv\n",
    "import pickle\n",
    "import string\n",
    "import textstat\n",
    "\n",
    "import pandas as pd\n",
    "import numpy as np\n",
    "\n",
    "from langdetect import detect\n",
    "from spellchecker import SpellChecker\n",
    "from tqdm import tqdm"
   ]
  },
  {
   "cell_type": "markdown",
   "metadata": {},
   "source": [
    "# Load Data Sets\n",
    "\n",
    "This block of code loads the data sets and extracts all unique queries from both."
   ]
  },
  {
   "cell_type": "code",
   "execution_count": 2,
   "metadata": {},
   "outputs": [],
   "source": [
    "# allSessions = pickle.load( open( \"../Data/DataSets/SWC/SWC.p\", \"rb\" ) )\n",
    "# allSessionsSQS = pickle.load( open( \"../Data/DataSets/SQS/SQS.p\", \"rb\" ) )\n",
    "# allQueries = allSessions['query'].tolist() + allSessionsSQS['query'].tolist()\n",
    "# allQueries = set(allQueries)\n",
    "\n",
    "# allSessionsSQS = pickle.load( open( \"../Data/DataSets/SQS/SQS.p\", \"rb\" ) )\n",
    "# allQueries = allSessionsSQS['query'].tolist()\n",
    "# allQueries = np.array(allQueries)\n",
    "# allQueries\n",
    "\n",
    "allSessionsSQS = pickle.load( open( \"../Data/DataSets/SQS/SQS.p\", \"rb\" ) )\n",
    "allQueries = allSessionsSQS['query'].tolist()\n",
    "setQueries = allQueries\n"
   ]
  },
  {
   "cell_type": "code",
   "execution_count": 3,
   "metadata": {},
   "outputs": [
    {
     "data": {
      "text/html": [
       "<div>\n",
       "<style scoped>\n",
       "    .dataframe tbody tr th:only-of-type {\n",
       "        vertical-align: middle;\n",
       "    }\n",
       "\n",
       "    .dataframe tbody tr th {\n",
       "        vertical-align: top;\n",
       "    }\n",
       "\n",
       "    .dataframe thead th {\n",
       "        text-align: right;\n",
       "    }\n",
       "</style>\n",
       "<table border=\"1\" class=\"dataframe\">\n",
       "  <thead>\n",
       "    <tr style=\"text-align: right;\">\n",
       "      <th></th>\n",
       "      <th>query</th>\n",
       "      <th>class</th>\n",
       "      <th>sID</th>\n",
       "    </tr>\n",
       "  </thead>\n",
       "  <tbody>\n",
       "    <tr>\n",
       "      <th>0</th>\n",
       "      <td>becoming a fireman</td>\n",
       "      <td>0</td>\n",
       "      <td>3199</td>\n",
       "    </tr>\n",
       "    <tr>\n",
       "      <th>1</th>\n",
       "      <td>hotel in Pocono Mountains</td>\n",
       "      <td>0</td>\n",
       "      <td>2515</td>\n",
       "    </tr>\n",
       "    <tr>\n",
       "      <th>2</th>\n",
       "      <td>wedding traditions buddhism</td>\n",
       "      <td>0</td>\n",
       "      <td>2823</td>\n",
       "    </tr>\n",
       "    <tr>\n",
       "      <th>3</th>\n",
       "      <td>diversification in hiring</td>\n",
       "      <td>0</td>\n",
       "      <td>3033</td>\n",
       "    </tr>\n",
       "    <tr>\n",
       "      <th>4</th>\n",
       "      <td>traiditional swahili recipes</td>\n",
       "      <td>0</td>\n",
       "      <td>3145</td>\n",
       "    </tr>\n",
       "    <tr>\n",
       "      <th>...</th>\n",
       "      <td>...</td>\n",
       "      <td>...</td>\n",
       "      <td>...</td>\n",
       "    </tr>\n",
       "    <tr>\n",
       "      <th>1500</th>\n",
       "      <td>Who plays the bad guy in Star Wars the Horde a...</td>\n",
       "      <td>1</td>\n",
       "      <td>3256</td>\n",
       "    </tr>\n",
       "    <tr>\n",
       "      <th>1501</th>\n",
       "      <td>What is a fox's favorite kind of food?</td>\n",
       "      <td>1</td>\n",
       "      <td>2859</td>\n",
       "    </tr>\n",
       "    <tr>\n",
       "      <th>1502</th>\n",
       "      <td>Show me the movie called \"The Martian\"</td>\n",
       "      <td>1</td>\n",
       "      <td>3208</td>\n",
       "    </tr>\n",
       "    <tr>\n",
       "      <th>1503</th>\n",
       "      <td>What is the biggest rock found on Mars?</td>\n",
       "      <td>1</td>\n",
       "      <td>2676</td>\n",
       "    </tr>\n",
       "    <tr>\n",
       "      <th>1504</th>\n",
       "      <td>What is the top game this week?</td>\n",
       "      <td>1</td>\n",
       "      <td>2703</td>\n",
       "    </tr>\n",
       "  </tbody>\n",
       "</table>\n",
       "<p>1505 rows × 3 columns</p>\n",
       "</div>"
      ],
      "text/plain": [
       "                                                  query  class   sID\n",
       "0                                    becoming a fireman      0  3199\n",
       "1                             hotel in Pocono Mountains      0  2515\n",
       "2                           wedding traditions buddhism      0  2823\n",
       "3                             diversification in hiring      0  3033\n",
       "4                          traiditional swahili recipes      0  3145\n",
       "...                                                 ...    ...   ...\n",
       "1500  Who plays the bad guy in Star Wars the Horde a...      1  3256\n",
       "1501             What is a fox's favorite kind of food?      1  2859\n",
       "1502             Show me the movie called \"The Martian\"      1  3208\n",
       "1503            What is the biggest rock found on Mars?      1  2676\n",
       "1504                    What is the top game this week?      1  2703\n",
       "\n",
       "[1505 rows x 3 columns]"
      ]
     },
     "execution_count": 3,
     "metadata": {},
     "output_type": "execute_result"
    }
   ],
   "source": [
    "allSessionsSQS"
   ]
  },
  {
   "cell_type": "code",
   "execution_count": 4,
   "metadata": {},
   "outputs": [
    {
     "data": {
      "text/plain": [
       "1505"
      ]
     },
     "execution_count": 4,
     "metadata": {},
     "output_type": "execute_result"
    }
   ],
   "source": [
    "len(setQueries)"
   ]
  },
  {
   "cell_type": "markdown",
   "metadata": {},
   "source": [
    "# Generate Misspelled List\n",
    "\n",
    "Generates a list of commonly misspelled words by children from the KidSpell data set which is later used."
   ]
  },
  {
   "cell_type": "code",
   "execution_count": null,
   "metadata": {},
   "outputs": [],
   "source": []
  },
  {
   "cell_type": "code",
   "execution_count": 5,
   "metadata": {},
   "outputs": [],
   "source": [
    "kidsMispelled = []\n",
    "\n",
    "count = 0\n",
    "\n",
    "with open('KidSpell/Web_Search_Lab_Errors.csv', newline='') as csvfile:\n",
    "    spamreader = csv.reader(csvfile, delimiter=',', quotechar='|')\n",
    "    for row in spamreader:\n",
    "        if count == 0:\n",
    "            count += 1\n",
    "        else:\n",
    "            kidsMispelled.append(row[0])\n",
    "\n",
    "count = 0\n",
    "with open('KidSpell/Web_Search_Informal_Errors.csv', newline='') as csvfile:\n",
    "    spamreader = csv.reader(csvfile, delimiter=',', quotechar='|')\n",
    "    for row in spamreader:\n",
    "        if count == 0:\n",
    "            count += 1\n",
    "        else:\n",
    "            kidsMispelled.append(row[0])\n",
    "    \n",
    "count = 0\n",
    "with open('KidSpell/Essay_Writing_Errors.csv', newline='') as csvfile:\n",
    "    spamreader = csv.reader(csvfile, delimiter=',', quotechar='|')\n",
    "    for row in spamreader:\n",
    "        if count == 0:\n",
    "            count += 1\n",
    "        else:\n",
    "            kidsMispelled.append(row[1])\n",
    "\n",
    "kidsMispelled = set(kidsMispelled)"
   ]
  },
  {
   "cell_type": "code",
   "execution_count": 6,
   "metadata": {},
   "outputs": [
    {
     "data": {
      "text/plain": [
       "1134"
      ]
     },
     "execution_count": 6,
     "metadata": {},
     "output_type": "execute_result"
    }
   ],
   "source": [
    "len(kidsMispelled)"
   ]
  },
  {
   "cell_type": "markdown",
   "metadata": {},
   "source": [
    "# Extract Spelling Features\n",
    "\n",
    "The following block of code extracts features related to spelling errors and stores them in a dataframe. "
   ]
  },
  {
   "cell_type": "code",
   "execution_count": 7,
   "metadata": {},
   "outputs": [
    {
     "name": "stderr",
     "output_type": "stream",
     "text": [
      "100%|██████████| 1505/1505 [00:46<00:00, 32.43it/s]\n"
     ]
    }
   ],
   "source": [
    "spell = SpellChecker()\n",
    "\n",
    "spellingError = []\n",
    "oneOffError = []\n",
    "kidsError = []\n",
    "misspelledCol = []\n",
    "\n",
    "netModifiers = ['www', 'http', '.com', '.net', '.edu', '.org', '.gov', '.co', '.mil', '.com']\n",
    "\n",
    "with tqdm(total = len(allQueries) ) as pbar:\n",
    "    for query in allQueries:\n",
    "        query =  query.translate(str.maketrans('', '', string.punctuation)) # -- remove all panctuations\n",
    "        website = [mod for mod in netModifiers if(mod in query)] # --- save the netModifiers in the queries\n",
    "        if not website:\n",
    "            misspelledWords = \"\";\n",
    "            try:\n",
    "                lang = detect(query) # -- detects a language \n",
    "                misspelled = spell.unknown(query.split(\" \")) # -- unknown gives the misspelled words\n",
    "                found = 0\n",
    "                oneOff = 0\n",
    "                kidsMis = 0\n",
    "                for word in misspelled:\n",
    "                    misspelledWords += \", \" + word # -- concatinating the misspelled words\n",
    "                    if word in kidsMispelled:\n",
    "                        kidsMis +=1\n",
    "                    candid = spell.candidates(word) # candidates() displays the set of words that are close to the word entered\n",
    "#                     print(candid)\n",
    "#                     print(\"-------start edits-----------------\")\n",
    "                    edits = spell.edit_distance_1(word)\n",
    "#                     print(edits)\n",
    "#                     print(\"-----------end edits-------------\")\n",
    "                    \n",
    "                    for can in candid:\n",
    "                        if can in edits:\n",
    "                            oneOff += 1\n",
    "                        break\n",
    "#                     print(word +' Out')\n",
    "                oneOffError.append(oneOff)\n",
    "                spellingError.append(len(misspelled))\n",
    "                kidsError.append(kidsMis)\n",
    "#                 misspelledCol.append(misspelledWords)\n",
    "                \n",
    "            except:\n",
    "#                 print(misspelled)\n",
    "                oneOffError.append(-1)\n",
    "                spellingError.append(-1)\n",
    "                kidsError.append(-1)\n",
    "#                 misspelledCol.append(misspelledWords)\n",
    "\n",
    "        else:\n",
    "            spellingError.append(0)\n",
    "            oneOffError.append(0)\n",
    "            kidsError.append(0)\n",
    "#             misspelledCol.append(\"none\")\n",
    "\n",
    "        pbar.update()\n",
    "    \n",
    "spelling = pd.DataFrame(data=spellingError, columns = ['numSpellingErrors'])\n",
    "spelling['query'] = allQueries\n",
    "spelling['offByOne'] = oneOffError\n",
    "spelling['kidsError'] = kidsError\n",
    "# spelling['ms'] = misspelledCol\n"
   ]
  },
  {
   "cell_type": "code",
   "execution_count": 8,
   "metadata": {},
   "outputs": [],
   "source": [
    "# # ---- CHECKING ----\n",
    "\n",
    "# spell = SpellChecker()\n",
    "\n",
    "# spellingError = []\n",
    "# oneOffError = []\n",
    "# kidsError = []\n",
    "# misspelledCol = []\n",
    "\n",
    "# netModifiers = ['www', 'http', '.com', '.net', '.edu', '.org', '.gov', '.co', '.mil', '.com']\n",
    "\n",
    "# with tqdm(total = len(allQueries) ) as pbar:\n",
    "#     for query in allQueries:\n",
    "#         query =  query.translate(str.maketrans('', '', string.punctuation)) # -- remove all panctuations\n",
    "#         website = [mod for mod in netModifiers if(mod in query)] # --- save the netModifiers in the queries\n",
    "#         if not website:\n",
    "#             misspelledWords = \"\";\n",
    "#             try:\n",
    "#                 lang = detect(query) # -- detects a language \n",
    "#                 misspelled = spell.unknown(query.split(\" \")) # -- unknown gives the misspelled words\n",
    "#                 found = 0\n",
    "#                 oneOff = 0\n",
    "#                 kidsMis = 0\n",
    "#                 for word in misspelled:\n",
    "#                     misspelledWords += \" \" + word # -- concatinating the misspelled words\n",
    "#                     if word in kidsMispelled:\n",
    "#                         kidsMis +=1\n",
    "#                     candid = spell.candidates(word) # --- candidates() displays the set of words that are close to the word entered e.g: 'country', 'count', 'counter' if country is entered\n",
    "#                     edits = spell.edit_distance_1(word) # -- Compute all strings that are one edit away from `word` \n",
    "                    \n",
    "#                     for can in candid:\n",
    "#                         if can in edits:\n",
    "#                             oneOff += 1 # -- one letter off \n",
    "#                         break\n",
    "\n",
    "#                 oneOffError.append(oneOff)\n",
    "#                 spellingError.append(len(misspelled))\n",
    "#                 kidsError.append(kidsMis)\n",
    "#                 misspelledCol.append(misspelledWords)\n",
    "                \n",
    "#             except:\n",
    "# #                 print(misspelled)\n",
    "#                 oneOffError.append(-1)\n",
    "#                 spellingError.append(-1)\n",
    "#                 kidsError.append(-1)\n",
    "#                 misspelledCol.append(misspelledWords)\n",
    "\n",
    "#         else:\n",
    "#             spellingError.append(0)\n",
    "#             oneOffError.append(0)\n",
    "#             kidsError.append(0)\n",
    "#             misspelledCol.append(\"none\")\n",
    "\n",
    "#         pbar.update()\n",
    "    \n",
    "# spelling = pd.DataFrame(data=spellingError, columns = ['numSpellingErrors'])\n",
    "# spelling['query'] = allQueries\n",
    "# spelling['offByOne'] = oneOffError\n",
    "# spelling['kidsError'] = kidsError\n",
    "# spelling['ms'] = misspelledCol\n"
   ]
  },
  {
   "cell_type": "code",
   "execution_count": 9,
   "metadata": {},
   "outputs": [
    {
     "name": "stdout",
     "output_type": "stream",
     "text": [
      "en\n"
     ]
    },
    {
     "data": {
      "text/plain": [
       "{'intentioal', 'ths'}"
      ]
     },
     "execution_count": 9,
     "metadata": {},
     "output_type": "execute_result"
    }
   ],
   "source": [
    "jj= 'ths is intentioal'\n",
    "\n",
    "print(detect(jj))\n",
    "\n",
    "kk=spell.unknown(jj.split(\" \"))\n",
    "kk"
   ]
  },
  {
   "cell_type": "code",
   "execution_count": 10,
   "metadata": {},
   "outputs": [
    {
     "data": {
      "text/plain": [
       "1"
      ]
     },
     "execution_count": 10,
     "metadata": {},
     "output_type": "execute_result"
    }
   ],
   "source": [
    "candid = spell.candidates('ths') # candidates() displays the set of words that are close to the word entered\n",
    "#                     print(candid)\n",
    "#                     print(\"-------start edits-----------------\")\n",
    "edits = spell.edit_distance_1('ths')\n",
    "#                     print(edits)\n",
    "#                     print(\"-----------end edits-------------\")\n",
    "oneOff=0              \n",
    "for can in candid:\n",
    "    if can in edits:\n",
    "        oneOff += 1\n",
    "    break\n",
    "oneOff"
   ]
  },
  {
   "cell_type": "code",
   "execution_count": null,
   "metadata": {},
   "outputs": [],
   "source": []
  },
  {
   "cell_type": "code",
   "execution_count": 11,
   "metadata": {},
   "outputs": [
    {
     "data": {
      "text/plain": [
       "{'tas',\n",
       " 'tes',\n",
       " 'tha',\n",
       " 'thas',\n",
       " 'the',\n",
       " 'thes',\n",
       " 'thi',\n",
       " 'this',\n",
       " 'tho',\n",
       " 'thos',\n",
       " 'thu',\n",
       " 'thus',\n",
       " 'thy',\n",
       " 'tis',\n",
       " 'tus'}"
      ]
     },
     "execution_count": 11,
     "metadata": {},
     "output_type": "execute_result"
    }
   ],
   "source": [
    "spell.candidates('ths')"
   ]
  },
  {
   "cell_type": "code",
   "execution_count": 12,
   "metadata": {},
   "outputs": [
    {
     "name": "stdout",
     "output_type": "stream",
     "text": [
      "0\n",
      "0\n"
     ]
    }
   ],
   "source": [
    "for j in range(5):\n",
    "    print(j)\n",
    "    if j ==0:\n",
    "        print(j)\n",
    "    break"
   ]
  },
  {
   "cell_type": "code",
   "execution_count": 13,
   "metadata": {},
   "outputs": [
    {
     "data": {
      "text/plain": [
       "{\"'hs\",\n",
       " \"'ths\",\n",
       " 'ahs',\n",
       " 'aths',\n",
       " 'bhs',\n",
       " 'bths',\n",
       " 'chs',\n",
       " 'cths',\n",
       " 'dhs',\n",
       " 'dths',\n",
       " 'ehs',\n",
       " 'eths',\n",
       " 'fhs',\n",
       " 'fths',\n",
       " 'ghs',\n",
       " 'gths',\n",
       " 'hhs',\n",
       " 'hs',\n",
       " 'hths',\n",
       " 'hts',\n",
       " 'ihs',\n",
       " 'iths',\n",
       " 'jhs',\n",
       " 'jths',\n",
       " 'khs',\n",
       " 'kths',\n",
       " 'lhs',\n",
       " 'lths',\n",
       " 'mhs',\n",
       " 'mths',\n",
       " 'nhs',\n",
       " 'nths',\n",
       " 'ohs',\n",
       " 'oths',\n",
       " 'phs',\n",
       " 'pths',\n",
       " 'qhs',\n",
       " 'qths',\n",
       " 'rhs',\n",
       " 'rths',\n",
       " 'shs',\n",
       " 'sths',\n",
       " \"t'hs\",\n",
       " \"t's\",\n",
       " 'tahs',\n",
       " 'tas',\n",
       " 'tbhs',\n",
       " 'tbs',\n",
       " 'tchs',\n",
       " 'tcs',\n",
       " 'tdhs',\n",
       " 'tds',\n",
       " 'tehs',\n",
       " 'tes',\n",
       " 'tfhs',\n",
       " 'tfs',\n",
       " 'tghs',\n",
       " 'tgs',\n",
       " 'th',\n",
       " \"th'\",\n",
       " \"th's\",\n",
       " 'tha',\n",
       " 'thas',\n",
       " 'thb',\n",
       " 'thbs',\n",
       " 'thc',\n",
       " 'thcs',\n",
       " 'thd',\n",
       " 'thds',\n",
       " 'the',\n",
       " 'thes',\n",
       " 'thf',\n",
       " 'thfs',\n",
       " 'thg',\n",
       " 'thgs',\n",
       " 'thh',\n",
       " 'thhs',\n",
       " 'thi',\n",
       " 'this',\n",
       " 'thj',\n",
       " 'thjs',\n",
       " 'thk',\n",
       " 'thks',\n",
       " 'thl',\n",
       " 'thls',\n",
       " 'thm',\n",
       " 'thms',\n",
       " 'thn',\n",
       " 'thns',\n",
       " 'tho',\n",
       " 'thos',\n",
       " 'thp',\n",
       " 'thps',\n",
       " 'thq',\n",
       " 'thqs',\n",
       " 'thr',\n",
       " 'thrs',\n",
       " 'ths',\n",
       " \"ths'\",\n",
       " 'thsa',\n",
       " 'thsb',\n",
       " 'thsc',\n",
       " 'thsd',\n",
       " 'thse',\n",
       " 'thsf',\n",
       " 'thsg',\n",
       " 'thsh',\n",
       " 'thsi',\n",
       " 'thsj',\n",
       " 'thsk',\n",
       " 'thsl',\n",
       " 'thsm',\n",
       " 'thsn',\n",
       " 'thso',\n",
       " 'thsp',\n",
       " 'thsq',\n",
       " 'thsr',\n",
       " 'thss',\n",
       " 'thst',\n",
       " 'thsu',\n",
       " 'thsv',\n",
       " 'thsw',\n",
       " 'thsx',\n",
       " 'thsy',\n",
       " 'thsz',\n",
       " 'tht',\n",
       " 'thts',\n",
       " 'thu',\n",
       " 'thus',\n",
       " 'thv',\n",
       " 'thvs',\n",
       " 'thw',\n",
       " 'thws',\n",
       " 'thx',\n",
       " 'thxs',\n",
       " 'thy',\n",
       " 'thys',\n",
       " 'thz',\n",
       " 'thzs',\n",
       " 'tihs',\n",
       " 'tis',\n",
       " 'tjhs',\n",
       " 'tjs',\n",
       " 'tkhs',\n",
       " 'tks',\n",
       " 'tlhs',\n",
       " 'tls',\n",
       " 'tmhs',\n",
       " 'tms',\n",
       " 'tnhs',\n",
       " 'tns',\n",
       " 'tohs',\n",
       " 'tos',\n",
       " 'tphs',\n",
       " 'tps',\n",
       " 'tqhs',\n",
       " 'tqs',\n",
       " 'trhs',\n",
       " 'trs',\n",
       " 'ts',\n",
       " 'tsh',\n",
       " 'tshs',\n",
       " 'tss',\n",
       " 'tths',\n",
       " 'tts',\n",
       " 'tuhs',\n",
       " 'tus',\n",
       " 'tvhs',\n",
       " 'tvs',\n",
       " 'twhs',\n",
       " 'tws',\n",
       " 'txhs',\n",
       " 'txs',\n",
       " 'tyhs',\n",
       " 'tys',\n",
       " 'tzhs',\n",
       " 'tzs',\n",
       " 'uhs',\n",
       " 'uths',\n",
       " 'vhs',\n",
       " 'vths',\n",
       " 'whs',\n",
       " 'wths',\n",
       " 'xhs',\n",
       " 'xths',\n",
       " 'yhs',\n",
       " 'yths',\n",
       " 'zhs',\n",
       " 'zths'}"
      ]
     },
     "execution_count": 13,
     "metadata": {},
     "output_type": "execute_result"
    }
   ],
   "source": [
    "spell.edit_distance_1('ths')"
   ]
  },
  {
   "cell_type": "code",
   "execution_count": 14,
   "metadata": {
    "scrolled": true
   },
   "outputs": [
    {
     "data": {
      "text/plain": [
       "True"
      ]
     },
     "execution_count": 14,
     "metadata": {},
     "output_type": "execute_result"
    }
   ],
   "source": [
    "'ths' in spell.edit_distance_1('ths')"
   ]
  },
  {
   "cell_type": "code",
   "execution_count": 15,
   "metadata": {},
   "outputs": [
    {
     "name": "stdout",
     "output_type": "stream",
     "text": [
      "{'intentional'}\n",
      "{'tha', 'tis', 'thy', 'thi', 'thas', 'thos', 'tus', 'thus', 'thu', 'tes', 'the', 'this', 'tas', 'tho', 'thes'}\n"
     ]
    }
   ],
   "source": [
    "for j in kk:\n",
    "    print(spell.candidates(j))\n",
    "#     print(spell.edit_distance_1(j))\n",
    "    pass"
   ]
  },
  {
   "cell_type": "code",
   "execution_count": 16,
   "metadata": {},
   "outputs": [
    {
     "data": {
      "text/plain": [
       "True"
      ]
     },
     "execution_count": 16,
     "metadata": {},
     "output_type": "execute_result"
    }
   ],
   "source": [
    "'' in kidsMispelled"
   ]
  },
  {
   "cell_type": "code",
   "execution_count": 17,
   "metadata": {},
   "outputs": [
    {
     "name": "stderr",
     "output_type": "stream",
     "text": [
      "100%|██████████| 1505/1505 [00:44<00:00, 34.12it/s]\n"
     ]
    }
   ],
   "source": [
    "spell = SpellChecker()\n",
    "\n",
    "spellingError = []\n",
    "oneOffError = []\n",
    "kidsError = []\n",
    "misspelledCol = []\n",
    "\n",
    "netModifiers = ['www', 'http', '.com', '.net', '.edu', '.org', '.gov', '.co', '.mil', '.com']\n",
    "\n",
    "with tqdm(total = len(allQueries) ) as pbar:\n",
    "    for query in allQueries:\n",
    "        query =  query.translate(str.maketrans('', '', string.punctuation)) # -- remove all panctuations\n",
    "        website = [mod for mod in netModifiers if(mod in query)] # --- save the netModifiers in the queries\n",
    "        if not website:\n",
    "            misspelledWords = \"\";\n",
    "            try:\n",
    "                lang = detect(query) # -- detects a language \n",
    "                misspelled = spell.unknown(query.split(\" \")) # -- unknown gives the misspelled words\n",
    "                found = 0\n",
    "                oneOff = 0\n",
    "                kidsMis = 0\n",
    "                for word in misspelled:\n",
    "                    misspelledWords += \", \" + word # -- concatinating the misspelled words\n",
    "                    if word in kidsMispelled:\n",
    "                        kidsMis +=1\n",
    "                    candid = spell.candidates(word) # candidates() displays the set of words that are close to the word entered\n",
    "#                     print(candid)\n",
    "#                     print(\"-------start edits-----------------\")\n",
    "                    edits = spell.edit_distance_1(word)\n",
    "#                     print(edits)\n",
    "#                     print(\"-----------end edits-------------\")\n",
    "                    \n",
    "                    for can in candid:\n",
    "                        if can in edits:\n",
    "                            oneOff += 1\n",
    "                        break\n",
    "#                     print(word +' Out')\n",
    "                oneOffError.append(oneOff)\n",
    "                spellingError.append(len(misspelled))\n",
    "                kidsError.append(kidsMis)\n",
    "#                 misspelledCol.append(misspelledWords)\n",
    "                \n",
    "            except:\n",
    "#                 print(misspelled)\n",
    "                oneOffError.append(-1)\n",
    "                spellingError.append(-1)\n",
    "                kidsError.append(-1)\n",
    "#                 misspelledCol.append(misspelledWords)\n",
    "\n",
    "        else:\n",
    "            spellingError.append(0)\n",
    "            oneOffError.append(0)\n",
    "            kidsError.append(0)\n",
    "#             misspelledCol.append(\"none\")\n",
    "\n",
    "        pbar.update()\n",
    "    \n",
    "spelling = pd.DataFrame(data=spellingError, columns = ['numSpellingErrors'])\n",
    "spelling['query'] = allQueries\n",
    "spelling['offByOne'] = oneOffError\n",
    "spelling['kidsError'] = kidsError\n",
    "# spelling['ms'] = misspelledCol\n"
   ]
  },
  {
   "cell_type": "code",
   "execution_count": 18,
   "metadata": {},
   "outputs": [
    {
     "data": {
      "text/plain": [
       "'efficiency of solar panels'"
      ]
     },
     "execution_count": 18,
     "metadata": {},
     "output_type": "execute_result"
    }
   ],
   "source": [
    "allQueries[7]"
   ]
  },
  {
   "cell_type": "code",
   "execution_count": 19,
   "metadata": {},
   "outputs": [
    {
     "data": {
      "text/plain": [
       "False"
      ]
     },
     "execution_count": 19,
     "metadata": {},
     "output_type": "execute_result"
    }
   ],
   "source": [
    "' ' in allQueries"
   ]
  },
  {
   "cell_type": "code",
   "execution_count": 20,
   "metadata": {},
   "outputs": [],
   "source": [
    "for can in candid:\n",
    "                        if can in edits:\n",
    "                            oneOff += 1\n",
    "                        break"
   ]
  },
  {
   "cell_type": "code",
   "execution_count": 21,
   "metadata": {},
   "outputs": [
    {
     "name": "stderr",
     "output_type": "stream",
     "text": [
      "100%|██████████| 1505/1505 [00:44<00:00, 34.18it/s]\n"
     ]
    }
   ],
   "source": [
    "spell = SpellChecker()\n",
    "\n",
    "spellingError = [] # number of misspelled words in the query\n",
    "oneOffError = []\n",
    "kidsError = []  # number of erros found in kidsMispelled\n",
    "misspelledCol = []\n",
    "allErrors = [] # list of concatenated errors per query\n",
    "\n",
    "\n",
    "netModifiers = ['www', 'http', '.com', '.net', '.edu', '.org', '.gov', '.co', '.mil', '.com']\n",
    "with tqdm(total = len(allQueries) ) as pbar:\n",
    "    for query in allQueries:\n",
    "        query =  query.translate(str.maketrans('', '', string.punctuation)) # -- remove all panctuations\n",
    "        website = [mod for mod in netModifiers if(mod in query)] # --- save the netModifiers in the queries\n",
    "        if not website:\n",
    "            misspelledWords = \"\";\n",
    "            try:\n",
    "                lang = detect(query) # -- detects a language \n",
    "                misspelled = spell.unknown(query.split(\" \")) # -- unknown gives the misspelled words\n",
    "                spellingError.append(len(misspelled))\n",
    "                \n",
    "                all_error = ', '.join(misspelled)\n",
    "                allErrors.append(all_error)\n",
    "                \n",
    "                kidsMis = 0\n",
    "                #oneoff =0\n",
    "                for word in misspelled:\n",
    "                    if word in kidsMispelled:\n",
    "                        kidsMis +=1\n",
    "                        \n",
    "                    candid = spell.candidates(word)\n",
    "                    edits = spell.edit_distance_1(word)\n",
    "                    \n",
    "#                     if list(candid)[0] in edits:\n",
    "#                         oneoff+=1\n",
    "# #                     for can in candid:\n",
    "#                         if can in edits:\n",
    "#                             oneoff+=1\n",
    "#                         break\n",
    "                        \n",
    "                \n",
    "                kidsError.append(kidsMis)\n",
    "                #oneOffError.append(oneoff)\n",
    "            \n",
    "            except:\n",
    "                spellingError.append(-1)\n",
    "                kidsError.append(-1)\n",
    "                allErrors.append(-1)\n",
    "                #oneOffError.append(-1)\n",
    "            \n",
    "        else:\n",
    "            spellingError.append(0)\n",
    "            kidsError.append(0)\n",
    "            allErrors.append(0)\n",
    "            #oneOffError.append(0)\n",
    "\n",
    "        pbar.update()"
   ]
  },
  {
   "cell_type": "code",
   "execution_count": 22,
   "metadata": {},
   "outputs": [
    {
     "data": {
      "text/plain": [
       "1505"
      ]
     },
     "execution_count": 22,
     "metadata": {},
     "output_type": "execute_result"
    }
   ],
   "source": [
    "len(allErrors)"
   ]
  },
  {
   "cell_type": "code",
   "execution_count": 23,
   "metadata": {},
   "outputs": [
    {
     "data": {
      "text/html": [
       "<div>\n",
       "<style scoped>\n",
       "    .dataframe tbody tr th:only-of-type {\n",
       "        vertical-align: middle;\n",
       "    }\n",
       "\n",
       "    .dataframe tbody tr th {\n",
       "        vertical-align: top;\n",
       "    }\n",
       "\n",
       "    .dataframe thead th {\n",
       "        text-align: right;\n",
       "    }\n",
       "</style>\n",
       "<table border=\"1\" class=\"dataframe\">\n",
       "  <thead>\n",
       "    <tr style=\"text-align: right;\">\n",
       "      <th></th>\n",
       "      <th>Query</th>\n",
       "      <th>kidsError</th>\n",
       "      <th>numSpellingErrors</th>\n",
       "      <th>ms</th>\n",
       "    </tr>\n",
       "  </thead>\n",
       "  <tbody>\n",
       "    <tr>\n",
       "      <th>0</th>\n",
       "      <td>becoming a fireman</td>\n",
       "      <td>0</td>\n",
       "      <td>0</td>\n",
       "      <td></td>\n",
       "    </tr>\n",
       "    <tr>\n",
       "      <th>1</th>\n",
       "      <td>hotel in Pocono Mountains</td>\n",
       "      <td>0</td>\n",
       "      <td>1</td>\n",
       "      <td>pocono</td>\n",
       "    </tr>\n",
       "    <tr>\n",
       "      <th>2</th>\n",
       "      <td>wedding traditions buddhism</td>\n",
       "      <td>0</td>\n",
       "      <td>0</td>\n",
       "      <td></td>\n",
       "    </tr>\n",
       "    <tr>\n",
       "      <th>3</th>\n",
       "      <td>diversification in hiring</td>\n",
       "      <td>0</td>\n",
       "      <td>0</td>\n",
       "      <td></td>\n",
       "    </tr>\n",
       "    <tr>\n",
       "      <th>4</th>\n",
       "      <td>traiditional swahili recipes</td>\n",
       "      <td>0</td>\n",
       "      <td>2</td>\n",
       "      <td>swahili, traiditional</td>\n",
       "    </tr>\n",
       "    <tr>\n",
       "      <th>...</th>\n",
       "      <td>...</td>\n",
       "      <td>...</td>\n",
       "      <td>...</td>\n",
       "      <td>...</td>\n",
       "    </tr>\n",
       "    <tr>\n",
       "      <th>1500</th>\n",
       "      <td>Who plays the bad guy in Star Wars the Horde a...</td>\n",
       "      <td>0</td>\n",
       "      <td>1</td>\n",
       "      <td>awakends</td>\n",
       "    </tr>\n",
       "    <tr>\n",
       "      <th>1501</th>\n",
       "      <td>What is a fox's favorite kind of food?</td>\n",
       "      <td>0</td>\n",
       "      <td>1</td>\n",
       "      <td>foxs</td>\n",
       "    </tr>\n",
       "    <tr>\n",
       "      <th>1502</th>\n",
       "      <td>Show me the movie called \"The Martian\"</td>\n",
       "      <td>0</td>\n",
       "      <td>0</td>\n",
       "      <td></td>\n",
       "    </tr>\n",
       "    <tr>\n",
       "      <th>1503</th>\n",
       "      <td>What is the biggest rock found on Mars?</td>\n",
       "      <td>0</td>\n",
       "      <td>0</td>\n",
       "      <td></td>\n",
       "    </tr>\n",
       "    <tr>\n",
       "      <th>1504</th>\n",
       "      <td>What is the top game this week?</td>\n",
       "      <td>0</td>\n",
       "      <td>0</td>\n",
       "      <td></td>\n",
       "    </tr>\n",
       "  </tbody>\n",
       "</table>\n",
       "<p>1505 rows × 4 columns</p>\n",
       "</div>"
      ],
      "text/plain": [
       "                                                  Query  kidsError  \\\n",
       "0                                    becoming a fireman          0   \n",
       "1                             hotel in Pocono Mountains          0   \n",
       "2                           wedding traditions buddhism          0   \n",
       "3                             diversification in hiring          0   \n",
       "4                          traiditional swahili recipes          0   \n",
       "...                                                 ...        ...   \n",
       "1500  Who plays the bad guy in Star Wars the Horde a...          0   \n",
       "1501             What is a fox's favorite kind of food?          0   \n",
       "1502             Show me the movie called \"The Martian\"          0   \n",
       "1503            What is the biggest rock found on Mars?          0   \n",
       "1504                    What is the top game this week?          0   \n",
       "\n",
       "      numSpellingErrors                     ms  \n",
       "0                     0                         \n",
       "1                     1                 pocono  \n",
       "2                     0                         \n",
       "3                     0                         \n",
       "4                     2  swahili, traiditional  \n",
       "...                 ...                    ...  \n",
       "1500                  1               awakends  \n",
       "1501                  1                   foxs  \n",
       "1502                  0                         \n",
       "1503                  0                         \n",
       "1504                  0                         \n",
       "\n",
       "[1505 rows x 4 columns]"
      ]
     },
     "execution_count": 23,
     "metadata": {},
     "output_type": "execute_result"
    }
   ],
   "source": [
    "df =pd.DataFrame({\n",
    "    'Query': allQueries,\n",
    "    'kidsError': kidsError,\n",
    "    'numSpellingErrors': spellingError,\n",
    "    'ms': allErrors,\n",
    "    #'offByOne': oneOffError\n",
    "})\n",
    "df"
   ]
  },
  {
   "cell_type": "code",
   "execution_count": 24,
   "metadata": {},
   "outputs": [
    {
     "data": {
      "text/plain": [
       "True"
      ]
     },
     "execution_count": 24,
     "metadata": {},
     "output_type": "execute_result"
    }
   ],
   "source": [
    "'jp' in spell.edit_distance_1('jp')"
   ]
  },
  {
   "cell_type": "code",
   "execution_count": 25,
   "metadata": {},
   "outputs": [
    {
     "data": {
      "text/html": [
       "<div>\n",
       "<style scoped>\n",
       "    .dataframe tbody tr th:only-of-type {\n",
       "        vertical-align: middle;\n",
       "    }\n",
       "\n",
       "    .dataframe tbody tr th {\n",
       "        vertical-align: top;\n",
       "    }\n",
       "\n",
       "    .dataframe thead th {\n",
       "        text-align: right;\n",
       "    }\n",
       "</style>\n",
       "<table border=\"1\" class=\"dataframe\">\n",
       "  <thead>\n",
       "    <tr style=\"text-align: right;\">\n",
       "      <th></th>\n",
       "      <th>Query</th>\n",
       "      <th>kidsError</th>\n",
       "      <th>numSpellingErrors</th>\n",
       "      <th>ms</th>\n",
       "    </tr>\n",
       "  </thead>\n",
       "  <tbody>\n",
       "    <tr>\n",
       "      <th>4</th>\n",
       "      <td>traiditional swahili recipes</td>\n",
       "      <td>0</td>\n",
       "      <td>2</td>\n",
       "      <td>swahili, traiditional</td>\n",
       "    </tr>\n",
       "    <tr>\n",
       "      <th>11</th>\n",
       "      <td>regular phones vs internet phones voip experie...</td>\n",
       "      <td>0</td>\n",
       "      <td>2</td>\n",
       "      <td>vs, voip</td>\n",
       "    </tr>\n",
       "    <tr>\n",
       "      <th>21</th>\n",
       "      <td>Pocono Mountains  things to do</td>\n",
       "      <td>1</td>\n",
       "      <td>2</td>\n",
       "      <td>, pocono</td>\n",
       "    </tr>\n",
       "    <tr>\n",
       "      <th>83</th>\n",
       "      <td>bioinformatics degree SUNY</td>\n",
       "      <td>0</td>\n",
       "      <td>2</td>\n",
       "      <td>suny, bioinformatics</td>\n",
       "    </tr>\n",
       "    <tr>\n",
       "      <th>88</th>\n",
       "      <td>directions from OKC to the pocono mountains</td>\n",
       "      <td>0</td>\n",
       "      <td>2</td>\n",
       "      <td>pocono, okc</td>\n",
       "    </tr>\n",
       "    <tr>\n",
       "      <th>...</th>\n",
       "      <td>...</td>\n",
       "      <td>...</td>\n",
       "      <td>...</td>\n",
       "      <td>...</td>\n",
       "    </tr>\n",
       "    <tr>\n",
       "      <th>1388</th>\n",
       "      <td>Who plays Kylo Ren from StarWars?</td>\n",
       "      <td>0</td>\n",
       "      <td>2</td>\n",
       "      <td>starwars, kylo</td>\n",
       "    </tr>\n",
       "    <tr>\n",
       "      <th>1400</th>\n",
       "      <td>How old is Johny enlgish?</td>\n",
       "      <td>0</td>\n",
       "      <td>2</td>\n",
       "      <td>johny, enlgish</td>\n",
       "    </tr>\n",
       "    <tr>\n",
       "      <th>1431</th>\n",
       "      <td>How long can a polr bear swin under water?</td>\n",
       "      <td>1</td>\n",
       "      <td>2</td>\n",
       "      <td>polr, swin</td>\n",
       "    </tr>\n",
       "    <tr>\n",
       "      <th>1456</th>\n",
       "      <td>Batman vs superman</td>\n",
       "      <td>1</td>\n",
       "      <td>2</td>\n",
       "      <td>, vs</td>\n",
       "    </tr>\n",
       "    <tr>\n",
       "      <th>1481</th>\n",
       "      <td>Billbow - Bagan in the Hobbit</td>\n",
       "      <td>1</td>\n",
       "      <td>3</td>\n",
       "      <td>, bagan, billbow</td>\n",
       "    </tr>\n",
       "  </tbody>\n",
       "</table>\n",
       "<p>70 rows × 4 columns</p>\n",
       "</div>"
      ],
      "text/plain": [
       "                                                  Query  kidsError  \\\n",
       "4                          traiditional swahili recipes          0   \n",
       "11    regular phones vs internet phones voip experie...          0   \n",
       "21                       Pocono Mountains  things to do          1   \n",
       "83                           bioinformatics degree SUNY          0   \n",
       "88          directions from OKC to the pocono mountains          0   \n",
       "...                                                 ...        ...   \n",
       "1388                  Who plays Kylo Ren from StarWars?          0   \n",
       "1400                          How old is Johny enlgish?          0   \n",
       "1431         How long can a polr bear swin under water?          1   \n",
       "1456                                Batman vs superman           1   \n",
       "1481                      Billbow - Bagan in the Hobbit          1   \n",
       "\n",
       "      numSpellingErrors                     ms  \n",
       "4                     2  swahili, traiditional  \n",
       "11                    2               vs, voip  \n",
       "21                    2               , pocono  \n",
       "83                    2   suny, bioinformatics  \n",
       "88                    2            pocono, okc  \n",
       "...                 ...                    ...  \n",
       "1388                  2         starwars, kylo  \n",
       "1400                  2         johny, enlgish  \n",
       "1431                  2             polr, swin  \n",
       "1456                  2                   , vs  \n",
       "1481                  3       , bagan, billbow  \n",
       "\n",
       "[70 rows x 4 columns]"
      ]
     },
     "execution_count": 25,
     "metadata": {},
     "output_type": "execute_result"
    }
   ],
   "source": [
    "df.query('numSpellingErrors > 1')"
   ]
  },
  {
   "cell_type": "code",
   "execution_count": null,
   "metadata": {},
   "outputs": [],
   "source": []
  },
  {
   "cell_type": "code",
   "execution_count": 26,
   "metadata": {},
   "outputs": [
    {
     "data": {
      "text/plain": [
       "1505"
      ]
     },
     "execution_count": 26,
     "metadata": {},
     "output_type": "execute_result"
    }
   ],
   "source": [
    "len(allQueries)"
   ]
  },
  {
   "cell_type": "code",
   "execution_count": 27,
   "metadata": {},
   "outputs": [],
   "source": [
    "# spell = SpellChecker()\n",
    "\n",
    "# spellingError = []\n",
    "# oneOffError = []\n",
    "# kidsError = []\n",
    "# misspelledCol = []\n",
    "\n",
    "\n",
    "# netModifiers = ['www', 'http', '.com', '.net', '.edu', '.org', '.gov', '.co', '.mil', '.com']\n",
    "# with tqdm(total = len(allQueries) ) as pbar:\n",
    "#     for query in allQueries:\n",
    "#         query =  query.translate(str.maketrans('', '', string.punctuation)) # -- remove all panctuations\n",
    "#         website = [mod for mod in netModifiers if(mod in query)] # --- save the netModifiers in the queries\n",
    "#         if not website:\n",
    "#             misspelledWords = \"\";\n",
    "            \n",
    "#             try:\n",
    "#                 lang = detect(query) # -- detects a language \n",
    "#                 misspelled = spell.unknown(query.split(\" \")) # -- unknown gives the misspelled words\n",
    "                "
   ]
  },
  {
   "cell_type": "code",
   "execution_count": null,
   "metadata": {},
   "outputs": [],
   "source": []
  },
  {
   "cell_type": "code",
   "execution_count": 28,
   "metadata": {},
   "outputs": [],
   "source": [
    "edits = spell.edit_distance_1(word)"
   ]
  },
  {
   "cell_type": "code",
   "execution_count": 29,
   "metadata": {},
   "outputs": [
    {
     "name": "stdout",
     "output_type": "stream",
     "text": [
      "it consulting\n",
      "length of 0\n",
      "final set()\n",
      "['']\n",
      "JP Morgan Chase data\n",
      "length of 1\n",
      "word =  ['j', 'p']\n",
      "[' ', 'j', 'p']\n",
      "final {'jp'}\n",
      "['', ' jp']\n",
      "fun violence control jp constitutional\n",
      "length of 1\n",
      "word =  ['j', 'p']\n",
      "[' ', 'j', 'p']\n",
      "final {'jp'}\n",
      "['', ' jp', ' jp']\n"
     ]
    }
   ],
   "source": [
    "spell = SpellChecker()\n",
    "\n",
    "spellingError = []\n",
    "oneOffError = []\n",
    "kidsError = []\n",
    "misspelledCol = []\n",
    "\n",
    "test = ['it consulting',\n",
    " 'JP Morgan Chase data',\n",
    " 'fun violence control jp constitutional']\n",
    "test.append('we add www and http jp intentionally')\n",
    "netModifiers = ['www', 'http', '.com', '.net', '.edu', '.org', '.gov', '.co', '.mil', '.com']\n",
    "\n",
    "for query in test:\n",
    "    query =  query.translate(str.maketrans('', '', string.punctuation)) # -- remove all panctuations\n",
    "    website = [mod for mod in netModifiers if(mod in query)]\n",
    "    \n",
    "    if not website:\n",
    "        misspelledWords = \"\";\n",
    "        \n",
    "        lang = detect(query) # -- detects a language \n",
    "        print(query)\n",
    "        misspelled = spell.unknown(query.split(\" \")) # -- unknown gives the misspelled words\n",
    "        print('length of',len(misspelled))\n",
    "        found = 0\n",
    "        oneOff = 0\n",
    "        kidsMis = 0\n",
    "        for word in misspelled:\n",
    "            misspelledWords += \" \" + word  # -- concatinating the misspelled words\n",
    "            print('word = ', list(word))\n",
    "            print(list(misspelledWords))\n",
    "            if word in kidsMispelled:\n",
    "                kidsMis +=1\n",
    "            candid = spell.candidates(word) # --- candidates() displays the set of words that are close to the word entered e.g: 'country', 'count', 'counter' if country is entered\n",
    "            edits = spell.edit_distance_1(word) # -- Compute all strings that are one edit away from `word` \n",
    "                    \n",
    "            for can in candid:\n",
    "                if can in edits:\n",
    "                    oneOff += 1 # -- one letter off \n",
    "                break\n",
    "\n",
    "        oneOffError.append(oneOff)\n",
    "        #print(oneOffError)\n",
    "        print('final', misspelled)\n",
    "        spellingError.append(len(misspelled))\n",
    "        #print(spellingError)\n",
    "        kidsError.append(kidsMis)\n",
    "        #print(kidsError)\n",
    "        misspelledCol.append(misspelledWords)\n",
    "        print(misspelledCol)"
   ]
  },
  {
   "cell_type": "code",
   "execution_count": 30,
   "metadata": {},
   "outputs": [
    {
     "data": {
      "text/plain": [
       "' A'"
      ]
     },
     "execution_count": 30,
     "metadata": {},
     "output_type": "execute_result"
    }
   ],
   "source": [
    "'' + ' ' + 'A'"
   ]
  },
  {
   "cell_type": "code",
   "execution_count": 31,
   "metadata": {},
   "outputs": [
    {
     "data": {
      "text/plain": [
       "['www', 'http']"
      ]
     },
     "execution_count": 31,
     "metadata": {},
     "output_type": "execute_result"
    }
   ],
   "source": [
    "website"
   ]
  },
  {
   "cell_type": "code",
   "execution_count": 32,
   "metadata": {},
   "outputs": [
    {
     "name": "stderr",
     "output_type": "stream",
     "text": [
      "\r",
      "  0%|          | 0/1505 [00:00<?, ?it/s]"
     ]
    },
    {
     "name": "stdout",
     "output_type": "stream",
     "text": [
      "mispelled set()\n",
      "mispelled {'pocono'}\n",
      "mispelled set()\n",
      "mispelled set()\n"
     ]
    },
    {
     "name": "stderr",
     "output_type": "stream",
     "text": [
      "\r",
      "  0%|          | 5/1505 [00:00<00:37, 40.16it/s]"
     ]
    },
    {
     "name": "stdout",
     "output_type": "stream",
     "text": [
      "mispelled {'swahili', 'traiditional'}\n",
      "mispelled {'boolywood'}\n",
      "mispelled set()\n",
      "mispelled set()\n",
      "mispelled {'bollywoods'}\n",
      "mispelled set()\n",
      "mispelled set()\n",
      "mispelled {'vs', 'voip'}\n",
      "mispelled set()\n",
      "mispelled set()\n",
      "mispelled set()\n"
     ]
    },
    {
     "name": "stderr",
     "output_type": "stream",
     "text": [
      "\r",
      "  1%|          | 16/1505 [00:00<00:27, 54.83it/s]"
     ]
    },
    {
     "name": "stdout",
     "output_type": "stream",
     "text": [
      "mispelled set()\n",
      "mispelled {'phd'}\n"
     ]
    },
    {
     "name": "stderr",
     "output_type": "stream",
     "text": [
      "\r",
      "  1%|▏         | 22/1505 [00:00<00:28, 51.32it/s]"
     ]
    },
    {
     "name": "stdout",
     "output_type": "stream",
     "text": [
      "mispelled {'swahili'}\n",
      "mispelled set()\n",
      "mispelled {'merck'}\n",
      "mispelled {'', 'pocono'}\n",
      "mispelled {''}\n",
      "mispelled set()\n",
      "mispelled set()\n"
     ]
    },
    {
     "name": "stderr",
     "output_type": "stream",
     "text": [
      "  2%|▏         | 35/1505 [00:00<00:40, 36.72it/s]"
     ]
    },
    {
     "name": "stdout",
     "output_type": "stream",
     "text": [
      "mispelled set()\n",
      "mispelled set()\n",
      "mispelled set()\n",
      "mispelled set()\n",
      "mispelled set()\n",
      "mispelled set()\n",
      "mispelled set()\n",
      "mispelled set()\n",
      "mispelled {'swahili'}\n"
     ]
    },
    {
     "name": "stderr",
     "output_type": "stream",
     "text": [
      "\r",
      "  3%|▎         | 40/1505 [00:01<00:43, 33.79it/s]"
     ]
    },
    {
     "name": "stdout",
     "output_type": "stream",
     "text": [
      "mispelled set()\n",
      "mispelled {'voip'}\n",
      "mispelled set()\n",
      "mispelled {'voip'}\n",
      "mispelled set()\n",
      "mispelled {'jp'}\n",
      "mispelled set()\n",
      "mispelled set()\n",
      "mispelled set()\n",
      "mispelled set()\n",
      "mispelled set()\n",
      "mispelled {'whre'}\n",
      "mispelled set()\n",
      "mispelled set()\n",
      "mispelled {'piigs'}\n",
      "mispelled set()\n",
      "mispelled {'jp'}\n",
      "mispelled set()\n",
      "mispelled {'dutta'}\n",
      "mispelled set()\n",
      "mispelled set()\n",
      "mispelled set()\n",
      "mispelled set()\n"
     ]
    },
    {
     "name": "stderr",
     "output_type": "stream",
     "text": [
      "\r",
      "  4%|▍         | 60/1505 [00:01<00:25, 56.04it/s]"
     ]
    },
    {
     "name": "stdout",
     "output_type": "stream",
     "text": [
      "mispelled {'swahili'}\n",
      "mispelled set()\n",
      "mispelled {'pocono'}\n",
      "mispelled set()\n",
      "mispelled set()\n",
      "mispelled set()\n",
      "mispelled set()\n",
      "mispelled set()\n",
      "mispelled {'phd'}\n"
     ]
    },
    {
     "name": "stderr",
     "output_type": "stream",
     "text": [
      "\r",
      "  5%|▍         | 69/1505 [00:01<00:28, 50.35it/s]"
     ]
    },
    {
     "name": "stdout",
     "output_type": "stream",
     "text": [
      "mispelled set()\n",
      "mispelled {'pocono'}\n",
      "mispelled set()\n",
      "mispelled set()\n",
      "mispelled set()\n",
      "mispelled {'sillicon'}\n",
      "mispelled set()\n",
      "mispelled {''}\n",
      "mispelled set()\n",
      "mispelled set()\n",
      "mispelled {'jp'}\n",
      "mispelled set()\n"
     ]
    },
    {
     "name": "stderr",
     "output_type": "stream",
     "text": [
      "\r",
      "  5%|▌         | 82/1505 [00:01<00:31, 45.34it/s]"
     ]
    },
    {
     "name": "stdout",
     "output_type": "stream",
     "text": [
      "mispelled set()\n"
     ]
    },
    {
     "name": "stderr",
     "output_type": "stream",
     "text": [
      "  6%|▌         | 94/1505 [00:02<00:37, 37.26it/s]"
     ]
    },
    {
     "name": "stdout",
     "output_type": "stream",
     "text": [
      "mispelled {''}\n",
      "mispelled {'hydoelectric'}\n",
      "mispelled {'merck'}\n",
      "mispelled set()\n",
      "mispelled {'pocono', 'okc'}\n",
      "mispelled set()\n",
      "mispelled {'kursk'}\n",
      "mispelled {'jp'}\n",
      "mispelled set()\n",
      "mispelled set()\n",
      "mispelled set()\n",
      "mispelled set()\n",
      "mispelled set()\n"
     ]
    },
    {
     "name": "stderr",
     "output_type": "stream",
     "text": [
      "\r",
      "  7%|▋         | 99/1505 [00:02<00:58, 24.01it/s]"
     ]
    },
    {
     "name": "stdout",
     "output_type": "stream",
     "text": [
      "mispelled {'nyc'}\n",
      "mispelled set()\n",
      "mispelled set()\n",
      "mispelled set()\n",
      "mispelled set()\n",
      "mispelled set()\n",
      "mispelled set()\n"
     ]
    },
    {
     "name": "stderr",
     "output_type": "stream",
     "text": [
      "  8%|▊         | 120/1505 [00:03<00:36, 37.72it/s]"
     ]
    },
    {
     "name": "stdout",
     "output_type": "stream",
     "text": [
      "mispelled set()\n",
      "mispelled set()\n",
      "mispelled set()\n",
      "mispelled {'phd'}\n",
      "mispelled {''}\n",
      "mispelled set()\n",
      "mispelled set()\n",
      "mispelled set()\n",
      "mispelled set()\n",
      "mispelled {'suny'}\n",
      "mispelled {'merck'}\n",
      "mispelled set()\n",
      "mispelled set()\n",
      "mispelled set()\n",
      "mispelled set()\n",
      "mispelled set()\n",
      "mispelled set()\n"
     ]
    },
    {
     "name": "stderr",
     "output_type": "stream",
     "text": [
      "  9%|▉         | 142/1505 [00:03<00:27, 49.20it/s]"
     ]
    },
    {
     "name": "stdout",
     "output_type": "stream",
     "text": [
      "mispelled {'rheumatology'}\n",
      "mispelled set()\n",
      "mispelled {'voip'}\n",
      "mispelled set()\n",
      "mispelled set()\n",
      "mispelled set()\n",
      "mispelled set()\n",
      "mispelled set()\n",
      "mispelled set()\n",
      "mispelled set()\n",
      "mispelled set()\n",
      "mispelled {'dutta'}\n",
      "mispelled {'pocono'}\n",
      "mispelled set()\n",
      "mispelled set()\n",
      "mispelled set()\n",
      "mispelled set()\n",
      "mispelled set()\n",
      "mispelled set()\n",
      "mispelled set()\n",
      "mispelled {'suny'}\n"
     ]
    },
    {
     "name": "stderr",
     "output_type": "stream",
     "text": [
      "\r",
      " 10%|▉         | 150/1505 [00:04<00:38, 35.50it/s]"
     ]
    },
    {
     "name": "stdout",
     "output_type": "stream",
     "text": [
      "mispelled set()\n",
      "mispelled set()\n",
      "mispelled set()\n",
      "mispelled set()\n",
      "mispelled {'pocono'}\n",
      "mispelled set()\n",
      "mispelled {'pocono'}\n",
      "mispelled set()\n",
      "mispelled {'pagents'}\n",
      "mispelled {'voip'}\n"
     ]
    },
    {
     "name": "stderr",
     "output_type": "stream",
     "text": [
      " 11%|█         | 164/1505 [00:04<00:38, 34.88it/s]"
     ]
    },
    {
     "name": "stdout",
     "output_type": "stream",
     "text": [
      "mispelled set()\n",
      "mispelled set()\n",
      "mispelled set()\n",
      "mispelled set()\n",
      "mispelled set()\n",
      "mispelled {'swahili'}\n",
      "mispelled set()\n",
      "mispelled set()\n",
      "mispelled {'countrys'}\n",
      "mispelled {''}\n"
     ]
    },
    {
     "name": "stderr",
     "output_type": "stream",
     "text": [
      "\r",
      " 11%|█         | 169/1505 [00:04<00:46, 28.89it/s]"
     ]
    },
    {
     "name": "stdout",
     "output_type": "stream",
     "text": [
      "mispelled set()\n"
     ]
    },
    {
     "name": "stderr",
     "output_type": "stream",
     "text": [
      " 12%|█▏        | 182/1505 [00:05<00:59, 22.18it/s]"
     ]
    },
    {
     "name": "stdout",
     "output_type": "stream",
     "text": [
      "mispelled set()\n",
      "mispelled set()\n",
      "mispelled set()\n",
      "mispelled {'exsists'}\n",
      "mispelled set()\n",
      "mispelled set()\n",
      "mispelled {''}\n",
      "mispelled set()\n",
      "mispelled"
     ]
    },
    {
     "name": "stderr",
     "output_type": "stream",
     "text": [
      "\r",
      " 12%|█▏        | 186/1505 [00:05<00:57, 22.97it/s]"
     ]
    },
    {
     "name": "stdout",
     "output_type": "stream",
     "text": [
      " set()\n",
      "mispelled set()\n",
      "mispelled {'', 'swahili'}\n",
      "mispelled set()\n",
      "mispelled {'connecticu'}\n"
     ]
    },
    {
     "name": "stderr",
     "output_type": "stream",
     "text": [
      " 13%|█▎        | 194/1505 [00:06<00:52, 25.07it/s]"
     ]
    },
    {
     "name": "stdout",
     "output_type": "stream",
     "text": [
      "mispelled set()\n",
      "mispelled set()\n",
      "mispelled {'jp'}\n",
      "mispelled {'swahili'}\n",
      "mispelled set()\n",
      "mispelled set()\n",
      "mispelled set()\n",
      "mispelled set()\n"
     ]
    },
    {
     "name": "stderr",
     "output_type": "stream",
     "text": [
      "\r",
      " 13%|█▎        | 199/1505 [00:06<00:44, 29.37it/s]"
     ]
    },
    {
     "name": "stdout",
     "output_type": "stream",
     "text": [
      "mispelled {'kursk'}\n",
      "mispelled set()\n",
      "mispelled set()\n",
      "mispelled set()\n",
      "mispelled set()\n",
      "mispelled {'phd'}\n",
      "mispelled set()\n",
      "mispelled set()\n",
      "mispelled set()\n",
      "mispelled {'suny'}\n",
      "mispelled set()\n"
     ]
    },
    {
     "name": "stderr",
     "output_type": "stream",
     "text": [
      " 14%|█▍        | 217/1505 [00:06<00:29, 43.37it/s]"
     ]
    },
    {
     "name": "stdout",
     "output_type": "stream",
     "text": [
      "mispelled {'pocono'}\n",
      "mispelled set()\n",
      "mispelled set()\n",
      "mispelled set()\n",
      "mispelled set()\n",
      "mispelled set()\n",
      "mispelled {'kursk'}\n",
      "mispelled set()\n",
      "mispelled set()\n",
      "mispelled {''}\n",
      "mispelled set()\n"
     ]
    },
    {
     "name": "stderr",
     "output_type": "stream",
     "text": [
      "\r",
      " 15%|█▍        | 223/1505 [00:06<00:38, 33.67it/s]"
     ]
    },
    {
     "name": "stdout",
     "output_type": "stream",
     "text": [
      "mispelled {'tradions'}\n",
      "mispelled set()\n",
      "mispelled {'swahili'}\n",
      "mispelled set()\n",
      "mispelled {''}\n",
      "mispelled set()\n",
      "mispelled set()\n",
      "mispelled set()\n",
      "mispelled {'voip'}\n"
     ]
    },
    {
     "name": "stderr",
     "output_type": "stream",
     "text": [
      " 16%|█▌        | 239/1505 [00:06<00:26, 47.88it/s]"
     ]
    },
    {
     "name": "stdout",
     "output_type": "stream",
     "text": [
      "mispelled set()\n",
      "mispelled set()\n",
      "mispelled set()\n",
      "mispelled set()\n",
      "mispelled set()\n",
      "mispelled set()\n",
      "mispelled set()\n",
      "mispelled {'pocono'}\n",
      "mispelled {'kursk'}\n",
      "mispelled {'pocono'}\n",
      "mispelled {'quiting'}\n",
      "mispelled set()\n",
      "mispelled set()\n"
     ]
    },
    {
     "name": "stderr",
     "output_type": "stream",
     "text": [
      " 17%|█▋        | 250/1505 [00:07<00:32, 39.15it/s]"
     ]
    },
    {
     "name": "stdout",
     "output_type": "stream",
     "text": [
      "mispelled {'amt'}\n",
      "mispelled set()\n",
      "mispelled set()\n",
      "mispelled set()\n",
      "mispelled set()\n",
      "mispelled set()\n",
      "mispelled set()\n",
      "mispelled {'swahili'}\n",
      "mispelled set()\n"
     ]
    },
    {
     "name": "stderr",
     "output_type": "stream",
     "text": [
      "\r",
      " 17%|█▋        | 255/1505 [00:07<00:34, 36.47it/s]"
     ]
    },
    {
     "name": "stdout",
     "output_type": "stream",
     "text": [
      "mispelled set()\n",
      "mispelled set()\n",
      "mispelled set()\n",
      "mispelled set()\n",
      "mispelled set()\n",
      "mispelled {'phd'}\n",
      "mispelled set()\n",
      "mispelled set()\n",
      "mispelled {'ncaa'}\n",
      "mispelled {'jp'}\n",
      "mispelled set()\n",
      "mispelled set()\n",
      "mispelled set()\n"
     ]
    },
    {
     "name": "stderr",
     "output_type": "stream",
     "text": [
      " 18%|█▊        | 270/1505 [00:08<00:41, 29.46it/s]"
     ]
    },
    {
     "name": "stdout",
     "output_type": "stream",
     "text": [
      "mispelled set()\n",
      "mispelled set()\n",
      "mispelled set()\n",
      "mispelled {'jpmorgan'}\n",
      "mispelled {'attractios'}\n",
      "mispelled set()\n",
      "mispelled set()\n",
      "mispelled {'phd'}\n",
      "mispelled {'temparature'}\n",
      "mispelled set()\n",
      "mispelled set()\n"
     ]
    },
    {
     "name": "stderr",
     "output_type": "stream",
     "text": [
      " 19%|█▉        | 290/1505 [00:08<00:29, 40.90it/s]"
     ]
    },
    {
     "name": "stdout",
     "output_type": "stream",
     "text": [
      "mispelled {'suny'}\n",
      "mispelled {'voip'}\n",
      "mispelled {'cluture'}\n",
      "mispelled set()\n",
      "mispelled set()\n",
      "mispelled set()\n",
      "mispelled set()\n",
      "mispelled set()\n",
      "mispelled set()\n",
      "mispelled set()\n",
      "mispelled set()\n",
      "mispelled set()\n",
      "mispelled set()\n",
      "mispelled set()\n",
      "mispelled set()\n",
      "mispelled set()\n",
      "mispelled {'shinto'}\n",
      "mispelled {'jp'}\n",
      "mispelled {'voip'}\n"
     ]
    },
    {
     "name": "stderr",
     "output_type": "stream",
     "text": [
      "\r",
      " 20%|█▉        | 298/1505 [00:08<00:26, 45.45it/s]"
     ]
    },
    {
     "name": "stdout",
     "output_type": "stream",
     "text": [
      "mispelled {'hobart'}\n",
      "mispelled set()\n",
      "mispelled set()\n"
     ]
    },
    {
     "name": "stderr",
     "output_type": "stream",
     "text": [
      "\r",
      " 20%|██        | 304/1505 [00:08<00:34, 34.67it/s]"
     ]
    },
    {
     "name": "stdout",
     "output_type": "stream",
     "text": [
      "mispelled set()\n",
      "mispelled set()\n",
      "mispelled set()\n",
      "mispelled {'phd'}\n",
      "mispelled set()\n",
      "mispelled {'anc', 'merck'}\n",
      "mispelled set()\n",
      "mispelled {'pocono'}\n",
      "mispelled set()\n",
      "mispelled set()\n",
      "mispelled set()\n",
      "mispelled {'suny'}\n"
     ]
    },
    {
     "name": "stderr",
     "output_type": "stream",
     "text": [
      " 21%|██        | 319/1505 [00:09<00:32, 36.41it/s]"
     ]
    },
    {
     "name": "stdout",
     "output_type": "stream",
     "text": [
      "mispelled set()\n",
      "mispelled {'swahili', 'traiditional'}\n",
      "mispelled set()\n",
      "mispelled set()\n",
      "mispelled {''}\n",
      "mispelled set()\n",
      "mispelled set()\n",
      "mispelled {'dutta'}\n",
      "mispelled set()\n",
      "mispelled set()\n",
      "mispelled set()\n",
      "mispelled set()\n",
      "mispelled set()\n",
      "mispelled {'phd'}\n",
      "mispelled set()\n",
      "mispelled"
     ]
    },
    {
     "name": "stderr",
     "output_type": "stream",
     "text": [
      "\r",
      " 22%|██▏       | 332/1505 [00:09<00:25, 46.51it/s]"
     ]
    },
    {
     "name": "stdout",
     "output_type": "stream",
     "text": [
      " {'phd'}\n",
      "mispelled set()\n",
      "mispelled {'kursk'}\n",
      "mispelled set()\n"
     ]
    },
    {
     "name": "stderr",
     "output_type": "stream",
     "text": [
      " 23%|██▎       | 350/1505 [00:09<00:20, 56.46it/s]"
     ]
    },
    {
     "name": "stdout",
     "output_type": "stream",
     "text": [
      "mispelled set()\n",
      "mispelled set()\n",
      "mispelled set()\n",
      "mispelled set()\n",
      "mispelled {'voip'}\n",
      "mispelled set()\n",
      "mispelled set()\n",
      "mispelled {'jp'}\n",
      "mispelled set()\n",
      "mispelled set()\n",
      "mispelled set()\n",
      "mispelled set()\n",
      "mispelled set()\n",
      "mispelled {'suny'}\n",
      "mispelled set()\n",
      "mispelled set()\n"
     ]
    },
    {
     "name": "stderr",
     "output_type": "stream",
     "text": [
      "\r",
      " 24%|██▎       | 357/1505 [00:10<00:42, 26.77it/s]"
     ]
    },
    {
     "name": "stdout",
     "output_type": "stream",
     "text": [
      "mispelled set()\n",
      "mispelled set()\n",
      "mispelled set()\n",
      "mispelled set()\n",
      "mispelled set()\n"
     ]
    },
    {
     "name": "stderr",
     "output_type": "stream",
     "text": [
      "\r",
      " 24%|██▍       | 367/1505 [00:10<00:32, 35.30it/s]"
     ]
    },
    {
     "name": "stdout",
     "output_type": "stream",
     "text": [
      "mispelled set()\n",
      "mispelled set()\n",
      "mispelled set()\n",
      "mispelled set()\n",
      "mispelled set()\n",
      "mispelled set()\n",
      "mispelled set()\n",
      "mispelled {'merck'}\n",
      "mispelled set()\n",
      "mispelled set()\n",
      "mispelled set()\n",
      "mispelled {'merck'}\n",
      "mispelled set()\n",
      "mispelled {'phd'}\n",
      "mispelled set()\n"
     ]
    },
    {
     "name": "stderr",
     "output_type": "stream",
     "text": [
      "\r",
      " 25%|██▍       | 375/1505 [00:10<00:36, 31.36it/s]"
     ]
    },
    {
     "name": "stdout",
     "output_type": "stream",
     "text": [
      "mispelled {'merck'}\n",
      "mispelled set()\n",
      "mispelled set()\n",
      "mispelled set()\n"
     ]
    },
    {
     "name": "stderr",
     "output_type": "stream",
     "text": [
      " 26%|██▌       | 387/1505 [00:11<00:36, 30.83it/s]"
     ]
    },
    {
     "name": "stdout",
     "output_type": "stream",
     "text": [
      "mispelled set()\n",
      "mispelled set()\n",
      "mispelled set()\n",
      "mispelled set()\n",
      "mispelled {'merck'}\n",
      "mispelled set()\n",
      "mispelled {'kursk'}\n",
      "mispelled set()\n"
     ]
    },
    {
     "name": "stderr",
     "output_type": "stream",
     "text": [
      "\r",
      " 26%|██▌       | 392/1505 [00:11<00:35, 31.24it/s]"
     ]
    },
    {
     "name": "stdout",
     "output_type": "stream",
     "text": [
      "mispelled {'tradions'}\n",
      "mispelled set()\n",
      "mispelled set()\n",
      "mispelled set()\n",
      "mispelled set()\n",
      "mispelled set()\n"
     ]
    },
    {
     "name": "stderr",
     "output_type": "stream",
     "text": [
      " 27%|██▋       | 404/1505 [00:11<00:38, 28.41it/s]"
     ]
    },
    {
     "name": "stdout",
     "output_type": "stream",
     "text": [
      "mispelled set()\n",
      "mispelled set()\n",
      "mispelled set()\n",
      "mispelled set()\n",
      "mispelled set()\n",
      "mispelled set()\n",
      "mispelled set()\n",
      "mispelled set()\n",
      "mispelled {'miracet'}\n",
      "mispelled set()\n",
      "mispelled set()\n",
      "mispelled set()\n"
     ]
    },
    {
     "name": "stderr",
     "output_type": "stream",
     "text": [
      "\r",
      " 28%|██▊       | 415/1505 [00:12<00:30, 35.97it/s]"
     ]
    },
    {
     "name": "stdout",
     "output_type": "stream",
     "text": [
      "mispelled set()\n",
      "mispelled set()\n",
      "mispelled set()\n",
      "mispelled set()\n",
      "mispelled set()\n",
      "mispelled set()\n",
      "mispelled {'healty'}\n",
      "mispelled {'swahili'}\n",
      "mispelled set()\n"
     ]
    },
    {
     "name": "stderr",
     "output_type": "stream",
     "text": [
      "\r",
      " 28%|██▊       | 426/1505 [00:12<00:22, 47.56it/s]"
     ]
    },
    {
     "name": "stdout",
     "output_type": "stream",
     "text": [
      "mispelled set()\n",
      "mispelled set()\n",
      "mispelled set()\n",
      "mispelled set()\n",
      "mispelled set()\n",
      "mispelled {'besy'}\n",
      "mispelled set()\n",
      "mispelled set()\n",
      "mispelled set()\n",
      "mispelled set()\n",
      "mispelled set()\n",
      "mispelled {'chary'}\n",
      "mispelled set()\n",
      "mispelled"
     ]
    },
    {
     "name": "stderr",
     "output_type": "stream",
     "text": [
      "\r",
      " 29%|██▉       | 433/1505 [00:12<00:23, 45.13it/s]"
     ]
    },
    {
     "name": "stdout",
     "output_type": "stream",
     "text": [
      " set()\n",
      "mispelled set()\n",
      "mispelled set()\n"
     ]
    },
    {
     "name": "stderr",
     "output_type": "stream",
     "text": [
      "\r",
      " 29%|██▉       | 439/1505 [00:12<00:29, 35.68it/s]"
     ]
    },
    {
     "name": "stdout",
     "output_type": "stream",
     "text": [
      "mispelled set()\n",
      "mispelled {'kursk'}\n",
      "mispelled set()\n",
      "mispelled set()\n",
      "mispelled set()\n",
      "mispelled set()\n",
      "mispelled {'voip'}\n",
      "mispelled set()\n",
      "mispelled set()\n",
      "mispelled {''}\n"
     ]
    },
    {
     "name": "stderr",
     "output_type": "stream",
     "text": [
      " 30%|███       | 455/1505 [00:13<00:28, 36.52it/s]"
     ]
    },
    {
     "name": "stdout",
     "output_type": "stream",
     "text": [
      "mispelled set()\n",
      "mispelled set()\n",
      "mispelled set()\n",
      "mispelled set()\n",
      "mispelled set()\n",
      "mispelled set()\n",
      "mispelled set()\n",
      "mispelled set()\n",
      "mispelled set()\n",
      "mispelled set()\n",
      "mispelled set()\n",
      "mispelled set()\n",
      "mispelled set()\n",
      "mispelled set()\n",
      "mispelled set()\n",
      "mispelled {'', 'suny', 'internationsl'}\n",
      "mispelled {'voip'}\n",
      "mispelled set()\n"
     ]
    },
    {
     "name": "stderr",
     "output_type": "stream",
     "text": [
      " 31%|███       | 470/1505 [00:13<00:26, 38.81it/s]"
     ]
    },
    {
     "name": "stdout",
     "output_type": "stream",
     "text": [
      "mispelled {'swahili'}\n",
      "mispelled set()\n",
      "mispelled {'swahili'}\n",
      "mispelled set()\n",
      "mispelled set()\n",
      "mispelled set()\n",
      "mispelled set()\n",
      "mispelled set()\n"
     ]
    },
    {
     "name": "stderr",
     "output_type": "stream",
     "text": [
      " 32%|███▏      | 479/1505 [00:14<00:36, 28.07it/s]"
     ]
    },
    {
     "name": "stdout",
     "output_type": "stream",
     "text": [
      "mispelled set()\n",
      "mispelled set()\n",
      "mispelled set()\n",
      "mispelled set()\n",
      "mispelled set()\n",
      "mispelled set()\n",
      "mispelled set()\n"
     ]
    },
    {
     "name": "stderr",
     "output_type": "stream",
     "text": [
      " 33%|███▎      | 492/1505 [00:14<00:25, 40.36it/s]"
     ]
    },
    {
     "name": "stdout",
     "output_type": "stream",
     "text": [
      "mispelled {'swahili'}\n",
      "mispelled set()\n",
      "mispelled set()\n",
      "mispelled set()\n",
      "mispelled set()\n",
      "mispelled set()\n",
      "mispelled {'kenyan'}\n",
      "mispelled set()\n",
      "mispelled set()\n",
      "mispelled {'pocono'}\n"
     ]
    },
    {
     "name": "stderr",
     "output_type": "stream",
     "text": [
      "\r",
      " 33%|███▎      | 498/1505 [00:14<00:25, 39.30it/s]"
     ]
    },
    {
     "name": "stdout",
     "output_type": "stream",
     "text": [
      "mispelled {'legislations', 'merck'}\n",
      "mispelled set()\n",
      "mispelled set()\n",
      "mispelled {'jp'}\n",
      "mispelled set()\n",
      "mispelled set()\n",
      "mispelled set()\n",
      "mispelled set()\n",
      "mispelled set()\n",
      "mispelled set()\n",
      "mispelled {'pocono'}\n"
     ]
    },
    {
     "name": "stderr",
     "output_type": "stream",
     "text": [
      " 34%|███▍      | 512/1505 [00:14<00:27, 36.65it/s]"
     ]
    },
    {
     "name": "stdout",
     "output_type": "stream",
     "text": [
      "mispelled set()\n",
      "mispelled set()\n",
      "mispelled {'asain'}\n",
      "mispelled set()\n",
      "mispelled set()\n",
      "mispelled {'', 'jp'}\n",
      "mispelled {'academyt'}\n",
      "mispelled set()\n",
      "mispelled set()\n",
      "mispelled set()\n"
     ]
    },
    {
     "name": "stderr",
     "output_type": "stream",
     "text": [
      "\r",
      " 34%|███▍      | 517/1505 [00:15<00:25, 38.64it/s]"
     ]
    },
    {
     "name": "stdout",
     "output_type": "stream",
     "text": [
      "mispelled {'kursk'}\n",
      "mispelled set()\n"
     ]
    },
    {
     "name": "stderr",
     "output_type": "stream",
     "text": [
      "\r",
      " 35%|███▍      | 522/1505 [00:15<00:31, 31.01it/s]"
     ]
    },
    {
     "name": "stdout",
     "output_type": "stream",
     "text": [
      "mispelled set()\n",
      "mispelled {'kwh'}\n",
      "mispelled set()\n",
      "mispelled set()\n",
      "mispelled set()\n"
     ]
    },
    {
     "name": "stderr",
     "output_type": "stream",
     "text": [
      "\r",
      " 35%|███▍      | 526/1505 [00:15<00:41, 23.71it/s]"
     ]
    },
    {
     "name": "stdout",
     "output_type": "stream",
     "text": [
      "mispelled set()\n",
      "mispelled {''}\n",
      "mispelled set()\n",
      "mispelled {'anc', 'merck'}\n",
      "mispelled set()\n",
      "mispelled set()\n",
      "mispelled {'vs', 'phd'}\n",
      "mispelled set()\n",
      "mispelled set()\n",
      "mispelled {'ncaa'}\n"
     ]
    },
    {
     "name": "stderr",
     "output_type": "stream",
     "text": [
      " 36%|███▌      | 541/1505 [00:16<00:36, 26.41it/s]"
     ]
    },
    {
     "name": "stdout",
     "output_type": "stream",
     "text": [
      "mispelled set()\n",
      "mispelled set()\n",
      "mispelled set()\n",
      "mispelled set()\n",
      "mispelled {'pocono'}\n",
      "mispelled {'swahili'}\n"
     ]
    },
    {
     "name": "stderr",
     "output_type": "stream",
     "text": [
      "\r",
      " 36%|███▌      | 545/1505 [00:16<00:47, 20.26it/s]"
     ]
    },
    {
     "name": "stdout",
     "output_type": "stream",
     "text": [
      "mispelled {'philophical'}\n",
      "mispelled {'suny'}\n",
      "mispelled set()\n"
     ]
    },
    {
     "name": "stderr",
     "output_type": "stream",
     "text": [
      " 37%|███▋      | 555/1505 [00:16<00:35, 26.50it/s]"
     ]
    },
    {
     "name": "stdout",
     "output_type": "stream",
     "text": [
      "mispelled set()\n",
      "mispelled {'kursk'}\n",
      "mispelled set()\n",
      "mispelled set()\n",
      "mispelled {'vs', 'jp'}\n",
      "mispelled {'merck'}\n",
      "mispelled {'oscas'}\n",
      "mispelled set()\n",
      "mispelled set()\n",
      "mispelled set()\n",
      "mispelled {'pocono'}\n",
      "mispelled set()\n",
      "mispelled set()\n",
      "mispelled set()\n",
      "mispelled {'vs'}\n",
      "mispelled {'phd'}\n",
      "mispelled set()\n",
      "mispelled set()\n",
      "mispelled set()\n"
     ]
    },
    {
     "name": "stderr",
     "output_type": "stream",
     "text": [
      "\r",
      " 38%|███▊      | 567/1505 [00:16<00:22, 42.41it/s]"
     ]
    },
    {
     "name": "stdout",
     "output_type": "stream",
     "text": [
      "mispelled {'effieiency'}\n",
      "mispelled {'pagents'}\n",
      "mispelled set()\n",
      "mispelled set()\n",
      "mispelled {'gs'}\n",
      "mispelled set()\n"
     ]
    },
    {
     "name": "stderr",
     "output_type": "stream",
     "text": [
      " 38%|███▊      | 579/1505 [00:17<00:27, 33.41it/s]"
     ]
    },
    {
     "name": "stdout",
     "output_type": "stream",
     "text": [
      "mispelled set()\n",
      "mispelled set()\n",
      "mispelled set()\n",
      "mispelled set()\n",
      "mispelled set()\n",
      "mispelled set()\n",
      "mispelled {'phd'}\n",
      "mispelled set()\n",
      "mispelled set()\n",
      "mispelled set()\n",
      "mispelled {'merck'}\n"
     ]
    },
    {
     "name": "stderr",
     "output_type": "stream",
     "text": [
      "\r",
      " 39%|███▉      | 594/1505 [00:17<00:16, 54.10it/s]"
     ]
    },
    {
     "name": "stdout",
     "output_type": "stream",
     "text": [
      "mispelled set()\n",
      "mispelled set()\n",
      "mispelled set()\n",
      "mispelled {'shinto'}\n",
      "mispelled set()\n",
      "mispelled set()\n",
      "mispelled set()\n",
      "mispelled set()\n",
      "mispelled set()\n",
      "mispelled set()\n",
      "mispelled set()\n",
      "mispelled set()\n",
      "mispelled set()\n",
      "mispelled set()\n"
     ]
    },
    {
     "name": "stderr",
     "output_type": "stream",
     "text": [
      " 40%|████      | 608/1505 [00:18<00:25, 34.79it/s]"
     ]
    },
    {
     "name": "stdout",
     "output_type": "stream",
     "text": [
      "mispelled set()\n",
      "mispelled set()\n",
      "mispelled set()\n",
      "mispelled set()\n",
      "mispelled {'kursk'}\n",
      "mispelled {'philedelphia'}\n",
      "mispelled {'swahili'}\n",
      "mispelled {'aprport'}\n",
      "mispelled"
     ]
    },
    {
     "name": "stderr",
     "output_type": "stream",
     "text": [
      " 42%|████▏     | 630/1505 [00:18<00:14, 59.57it/s]"
     ]
    },
    {
     "name": "stdout",
     "output_type": "stream",
     "text": [
      " set()\n",
      "mispelled set()\n",
      "mispelled {'exsistence'}\n",
      "mispelled {'kursk'}\n",
      "mispelled set()\n",
      "mispelled {'voip'}\n",
      "mispelled set()\n",
      "mispelled set()\n",
      "mispelled set()\n",
      "mispelled {'phd'}\n",
      "mispelled set()\n",
      "mispelled set()\n",
      "mispelled set()\n",
      "mispelled {'b'}\n",
      "mispelled set()\n",
      "mispelled set()\n",
      "mispelled set()\n",
      "mispelled {'merck'}\n",
      "mispelled set()\n",
      "mispelled set()\n",
      "mispelled set()\n",
      "mispelled set()\n",
      "mispelled set()\n",
      "mispelled set()\n",
      "mispelled set()\n"
     ]
    },
    {
     "name": "stderr",
     "output_type": "stream",
     "text": [
      "\r",
      " 42%|████▏     | 639/1505 [00:18<00:25, 33.90it/s]"
     ]
    },
    {
     "name": "stdout",
     "output_type": "stream",
     "text": [
      "mispelled set()\n",
      "mispelled set()\n",
      "mispelled set()\n",
      "mispelled set()\n",
      "mispelled set()\n",
      "mispelled set()\n"
     ]
    },
    {
     "name": "stderr",
     "output_type": "stream",
     "text": [
      " 44%|████▍     | 663/1505 [00:19<00:17, 47.95it/s]"
     ]
    },
    {
     "name": "stdout",
     "output_type": "stream",
     "text": [
      "mispelled {'assement'}\n",
      "mispelled set()\n",
      "mispelled {'pocono'}\n",
      "mispelled set()\n",
      "mispelled {'', 'dehumidifiers'}\n",
      "mispelled set()\n",
      "mispelled set()\n",
      "mispelled set()\n",
      "mispelled set()\n",
      "mispelled set()\n",
      "mispelled set()\n",
      "mispelled set()\n",
      "mispelled set()\n",
      "mispelled set()\n",
      "mispelled set()\n",
      "mispelled set()\n",
      "mispelled set()\n",
      "mispelled set()\n",
      "mispelled set()\n",
      "mispelled set()\n",
      "mispelled {'swahili'}\n",
      "mispelled set()\n"
     ]
    },
    {
     "name": "stderr",
     "output_type": "stream",
     "text": [
      "\r",
      " 45%|████▍     | 672/1505 [00:19<00:28, 28.96it/s]"
     ]
    },
    {
     "name": "stdout",
     "output_type": "stream",
     "text": [
      "mispelled {'hobart'}\n",
      "mispelled set()\n",
      "mispelled set()\n",
      "mispelled {'kursk'}\n",
      "mispelled {'swahili', 'cusine'}\n",
      "mispelled {'kenyan'}\n",
      "mispelled {'pocono'}\n"
     ]
    },
    {
     "name": "stderr",
     "output_type": "stream",
     "text": [
      " 46%|████▌     | 690/1505 [00:20<00:18, 42.96it/s]"
     ]
    },
    {
     "name": "stdout",
     "output_type": "stream",
     "text": [
      "mispelled {'kursk'}\n",
      "mispelled {'vs'}\n",
      "mispelled {''}\n",
      "mispelled {'legislations', 'merck', 'lobbie'}\n",
      "mispelled set()\n",
      "mispelled set()\n",
      "mispelled set()\n",
      "mispelled set()\n",
      "mispelled set()\n",
      "mispelled set()\n",
      "mispelled set()\n",
      "mispelled set()\n",
      "mispelled set()\n",
      "mispelled set()\n",
      "mispelled set()\n",
      "mispelled {'foos'}\n",
      "mispelled set()\n",
      "mispelled set()\n",
      "mispelled set()\n",
      "mispelled set()\n",
      "mispelled set()\n",
      "mispelled {'dutta'}\n",
      "mispelled {'kenyan'}\n",
      "mispelled set()\n"
     ]
    },
    {
     "name": "stderr",
     "output_type": "stream",
     "text": [
      "\r",
      " 47%|████▋     | 700/1505 [00:20<00:17, 46.28it/s]"
     ]
    },
    {
     "name": "stdout",
     "output_type": "stream",
     "text": [
      "mispelled set()\n",
      "mispelled {'swahili'}\n"
     ]
    },
    {
     "name": "stderr",
     "output_type": "stream",
     "text": [
      " 47%|████▋     | 714/1505 [00:20<00:18, 41.69it/s]"
     ]
    },
    {
     "name": "stdout",
     "output_type": "stream",
     "text": [
      "mispelled set()\n",
      "mispelled set()\n",
      "mispelled set()\n",
      "mispelled set()\n",
      "mispelled set()\n",
      "mispelled set()\n",
      "mispelled set()\n",
      "mispelled {'merck'}\n",
      "mispelled set()\n",
      "mispelled set()\n",
      "mispelled {'', 'merck'}\n",
      "mispelled set()\n",
      "mispelled {'kiursk'}\n",
      "mispelled set()\n"
     ]
    },
    {
     "name": "stderr",
     "output_type": "stream",
     "text": [
      "\r",
      " 48%|████▊     | 729/1505 [00:20<00:13, 59.02it/s]"
     ]
    },
    {
     "name": "stdout",
     "output_type": "stream",
     "text": [
      "mispelled set()\n",
      "mispelled set()\n",
      "mispelled set()\n",
      "mispelled set()\n",
      "mispelled set()\n",
      "mispelled {'jp'}\n",
      "mispelled set()\n",
      "mispelled set()\n",
      "mispelled set()\n",
      "mispelled {''}\n",
      "mispelled set()\n",
      "mispelled set()\n",
      "mispelled set()\n",
      "mispelled set()\n",
      "mispelled set()\n",
      "mispelled {'kursk'}\n",
      "mispelled set()\n",
      "mispelled set()\n",
      "mispelled set()\n"
     ]
    },
    {
     "name": "stderr",
     "output_type": "stream",
     "text": [
      "\r",
      " 49%|████▉     | 737/1505 [00:21<00:15, 50.86it/s]"
     ]
    },
    {
     "name": "stdout",
     "output_type": "stream",
     "text": [
      "mispelled {'suny'}\n",
      "mispelled {'swahili', 'kenyan'}\n",
      "mispelled set()\n"
     ]
    },
    {
     "name": "stderr",
     "output_type": "stream",
     "text": [
      "\r",
      " 49%|████▉     | 744/1505 [00:21<00:22, 33.97it/s]"
     ]
    },
    {
     "name": "stdout",
     "output_type": "stream",
     "text": [
      "mispelled set()\n",
      "mispelled set()\n",
      "mispelled set()\n",
      "mispelled set()\n",
      "mispelled set()\n",
      "mispelled {'jp'}\n",
      "mispelled {'jp'}\n",
      "mispelled set()\n",
      "mispelled set()\n",
      "mispelled {'suny'}\n",
      "mispelled set()\n",
      "mispelled set()\n",
      "mispelled set()\n",
      "mispelled {'pocono'}\n"
     ]
    },
    {
     "name": "stderr",
     "output_type": "stream",
     "text": [
      "\r",
      " 50%|█████     | 754/1505 [00:21<00:20, 36.91it/s]"
     ]
    },
    {
     "name": "stdout",
     "output_type": "stream",
     "text": [
      "mispelled {'dc'}\n",
      "mispelled {''}\n"
     ]
    },
    {
     "name": "stderr",
     "output_type": "stream",
     "text": [
      "\r",
      " 50%|█████     | 759/1505 [00:21<00:24, 30.93it/s]"
     ]
    },
    {
     "name": "stdout",
     "output_type": "stream",
     "text": [
      "mispelled {'merck'}\n",
      "mispelled set()\n",
      "mispelled set()\n"
     ]
    },
    {
     "name": "stderr",
     "output_type": "stream",
     "text": [
      " 51%|█████     | 768/1505 [00:22<00:25, 28.98it/s]"
     ]
    },
    {
     "name": "stdout",
     "output_type": "stream",
     "text": [
      "mispelled {'telefonas'}\n",
      "mispelled {'voip'}\n",
      "mispelled {'kenyan'}\n",
      "mispelled set()\n",
      "mispelled set()\n",
      "mispelled set()\n",
      "mispelled set()\n",
      "mispelled {'swahili'}\n",
      "mispelled set()\n",
      "mispelled set()\n",
      "mispelled {'voip'}\n"
     ]
    },
    {
     "name": "stderr",
     "output_type": "stream",
     "text": [
      " 52%|█████▏    | 787/1505 [00:22<00:14, 50.95it/s]"
     ]
    },
    {
     "name": "stdout",
     "output_type": "stream",
     "text": [
      "mispelled set()\n",
      "mispelled set()\n",
      "mispelled set()\n",
      "mispelled set()\n",
      "mispelled set()\n",
      "mispelled {'dc'}\n",
      "mispelled set()\n",
      "mispelled set()\n",
      "mispelled set()\n",
      "mispelled set()\n",
      "mispelled set()\n",
      "mispelled set()\n",
      "mispelled set()\n",
      "mispelled set()\n",
      "mispelled set()\n",
      "mispelled set()\n",
      "mispelled set()\n"
     ]
    },
    {
     "name": "stderr",
     "output_type": "stream",
     "text": [
      "\r",
      " 53%|█████▎    | 794/1505 [00:22<00:14, 50.53it/s]"
     ]
    },
    {
     "name": "stdout",
     "output_type": "stream",
     "text": [
      "mispelled {'swahili'}\n",
      "mispelled set()\n",
      "mispelled set()\n",
      "mispelled set()\n",
      "mispelled set()\n",
      "mispelled set()\n",
      "mispelled set()\n",
      "mispelled {'cluture'}\n"
     ]
    },
    {
     "name": "stderr",
     "output_type": "stream",
     "text": [
      "\r",
      " 53%|█████▎    | 800/1505 [00:22<00:18, 38.45it/s]"
     ]
    },
    {
     "name": "stdout",
     "output_type": "stream",
     "text": [
      "mispelled {'swahili'}\n",
      "mispelled set()\n",
      "mispelled set()\n"
     ]
    },
    {
     "name": "stderr",
     "output_type": "stream",
     "text": [
      "\r",
      " 53%|█████▎    | 805/1505 [00:23<00:31, 22.11it/s]"
     ]
    },
    {
     "name": "stdout",
     "output_type": "stream",
     "text": [
      "mispelled set()\n",
      "mispelled set()\n",
      "mispelled set()\n",
      "mispelled set()\n",
      "mispelled {'diease'}\n",
      "mispelled set()\n"
     ]
    },
    {
     "name": "stderr",
     "output_type": "stream",
     "text": [
      " 54%|█████▍    | 815/1505 [00:23<00:29, 23.76it/s]"
     ]
    },
    {
     "name": "stdout",
     "output_type": "stream",
     "text": [
      "mispelled set()\n",
      "mispelled set()\n",
      "mispelled set()\n",
      "mispelled set()\n",
      "mispelled {'swahili'}\n",
      "mispelled set()\n",
      "mispelled set()\n",
      "mispelled set()\n",
      "mispelled set()\n",
      "mispelled {'phds'}\n",
      "mispelled set()\n",
      "mispelled set()\n"
     ]
    },
    {
     "name": "stderr",
     "output_type": "stream",
     "text": [
      " 55%|█████▌    | 829/1505 [00:24<00:23, 28.42it/s]"
     ]
    },
    {
     "name": "stdout",
     "output_type": "stream",
     "text": [
      "mispelled set()\n",
      "mispelled set()\n",
      "mispelled set()\n",
      "mispelled set()\n",
      "mispelled {'kiursk'}\n",
      "mispelled set()\n",
      "mispelled set()\n",
      "mispelled {'suny'}\n",
      "mispelled set()\n",
      "mispelled set()\n",
      "mispelled set()\n",
      "mispelled set()\n",
      "mispelled set()\n",
      "mispelled {'vs'}\n",
      "mispelled set()\n",
      "mispelled set()\n"
     ]
    },
    {
     "name": "stderr",
     "output_type": "stream",
     "text": [
      " 57%|█████▋    | 852/1505 [00:24<00:16, 40.02it/s]"
     ]
    },
    {
     "name": "stdout",
     "output_type": "stream",
     "text": [
      "mispelled set()\n",
      "mispelled set()\n",
      "mispelled set()\n",
      "mispelled {'suny'}\n",
      "mispelled {'pocono'}\n",
      "mispelled set()\n",
      "mispelled set()\n",
      "mispelled set()\n",
      "mispelled set()\n",
      "mispelled set()\n",
      "mispelled {'swahili'}\n",
      "mispelled set()\n",
      "mispelled set()\n",
      "mispelled set()\n",
      "mispelled set()\n"
     ]
    },
    {
     "name": "stderr",
     "output_type": "stream",
     "text": [
      "\r",
      " 57%|█████▋    | 857/1505 [00:25<00:19, 32.40it/s]"
     ]
    },
    {
     "name": "stdout",
     "output_type": "stream",
     "text": [
      "mispelled set()\n",
      "mispelled set()\n",
      "mispelled {'swahili'}\n"
     ]
    },
    {
     "name": "stderr",
     "output_type": "stream",
     "text": [
      " 58%|█████▊    | 869/1505 [00:25<00:20, 31.74it/s]"
     ]
    },
    {
     "name": "stdout",
     "output_type": "stream",
     "text": [
      "mispelled {'jp', 'microsoft'}\n",
      "mispelled set()\n",
      "mispelled {'pocono'}\n",
      "mispelled set()\n",
      "mispelled set()\n",
      "mispelled set()\n",
      "mispelled {'phd'}\n",
      "mispelled set()\n",
      "mispelled {'swahili'}\n",
      "mispelled set()\n",
      "mispelled {'dutta'}\n"
     ]
    },
    {
     "name": "stderr",
     "output_type": "stream",
     "text": [
      " 58%|█████▊    | 880/1505 [00:25<00:17, 35.96it/s]"
     ]
    },
    {
     "name": "stdout",
     "output_type": "stream",
     "text": [
      "mispelled {'dishe', 'swahili'}\n",
      "mispelled {'culp'}\n",
      "mispelled set()\n",
      "mispelled set()\n",
      "mispelled set()\n",
      "mispelled set()\n",
      "mispelled set()\n",
      "mispelled set()\n",
      "mispelled {'swahili'}\n"
     ]
    },
    {
     "name": "stderr",
     "output_type": "stream",
     "text": [
      "\r",
      " 59%|█████▊    | 884/1505 [00:25<00:18, 34.40it/s]"
     ]
    },
    {
     "name": "stdout",
     "output_type": "stream",
     "text": [
      "mispelled {'recipies', 'swahili'}\n",
      "mispelled set()\n",
      "mispelled set()\n",
      "mispelled set()\n",
      "mispelled set()\n",
      "mispelled set()\n",
      "mispelled set()\n",
      "mispelled set()\n",
      "mispelled set()\n"
     ]
    },
    {
     "name": "stderr",
     "output_type": "stream",
     "text": [
      " 60%|█████▉    | 897/1505 [00:26<00:17, 34.19it/s]"
     ]
    },
    {
     "name": "stdout",
     "output_type": "stream",
     "text": [
      "mispelled set()\n",
      "mispelled set()\n",
      "mispelled set()\n",
      "mispelled set()\n",
      "mispelled {'kursk'}\n",
      "mispelled set()\n",
      "mispelled set()\n",
      "mispelled set()\n",
      "mispelled set()\n",
      "mispelled set()\n",
      "mispelled {'v'}\n"
     ]
    },
    {
     "name": "stderr",
     "output_type": "stream",
     "text": [
      " 60%|██████    | 906/1505 [00:26<00:20, 29.55it/s]"
     ]
    },
    {
     "name": "stdout",
     "output_type": "stream",
     "text": [
      "mispelled set()\n",
      "mispelled {'swahili'}\n",
      "mispelled set()\n",
      "mispelled set()\n",
      "mispelled set()\n",
      "mispelled set()\n",
      "mispelled set()\n",
      "mispelled set()\n",
      "mispelled set()\n",
      "mispelled set()\n",
      "mispelled set()\n",
      "mispelled set()\n"
     ]
    },
    {
     "name": "stderr",
     "output_type": "stream",
     "text": [
      "\r",
      " 61%|██████    | 916/1505 [00:26<00:14, 41.76it/s]"
     ]
    },
    {
     "name": "stdout",
     "output_type": "stream",
     "text": [
      "mispelled set()\n",
      "mispelled set()\n",
      "mispelled set()\n",
      "mispelled {'jp'}\n",
      "mispelled {'suny'}\n",
      "mispelled set()\n",
      "mispelled set()\n",
      "mispelled set()\n",
      "mispelled set()\n",
      "mispelled {'arther'}\n",
      "mispelled set()\n",
      "mispelled set()\n",
      "mispelled {'merck'}\n",
      "mispelled set()\n",
      "mispelled {'pocono'}\n",
      "mispelled set()\n",
      "mispelled {'jp'}\n",
      "mispelled set()\n",
      "mispelled set()\n"
     ]
    },
    {
     "name": "stderr",
     "output_type": "stream",
     "text": [
      " 63%|██████▎   | 941/1505 [00:27<00:10, 53.51it/s]"
     ]
    },
    {
     "name": "stdout",
     "output_type": "stream",
     "text": [
      "mispelled set()\n",
      "mispelled set()\n",
      "mispelled set()\n",
      "mispelled {'phd'}\n",
      "mispelled set()\n",
      "mispelled set()\n",
      "mispelled set()\n",
      "mispelled set()\n"
     ]
    },
    {
     "name": "stderr",
     "output_type": "stream",
     "text": [
      "\r",
      " 63%|██████▎   | 949/1505 [00:27<00:10, 52.89it/s]"
     ]
    },
    {
     "name": "stdout",
     "output_type": "stream",
     "text": [
      "mispelled {'pocono'}\n",
      "mispelled set()\n",
      "mispelled set()\n",
      "mispelled set()\n",
      "mispelled {'phd'}\n",
      "mispelled {'swahili'}\n",
      "mispelled set()\n",
      "mispelled set()\n",
      "mispelled set()\n",
      "mispelled {'pagent'}\n"
     ]
    },
    {
     "name": "stderr",
     "output_type": "stream",
     "text": [
      "\r",
      " 64%|██████▎   | 957/1505 [00:27<00:09, 57.31it/s]"
     ]
    },
    {
     "name": "stdout",
     "output_type": "stream",
     "text": [
      "mispelled {'', 'pagents'}\n",
      "mispelled set()\n",
      "mispelled set()\n",
      "mispelled set()\n",
      "mispelled {'suny'}\n",
      "mispelled {'vs'}\n",
      "mispelled set()\n",
      "mispelled {'jp'}\n"
     ]
    },
    {
     "name": "stderr",
     "output_type": "stream",
     "text": [
      "\r",
      " 64%|██████▍   | 964/1505 [00:27<00:17, 31.47it/s]"
     ]
    },
    {
     "name": "stdout",
     "output_type": "stream",
     "text": [
      "mispelled {'suny', 'plattsburgh'}\n",
      "mispelled {'kursk'}\n",
      "mispelled set()\n",
      "mispelled set()\n",
      "mispelled set()\n",
      "mispelled set()\n"
     ]
    },
    {
     "name": "stderr",
     "output_type": "stream",
     "text": [
      " 65%|██████▌   | 979/1505 [00:28<00:13, 39.24it/s]"
     ]
    },
    {
     "name": "stdout",
     "output_type": "stream",
     "text": [
      "mispelled set()\n",
      "mispelled {'voip'}\n",
      "mispelled set()\n",
      "mispelled {'dehumidifiers'}\n",
      "mispelled {'suny'}\n",
      "mispelled {'pocono'}\n",
      "mispelled {'legistlation', 'merck'}\n",
      "mispelled set()\n",
      "mispelled set()\n",
      "mispelled {'evaulation'}\n",
      "mispelled set()\n",
      "mispelled set()\n"
     ]
    },
    {
     "name": "stderr",
     "output_type": "stream",
     "text": [
      " 66%|██████▌   | 995/1505 [00:28<00:11, 45.68it/s]"
     ]
    },
    {
     "name": "stdout",
     "output_type": "stream",
     "text": [
      "mispelled {'swahili'}\n",
      "mispelled {'kursk'}\n",
      "mispelled set()\n",
      "mispelled {''}\n",
      "mispelled set()\n",
      "mispelled set()\n",
      "mispelled {'jp'}\n",
      "mispelled set()\n",
      "mispelled set()\n",
      "mispelled set()\n",
      "mispelled set()\n",
      "mispelled set()\n",
      "mispelled {'kursk'}\n",
      "mispelled set()\n",
      "mispelled set()\n",
      "mispelled set()\n",
      "mispelled"
     ]
    },
    {
     "name": "stderr",
     "output_type": "stream",
     "text": [
      "\r",
      " 67%|██████▋   | 1001/1505 [00:28<00:10, 46.05it/s]"
     ]
    },
    {
     "name": "stdout",
     "output_type": "stream",
     "text": [
      " set()\n",
      "mispelled {'walmart'}\n",
      "mispelled {''}\n",
      "mispelled set()\n",
      "mispelled set()\n",
      "mispelled {'ncaa'}\n",
      "mispelled set()\n",
      "mispelled set()\n",
      "mispelled {'pocono'}\n",
      "mispelled set()\n",
      "mispelled set()\n",
      "mispelled set()\n"
     ]
    },
    {
     "name": "stderr",
     "output_type": "stream",
     "text": [
      " 68%|██████▊   | 1019/1505 [00:29<00:09, 50.84it/s]"
     ]
    },
    {
     "name": "stdout",
     "output_type": "stream",
     "text": [
      "mispelled set()\n",
      "mispelled set()\n",
      "mispelled {'voip'}\n",
      "mispelled {'jp', 'compulational'}\n",
      "mispelled set()\n",
      "mispelled {'dutta'}\n",
      "mispelled {'diease'}\n",
      "mispelled set()\n",
      "mispelled set()\n",
      "mispelled set()\n"
     ]
    },
    {
     "name": "stderr",
     "output_type": "stream",
     "text": [
      "\r",
      " 68%|██████▊   | 1025/1505 [00:29<00:09, 50.78it/s]"
     ]
    },
    {
     "name": "stdout",
     "output_type": "stream",
     "text": [
      "mispelled set()\n",
      "mispelled set()\n",
      "mispelled {'kursk'}\n",
      "mispelled {'pocono'}\n",
      "mispelled {'pocono', 'expedia'}\n"
     ]
    },
    {
     "name": "stderr",
     "output_type": "stream",
     "text": [
      " 69%|██████▉   | 1039/1505 [00:29<00:09, 47.85it/s]"
     ]
    },
    {
     "name": "stdout",
     "output_type": "stream",
     "text": [
      "mispelled {''}\n",
      "mispelled set()\n",
      "mispelled set()\n",
      "mispelled {'kursk'}\n",
      "mispelled set()\n",
      "mispelled set()\n",
      "mispelled {'', 'kursk'}\n",
      "mispelled set()\n",
      "mispelled set()\n",
      "mispelled set()\n",
      "mispelled set()\n",
      "mispelled {'phd'}\n",
      "mispelled set()\n"
     ]
    },
    {
     "name": "stderr",
     "output_type": "stream",
     "text": [
      "\r",
      " 70%|██████▉   | 1050/1505 [00:29<00:07, 59.24it/s]"
     ]
    },
    {
     "name": "stdout",
     "output_type": "stream",
     "text": [
      "mispelled set()\n",
      "mispelled set()\n",
      "mispelled {'jp'}\n",
      "mispelled set()\n",
      "mispelled set()\n",
      "mispelled {'pocono'}\n",
      "mispelled set()\n",
      "mispelled set()\n",
      "mispelled {'phd'}\n",
      "mispelled {'voip'}\n",
      "mispelled {'swahili'}\n",
      "mispelled {'recepies'}\n"
     ]
    },
    {
     "name": "stderr",
     "output_type": "stream",
     "text": [
      "\r",
      " 70%|███████   | 1057/1505 [00:30<00:15, 28.43it/s]"
     ]
    },
    {
     "name": "stdout",
     "output_type": "stream",
     "text": [
      "mispelled set()\n",
      "mispelled set()\n",
      "mispelled set()\n",
      "mispelled set()\n",
      "mispelled {'kwh'}\n",
      "mispelled set()\n"
     ]
    },
    {
     "name": "stderr",
     "output_type": "stream",
     "text": [
      "\r",
      " 71%|███████   | 1062/1505 [00:30<00:16, 27.28it/s]"
     ]
    },
    {
     "name": "stdout",
     "output_type": "stream",
     "text": [
      "mispelled {'minortiys'}\n",
      "mispelled set()\n",
      "mispelled set()\n",
      "mispelled set()\n",
      "mispelled {'ncaa', 'runnerup'}\n"
     ]
    },
    {
     "name": "stderr",
     "output_type": "stream",
     "text": [
      "\r",
      " 71%|███████   | 1067/1505 [00:30<00:20, 21.08it/s]"
     ]
    },
    {
     "name": "stdout",
     "output_type": "stream",
     "text": [
      "mispelled {'swahili'}\n",
      "mispelled set()\n",
      "mispelled {'vs'}\n",
      "mispelled"
     ]
    },
    {
     "name": "stderr",
     "output_type": "stream",
     "text": [
      "\r",
      " 71%|███████▏  | 1073/1505 [00:31<00:18, 23.48it/s]"
     ]
    },
    {
     "name": "stdout",
     "output_type": "stream",
     "text": [
      " set()\n",
      "mispelled {'pocono'}\n",
      "mispelled {'scheduele'}\n",
      "mispelled {'merck'}\n",
      "mispelled set()\n",
      "mispelled set()\n",
      "mispelled set()\n",
      "mispelled set()\n",
      "mispelled set()\n"
     ]
    },
    {
     "name": "stderr",
     "output_type": "stream",
     "text": [
      " 72%|███████▏  | 1088/1505 [00:31<00:11, 35.74it/s]"
     ]
    },
    {
     "name": "stdout",
     "output_type": "stream",
     "text": [
      "mispelled {''}\n",
      "mispelled set()\n",
      "mispelled {'servies'}\n",
      "mispelled set()\n",
      "mispelled set()\n",
      "mispelled set()\n",
      "mispelled set()\n",
      "mispelled set()\n",
      "mispelled {'benifits', 'phd'}\n",
      "mispelled set()\n",
      "mispelled set()\n",
      "mispelled set()\n",
      "mispelled set()\n",
      "mispelled set()\n",
      "mispelled set()\n"
     ]
    },
    {
     "name": "stderr",
     "output_type": "stream",
     "text": [
      "\r",
      " 73%|███████▎  | 1095/1505 [00:31<00:11, 36.47it/s]"
     ]
    },
    {
     "name": "stdout",
     "output_type": "stream",
     "text": [
      "mispelled set()\n",
      "mispelled {'jpmorgan'}\n",
      "mispelled set()\n",
      "mispelled set()\n"
     ]
    },
    {
     "name": "stderr",
     "output_type": "stream",
     "text": [
      " 73%|███████▎  | 1105/1505 [00:31<00:13, 30.09it/s]"
     ]
    },
    {
     "name": "stdout",
     "output_type": "stream",
     "text": [
      "mispelled {'roadtrip'}\n",
      "mispelled {'merck'}\n",
      "mispelled set()\n",
      "mispelled set()\n",
      "mispelled set()\n",
      "mispelled set()\n",
      "mispelled {'phd'}\n",
      "mispelled {'', 'jp'}\n",
      "mispelled set()\n",
      "mispelled set()\n"
     ]
    },
    {
     "name": "stderr",
     "output_type": "stream",
     "text": [
      " 75%|███████▍  | 1123/1505 [00:32<00:10, 38.01it/s]"
     ]
    },
    {
     "name": "stdout",
     "output_type": "stream",
     "text": [
      "mispelled set()\n",
      "mispelled set()\n",
      "mispelled set()\n",
      "mispelled set()\n",
      "mispelled {'arther'}\n",
      "mispelled set()\n",
      "mispelled set()\n",
      "mispelled set()\n",
      "mispelled set()\n",
      "mispelled set()\n",
      "mispelled {'swahili'}\n",
      "mispelled set()\n",
      "mispelled {'pocono'}\n",
      "mispelled set()\n",
      "mispelled set()\n",
      "mispelled set()\n",
      "mispelled set()\n",
      "mispelled {'jp'}\n"
     ]
    },
    {
     "name": "stderr",
     "output_type": "stream",
     "text": [
      " 75%|███████▌  | 1135/1505 [00:32<00:10, 33.84it/s]"
     ]
    },
    {
     "name": "stdout",
     "output_type": "stream",
     "text": [
      "mispelled set()\n",
      "mispelled {'kursk'}\n",
      "mispelled set()\n",
      "mispelled set()\n",
      "mispelled {''}\n",
      "mispelled set()\n",
      "mispelled {'', 'pagents'}\n",
      "mispelled {'kursk'}\n",
      "mispelled set()\n"
     ]
    },
    {
     "name": "stderr",
     "output_type": "stream",
     "text": [
      " 77%|███████▋  | 1159/1505 [00:33<00:07, 43.34it/s]"
     ]
    },
    {
     "name": "stdout",
     "output_type": "stream",
     "text": [
      "mispelled set()\n",
      "mispelled set()\n",
      "mispelled set()\n",
      "mispelled set()\n",
      "mispelled set()\n",
      "mispelled set()\n",
      "mispelled set()\n",
      "mispelled set()\n",
      "mispelled set()\n",
      "mispelled set()\n",
      "mispelled set()\n",
      "mispelled {'vs'}\n",
      "mispelled {'keto'}\n",
      "mispelled {'suny'}\n",
      "mispelled {'suny'}\n",
      "mispelled set()\n",
      "mispelled set()\n",
      "mispelled set()\n",
      "mispelled set()\n",
      "mispelled {'cerimonies'}\n"
     ]
    },
    {
     "name": "stderr",
     "output_type": "stream",
     "text": [
      "\r",
      " 78%|███████▊  | 1168/1505 [00:33<00:06, 50.76it/s]"
     ]
    },
    {
     "name": "stdout",
     "output_type": "stream",
     "text": [
      "mispelled set()\n",
      "mispelled set()\n",
      "mispelled {'suny'}\n",
      "mispelled set()\n",
      "mispelled {'kursk'}\n",
      "mispelled set()\n",
      "mispelled {'swahili'}\n",
      "mispelled {'trax'}\n",
      "mispelled {'autralia'}\n"
     ]
    },
    {
     "name": "stderr",
     "output_type": "stream",
     "text": [
      " 78%|███████▊  | 1180/1505 [00:34<00:11, 29.00it/s]"
     ]
    },
    {
     "name": "stdout",
     "output_type": "stream",
     "text": [
      "mispelled {'', 'merck'}\n",
      "mispelled {'pocono'}\n",
      "mispelled {'jp'}\n",
      "mispelled {'swahili'}\n",
      "mispelled set()\n",
      "mispelled set()\n",
      "mispelled set()\n",
      "mispelled set()\n",
      "mispelled set()\n"
     ]
    },
    {
     "name": "stderr",
     "output_type": "stream",
     "text": [
      "\r",
      " 79%|███████▉  | 1187/1505 [00:34<00:09, 34.45it/s]"
     ]
    },
    {
     "name": "stdout",
     "output_type": "stream",
     "text": [
      "mispelled {'kursk'}\n",
      "mispelled set()\n",
      "mispelled set()\n",
      "mispelled set()\n",
      "mispelled {'dehumidifiers'}\n",
      "mispelled {''}\n",
      "mispelled set()\n"
     ]
    },
    {
     "name": "stderr",
     "output_type": "stream",
     "text": [
      "\r",
      " 79%|███████▉  | 1192/1505 [00:34<00:14, 21.92it/s]"
     ]
    },
    {
     "name": "stdout",
     "output_type": "stream",
     "text": [
      "mispelled set()\n",
      "mispelled set()\n",
      "mispelled set()\n",
      "mispelled set()\n",
      "mispelled set()\n",
      "mispelled set()\n",
      "mispelled set()\n",
      "mispelled set()\n"
     ]
    },
    {
     "name": "stderr",
     "output_type": "stream",
     "text": [
      " 81%|████████  | 1213/1505 [00:35<00:08, 32.50it/s]"
     ]
    },
    {
     "name": "stdout",
     "output_type": "stream",
     "text": [
      "mispelled {'jp'}\n",
      "mispelled set()\n",
      "mispelled {'kursk'}\n",
      "mispelled {'fouris'}\n",
      "mispelled set()\n",
      "mispelled set()\n",
      "mispelled {'fouris'}\n",
      "mispelled set()\n",
      "mispelled set()\n",
      "mispelled {'amozan'}\n",
      "mispelled {'ferious'}\n",
      "mispelled {'ferious', 'dominics'}\n",
      "mispelled {'cheeta'}\n",
      "mispelled {'ferious'}\n",
      "mispelled {'ferious'}\n",
      "mispelled {'ferious'}\n",
      "mispelled {'2nd'}\n",
      "mispelled"
     ]
    },
    {
     "name": "stderr",
     "output_type": "stream",
     "text": [
      "\r",
      " 81%|████████  | 1220/1505 [00:35<00:07, 36.37it/s]"
     ]
    },
    {
     "name": "stdout",
     "output_type": "stream",
     "text": [
      " {'edwads'}\n",
      "mispelled set()\n",
      "mispelled set()\n",
      "mispelled set()\n"
     ]
    },
    {
     "name": "stderr",
     "output_type": "stream",
     "text": [
      "\r",
      " 81%|████████▏ | 1225/1505 [00:35<00:08, 33.82it/s]"
     ]
    },
    {
     "name": "stdout",
     "output_type": "stream",
     "text": [
      "mispelled {'langenges'}\n",
      "mispelled {'ttm'}\n",
      "mispelled set()\n",
      "mispelled {'23rd'}\n",
      "mispelled set()\n"
     ]
    },
    {
     "name": "stderr",
     "output_type": "stream",
     "text": [
      " 82%|████████▏ | 1237/1505 [00:36<00:07, 35.82it/s]"
     ]
    },
    {
     "name": "stdout",
     "output_type": "stream",
     "text": [
      "mispelled {'pintrest'}\n",
      "mispelled set()\n",
      "mispelled set()\n",
      "mispelled {'leamer'}\n",
      "mispelled {'taler'}\n",
      "mispelled set()\n",
      "mispelled {'poler'}\n",
      "mispelled {'ioin', 'whoh'}\n",
      "mispelled {'chetta'}\n"
     ]
    },
    {
     "name": "stderr",
     "output_type": "stream",
     "text": [
      "\r",
      " 83%|████████▎ | 1242/1505 [00:36<00:08, 31.73it/s]"
     ]
    },
    {
     "name": "stdout",
     "output_type": "stream",
     "text": [
      "mispelled {'florider'}\n",
      "mispelled {'tranksformers', 'moviey'}\n",
      "mispelled {'comeing'}\n",
      "mispelled {'lity'}\n",
      "mispelled set()\n",
      "mispelled {'armer'}\n",
      "mispelled {'esan'}\n",
      "mispelled set()\n"
     ]
    },
    {
     "name": "stderr",
     "output_type": "stream",
     "text": [
      " 83%|████████▎ | 1251/1505 [00:36<00:07, 32.27it/s]"
     ]
    },
    {
     "name": "stdout",
     "output_type": "stream",
     "text": [
      "mispelled {'selelena'}\n",
      "mispelled set()\n",
      "mispelled set()\n",
      "mispelled set()\n",
      "mispelled {'whitee'}\n",
      "mispelled set()\n",
      "mispelled set()\n",
      "mispelled {'comieng'}\n"
     ]
    },
    {
     "name": "stderr",
     "output_type": "stream",
     "text": [
      " 84%|████████▎ | 1260/1505 [00:36<00:08, 29.01it/s]"
     ]
    },
    {
     "name": "stdout",
     "output_type": "stream",
     "text": [
      "mispelled set()\n",
      "mispelled set()\n",
      "mispelled set()\n",
      "mispelled set()\n",
      "mispelled {'extirced'}\n",
      "mispelled set()\n",
      "mispelled set()\n",
      "mispelled set()\n",
      "mispelled set()\n",
      "mispelled {'facrs'}\n",
      "mispelled set()\n",
      "mispelled set()\n"
     ]
    },
    {
     "name": "stderr",
     "output_type": "stream",
     "text": [
      " 85%|████████▍ | 1275/1505 [00:37<00:09, 23.38it/s]"
     ]
    },
    {
     "name": "stdout",
     "output_type": "stream",
     "text": [
      "mispelled {'jurrasic', 'wortl'}\n",
      "mispelled set()\n",
      "mispelled set()\n",
      "mispelled set()\n",
      "mispelled set()\n",
      "mispelled set()\n",
      "mispelled {'baymax'}\n",
      "mispelled set()\n",
      "mispelled {'macdre'}\n",
      "mispelled set()\n",
      "mispelled set()\n",
      "mispelled set()\n",
      "mispelled set()\n"
     ]
    },
    {
     "name": "stderr",
     "output_type": "stream",
     "text": [
      " 86%|████████▌ | 1294/1505 [00:38<00:05, 39.48it/s]"
     ]
    },
    {
     "name": "stdout",
     "output_type": "stream",
     "text": [
      "mispelled {'feey'}\n",
      "mispelled {'puth'}\n",
      "mispelled set()\n",
      "mispelled set()\n",
      "mispelled {'skarch'}\n",
      "mispelled set()\n",
      "mispelled set()\n",
      "mispelled {'talor'}\n",
      "mispelled {'sward'}\n",
      "mispelled {'30th'}\n",
      "mispelled set()\n",
      "mispelled set()\n",
      "mispelled {'moive', 'huray', 'larax'}\n",
      "mispelled set()\n",
      "mispelled set()\n",
      "mispelled {'furiouse'}\n",
      "mispelled set()\n",
      "mispelled {'hallows'}\n",
      "mispelled set()\n",
      "mispelled {'giraf'}\n",
      "mispelled set()\n"
     ]
    },
    {
     "name": "stderr",
     "output_type": "stream",
     "text": [
      "\r",
      " 87%|████████▋ | 1304/1505 [00:38<00:05, 36.31it/s]"
     ]
    },
    {
     "name": "stdout",
     "output_type": "stream",
     "text": [
      "mispelled {'knoledg', 'scintest'}\n",
      "mispelled set()\n",
      "mispelled set()\n",
      "mispelled set()\n",
      "mispelled set()\n"
     ]
    },
    {
     "name": "stderr",
     "output_type": "stream",
     "text": [
      " 87%|████████▋ | 1316/1505 [00:38<00:05, 35.15it/s]"
     ]
    },
    {
     "name": "stdout",
     "output_type": "stream",
     "text": [
      "mispelled set()\n",
      "mispelled {'seahorces'}\n",
      "mispelled set()\n",
      "mispelled set()\n",
      "mispelled set()\n",
      "mispelled set()\n",
      "mispelled {'newst', 'gfazzy'}\n",
      "mispelled set()\n"
     ]
    },
    {
     "name": "stderr",
     "output_type": "stream",
     "text": [
      " 88%|████████▊ | 1325/1505 [00:39<00:05, 31.14it/s]"
     ]
    },
    {
     "name": "stdout",
     "output_type": "stream",
     "text": [
      "mispelled {'f', 'jonh', 'kennadys'}\n",
      "mispelled {'', 'ttm'}\n",
      "mispelled set()\n",
      "mispelled {'bb8'}\n",
      "mispelled {'wgat'}\n",
      "mispelled {'weeknds'}\n",
      "mispelled {'starwars'}\n",
      "mispelled set()\n",
      "mispelled set()\n"
     ]
    },
    {
     "name": "stderr",
     "output_type": "stream",
     "text": [
      "\r",
      " 89%|████████▊ | 1332/1505 [00:39<00:04, 35.02it/s]"
     ]
    },
    {
     "name": "stdout",
     "output_type": "stream",
     "text": [
      "mispelled set()\n",
      "mispelled set()\n",
      "mispelled {'draffs'}\n",
      "mispelled set()\n",
      "mispelled set()\n",
      "mispelled {'stanly', 'supperre'}\n",
      "mispelled set()\n",
      "mispelled {'explosin'}\n"
     ]
    },
    {
     "name": "stderr",
     "output_type": "stream",
     "text": [
      " 89%|████████▉ | 1340/1505 [00:39<00:05, 29.61it/s]"
     ]
    },
    {
     "name": "stdout",
     "output_type": "stream",
     "text": [
      "mispelled {'flote', 'anabell'}\n",
      "mispelled {'poler'}\n",
      "mispelled set()\n",
      "mispelled {'anabell'}\n",
      "mispelled {'comeing', 'vingis'}\n",
      "mispelled {'youtub'}\n",
      "mispelled {'insidous'}\n",
      "mispelled {'chronicels', 'narnia'}\n"
     ]
    },
    {
     "name": "stderr",
     "output_type": "stream",
     "text": [
      "\r",
      " 90%|████████▉ | 1347/1505 [00:39<00:04, 35.55it/s]"
     ]
    },
    {
     "name": "stdout",
     "output_type": "stream",
     "text": [
      "mispelled set()\n",
      "mispelled {'sissors'}\n",
      "mispelled {'cs'}\n",
      "mispelled set()\n",
      "mispelled {'propums', 'envirormental'}\n"
     ]
    },
    {
     "name": "stderr",
     "output_type": "stream",
     "text": [
      " 90%|█████████ | 1355/1505 [00:40<00:04, 30.92it/s]"
     ]
    },
    {
     "name": "stdout",
     "output_type": "stream",
     "text": [
      "mispelled {'buiolt', 'm', 'donlads'}\n",
      "mispelled {'kylo'}\n",
      "mispelled set()\n",
      "mispelled set()\n",
      "mispelled set()\n",
      "mispelled set()\n",
      "mispelled set()\n",
      "mispelled set()\n",
      "mispelled {'caculator'}\n",
      "mispelled"
     ]
    },
    {
     "name": "stderr",
     "output_type": "stream",
     "text": [
      "\r",
      " 91%|█████████ | 1365/1505 [00:40<00:03, 38.62it/s]"
     ]
    },
    {
     "name": "stdout",
     "output_type": "stream",
     "text": [
      " set()\n",
      "mispelled {'terminater'}\n",
      "mispelled set()\n",
      "mispelled set()\n",
      "mispelled set()\n",
      "mispelled set()\n",
      "mispelled set()\n",
      "mispelled set()\n",
      "mispelled set()\n"
     ]
    },
    {
     "name": "stderr",
     "output_type": "stream",
     "text": [
      " 91%|█████████ | 1373/1505 [00:40<00:03, 33.14it/s]"
     ]
    },
    {
     "name": "stdout",
     "output_type": "stream",
     "text": [
      "mispelled {'starwars', 'chewey'}\n",
      "mispelled set()\n",
      "mispelled {'mincraft'}\n",
      "mispelled set()\n",
      "mispelled set()\n",
      "mispelled {'mamoth'}\n"
     ]
    },
    {
     "name": "stderr",
     "output_type": "stream",
     "text": [
      " 92%|█████████▏| 1382/1505 [00:40<00:04, 25.45it/s]"
     ]
    },
    {
     "name": "stdout",
     "output_type": "stream",
     "text": [
      "mispelled {'anebelle'}\n",
      "mispelled set()\n",
      "mispelled {'beiber'}\n",
      "mispelled set()\n",
      "mispelled set()\n",
      "mispelled {'lukes'}\n",
      "mispelled set()\n",
      "mispelled {'starwars'}\n"
     ]
    },
    {
     "name": "stderr",
     "output_type": "stream",
     "text": [
      " 92%|█████████▏| 1388/1505 [00:41<00:04, 24.66it/s]"
     ]
    },
    {
     "name": "stdout",
     "output_type": "stream",
     "text": [
      "mispelled {'dj'}\n",
      "mispelled set()\n",
      "mispelled {'anibelle'}\n",
      "mispelled set()\n",
      "mispelled set()\n"
     ]
    },
    {
     "name": "stderr",
     "output_type": "stream",
     "text": [
      "\r",
      " 92%|█████████▏| 1391/1505 [00:41<00:04, 24.09it/s]"
     ]
    },
    {
     "name": "stdout",
     "output_type": "stream",
     "text": [
      "mispelled {'starwars', 'kylo'}\n",
      "mispelled {'coll'}\n",
      "mispelled set()\n",
      "mispelled set()\n",
      "mispelled {'feathres'}\n",
      "mispelled set()\n",
      "mispelled set()\n",
      "mispelled {'furiouse'}\n",
      "mispelled set()\n",
      "mispelled {'furiouse'}\n",
      "mispelled set()\n",
      "mispelled set()\n",
      "mispelled {'johny', 'enlgish'}\n"
     ]
    },
    {
     "name": "stderr",
     "output_type": "stream",
     "text": [
      "\r",
      " 93%|█████████▎| 1402/1505 [00:41<00:03, 31.45it/s]"
     ]
    },
    {
     "name": "stdout",
     "output_type": "stream",
     "text": [
      "mispelled {'johny'}\n",
      "mispelled set()\n",
      "mispelled set()\n",
      "mispelled set()\n",
      "mispelled set()\n",
      "mispelled {'5th'}\n",
      "mispelled set()\n",
      "mispelled set()\n",
      "mispelled set()\n",
      "mispelled {'incredibles'}\n"
     ]
    },
    {
     "name": "stderr",
     "output_type": "stream",
     "text": [
      " 95%|█████████▍| 1426/1505 [00:42<00:01, 44.41it/s]"
     ]
    },
    {
     "name": "stdout",
     "output_type": "stream",
     "text": [
      "mispelled {'mrincredible'}\n",
      "mispelled set()\n",
      "mispelled {'incredibles'}\n",
      "mispelled set()\n",
      "mispelled {'freddys'}\n",
      "mispelled {'gorden'}\n",
      "mispelled set()\n",
      "mispelled {'kylo'}\n",
      "mispelled set()\n",
      "mispelled set()\n",
      "mispelled set()\n",
      "mispelled set()\n",
      "mispelled {'sumdog'}\n",
      "mispelled {'antman'}\n",
      "mispelled set()\n"
     ]
    },
    {
     "name": "stderr",
     "output_type": "stream",
     "text": [
      " 96%|█████████▌| 1438/1505 [00:42<00:01, 44.19it/s]"
     ]
    },
    {
     "name": "stdout",
     "output_type": "stream",
     "text": [
      "mispelled {'antman'}\n",
      "mispelled {'v'}\n",
      "mispelled set()\n",
      "mispelled set()\n",
      "mispelled {'polr', 'swin'}\n",
      "mispelled set()\n",
      "mispelled set()\n",
      "mispelled set()\n",
      "mispelled set()\n",
      "mispelled {'dvd'}\n"
     ]
    },
    {
     "name": "stderr",
     "output_type": "stream",
     "text": [
      " 96%|█████████▋| 1451/1505 [00:42<00:01, 51.41it/s]"
     ]
    },
    {
     "name": "stdout",
     "output_type": "stream",
     "text": [
      "mispelled {'bautey'}\n",
      "mispelled set()\n",
      "mispelled {'cheeta'}\n",
      "mispelled set()\n",
      "mispelled set()\n",
      "mispelled set()\n",
      "mispelled set()\n",
      "mispelled {'krois'}\n",
      "mispelled set()\n",
      "mispelled {'lirycs'}\n",
      "mispelled set()\n",
      "mispelled set()\n",
      "mispelled set()\n",
      "mispelled set()\n",
      "mispelled set()\n",
      "mispelled set()\n",
      "mispelled set()\n",
      "mispelled set()\n",
      "mispelled {'', 'vs'}\n",
      "mispelled set()\n",
      "mispelled set()\n",
      "mispelled set()\n",
      "mispelled set()\n",
      "mispelled set()\n"
     ]
    },
    {
     "name": "stderr",
     "output_type": "stream",
     "text": [
      "\r",
      " 97%|█████████▋| 1463/1505 [00:42<00:00, 60.43it/s]"
     ]
    },
    {
     "name": "stdout",
     "output_type": "stream",
     "text": [
      "mispelled {'ohohoh'}\n",
      "mispelled {'starwars'}\n"
     ]
    },
    {
     "name": "stderr",
     "output_type": "stream",
     "text": [
      "\r",
      " 98%|█████████▊| 1470/1505 [00:43<00:00, 37.11it/s]"
     ]
    },
    {
     "name": "stdout",
     "output_type": "stream",
     "text": [
      "mispelled {'starwars'}\n",
      "mispelled set()\n",
      "mispelled set()\n",
      "mispelled set()\n",
      "mispelled {'girrafe'}\n",
      "mispelled set()\n"
     ]
    },
    {
     "name": "stderr",
     "output_type": "stream",
     "text": [
      "\r",
      " 98%|█████████▊| 1475/1505 [00:43<00:00, 30.67it/s]"
     ]
    },
    {
     "name": "stdout",
     "output_type": "stream",
     "text": [
      "mispelled set()\n",
      "mispelled set()\n",
      "mispelled set()\n",
      "mispelled {'starwars'}\n",
      "mispelled set()\n",
      "mispelled set()\n",
      "mispelled set()\n"
     ]
    },
    {
     "name": "stderr",
     "output_type": "stream",
     "text": [
      "100%|██████████| 1505/1505 [00:43<00:00, 34.45it/s]"
     ]
    },
    {
     "name": "stdout",
     "output_type": "stream",
     "text": [
      "mispelled set()\n",
      "mispelled set()\n",
      "mispelled {'', 'bagan', 'billbow'}\n",
      "mispelled set()\n",
      "mispelled set()\n",
      "mispelled set()\n",
      "mispelled set()\n",
      "mispelled {'mutan'}\n",
      "mispelled set()\n",
      "mispelled set()\n",
      "mispelled set()\n",
      "mispelled set()\n",
      "mispelled set()\n",
      "mispelled set()\n",
      "mispelled {'kylo'}\n",
      "mispelled set()\n",
      "mispelled {''}\n",
      "mispelled set()\n",
      "mispelled set()\n",
      "mispelled set()\n",
      "mispelled set()\n",
      "mispelled {'awakends'}\n",
      "mispelled {'foxs'}\n",
      "mispelled set()\n",
      "mispelled set()\n",
      "mispelled set()\n"
     ]
    },
    {
     "name": "stderr",
     "output_type": "stream",
     "text": [
      "\n"
     ]
    }
   ],
   "source": [
    "# ---- CHECKING ----\n",
    "\n",
    "spell = SpellChecker()\n",
    "\n",
    "spellingError = []\n",
    "oneOffError = []\n",
    "kidsError = []\n",
    "misspelledCol = []\n",
    "\n",
    "netModifiers = ['www', 'http', '.com', '.net', '.edu', '.org', '.gov', '.co', '.mil', '.com']\n",
    "\n",
    "with tqdm(total = len(allQueries) ) as pbar:\n",
    "    for query in allQueries:\n",
    "        query =  query.translate(str.maketrans('', '', string.punctuation)) # -- remove all panctuations\n",
    "        website = [mod for mod in netModifiers if(mod in query)] # --- save the netModifiers in the queries\n",
    "        if not website:\n",
    "            misspelledWords = \"\";\n",
    "            try:\n",
    "                lang = detect(query) # -- detects a language \n",
    "                misspelled = spell.unknown(query.split(\" \")) # -- unknown gives the misspelled words\n",
    "                found = 0\n",
    "                oneOff = 0\n",
    "                kidsMis = 0\n",
    "                for word in misspelled:\n",
    "                    misspelledWords += \" \" + word # -- concatinating the misspelled words\n",
    "                    \n",
    "                    misspelledWords = ' '.join(misspelledWords.split())\n",
    "                    \n",
    "                    if word in kidsMispelled:\n",
    "                        kidsMis +=1\n",
    "                    candid = spell.candidates(word) # --- candidates() displays the set of words that are close to the word entered e.g: 'country', 'count', 'counter' if country is entered\n",
    "                    edits = spell.edit_distance_1(word) # -- Compute all strings that are one edit away from `word` \n",
    "                    \n",
    "                    for can in candid:\n",
    "                        if can in edits:\n",
    "                            oneOff += 1 # -- one letter off \n",
    "                        break\n",
    "\n",
    "                oneOffError.append(oneOff)\n",
    "                print('mispelled', misspelled)\n",
    "                spellingError.append(len(misspelled))\n",
    "                kidsError.append(kidsMis)\n",
    "                misspelledCol.append(misspelledWords)\n",
    "                \n",
    "            except:\n",
    "#                 print(misspelled)\n",
    "                oneOffError.append(-1)\n",
    "                spellingError.append(-1)\n",
    "                kidsError.append(-1)\n",
    "                misspelledCol.append(misspelledWords)\n",
    "\n",
    "        else:\n",
    "            spellingError.append(0)\n",
    "            oneOffError.append(0)\n",
    "            kidsError.append(0)\n",
    "            misspelledCol.append(\"none\")\n",
    "\n",
    "        pbar.update()\n",
    "    \n",
    "spelling = pd.DataFrame(data=spellingError, columns = ['numSpellingErrors'])\n",
    "spelling['query'] = allQueries\n",
    "spelling['offByOne'] = oneOffError\n",
    "spelling['kidsError'] = kidsError\n",
    "# spelling['ms'] = misspelledCol\n"
   ]
  },
  {
   "cell_type": "code",
   "execution_count": 33,
   "metadata": {},
   "outputs": [
    {
     "data": {
      "text/html": [
       "<div>\n",
       "<style scoped>\n",
       "    .dataframe tbody tr th:only-of-type {\n",
       "        vertical-align: middle;\n",
       "    }\n",
       "\n",
       "    .dataframe tbody tr th {\n",
       "        vertical-align: top;\n",
       "    }\n",
       "\n",
       "    .dataframe thead th {\n",
       "        text-align: right;\n",
       "    }\n",
       "</style>\n",
       "<table border=\"1\" class=\"dataframe\">\n",
       "  <thead>\n",
       "    <tr style=\"text-align: right;\">\n",
       "      <th></th>\n",
       "      <th>numSpellingErrors</th>\n",
       "      <th>query</th>\n",
       "      <th>offByOne</th>\n",
       "      <th>kidsError</th>\n",
       "    </tr>\n",
       "  </thead>\n",
       "  <tbody>\n",
       "    <tr>\n",
       "      <th>0</th>\n",
       "      <td>0</td>\n",
       "      <td>becoming a fireman</td>\n",
       "      <td>0</td>\n",
       "      <td>0</td>\n",
       "    </tr>\n",
       "    <tr>\n",
       "      <th>1</th>\n",
       "      <td>1</td>\n",
       "      <td>hotel in Pocono Mountains</td>\n",
       "      <td>1</td>\n",
       "      <td>0</td>\n",
       "    </tr>\n",
       "    <tr>\n",
       "      <th>2</th>\n",
       "      <td>0</td>\n",
       "      <td>wedding traditions buddhism</td>\n",
       "      <td>0</td>\n",
       "      <td>0</td>\n",
       "    </tr>\n",
       "    <tr>\n",
       "      <th>3</th>\n",
       "      <td>0</td>\n",
       "      <td>diversification in hiring</td>\n",
       "      <td>0</td>\n",
       "      <td>0</td>\n",
       "    </tr>\n",
       "    <tr>\n",
       "      <th>4</th>\n",
       "      <td>2</td>\n",
       "      <td>traiditional swahili recipes</td>\n",
       "      <td>1</td>\n",
       "      <td>0</td>\n",
       "    </tr>\n",
       "    <tr>\n",
       "      <th>5</th>\n",
       "      <td>1</td>\n",
       "      <td>Boolywood in hollywood</td>\n",
       "      <td>1</td>\n",
       "      <td>0</td>\n",
       "    </tr>\n",
       "    <tr>\n",
       "      <th>6</th>\n",
       "      <td>0</td>\n",
       "      <td>week long vacation idea</td>\n",
       "      <td>0</td>\n",
       "      <td>0</td>\n",
       "    </tr>\n",
       "    <tr>\n",
       "      <th>7</th>\n",
       "      <td>0</td>\n",
       "      <td>efficiency of solar panels</td>\n",
       "      <td>0</td>\n",
       "      <td>0</td>\n",
       "    </tr>\n",
       "    <tr>\n",
       "      <th>8</th>\n",
       "      <td>1</td>\n",
       "      <td>bollywood's increasing popularity</td>\n",
       "      <td>1</td>\n",
       "      <td>0</td>\n",
       "    </tr>\n",
       "    <tr>\n",
       "      <th>9</th>\n",
       "      <td>0</td>\n",
       "      <td>New York City</td>\n",
       "      <td>0</td>\n",
       "      <td>0</td>\n",
       "    </tr>\n",
       "    <tr>\n",
       "      <th>10</th>\n",
       "      <td>0</td>\n",
       "      <td>growth in bollywood government</td>\n",
       "      <td>0</td>\n",
       "      <td>0</td>\n",
       "    </tr>\n",
       "    <tr>\n",
       "      <th>11</th>\n",
       "      <td>2</td>\n",
       "      <td>regular phones vs internet phones voip experie...</td>\n",
       "      <td>2</td>\n",
       "      <td>0</td>\n",
       "    </tr>\n",
       "    <tr>\n",
       "      <th>12</th>\n",
       "      <td>0</td>\n",
       "      <td>designer dogs moral</td>\n",
       "      <td>0</td>\n",
       "      <td>0</td>\n",
       "    </tr>\n",
       "    <tr>\n",
       "      <th>13</th>\n",
       "      <td>0</td>\n",
       "      <td>best cities planning a trip to the United States</td>\n",
       "      <td>0</td>\n",
       "      <td>0</td>\n",
       "    </tr>\n",
       "    <tr>\n",
       "      <th>14</th>\n",
       "      <td>0</td>\n",
       "      <td>healthcare UK</td>\n",
       "      <td>0</td>\n",
       "      <td>0</td>\n",
       "    </tr>\n",
       "  </tbody>\n",
       "</table>\n",
       "</div>"
      ],
      "text/plain": [
       "    numSpellingErrors                                              query  \\\n",
       "0                   0                                 becoming a fireman   \n",
       "1                   1                          hotel in Pocono Mountains   \n",
       "2                   0                        wedding traditions buddhism   \n",
       "3                   0                          diversification in hiring   \n",
       "4                   2                       traiditional swahili recipes   \n",
       "5                   1                             Boolywood in hollywood   \n",
       "6                   0                            week long vacation idea   \n",
       "7                   0                         efficiency of solar panels   \n",
       "8                   1                  bollywood's increasing popularity   \n",
       "9                   0                                      New York City   \n",
       "10                  0                     growth in bollywood government   \n",
       "11                  2  regular phones vs internet phones voip experie...   \n",
       "12                  0                                designer dogs moral   \n",
       "13                  0   best cities planning a trip to the United States   \n",
       "14                  0                                      healthcare UK   \n",
       "\n",
       "    offByOne  kidsError  \n",
       "0          0          0  \n",
       "1          1          0  \n",
       "2          0          0  \n",
       "3          0          0  \n",
       "4          1          0  \n",
       "5          1          0  \n",
       "6          0          0  \n",
       "7          0          0  \n",
       "8          1          0  \n",
       "9          0          0  \n",
       "10         0          0  \n",
       "11         2          0  \n",
       "12         0          0  \n",
       "13         0          0  \n",
       "14         0          0  "
      ]
     },
     "execution_count": 33,
     "metadata": {},
     "output_type": "execute_result"
    }
   ],
   "source": [
    "spelling.head(15)"
   ]
  },
  {
   "cell_type": "code",
   "execution_count": 34,
   "metadata": {
    "scrolled": true
   },
   "outputs": [
    {
     "data": {
      "text/plain": [
       "{'ddog'}"
      ]
     },
     "execution_count": 34,
     "metadata": {},
     "output_type": "execute_result"
    }
   ],
   "source": [
    "cc = 'You hate a ddog'\n",
    "m = spell.unknown(cc.split(\" \"))\n",
    "m"
   ]
  },
  {
   "cell_type": "code",
   "execution_count": 35,
   "metadata": {},
   "outputs": [
    {
     "data": {
      "text/plain": [
       "{'exsists'}"
      ]
     },
     "execution_count": 35,
     "metadata": {},
     "output_type": "execute_result"
    }
   ],
   "source": [
    "dd = 'how god exsists'\n",
    "m = spell.unknown(dd.split(\" \"))\n",
    "m"
   ]
  },
  {
   "cell_type": "code",
   "execution_count": 36,
   "metadata": {},
   "outputs": [
    {
     "data": {
      "text/html": [
       "<div>\n",
       "<style scoped>\n",
       "    .dataframe tbody tr th:only-of-type {\n",
       "        vertical-align: middle;\n",
       "    }\n",
       "\n",
       "    .dataframe tbody tr th {\n",
       "        vertical-align: top;\n",
       "    }\n",
       "\n",
       "    .dataframe thead th {\n",
       "        text-align: right;\n",
       "    }\n",
       "</style>\n",
       "<table border=\"1\" class=\"dataframe\">\n",
       "  <thead>\n",
       "    <tr style=\"text-align: right;\">\n",
       "      <th></th>\n",
       "      <th>numSpellingErrors</th>\n",
       "      <th>query</th>\n",
       "      <th>offByOne</th>\n",
       "      <th>kidsError</th>\n",
       "    </tr>\n",
       "  </thead>\n",
       "  <tbody>\n",
       "    <tr>\n",
       "      <th>0</th>\n",
       "      <td>0</td>\n",
       "      <td>becoming a fireman</td>\n",
       "      <td>0</td>\n",
       "      <td>0</td>\n",
       "    </tr>\n",
       "    <tr>\n",
       "      <th>1</th>\n",
       "      <td>1</td>\n",
       "      <td>hotel in Pocono Mountains</td>\n",
       "      <td>1</td>\n",
       "      <td>0</td>\n",
       "    </tr>\n",
       "    <tr>\n",
       "      <th>2</th>\n",
       "      <td>0</td>\n",
       "      <td>wedding traditions buddhism</td>\n",
       "      <td>0</td>\n",
       "      <td>0</td>\n",
       "    </tr>\n",
       "    <tr>\n",
       "      <th>3</th>\n",
       "      <td>0</td>\n",
       "      <td>diversification in hiring</td>\n",
       "      <td>0</td>\n",
       "      <td>0</td>\n",
       "    </tr>\n",
       "    <tr>\n",
       "      <th>4</th>\n",
       "      <td>2</td>\n",
       "      <td>traiditional swahili recipes</td>\n",
       "      <td>1</td>\n",
       "      <td>0</td>\n",
       "    </tr>\n",
       "    <tr>\n",
       "      <th>...</th>\n",
       "      <td>...</td>\n",
       "      <td>...</td>\n",
       "      <td>...</td>\n",
       "      <td>...</td>\n",
       "    </tr>\n",
       "    <tr>\n",
       "      <th>1500</th>\n",
       "      <td>1</td>\n",
       "      <td>Who plays the bad guy in Star Wars the Horde a...</td>\n",
       "      <td>1</td>\n",
       "      <td>0</td>\n",
       "    </tr>\n",
       "    <tr>\n",
       "      <th>1501</th>\n",
       "      <td>1</td>\n",
       "      <td>What is a fox's favorite kind of food?</td>\n",
       "      <td>1</td>\n",
       "      <td>0</td>\n",
       "    </tr>\n",
       "    <tr>\n",
       "      <th>1502</th>\n",
       "      <td>0</td>\n",
       "      <td>Show me the movie called \"The Martian\"</td>\n",
       "      <td>0</td>\n",
       "      <td>0</td>\n",
       "    </tr>\n",
       "    <tr>\n",
       "      <th>1503</th>\n",
       "      <td>0</td>\n",
       "      <td>What is the biggest rock found on Mars?</td>\n",
       "      <td>0</td>\n",
       "      <td>0</td>\n",
       "    </tr>\n",
       "    <tr>\n",
       "      <th>1504</th>\n",
       "      <td>0</td>\n",
       "      <td>What is the top game this week?</td>\n",
       "      <td>0</td>\n",
       "      <td>0</td>\n",
       "    </tr>\n",
       "  </tbody>\n",
       "</table>\n",
       "<p>1505 rows × 4 columns</p>\n",
       "</div>"
      ],
      "text/plain": [
       "      numSpellingErrors                                              query  \\\n",
       "0                     0                                 becoming a fireman   \n",
       "1                     1                          hotel in Pocono Mountains   \n",
       "2                     0                        wedding traditions buddhism   \n",
       "3                     0                          diversification in hiring   \n",
       "4                     2                       traiditional swahili recipes   \n",
       "...                 ...                                                ...   \n",
       "1500                  1  Who plays the bad guy in Star Wars the Horde a...   \n",
       "1501                  1             What is a fox's favorite kind of food?   \n",
       "1502                  0             Show me the movie called \"The Martian\"   \n",
       "1503                  0            What is the biggest rock found on Mars?   \n",
       "1504                  0                    What is the top game this week?   \n",
       "\n",
       "      offByOne  kidsError  \n",
       "0            0          0  \n",
       "1            1          0  \n",
       "2            0          0  \n",
       "3            0          0  \n",
       "4            1          0  \n",
       "...        ...        ...  \n",
       "1500         1          0  \n",
       "1501         1          0  \n",
       "1502         0          0  \n",
       "1503         0          0  \n",
       "1504         0          0  \n",
       "\n",
       "[1505 rows x 4 columns]"
      ]
     },
     "execution_count": 36,
     "metadata": {},
     "output_type": "execute_result"
    }
   ],
   "source": [
    "spelling"
   ]
  },
  {
   "cell_type": "code",
   "execution_count": 37,
   "metadata": {},
   "outputs": [
    {
     "data": {
      "text/plain": [
       "array([ 0, -1,  1])"
      ]
     },
     "execution_count": 37,
     "metadata": {},
     "output_type": "execute_result"
    }
   ],
   "source": [
    "spelling['kidsError'].unique()"
   ]
  },
  {
   "cell_type": "code",
   "execution_count": 38,
   "metadata": {},
   "outputs": [],
   "source": [
    "# spelling.ms[631]"
   ]
  },
  {
   "cell_type": "code",
   "execution_count": 39,
   "metadata": {},
   "outputs": [
    {
     "data": {
      "text/html": [
       "<div>\n",
       "<style scoped>\n",
       "    .dataframe tbody tr th:only-of-type {\n",
       "        vertical-align: middle;\n",
       "    }\n",
       "\n",
       "    .dataframe tbody tr th {\n",
       "        vertical-align: top;\n",
       "    }\n",
       "\n",
       "    .dataframe thead th {\n",
       "        text-align: right;\n",
       "    }\n",
       "</style>\n",
       "<table border=\"1\" class=\"dataframe\">\n",
       "  <thead>\n",
       "    <tr style=\"text-align: right;\">\n",
       "      <th></th>\n",
       "      <th>numSpellingErrors</th>\n",
       "      <th>query</th>\n",
       "      <th>offByOne</th>\n",
       "      <th>kidsError</th>\n",
       "    </tr>\n",
       "  </thead>\n",
       "  <tbody>\n",
       "    <tr>\n",
       "      <th>21</th>\n",
       "      <td>2</td>\n",
       "      <td>Pocono Mountains  things to do</td>\n",
       "      <td>2</td>\n",
       "      <td>1</td>\n",
       "    </tr>\n",
       "    <tr>\n",
       "      <th>22</th>\n",
       "      <td>1</td>\n",
       "      <td>Connecticut Fire Academy</td>\n",
       "      <td>1</td>\n",
       "      <td>1</td>\n",
       "    </tr>\n",
       "    <tr>\n",
       "      <th>76</th>\n",
       "      <td>1</td>\n",
       "      <td>can a person continue sport after getting  col...</td>\n",
       "      <td>1</td>\n",
       "      <td>1</td>\n",
       "    </tr>\n",
       "    <tr>\n",
       "      <th>84</th>\n",
       "      <td>1</td>\n",
       "      <td>what is  collagen disease</td>\n",
       "      <td>1</td>\n",
       "      <td>1</td>\n",
       "    </tr>\n",
       "    <tr>\n",
       "      <th>110</th>\n",
       "      <td>1</td>\n",
       "      <td>homicide  \" martin bryant\"</td>\n",
       "      <td>1</td>\n",
       "      <td>1</td>\n",
       "    </tr>\n",
       "    <tr>\n",
       "      <th>167</th>\n",
       "      <td>1</td>\n",
       "      <td>US government  spending +space exploration</td>\n",
       "      <td>1</td>\n",
       "      <td>1</td>\n",
       "    </tr>\n",
       "    <tr>\n",
       "      <th>179</th>\n",
       "      <td>1</td>\n",
       "      <td>chateau resort getting to</td>\n",
       "      <td>1</td>\n",
       "      <td>1</td>\n",
       "    </tr>\n",
       "    <tr>\n",
       "      <th>184</th>\n",
       "      <td>2</td>\n",
       "      <td>Kenya  Swahili dishes</td>\n",
       "      <td>1</td>\n",
       "      <td>1</td>\n",
       "    </tr>\n",
       "    <tr>\n",
       "      <th>217</th>\n",
       "      <td>1</td>\n",
       "      <td>employee evaluation  tips</td>\n",
       "      <td>1</td>\n",
       "      <td>1</td>\n",
       "    </tr>\n",
       "    <tr>\n",
       "      <th>223</th>\n",
       "      <td>1</td>\n",
       "      <td>road trip + vacation</td>\n",
       "      <td>1</td>\n",
       "      <td>1</td>\n",
       "    </tr>\n",
       "    <tr>\n",
       "      <th>318</th>\n",
       "      <td>1</td>\n",
       "      <td>Indian politics   Miss Universe</td>\n",
       "      <td>1</td>\n",
       "      <td>1</td>\n",
       "    </tr>\n",
       "    <tr>\n",
       "      <th>443</th>\n",
       "      <td>1</td>\n",
       "      <td>Indian Policies + Miss Universe</td>\n",
       "      <td>1</td>\n",
       "      <td>1</td>\n",
       "    </tr>\n",
       "    <tr>\n",
       "      <th>460</th>\n",
       "      <td>3</td>\n",
       "      <td>internationsl scholarships  SUNY</td>\n",
       "      <td>3</td>\n",
       "      <td>1</td>\n",
       "    </tr>\n",
       "    <tr>\n",
       "      <th>511</th>\n",
       "      <td>2</td>\n",
       "      <td>largest JP Morgan Chase  data center</td>\n",
       "      <td>2</td>\n",
       "      <td>1</td>\n",
       "    </tr>\n",
       "    <tr>\n",
       "      <th>526</th>\n",
       "      <td>1</td>\n",
       "      <td>India + Miss Universe</td>\n",
       "      <td>1</td>\n",
       "      <td>1</td>\n",
       "    </tr>\n",
       "    <tr>\n",
       "      <th>647</th>\n",
       "      <td>2</td>\n",
       "      <td>dehumidifiers</td>\n",
       "      <td>2</td>\n",
       "      <td>1</td>\n",
       "    </tr>\n",
       "    <tr>\n",
       "      <th>676</th>\n",
       "      <td>1</td>\n",
       "      <td>gun control  gun violence</td>\n",
       "      <td>1</td>\n",
       "      <td>1</td>\n",
       "    </tr>\n",
       "    <tr>\n",
       "      <th>711</th>\n",
       "      <td>2</td>\n",
       "      <td>Merck lobbying  against</td>\n",
       "      <td>2</td>\n",
       "      <td>1</td>\n",
       "    </tr>\n",
       "    <tr>\n",
       "      <th>724</th>\n",
       "      <td>1</td>\n",
       "      <td>Bollywood affecting  government</td>\n",
       "      <td>1</td>\n",
       "      <td>1</td>\n",
       "    </tr>\n",
       "    <tr>\n",
       "      <th>755</th>\n",
       "      <td>1</td>\n",
       "      <td>health care  us</td>\n",
       "      <td>1</td>\n",
       "      <td>1</td>\n",
       "    </tr>\n",
       "    <tr>\n",
       "      <th>954</th>\n",
       "      <td>2</td>\n",
       "      <td>Indian government + Beauty Pagents</td>\n",
       "      <td>2</td>\n",
       "      <td>1</td>\n",
       "    </tr>\n",
       "    <tr>\n",
       "      <th>985</th>\n",
       "      <td>1</td>\n",
       "      <td>Connecticut Fire Academy  how to</td>\n",
       "      <td>1</td>\n",
       "      <td>1</td>\n",
       "    </tr>\n",
       "    <tr>\n",
       "      <th>1000</th>\n",
       "      <td>1</td>\n",
       "      <td>social security systems of  US</td>\n",
       "      <td>1</td>\n",
       "      <td>1</td>\n",
       "    </tr>\n",
       "    <tr>\n",
       "      <th>1027</th>\n",
       "      <td>1</td>\n",
       "      <td>developmental  milestones children east asia</td>\n",
       "      <td>1</td>\n",
       "      <td>1</td>\n",
       "    </tr>\n",
       "    <tr>\n",
       "      <th>1033</th>\n",
       "      <td>2</td>\n",
       "      <td>kursk  sub</td>\n",
       "      <td>1</td>\n",
       "      <td>1</td>\n",
       "    </tr>\n",
       "    <tr>\n",
       "      <th>1079</th>\n",
       "      <td>1</td>\n",
       "      <td>mba  salaries</td>\n",
       "      <td>1</td>\n",
       "      <td>1</td>\n",
       "    </tr>\n",
       "    <tr>\n",
       "      <th>1107</th>\n",
       "      <td>2</td>\n",
       "      <td>location \"JP Morgan Chase\" + center</td>\n",
       "      <td>2</td>\n",
       "      <td>1</td>\n",
       "    </tr>\n",
       "    <tr>\n",
       "      <th>1135</th>\n",
       "      <td>1</td>\n",
       "      <td>spain   economic recovery</td>\n",
       "      <td>1</td>\n",
       "      <td>1</td>\n",
       "    </tr>\n",
       "    <tr>\n",
       "      <th>1137</th>\n",
       "      <td>2</td>\n",
       "      <td>Indian + Beauty Pagents</td>\n",
       "      <td>2</td>\n",
       "      <td>1</td>\n",
       "    </tr>\n",
       "    <tr>\n",
       "      <th>1173</th>\n",
       "      <td>2</td>\n",
       "      <td>merck pharmaceutical  pac contributions</td>\n",
       "      <td>2</td>\n",
       "      <td>1</td>\n",
       "    </tr>\n",
       "    <tr>\n",
       "      <th>1187</th>\n",
       "      <td>1</td>\n",
       "      <td>ingredients kenya  cooking</td>\n",
       "      <td>1</td>\n",
       "      <td>1</td>\n",
       "    </tr>\n",
       "    <tr>\n",
       "      <th>1242</th>\n",
       "      <td>1</td>\n",
       "      <td>armer games</td>\n",
       "      <td>1</td>\n",
       "      <td>1</td>\n",
       "    </tr>\n",
       "    <tr>\n",
       "      <th>1318</th>\n",
       "      <td>2</td>\n",
       "      <td>TTM</td>\n",
       "      <td>2</td>\n",
       "      <td>1</td>\n",
       "    </tr>\n",
       "    <tr>\n",
       "      <th>1333</th>\n",
       "      <td>1</td>\n",
       "      <td>String explosin</td>\n",
       "      <td>1</td>\n",
       "      <td>1</td>\n",
       "    </tr>\n",
       "    <tr>\n",
       "      <th>1334</th>\n",
       "      <td>2</td>\n",
       "      <td>How did Anabell flote</td>\n",
       "      <td>1</td>\n",
       "      <td>1</td>\n",
       "    </tr>\n",
       "    <tr>\n",
       "      <th>1389</th>\n",
       "      <td>1</td>\n",
       "      <td>What are coll fact about a horse?</td>\n",
       "      <td>1</td>\n",
       "      <td>1</td>\n",
       "    </tr>\n",
       "    <tr>\n",
       "      <th>1431</th>\n",
       "      <td>2</td>\n",
       "      <td>How long can a polr bear swin under water?</td>\n",
       "      <td>2</td>\n",
       "      <td>1</td>\n",
       "    </tr>\n",
       "    <tr>\n",
       "      <th>1456</th>\n",
       "      <td>2</td>\n",
       "      <td>Batman vs superman</td>\n",
       "      <td>2</td>\n",
       "      <td>1</td>\n",
       "    </tr>\n",
       "    <tr>\n",
       "      <th>1481</th>\n",
       "      <td>3</td>\n",
       "      <td>Billbow - Bagan in the Hobbit</td>\n",
       "      <td>3</td>\n",
       "      <td>1</td>\n",
       "    </tr>\n",
       "    <tr>\n",
       "      <th>1495</th>\n",
       "      <td>1</td>\n",
       "      <td>What is the ame of the song with the lyrics ? ...</td>\n",
       "      <td>1</td>\n",
       "      <td>1</td>\n",
       "    </tr>\n",
       "  </tbody>\n",
       "</table>\n",
       "</div>"
      ],
      "text/plain": [
       "      numSpellingErrors                                              query  \\\n",
       "21                    2                     Pocono Mountains  things to do   \n",
       "22                    1                         Connecticut Fire Academy     \n",
       "76                    1  can a person continue sport after getting  col...   \n",
       "84                    1                          what is  collagen disease   \n",
       "110                   1                         homicide  \" martin bryant\"   \n",
       "167                   1         US government  spending +space exploration   \n",
       "179                   1                          chateau resort getting to   \n",
       "184                   2                              Kenya  Swahili dishes   \n",
       "217                   1                          employee evaluation  tips   \n",
       "223                   1                               road trip + vacation   \n",
       "318                   1                    Indian politics   Miss Universe   \n",
       "443                   1                    Indian Policies + Miss Universe   \n",
       "460                   3                   internationsl scholarships  SUNY   \n",
       "511                   2               largest JP Morgan Chase  data center   \n",
       "526                   1                              India + Miss Universe   \n",
       "647                   2                                     dehumidifiers    \n",
       "676                   1                          gun control  gun violence   \n",
       "711                   2                            Merck lobbying  against   \n",
       "724                   1                    Bollywood affecting  government   \n",
       "755                   1                                    health care  us   \n",
       "954                   2                 Indian government + Beauty Pagents   \n",
       "985                   1                   Connecticut Fire Academy  how to   \n",
       "1000                  1                     social security systems of  US   \n",
       "1027                  1       developmental  milestones children east asia   \n",
       "1033                  2                                         kursk  sub   \n",
       "1079                  1                                      mba  salaries   \n",
       "1107                  2                location \"JP Morgan Chase\" + center   \n",
       "1135                  1                          spain   economic recovery   \n",
       "1137                  2                            Indian + Beauty Pagents   \n",
       "1173                  2            merck pharmaceutical  pac contributions   \n",
       "1187                  1                         ingredients kenya  cooking   \n",
       "1242                  1                                        armer games   \n",
       "1318                  2                                               TTM    \n",
       "1333                  1                                    String explosin   \n",
       "1334                  2                              How did Anabell flote   \n",
       "1389                  1                  What are coll fact about a horse?   \n",
       "1431                  2         How long can a polr bear swin under water?   \n",
       "1456                  2                                Batman vs superman    \n",
       "1481                  3                      Billbow - Bagan in the Hobbit   \n",
       "1495                  1  What is the ame of the song with the lyrics ? ...   \n",
       "\n",
       "      offByOne  kidsError  \n",
       "21           2          1  \n",
       "22           1          1  \n",
       "76           1          1  \n",
       "84           1          1  \n",
       "110          1          1  \n",
       "167          1          1  \n",
       "179          1          1  \n",
       "184          1          1  \n",
       "217          1          1  \n",
       "223          1          1  \n",
       "318          1          1  \n",
       "443          1          1  \n",
       "460          3          1  \n",
       "511          2          1  \n",
       "526          1          1  \n",
       "647          2          1  \n",
       "676          1          1  \n",
       "711          2          1  \n",
       "724          1          1  \n",
       "755          1          1  \n",
       "954          2          1  \n",
       "985          1          1  \n",
       "1000         1          1  \n",
       "1027         1          1  \n",
       "1033         1          1  \n",
       "1079         1          1  \n",
       "1107         2          1  \n",
       "1135         1          1  \n",
       "1137         2          1  \n",
       "1173         2          1  \n",
       "1187         1          1  \n",
       "1242         1          1  \n",
       "1318         2          1  \n",
       "1333         1          1  \n",
       "1334         1          1  \n",
       "1389         1          1  \n",
       "1431         2          1  \n",
       "1456         2          1  \n",
       "1481         3          1  \n",
       "1495         1          1  "
      ]
     },
     "execution_count": 39,
     "metadata": {},
     "output_type": "execute_result"
    }
   ],
   "source": [
    "spelling[spelling['kidsError']==1]"
   ]
  },
  {
   "cell_type": "code",
   "execution_count": 40,
   "metadata": {},
   "outputs": [],
   "source": [
    "# len(s.edit_distance_2('world'))"
   ]
  },
  {
   "cell_type": "code",
   "execution_count": 41,
   "metadata": {},
   "outputs": [
    {
     "data": {
      "text/plain": [
       "['www']"
      ]
     },
     "execution_count": 41,
     "metadata": {},
     "output_type": "execute_result"
    }
   ],
   "source": [
    "q = \"what is the nme of www\"\n",
    "netModifiers = ['www', 'http', '.com', '.net', '.edu', '.org', '.gov', '.co', '.mil', '.com']\n",
    "w = [mod for mod in netModifiers if(mod in q)]\n",
    "w"
   ]
  },
  {
   "cell_type": "code",
   "execution_count": 42,
   "metadata": {},
   "outputs": [
    {
     "data": {
      "text/plain": [
       "'no'"
      ]
     },
     "execution_count": 42,
     "metadata": {},
     "output_type": "execute_result"
    }
   ],
   "source": [
    "lan = 'oppure'\n",
    "detect(lan)"
   ]
  },
  {
   "cell_type": "code",
   "execution_count": null,
   "metadata": {},
   "outputs": [],
   "source": []
  },
  {
   "cell_type": "code",
   "execution_count": 43,
   "metadata": {},
   "outputs": [
    {
     "name": "stdout",
     "output_type": "stream",
     "text": [
      "hapen happen\n",
      "{'hagen', 'hacen', 'haven', 'happen', 'haben'}\n",
      "countr country\n",
      "{'count', 'counts', 'country', 'county', 'counter'}\n"
     ]
    }
   ],
   "source": [
    "s = SpellChecker()\n",
    "\n",
    "mis = s.unknown(['countr', 'hapen'])\n",
    "\n",
    "\n",
    "for w in mis:\n",
    "    print(w, s.correction(w))\n",
    "    \n",
    "    print(s.candidates(w))\n",
    " "
   ]
  },
  {
   "cell_type": "code",
   "execution_count": 44,
   "metadata": {},
   "outputs": [
    {
     "data": {
      "text/plain": [
       "['hapen', 'countr']"
      ]
     },
     "execution_count": 44,
     "metadata": {},
     "output_type": "execute_result"
    }
   ],
   "source": [
    "[w for w in mis]"
   ]
  },
  {
   "cell_type": "code",
   "execution_count": 45,
   "metadata": {},
   "outputs": [
    {
     "name": "stdout",
     "output_type": "stream",
     "text": [
      "foxs\n"
     ]
    }
   ],
   "source": [
    "print(word)"
   ]
  },
  {
   "cell_type": "code",
   "execution_count": 46,
   "metadata": {},
   "outputs": [
    {
     "name": "stdout",
     "output_type": "stream",
     "text": [
      "Ibra and Micheal\n"
     ]
    }
   ],
   "source": [
    "d = 'Ibra, and Micheal!' \n",
    "print(d.translate(str.maketrans('', '', string.punctuation)))"
   ]
  },
  {
   "cell_type": "markdown",
   "metadata": {},
   "source": [
    "# Extract Punctuation And Casing Features\n",
    "\n",
    "The following block of code extracts spelling and casing features before adding them to the dataframe. "
   ]
  },
  {
   "cell_type": "code",
   "execution_count": null,
   "metadata": {},
   "outputs": [],
   "source": []
  },
  {
   "cell_type": "code",
   "execution_count": 47,
   "metadata": {},
   "outputs": [
    {
     "name": "stderr",
     "output_type": "stream",
     "text": [
      "100%|██████████| 1505/1505 [00:00<00:00, 475512.43it/s]\n"
     ]
    }
   ],
   "source": [
    "invalidcharacters= set(['!', ',', '.', '?'])\n",
    "punct = []\n",
    "casing = []\n",
    "with tqdm(total = len(allQueries) ) as pbar:\n",
    "    for query in allQueries:\n",
    "\n",
    "        if any(char in invalidcharacters for char in query):\n",
    "            if any(substring in query for substring in netModifiers):\n",
    "                punct.append(0)\n",
    "            else:\n",
    "                punct.append(1)\n",
    "        else:\n",
    "            punct.append(0)\n",
    "\n",
    "        if query.islower():\n",
    "            casing.append(0)\n",
    "        else:\n",
    "            casing.append(1)\n",
    "        pbar.update()\n",
    "        \n",
    "spelling['punct'] = punct\n",
    "spelling['casing'] = casing\n",
    "\n"
   ]
  },
  {
   "cell_type": "code",
   "execution_count": 48,
   "metadata": {},
   "outputs": [
    {
     "data": {
      "text/html": [
       "<div>\n",
       "<style scoped>\n",
       "    .dataframe tbody tr th:only-of-type {\n",
       "        vertical-align: middle;\n",
       "    }\n",
       "\n",
       "    .dataframe tbody tr th {\n",
       "        vertical-align: top;\n",
       "    }\n",
       "\n",
       "    .dataframe thead th {\n",
       "        text-align: right;\n",
       "    }\n",
       "</style>\n",
       "<table border=\"1\" class=\"dataframe\">\n",
       "  <thead>\n",
       "    <tr style=\"text-align: right;\">\n",
       "      <th></th>\n",
       "      <th>numSpellingErrors</th>\n",
       "      <th>query</th>\n",
       "      <th>offByOne</th>\n",
       "      <th>kidsError</th>\n",
       "      <th>punct</th>\n",
       "      <th>casing</th>\n",
       "    </tr>\n",
       "  </thead>\n",
       "  <tbody>\n",
       "    <tr>\n",
       "      <th>0</th>\n",
       "      <td>0</td>\n",
       "      <td>becoming a fireman</td>\n",
       "      <td>0</td>\n",
       "      <td>0</td>\n",
       "      <td>0</td>\n",
       "      <td>0</td>\n",
       "    </tr>\n",
       "    <tr>\n",
       "      <th>1</th>\n",
       "      <td>1</td>\n",
       "      <td>hotel in Pocono Mountains</td>\n",
       "      <td>1</td>\n",
       "      <td>0</td>\n",
       "      <td>0</td>\n",
       "      <td>1</td>\n",
       "    </tr>\n",
       "    <tr>\n",
       "      <th>2</th>\n",
       "      <td>0</td>\n",
       "      <td>wedding traditions buddhism</td>\n",
       "      <td>0</td>\n",
       "      <td>0</td>\n",
       "      <td>0</td>\n",
       "      <td>0</td>\n",
       "    </tr>\n",
       "    <tr>\n",
       "      <th>3</th>\n",
       "      <td>0</td>\n",
       "      <td>diversification in hiring</td>\n",
       "      <td>0</td>\n",
       "      <td>0</td>\n",
       "      <td>0</td>\n",
       "      <td>0</td>\n",
       "    </tr>\n",
       "    <tr>\n",
       "      <th>4</th>\n",
       "      <td>2</td>\n",
       "      <td>traiditional swahili recipes</td>\n",
       "      <td>1</td>\n",
       "      <td>0</td>\n",
       "      <td>0</td>\n",
       "      <td>0</td>\n",
       "    </tr>\n",
       "    <tr>\n",
       "      <th>...</th>\n",
       "      <td>...</td>\n",
       "      <td>...</td>\n",
       "      <td>...</td>\n",
       "      <td>...</td>\n",
       "      <td>...</td>\n",
       "      <td>...</td>\n",
       "    </tr>\n",
       "    <tr>\n",
       "      <th>1500</th>\n",
       "      <td>1</td>\n",
       "      <td>Who plays the bad guy in Star Wars the Horde a...</td>\n",
       "      <td>1</td>\n",
       "      <td>0</td>\n",
       "      <td>1</td>\n",
       "      <td>1</td>\n",
       "    </tr>\n",
       "    <tr>\n",
       "      <th>1501</th>\n",
       "      <td>1</td>\n",
       "      <td>What is a fox's favorite kind of food?</td>\n",
       "      <td>1</td>\n",
       "      <td>0</td>\n",
       "      <td>1</td>\n",
       "      <td>1</td>\n",
       "    </tr>\n",
       "    <tr>\n",
       "      <th>1502</th>\n",
       "      <td>0</td>\n",
       "      <td>Show me the movie called \"The Martian\"</td>\n",
       "      <td>0</td>\n",
       "      <td>0</td>\n",
       "      <td>0</td>\n",
       "      <td>1</td>\n",
       "    </tr>\n",
       "    <tr>\n",
       "      <th>1503</th>\n",
       "      <td>0</td>\n",
       "      <td>What is the biggest rock found on Mars?</td>\n",
       "      <td>0</td>\n",
       "      <td>0</td>\n",
       "      <td>1</td>\n",
       "      <td>1</td>\n",
       "    </tr>\n",
       "    <tr>\n",
       "      <th>1504</th>\n",
       "      <td>0</td>\n",
       "      <td>What is the top game this week?</td>\n",
       "      <td>0</td>\n",
       "      <td>0</td>\n",
       "      <td>1</td>\n",
       "      <td>1</td>\n",
       "    </tr>\n",
       "  </tbody>\n",
       "</table>\n",
       "<p>1505 rows × 6 columns</p>\n",
       "</div>"
      ],
      "text/plain": [
       "      numSpellingErrors                                              query  \\\n",
       "0                     0                                 becoming a fireman   \n",
       "1                     1                          hotel in Pocono Mountains   \n",
       "2                     0                        wedding traditions buddhism   \n",
       "3                     0                          diversification in hiring   \n",
       "4                     2                       traiditional swahili recipes   \n",
       "...                 ...                                                ...   \n",
       "1500                  1  Who plays the bad guy in Star Wars the Horde a...   \n",
       "1501                  1             What is a fox's favorite kind of food?   \n",
       "1502                  0             Show me the movie called \"The Martian\"   \n",
       "1503                  0            What is the biggest rock found on Mars?   \n",
       "1504                  0                    What is the top game this week?   \n",
       "\n",
       "      offByOne  kidsError  punct  casing  \n",
       "0            0          0      0       0  \n",
       "1            1          0      0       1  \n",
       "2            0          0      0       0  \n",
       "3            0          0      0       0  \n",
       "4            1          0      0       0  \n",
       "...        ...        ...    ...     ...  \n",
       "1500         1          0      1       1  \n",
       "1501         1          0      1       1  \n",
       "1502         0          0      0       1  \n",
       "1503         0          0      1       1  \n",
       "1504         0          0      1       1  \n",
       "\n",
       "[1505 rows x 6 columns]"
      ]
     },
     "execution_count": 48,
     "metadata": {},
     "output_type": "execute_result"
    }
   ],
   "source": [
    "spelling"
   ]
  },
  {
   "cell_type": "markdown",
   "metadata": {},
   "source": [
    "# Return Feature Set\n",
    "\n",
    "Returns dataframe with spelling and punctuation features."
   ]
  },
  {
   "cell_type": "code",
   "execution_count": 49,
   "metadata": {},
   "outputs": [],
   "source": [
    "pickle.dump(spelling, open( \"Pickles/SPFeat.p\", \"wb\" ) )"
   ]
  },
  {
   "cell_type": "code",
   "execution_count": 50,
   "metadata": {},
   "outputs": [
    {
     "data": {
      "text/html": [
       "<div>\n",
       "<style scoped>\n",
       "    .dataframe tbody tr th:only-of-type {\n",
       "        vertical-align: middle;\n",
       "    }\n",
       "\n",
       "    .dataframe tbody tr th {\n",
       "        vertical-align: top;\n",
       "    }\n",
       "\n",
       "    .dataframe thead th {\n",
       "        text-align: right;\n",
       "    }\n",
       "</style>\n",
       "<table border=\"1\" class=\"dataframe\">\n",
       "  <thead>\n",
       "    <tr style=\"text-align: right;\">\n",
       "      <th></th>\n",
       "      <th>numSpellingErrors</th>\n",
       "      <th>query</th>\n",
       "      <th>offByOne</th>\n",
       "      <th>kidsError</th>\n",
       "      <th>punct</th>\n",
       "      <th>casing</th>\n",
       "    </tr>\n",
       "  </thead>\n",
       "  <tbody>\n",
       "    <tr>\n",
       "      <th>0</th>\n",
       "      <td>0</td>\n",
       "      <td>becoming a fireman</td>\n",
       "      <td>0</td>\n",
       "      <td>0</td>\n",
       "      <td>0</td>\n",
       "      <td>0</td>\n",
       "    </tr>\n",
       "    <tr>\n",
       "      <th>1</th>\n",
       "      <td>1</td>\n",
       "      <td>hotel in Pocono Mountains</td>\n",
       "      <td>1</td>\n",
       "      <td>0</td>\n",
       "      <td>0</td>\n",
       "      <td>1</td>\n",
       "    </tr>\n",
       "    <tr>\n",
       "      <th>2</th>\n",
       "      <td>0</td>\n",
       "      <td>wedding traditions buddhism</td>\n",
       "      <td>0</td>\n",
       "      <td>0</td>\n",
       "      <td>0</td>\n",
       "      <td>0</td>\n",
       "    </tr>\n",
       "    <tr>\n",
       "      <th>3</th>\n",
       "      <td>0</td>\n",
       "      <td>diversification in hiring</td>\n",
       "      <td>0</td>\n",
       "      <td>0</td>\n",
       "      <td>0</td>\n",
       "      <td>0</td>\n",
       "    </tr>\n",
       "    <tr>\n",
       "      <th>4</th>\n",
       "      <td>2</td>\n",
       "      <td>traiditional swahili recipes</td>\n",
       "      <td>1</td>\n",
       "      <td>0</td>\n",
       "      <td>0</td>\n",
       "      <td>0</td>\n",
       "    </tr>\n",
       "    <tr>\n",
       "      <th>5</th>\n",
       "      <td>1</td>\n",
       "      <td>Boolywood in hollywood</td>\n",
       "      <td>1</td>\n",
       "      <td>0</td>\n",
       "      <td>0</td>\n",
       "      <td>1</td>\n",
       "    </tr>\n",
       "    <tr>\n",
       "      <th>6</th>\n",
       "      <td>0</td>\n",
       "      <td>week long vacation idea</td>\n",
       "      <td>0</td>\n",
       "      <td>0</td>\n",
       "      <td>0</td>\n",
       "      <td>0</td>\n",
       "    </tr>\n",
       "    <tr>\n",
       "      <th>7</th>\n",
       "      <td>0</td>\n",
       "      <td>efficiency of solar panels</td>\n",
       "      <td>0</td>\n",
       "      <td>0</td>\n",
       "      <td>0</td>\n",
       "      <td>0</td>\n",
       "    </tr>\n",
       "    <tr>\n",
       "      <th>8</th>\n",
       "      <td>1</td>\n",
       "      <td>bollywood's increasing popularity</td>\n",
       "      <td>1</td>\n",
       "      <td>0</td>\n",
       "      <td>0</td>\n",
       "      <td>0</td>\n",
       "    </tr>\n",
       "    <tr>\n",
       "      <th>9</th>\n",
       "      <td>0</td>\n",
       "      <td>New York City</td>\n",
       "      <td>0</td>\n",
       "      <td>0</td>\n",
       "      <td>0</td>\n",
       "      <td>1</td>\n",
       "    </tr>\n",
       "    <tr>\n",
       "      <th>10</th>\n",
       "      <td>0</td>\n",
       "      <td>growth in bollywood government</td>\n",
       "      <td>0</td>\n",
       "      <td>0</td>\n",
       "      <td>0</td>\n",
       "      <td>0</td>\n",
       "    </tr>\n",
       "    <tr>\n",
       "      <th>11</th>\n",
       "      <td>2</td>\n",
       "      <td>regular phones vs internet phones voip experie...</td>\n",
       "      <td>2</td>\n",
       "      <td>0</td>\n",
       "      <td>0</td>\n",
       "      <td>0</td>\n",
       "    </tr>\n",
       "    <tr>\n",
       "      <th>12</th>\n",
       "      <td>0</td>\n",
       "      <td>designer dogs moral</td>\n",
       "      <td>0</td>\n",
       "      <td>0</td>\n",
       "      <td>0</td>\n",
       "      <td>0</td>\n",
       "    </tr>\n",
       "    <tr>\n",
       "      <th>13</th>\n",
       "      <td>0</td>\n",
       "      <td>best cities planning a trip to the United States</td>\n",
       "      <td>0</td>\n",
       "      <td>0</td>\n",
       "      <td>0</td>\n",
       "      <td>1</td>\n",
       "    </tr>\n",
       "    <tr>\n",
       "      <th>14</th>\n",
       "      <td>0</td>\n",
       "      <td>healthcare UK</td>\n",
       "      <td>0</td>\n",
       "      <td>0</td>\n",
       "      <td>0</td>\n",
       "      <td>1</td>\n",
       "    </tr>\n",
       "    <tr>\n",
       "      <th>15</th>\n",
       "      <td>-1</td>\n",
       "      <td>Eurozone crisis history</td>\n",
       "      <td>-1</td>\n",
       "      <td>-1</td>\n",
       "      <td>0</td>\n",
       "      <td>1</td>\n",
       "    </tr>\n",
       "    <tr>\n",
       "      <th>16</th>\n",
       "      <td>0</td>\n",
       "      <td>what is wrong with designer dogs</td>\n",
       "      <td>0</td>\n",
       "      <td>0</td>\n",
       "      <td>0</td>\n",
       "      <td>0</td>\n",
       "    </tr>\n",
       "    <tr>\n",
       "      <th>17</th>\n",
       "      <td>1</td>\n",
       "      <td>business phd</td>\n",
       "      <td>1</td>\n",
       "      <td>0</td>\n",
       "      <td>0</td>\n",
       "      <td>0</td>\n",
       "    </tr>\n",
       "    <tr>\n",
       "      <th>18</th>\n",
       "      <td>1</td>\n",
       "      <td>main Swahili dishes</td>\n",
       "      <td>0</td>\n",
       "      <td>0</td>\n",
       "      <td>0</td>\n",
       "      <td>1</td>\n",
       "    </tr>\n",
       "    <tr>\n",
       "      <th>19</th>\n",
       "      <td>0</td>\n",
       "      <td>American Cities close to tourist attractions</td>\n",
       "      <td>0</td>\n",
       "      <td>0</td>\n",
       "      <td>0</td>\n",
       "      <td>1</td>\n",
       "    </tr>\n",
       "    <tr>\n",
       "      <th>20</th>\n",
       "      <td>1</td>\n",
       "      <td>merck scandal</td>\n",
       "      <td>1</td>\n",
       "      <td>0</td>\n",
       "      <td>0</td>\n",
       "      <td>0</td>\n",
       "    </tr>\n",
       "    <tr>\n",
       "      <th>21</th>\n",
       "      <td>2</td>\n",
       "      <td>Pocono Mountains  things to do</td>\n",
       "      <td>2</td>\n",
       "      <td>1</td>\n",
       "      <td>0</td>\n",
       "      <td>1</td>\n",
       "    </tr>\n",
       "    <tr>\n",
       "      <th>22</th>\n",
       "      <td>1</td>\n",
       "      <td>Connecticut Fire Academy</td>\n",
       "      <td>1</td>\n",
       "      <td>1</td>\n",
       "      <td>0</td>\n",
       "      <td>1</td>\n",
       "    </tr>\n",
       "    <tr>\n",
       "      <th>23</th>\n",
       "      <td>0</td>\n",
       "      <td>AIDS, Africa, charities</td>\n",
       "      <td>0</td>\n",
       "      <td>0</td>\n",
       "      <td>1</td>\n",
       "      <td>1</td>\n",
       "    </tr>\n",
       "    <tr>\n",
       "      <th>24</th>\n",
       "      <td>0</td>\n",
       "      <td>Kenya</td>\n",
       "      <td>0</td>\n",
       "      <td>0</td>\n",
       "      <td>0</td>\n",
       "      <td>1</td>\n",
       "    </tr>\n",
       "    <tr>\n",
       "      <th>25</th>\n",
       "      <td>-1</td>\n",
       "      <td>causes for pseudocyesis</td>\n",
       "      <td>-1</td>\n",
       "      <td>-1</td>\n",
       "      <td>0</td>\n",
       "      <td>0</td>\n",
       "    </tr>\n",
       "    <tr>\n",
       "      <th>26</th>\n",
       "      <td>0</td>\n",
       "      <td>best vacation spots</td>\n",
       "      <td>0</td>\n",
       "      <td>0</td>\n",
       "      <td>0</td>\n",
       "      <td>0</td>\n",
       "    </tr>\n",
       "    <tr>\n",
       "      <th>27</th>\n",
       "      <td>0</td>\n",
       "      <td>Water turbines types</td>\n",
       "      <td>0</td>\n",
       "      <td>0</td>\n",
       "      <td>0</td>\n",
       "      <td>1</td>\n",
       "    </tr>\n",
       "    <tr>\n",
       "      <th>28</th>\n",
       "      <td>0</td>\n",
       "      <td>History of Churchill downs</td>\n",
       "      <td>0</td>\n",
       "      <td>0</td>\n",
       "      <td>0</td>\n",
       "      <td>1</td>\n",
       "    </tr>\n",
       "    <tr>\n",
       "      <th>29</th>\n",
       "      <td>0</td>\n",
       "      <td>cross breeding dogs</td>\n",
       "      <td>0</td>\n",
       "      <td>0</td>\n",
       "      <td>0</td>\n",
       "      <td>0</td>\n",
       "    </tr>\n",
       "  </tbody>\n",
       "</table>\n",
       "</div>"
      ],
      "text/plain": [
       "    numSpellingErrors                                              query  \\\n",
       "0                   0                                 becoming a fireman   \n",
       "1                   1                          hotel in Pocono Mountains   \n",
       "2                   0                        wedding traditions buddhism   \n",
       "3                   0                          diversification in hiring   \n",
       "4                   2                       traiditional swahili recipes   \n",
       "5                   1                             Boolywood in hollywood   \n",
       "6                   0                            week long vacation idea   \n",
       "7                   0                         efficiency of solar panels   \n",
       "8                   1                  bollywood's increasing popularity   \n",
       "9                   0                                      New York City   \n",
       "10                  0                     growth in bollywood government   \n",
       "11                  2  regular phones vs internet phones voip experie...   \n",
       "12                  0                                designer dogs moral   \n",
       "13                  0   best cities planning a trip to the United States   \n",
       "14                  0                                      healthcare UK   \n",
       "15                 -1                            Eurozone crisis history   \n",
       "16                  0                   what is wrong with designer dogs   \n",
       "17                  1                                       business phd   \n",
       "18                  1                                main Swahili dishes   \n",
       "19                  0       American Cities close to tourist attractions   \n",
       "20                  1                                      merck scandal   \n",
       "21                  2                     Pocono Mountains  things to do   \n",
       "22                  1                         Connecticut Fire Academy     \n",
       "23                  0                            AIDS, Africa, charities   \n",
       "24                  0                                              Kenya   \n",
       "25                 -1                            causes for pseudocyesis   \n",
       "26                  0                                best vacation spots   \n",
       "27                  0                               Water turbines types   \n",
       "28                  0                         History of Churchill downs   \n",
       "29                  0                                cross breeding dogs   \n",
       "\n",
       "    offByOne  kidsError  punct  casing  \n",
       "0          0          0      0       0  \n",
       "1          1          0      0       1  \n",
       "2          0          0      0       0  \n",
       "3          0          0      0       0  \n",
       "4          1          0      0       0  \n",
       "5          1          0      0       1  \n",
       "6          0          0      0       0  \n",
       "7          0          0      0       0  \n",
       "8          1          0      0       0  \n",
       "9          0          0      0       1  \n",
       "10         0          0      0       0  \n",
       "11         2          0      0       0  \n",
       "12         0          0      0       0  \n",
       "13         0          0      0       1  \n",
       "14         0          0      0       1  \n",
       "15        -1         -1      0       1  \n",
       "16         0          0      0       0  \n",
       "17         1          0      0       0  \n",
       "18         0          0      0       1  \n",
       "19         0          0      0       1  \n",
       "20         1          0      0       0  \n",
       "21         2          1      0       1  \n",
       "22         1          1      0       1  \n",
       "23         0          0      1       1  \n",
       "24         0          0      0       1  \n",
       "25        -1         -1      0       0  \n",
       "26         0          0      0       0  \n",
       "27         0          0      0       1  \n",
       "28         0          0      0       1  \n",
       "29         0          0      0       0  "
      ]
     },
     "execution_count": 50,
     "metadata": {},
     "output_type": "execute_result"
    }
   ],
   "source": [
    "spelling.head(30)"
   ]
  },
  {
   "cell_type": "code",
   "execution_count": 51,
   "metadata": {},
   "outputs": [
    {
     "data": {
      "text/plain": [
       "(1505, 6)"
      ]
     },
     "execution_count": 51,
     "metadata": {},
     "output_type": "execute_result"
    }
   ],
   "source": [
    "spelling.shape"
   ]
  },
  {
   "cell_type": "code",
   "execution_count": 52,
   "metadata": {},
   "outputs": [
    {
     "data": {
      "text/plain": [
       "Index(['numSpellingErrors', 'query', 'offByOne', 'kidsError', 'punct',\n",
       "       'casing'],\n",
       "      dtype='object')"
      ]
     },
     "execution_count": 52,
     "metadata": {},
     "output_type": "execute_result"
    }
   ],
   "source": [
    "spelling.columns"
   ]
  },
  {
   "cell_type": "code",
   "execution_count": 53,
   "metadata": {},
   "outputs": [
    {
     "name": "stdout",
     "output_type": "stream",
     "text": [
      "done\n"
     ]
    }
   ],
   "source": [
    "print('done')"
   ]
  },
  {
   "cell_type": "code",
   "execution_count": 54,
   "metadata": {},
   "outputs": [],
   "source": [
    "# expected shape: (1505, 6)"
   ]
  },
  {
   "cell_type": "code",
   "execution_count": null,
   "metadata": {},
   "outputs": [],
   "source": []
  },
  {
   "cell_type": "code",
   "execution_count": null,
   "metadata": {},
   "outputs": [],
   "source": []
  },
  {
   "cell_type": "code",
   "execution_count": null,
   "metadata": {},
   "outputs": [],
   "source": []
  },
  {
   "cell_type": "code",
   "execution_count": null,
   "metadata": {},
   "outputs": [],
   "source": []
  }
 ],
 "metadata": {
  "kernelspec": {
   "display_name": "Python 3",
   "language": "python",
   "name": "python3"
  },
  "language_info": {
   "codemirror_mode": {
    "name": "ipython",
    "version": 3
   },
   "file_extension": ".py",
   "mimetype": "text/x-python",
   "name": "python",
   "nbconvert_exporter": "python",
   "pygments_lexer": "ipython3",
   "version": "3.8.8"
  }
 },
 "nbformat": 4,
 "nbformat_minor": 4
}
